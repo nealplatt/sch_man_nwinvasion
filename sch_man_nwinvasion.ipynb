{
 "cells": [
  {
   "cell_type": "markdown",
   "metadata": {},
   "source": [
    "| Species            | Area | Location    | ENA Sample ID | SRA Accession | Source (Manucsript) |\n",
    "| :----------------- | :--- | :---------- |-------------- | :------------ | :------------------ |\n",
    "| *S. mansoni*       | EA   | Kenya       | ERS074980     | ERR119614     | Crellen et. al 2016 |\n",
    "| *S. mansoni*       | EA   | Uganda-LA   | ERS074982     | ERR119615     | Crellen et. al 2016 |\n",
    "| *S. mansoni*       | NW   | Puerto Rico | ERS039722     | ERR046038     | .                   |\n",
    "| *S. mansoni*       | WA   | Senegal     | ERS074979     | ERR103049     | Crellen et. al 2016 |\n",
    "| *S. mansoni*       | WA   | Cameroon    | ERS074981     | ERR103050     | Crellen et. al 2016 |\n",
    "| *S. mansoni*       | EA   | Uganda-LV   | ERS141391     | ERR997461     | Crellen et. al 2016 |\n",
    "| *S. mansoni*       | ?    | ?           | ?             | ERR539845     | .                   |\n",
    "| *S. mansoni*       | NW   | Guadeloupe  | ERS427393     | ERR539846     | Crellen et. al 2016 |\n",
    "| *S. mansoni*       | NW   | Guadeloupe  | ERS427392     | ERR539847     | Crellen et. al 2016 |\n",
    "| *S. margrebowiei*  | ?    | ?           | ?             | ERX095893     | .                   |\n",
    "| *S. margrebowiei*  | ?    | ?           | ?             | ERX284221     | .                   |\n",
    "| *S. mansoni*       | NW   | Guadeloupe  | ERS427394     | ERR539848     | Crellen et. al 2016 |\n",
    "| *S. rodhaini*      | RO   | Burundi     | ERS076741     | ERR310938     | Crellen et. al 2016 |\n",
    "| *S. turkestanicum* | ?    | ?           | ERS139290     | ERX284225     | .                   |\n",
    "\n",
    "Crellen *et al*. (2016) __Whole genome resequencing of the human parasite *Schistosoma mansoni* reveals population history and effects of selection__. [Scientific Reports 6:20954.](https://www.nature.com/articles/srep20954)"
   ]
  }
 ],
 "metadata": {
  "kernelspec": {
   "display_name": "Python 3",
   "language": "python",
   "name": "python3"
  },
  "language_info": {
   "codemirror_mode": {
    "name": "ipython",
    "version": 3
   },
   "file_extension": ".py",
   "mimetype": "text/x-python",
   "name": "python",
   "nbconvert_exporter": "python",
   "pygments_lexer": "ipython3",
   "version": "3.6.7"
  }
 },
 "nbformat": 4,
 "nbformat_minor": 2
}
