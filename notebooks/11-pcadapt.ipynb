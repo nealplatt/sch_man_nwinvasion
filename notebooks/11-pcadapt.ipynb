{
 "cells": [
  {
   "cell_type": "markdown",
   "id": "941ef07f-26e5-4175-91d7-f69d3fc10840",
   "metadata": {},
   "source": [
    "# Genomic analysis of a parasite invasion: colonization of the New World by the blood fluke, Schistosoma mansoni \n",
    "\n",
    "Roy Nelson Platt II*, Frédéric D. Chevalier*, Winka Le Clec'h, Marina McDew-White, Philip T. LoVerde, Rafael Ramiro de Assis, Guilherme Oliveira, Safari Kinunghi, Anouk Gouvras, Bonnie Webster, Joanne Webster, Aidan Emery, David Rollinson, Timothy J. Anderson\n",
    "\n",
    "# Finding regions under selelection using interpopulation test\n",
    "\n",
    "use the `sch_man_nwinvasion-pcadapt` conda env"
   ]
  },
  {
   "cell_type": "code",
   "execution_count": null,
   "id": "54d1974a-43b1-4ea8-b5d1-8892593f5665",
   "metadata": {},
   "outputs": [],
   "source": [
    "import os\n",
    "from pathlib import Path\n",
    "import pandas as pd\n",
    "import pybedtools\n",
    "\n",
    "%load_ext rpy2.ipython"
   ]
  },
  {
   "cell_type": "markdown",
   "id": "cd2abf2a-fb98-429e-9f85-52a869e8924b",
   "metadata": {},
   "source": [
    "# pcadapt"
   ]
  },
  {
   "cell_type": "code",
   "execution_count": null,
   "id": "76b9f0ba-9a29-4316-8cee-9a68c1354341",
   "metadata": {},
   "outputs": [],
   "source": [
    "proj_dir    = \"/master/nplatt/sch_man_nwinvasion\"\n",
    "results_dir = \"{}/results\".format(proj_dir)"
   ]
  },
  {
   "cell_type": "code",
   "execution_count": null,
   "id": "a21c92cc-d09a-4f9b-a9c9-8f49eeffcebe",
   "metadata": {},
   "outputs": [],
   "source": [
    "os.chdir(proj_dir)\n",
    "if not os.path.isdir(\"{}/pcadapt\".format(results_dir)):\n",
    "    os.mkdir(\"{}/ld\".format(results_dir))\n",
    "    \n",
    "os.chdir(\"{}/pcadapt\".format(results_dir))"
   ]
  },
  {
   "cell_type": "markdown",
   "id": "29a4cf4e-debd-43fd-a6da-1f13fbbcd1d7",
   "metadata": {},
   "source": [
    "Steps to prep data\n",
    " - Get a copy of the phased beagle file (for the imputations, not phasing)\n",
    " - remove outgroups\n",
    " - keep maf05\n",
    " - LD filter"
   ]
  },
  {
   "cell_type": "code",
   "execution_count": null,
   "id": "7d1dbe80-9cbb-4688-b122-6eccb920f003",
   "metadata": {},
   "outputs": [
    {
     "name": "stdout",
     "output_type": "stream",
     "text": [
      "PLINK v1.90b6.21 64-bit (19 Oct 2020)          www.cog-genomics.org/plink/1.9/\n",
      "(C) 2005-2020 Shaun Purcell, Christopher Chang   GNU General Public License v3\n",
      "Logging to ld_pruned.log.\n",
      "Options in effect:\n",
      "  --allow-extra-chr\n",
      "  --double-id\n",
      "  --indep-pairwise 1000 5 0.20\n",
      "  --out ld_pruned\n",
      "  --vcf auto_beagle_maf05_ingroups.vcf\n",
      "\n",
      "128540 MB RAM detected; reserving 64270 MB for main workspace.\n",
      "--vcf: ld_pruned-temporary.bed + ld_pruned-temporary.bim +\n",
      "ld_pruned-temporary.fam written.\n",
      "21913 variants loaded from .bim file.\n",
      "80 people (0 males, 0 females, 80 ambiguous) loaded from .fam.\n",
      "Ambiguous sex IDs written to ld_pruned.nosex .\n",
      "Using 1 thread (no multithreaded calculations invoked).\n",
      "Before main variant filters, 80 founders and 0 nonfounders present.\n",
      "Calculating allele frequencies... 10111213141516171819202122232425262728293031323334353637383940414243444546474849505152535455565758596061626364656667686970717273747576777879808182838485868788899091929394959697989 done.\n",
      "21913 variants and 80 people pass filters and QC.\n",
      "Note: No phenotypes present.\n",
      "Pruned 4643 variants from chromosome 27, leaving 524.\n",
      "Pruned 4539 variants from chromosome 28, leaving 282.\n",
      "Pruned 3786 variants from chromosome 29, leaving 334.\n",
      "Pruned 2684 variants from chromosome 30, leaving 290.\n",
      "Pruned 1651 variants from chromosome 31, leaving 147.\n",
      "Pruned 1779 variants from chromosome 32, leaving 207.\n",
      "Pruned 908 variants from chromosome 33, leaving 139.\n",
      "Pruning complete.  19990 of 21913 variants removed.\n",
      "Marker lists written to ld_pruned.prune.in and ld_pruned.prune.out .\n"
     ]
    },
    {
     "name": "stderr",
     "output_type": "stream",
     "text": [
      "\n",
      "VCFtools - 0.1.16\n",
      "(C) Adam Auton and Anthony Marcketta 2009\n",
      "\n",
      "Parameters as interpreted:\n",
      "\t--vcf ../phasing/auto_beagle.vcf\n",
      "\t--keep ingroup_samples.list\n",
      "\t--recode-INFO-all\n",
      "\t--maf 0.05\n",
      "\t--recode\n",
      "\t--stdout\n",
      "\n",
      "Keeping individuals in 'keep' list\n",
      "After filtering, kept 80 out of 155 Individuals\n",
      "Outputting VCF file...\n",
      "After filtering, kept 21913 out of a possible 475081 Sites\n",
      "Run Time = 10.00 seconds\n"
     ]
    }
   ],
   "source": [
    "%%bash \n",
    "\n",
    "#remove the samples we aren't interested in\n",
    "vcf-query -l ../phasing/auto_beagle.vcf \\\n",
    "    | grep -v rep \\\n",
    "    | grep -e Sm.BR -e Sm.SN -e Sm.NE \\\n",
    "    >ingroup_samples.list\n",
    "\n",
    "#maf filter and only keep ingroups\n",
    "vcftools \\\n",
    "    --vcf ../phasing/auto_beagle.vcf \\\n",
    "    --keep ingroup_samples.list \\\n",
    "    --maf 0.05 \\\n",
    "    --recode \\\n",
    "    --recode-INFO-all \\\n",
    "    --stdout \\\n",
    "    >auto_beagle_maf05_ingroups.vcf\n",
    " \n",
    "#go ahead and ld filter the snot of out the file as well\n",
    "plink \\\n",
    "    --vcf auto_beagle_maf05_ingroups.vcf \\\n",
    "    --allow-extra-chr \\\n",
    "    --double-id \\\n",
    "    --indep-pairwise 1000 5 0.20 \\\n",
    "    --out ld_pruned\n",
    "\n",
    "# vcftools \\\n",
    "#     --vcf auto_beagle_maf05_ingroups.vcf \\\n",
    "#     --exclude auto_beagle_maf05_ingroups_ld_filtered.prune.out \\\n",
    "#     --recode \\\n",
    "#     --recode-INFO-all \\\n",
    "#     --stdout \\\n",
    "#     --thin 10000 \\\n",
    "#     >auto_beagle_maf05_ingroups_ld_filtered.vcf\n",
    "\n"
   ]
  },
  {
   "cell_type": "code",
   "execution_count": 27,
   "id": "d6d55ecd-7e36-4bf7-9356-db3cc12aebad",
   "metadata": {},
   "outputs": [
    {
     "name": "stdout",
     "output_type": "stream",
     "text": [
      "PLINK v1.90b6.21 64-bit (19 Oct 2020)          www.cog-genomics.org/plink/1.9/\n",
      "(C) 2005-2020 Shaun Purcell, Christopher Chang   GNU General Public License v3\n",
      "Logging to nw_se_ne_auto_beagle_maf05.log.\n",
      "Options in effect:\n",
      "  --allow-extra-chr\n",
      "  --double-id\n",
      "  --make-bed\n",
      "  --out nw_se_ne_auto_beagle_maf05\n",
      "  --vcf auto_beagle_maf05_ingroups.vcf\n",
      "\n",
      "128540 MB RAM detected; reserving 64270 MB for main workspace.\n",
      "--vcf: nw_se_ne_auto_beagle_maf05-temporary.bed +\n",
      "nw_se_ne_auto_beagle_maf05-temporary.bim +\n",
      "nw_se_ne_auto_beagle_maf05-temporary.fam written.\n",
      "21913 variants loaded from .bim file.\n",
      "80 people (0 males, 0 females, 80 ambiguous) loaded from .fam.\n",
      "Ambiguous sex IDs written to nw_se_ne_auto_beagle_maf05.nosex .\n",
      "Using 1 thread (no multithreaded calculations invoked).\n",
      "Before main variant filters, 80 founders and 0 nonfounders present.\n",
      "Calculating allele frequencies... 10111213141516171819202122232425262728293031323334353637383940414243444546474849505152535455565758596061626364656667686970717273747576777879808182838485868788899091929394959697989 done.\n",
      "21913 variants and 80 people pass filters and QC.\n",
      "Note: No phenotypes present.\n",
      "--make-bed to nw_se_ne_auto_beagle_maf05.bed + nw_se_ne_auto_beagle_maf05.bim +\n",
      "nw_se_ne_auto_beagle_maf05.fam ... 101112131415161718192021222324252627282930313233343536373839404142434445464748495051525354555657585960616263646566676869707172737475767778798081828384858687888990919293949596979899done.\n"
     ]
    }
   ],
   "source": [
    "%%bash\n",
    "\n",
    "#ld filter even more\n",
    "plink \\\n",
    "    --vcf auto_beagle_maf05_ingroups.vcf \\\n",
    "    --allow-extra-chr \\\n",
    "    --double-id \\\n",
    "    --make-bed \\\n",
    "    --out nw_se_ne_auto_beagle_maf05\n",
    "\n"
   ]
  },
  {
   "cell_type": "markdown",
   "id": "fe729fec-414d-4ac0-b566-4e49f634ed16",
   "metadata": {},
   "source": [
    "Use the `pcadapt` R package to analyse the data"
   ]
  },
  {
   "cell_type": "code",
   "execution_count": 28,
   "id": "e3775be3-7dc1-402c-a427-f7de9e22dba3",
   "metadata": {},
   "outputs": [],
   "source": [
    "%%R\n",
    "\n",
    "#install.packages(\"pcadapt\")\n",
    "library(pcadapt)"
   ]
  },
  {
   "cell_type": "code",
   "execution_count": 28,
   "id": "b8b721d6-7b25-4f26-88f9-44428140bf5c",
   "metadata": {},
   "outputs": [
    {
     "data": {
      "image/png": "[encoded data removed]"
     },
     "metadata": {},
     "output_type": "display_data"
    }
   ],
   "source": [
    "%%R\n",
    "\n",
    "#check the number of populations (ks)\n",
    "path_to_file <- \"nw_se_ne_auto_beagle_maf05.bed\"\n",
    "plink_file   <- read.pcadapt(path_to_file, type = \"bed\")\n",
    "\n",
    "x <- pcadapt( input       = plink_file, \n",
    "              K           = 20, \n",
    "              LD.clumping = list(size = 100, thr = 0.2)\n",
    "            )\n",
    "\n",
    "png(filename   = \"screeplot.png\");\n",
    "plot(x, option = \"screeplot\")\n",
    "dev.off()"
   ]
  },
  {
   "cell_type": "code",
   "execution_count": 29,
   "id": "ef1eb638-f24c-45d3-ae81-4ccde18a1a96",
   "metadata": {},
   "outputs": [
    {
     "data": {
      "image/png": "[encoded data removed]"
     },
     "metadata": {},
     "output_type": "display_data"
    }
   ],
   "source": [
    "%%R\n",
    "\n",
    "#check to see if that number of PCs differentiates the populations\n",
    "\n",
    "# With integers\n",
    "pop_list <- as.factor(substr(indNames(genind), 4, 5))\n",
    "\n",
    "\n",
    "png(filename = \"pcadapt_scores_pc1-2.png\")\n",
    "plot(x, \n",
    "     option = \"scores\", \n",
    "     pop    = pop_list)\n",
    "dev.off()"
   ]
  },
  {
   "cell_type": "code",
   "execution_count": 30,
   "id": "ceb926ed-31a1-44ab-b38c-58ee37d116af",
   "metadata": {},
   "outputs": [
    {
     "data": {
      "image/png": "[encoded data removed]"
     },
     "metadata": {},
     "output_type": "display_data"
    }
   ],
   "source": [
    "%%R\n",
    "\n",
    "#check other PCs just to see\n",
    "\n",
    "#png(filename = \"pcadapt_scores_pc3-4.png\")\n",
    "plot(x, \n",
    "     option = \"scores\", \n",
    "     i      = 3, \n",
    "     j      = 4, \n",
    "     pop    = pop_list)\n",
    "#dev.off()"
   ]
  },
  {
   "cell_type": "code",
   "execution_count": 31,
   "id": "105da94d-1ea5-4abd-9057-c3cd5f6e56a6",
   "metadata": {},
   "outputs": [
    {
     "name": "stdout",
     "output_type": "stream",
     "text": [
      "[1] 442\n"
     ]
    },
    {
     "data": {
      "image/png": "[encoded data removed]"
     },
     "metadata": {},
     "output_type": "display_data"
    }
   ],
   "source": [
    "%%R\n",
    "\n",
    "#now filter and re-calc pcadapt values with the appropriate K\n",
    "x <- pcadapt( input       = plink_file, \n",
    "              K           = 2, \n",
    "              LD.clumping = list(size = 100, thr = 0.2)\n",
    "            )\n",
    "\n",
    "#summary(x)\n",
    "\n",
    "#plot across the genome\n",
    "png(filename = \"pcadapt_manhattan_k2.png\")\n",
    "plot(x , \n",
    "     option = \"manhattan\")\n",
    "dev.off()\n",
    "\n",
    "#adjsut for mutliple tests\n",
    "padj  <- p.adjust( x$pvalues,\n",
    "                   method=\"bonferroni\" )\n",
    "alpha <- 0.05\n",
    "\n",
    "#how many outliers\n",
    "outliers <- which(padj < alpha)\n",
    "length(outliers)"
   ]
  },
  {
   "cell_type": "code",
   "execution_count": 32,
   "id": "bc92278a-5dd5-4769-8623-fc76b648b002",
   "metadata": {},
   "outputs": [
    {
     "data": {
      "image/png": "[encoded data removed]"
     },
     "metadata": {},
     "output_type": "display_data"
    }
   ],
   "source": [
    "%%R\n",
    "\n",
    "png(filename = \"pcadapt_qq_k2.png\")\n",
    "plot( x, \n",
    "      option = \"qqplot\")\n",
    "dev.off()"
   ]
  },
  {
   "cell_type": "code",
   "execution_count": 33,
   "id": "d9d71879-9058-4dcc-9d91-6b0abfc92cc9",
   "metadata": {},
   "outputs": [
    {
     "data": {
      "image/png": "[encoded data removed]"
     },
     "metadata": {},
     "output_type": "display_data"
    }
   ],
   "source": [
    "%%R\n",
    "#plot the pvalue distribution\n",
    "png(filename = \"pcadapt_pvalues_k2.png\")\n",
    "hist(x$pvalues, \n",
    "     xlab   = \"p-values\", \n",
    "     main   = NULL, \n",
    "     breaks = 50, \n",
    "     col    = \"orange\")\n",
    "dev.off()"
   ]
  },
  {
   "cell_type": "code",
   "execution_count": 35,
   "id": "7e303507-684d-486b-bd3a-a6b51220db19",
   "metadata": {},
   "outputs": [
    {
     "name": "stdout",
     "output_type": "stream",
     "text": [
      "     chrom     pos       stat      chi2       pval padj logp  sigs comps\n",
      "1  SM_V7_1  302288  1.7071525 0.9438588 0.62379755    1    0 FALSE   NaN\n",
      "2  SM_V7_1  705322  1.3286242 0.7345762 0.69261006    1    0 FALSE   NaN\n",
      "3  SM_V7_1  705340  2.0497358 1.1332679 0.56743222    1    0 FALSE   NaN\n",
      "4  SM_V7_1 1060362  0.9230204 0.5103240 0.77479096    1    0 FALSE   NaN\n",
      "5  SM_V7_1 1060390 16.2750582 8.9982336 0.01111881    1    0 FALSE   NaN\n",
      "6  SM_V7_1 1197094  4.4147546 2.4408511 0.29510456    1    0 FALSE   NaN\n",
      "7  SM_V7_1 1197521  7.7140729 4.2649943 0.11854091    1    0 FALSE   NaN\n",
      "8  SM_V7_1 1197568  7.7140729 4.2649943 0.11854091    1    0 FALSE   NaN\n",
      "9  SM_V7_1 1197961 10.3655249 5.7309420 0.05695630    1    0 FALSE   NaN\n",
      "10 SM_V7_1 1198172  9.8798071 5.4623960 0.06514120    1    0 FALSE   NaN\n",
      "11 SM_V7_1 1198177  9.8798071 5.4623960 0.06514120    1    0 FALSE   NaN\n",
      "12 SM_V7_1 1198211 10.6397937 5.8825811 0.05279755    1    0 FALSE   NaN\n",
      "13 SM_V7_1 1208493 10.0245253 5.5424085 0.06258659    1    0 FALSE   NaN\n",
      "14 SM_V7_1 1220733  0.6931895 0.3832540 0.82561476    1    0 FALSE   NaN\n",
      "15 SM_V7_1 1220872  4.5259462 2.5023272 0.28617161    1    0 FALSE   NaN\n",
      "16 SM_V7_1 1220896  7.8845309 4.3592379 0.11308461    1    0 FALSE   NaN\n",
      "17 SM_V7_1 1223221  7.2523337 4.0097056 0.13468012    1    0 FALSE   NaN\n",
      "18 SM_V7_1 1488682  5.0095741 2.7697178 0.25035912    1    0 FALSE   NaN\n",
      "19 SM_V7_1 1491702  2.3467383 1.2974761 0.52270498    1    0 FALSE   NaN\n",
      "20 SM_V7_1 1491730  3.6976321 2.0443649 0.35980882    1    0 FALSE   NaN\n",
      "            fst       het\n",
      "1  0.0002131036 0.4999219\n",
      "2  0.0017930579 0.0950000\n",
      "3  0.0190652550 0.1171875\n",
      "4  0.0949081571 0.4096875\n",
      "5  0.0731770348 0.4200000\n",
      "6  0.5129373474 0.4511719\n",
      "7  0.2341296585 0.2721875\n",
      "8  0.2341296585 0.2721875\n",
      "9  0.6276520136 0.4867969\n",
      "10 0.6150327213 0.4846875\n",
      "11 0.6150327213 0.4846875\n",
      "12 0.2282797590 0.4867969\n",
      "13 0.2659571369 0.2371875\n",
      "14 0.0672962463 0.1280469\n",
      "15 0.4671532847 0.4200000\n",
      "16 0.5602088961 0.4655469\n",
      "17 0.5861317052 0.4846875\n",
      "18 0.1012144426 0.1280469\n",
      "19 0.0176334107 0.1171875\n",
      "20 0.0282277466 0.1171875\n"
     ]
    }
   ],
   "source": [
    "%%R\n",
    "\n",
    "#create a table with all of the output data\n",
    "\n",
    "#cols:\n",
    "#pos, chrom, chi2, pvalues, corrected-p, -log10pvalue, component, outlier(T/F)\n",
    "\n",
    "pos   <- getPOS(vcfr)\n",
    "chrom <- getCHROM(vcfr)\n",
    "stat  <- x$stat\n",
    "chi2  <- x$chi2.stat\n",
    "pval  <- x$pvalues\n",
    "padj  <- padj\n",
    "logp  <- -log10(padj)\n",
    "sigs  <-c(rep(\"FALSE\", length(padj)))\n",
    "\n",
    "for (idx in outliers) {\n",
    "    sigs[idx]=\"TRUE\"\n",
    "}\n",
    "\n",
    "comps<-c(rep(\"NaN\", length(padj)))\n",
    "\n",
    "snp_pc<-get.pc(x, outliers)\n",
    "\n",
    "for (idx in snp_pc$SNP) {\n",
    "    comps[idx] = snp_pc$PC[snp_pc$SNP==idx]\n",
    "}\n",
    "\n",
    "het < -my_fst$He[c(TRUE, FALSE)]\n",
    "fst < -my_fst$FSTNoCorr[c(TRUE, FALSE)]\n",
    "\n",
    "df=data.frame( chrom, \n",
    "               pos, \n",
    "               stat, \n",
    "               chi2, \n",
    "               pval, \n",
    "               padj, \n",
    "               logp, \n",
    "               sigs, \n",
    "               comps, \n",
    "               fst, \n",
    "               het, \n",
    "               stringsAsFactors=TRUE )\n",
    "\n",
    "write.csv( df, \n",
    "           \"pcadapt.csv\", \n",
    "           row.names = FALSE, \n",
    "           quote=FALSE )\n",
    "head(df, 20)\n"
   ]
  },
  {
   "cell_type": "code",
   "execution_count": 41,
   "id": "0925c443-ad17-4a05-b230-705f712448f5",
   "metadata": {},
   "outputs": [],
   "source": [
    "#now switch back to python for further analyses\n",
    "df = pd.read_csv( \"pcadapt.csv\", \n",
    "                  sep=\",\" )"
   ]
  },
  {
   "cell_type": "code",
   "execution_count": 45,
   "id": "45ba6c3a-0c0c-43f3-8e92-f0f7c3619ffc",
   "metadata": {},
   "outputs": [
    {
     "data": {
      "text/plain": [
       "0.5440953615002239"
      ]
     },
     "execution_count": 45,
     "metadata": {},
     "output_type": "execute_result"
    }
   ],
   "source": [
    "#fst at sig sites\n",
    "df.loc[df[\"sigs\"] == True][\"fst\"].mean()"
   ]
  },
  {
   "cell_type": "code",
   "execution_count": 46,
   "id": "2b2756af-09cf-4c24-ac45-41757b318158",
   "metadata": {},
   "outputs": [
    {
     "data": {
      "text/plain": [
       "0.19512604680836637"
      ]
     },
     "execution_count": 46,
     "metadata": {},
     "output_type": "execute_result"
    }
   ],
   "source": [
    "#fst at non-sig sites\n",
    "df.loc[df[\"sigs\"] != True][\"fst\"].mean()"
   ]
  },
  {
   "cell_type": "markdown",
   "id": "62449fde-7c3a-4ccd-b133-0828dcc19ef6",
   "metadata": {},
   "source": [
    "## merge pcadapt sites into 1/3Mb regions\n"
   ]
  },
  {
   "cell_type": "code",
   "execution_count": 6,
   "id": "0eaddd95-9029-434d-b45b-fe322db05f48",
   "metadata": {},
   "outputs": [
    {
     "data": {
      "text/html": [
       "<div>\n",
       "<style scoped>\n",
       "    .dataframe tbody tr th:only-of-type {\n",
       "        vertical-align: middle;\n",
       "    }\n",
       "\n",
       "    .dataframe tbody tr th {\n",
       "        vertical-align: top;\n",
       "    }\n",
       "\n",
       "    .dataframe thead th {\n",
       "        text-align: right;\n",
       "    }\n",
       "</style>\n",
       "<table border=\"1\" class=\"dataframe\">\n",
       "  <thead>\n",
       "    <tr style=\"text-align: right;\">\n",
       "      <th></th>\n",
       "      <th>chrom</th>\n",
       "      <th>pos</th>\n",
       "      <th>stat</th>\n",
       "      <th>chi2</th>\n",
       "      <th>pval</th>\n",
       "      <th>padj</th>\n",
       "      <th>logp</th>\n",
       "      <th>sigs</th>\n",
       "      <th>comps</th>\n",
       "      <th>fst</th>\n",
       "      <th>het</th>\n",
       "    </tr>\n",
       "  </thead>\n",
       "  <tbody>\n",
       "    <tr>\n",
       "      <th>0</th>\n",
       "      <td>SM_V7_1</td>\n",
       "      <td>302288</td>\n",
       "      <td>1.707152</td>\n",
       "      <td>0.943859</td>\n",
       "      <td>0.623798</td>\n",
       "      <td>1.0</td>\n",
       "      <td>0.0</td>\n",
       "      <td>False</td>\n",
       "      <td>NaN</td>\n",
       "      <td>0.000213</td>\n",
       "      <td>0.499922</td>\n",
       "    </tr>\n",
       "    <tr>\n",
       "      <th>1</th>\n",
       "      <td>SM_V7_1</td>\n",
       "      <td>705322</td>\n",
       "      <td>1.328624</td>\n",
       "      <td>0.734576</td>\n",
       "      <td>0.692610</td>\n",
       "      <td>1.0</td>\n",
       "      <td>0.0</td>\n",
       "      <td>False</td>\n",
       "      <td>NaN</td>\n",
       "      <td>0.001793</td>\n",
       "      <td>0.095000</td>\n",
       "    </tr>\n",
       "    <tr>\n",
       "      <th>2</th>\n",
       "      <td>SM_V7_1</td>\n",
       "      <td>705340</td>\n",
       "      <td>2.049736</td>\n",
       "      <td>1.133268</td>\n",
       "      <td>0.567432</td>\n",
       "      <td>1.0</td>\n",
       "      <td>0.0</td>\n",
       "      <td>False</td>\n",
       "      <td>NaN</td>\n",
       "      <td>0.019065</td>\n",
       "      <td>0.117188</td>\n",
       "    </tr>\n",
       "    <tr>\n",
       "      <th>3</th>\n",
       "      <td>SM_V7_1</td>\n",
       "      <td>1060362</td>\n",
       "      <td>0.923020</td>\n",
       "      <td>0.510324</td>\n",
       "      <td>0.774791</td>\n",
       "      <td>1.0</td>\n",
       "      <td>0.0</td>\n",
       "      <td>False</td>\n",
       "      <td>NaN</td>\n",
       "      <td>0.094908</td>\n",
       "      <td>0.409687</td>\n",
       "    </tr>\n",
       "    <tr>\n",
       "      <th>4</th>\n",
       "      <td>SM_V7_1</td>\n",
       "      <td>1060390</td>\n",
       "      <td>16.275058</td>\n",
       "      <td>8.998234</td>\n",
       "      <td>0.011119</td>\n",
       "      <td>1.0</td>\n",
       "      <td>0.0</td>\n",
       "      <td>False</td>\n",
       "      <td>NaN</td>\n",
       "      <td>0.073177</td>\n",
       "      <td>0.420000</td>\n",
       "    </tr>\n",
       "    <tr>\n",
       "      <th>...</th>\n",
       "      <td>...</td>\n",
       "      <td>...</td>\n",
       "      <td>...</td>\n",
       "      <td>...</td>\n",
       "      <td>...</td>\n",
       "      <td>...</td>\n",
       "      <td>...</td>\n",
       "      <td>...</td>\n",
       "      <td>...</td>\n",
       "      <td>...</td>\n",
       "      <td>...</td>\n",
       "    </tr>\n",
       "    <tr>\n",
       "      <th>21908</th>\n",
       "      <td>SM_V7_7</td>\n",
       "      <td>19000002</td>\n",
       "      <td>2.682516</td>\n",
       "      <td>1.483122</td>\n",
       "      <td>0.476370</td>\n",
       "      <td>1.0</td>\n",
       "      <td>0.0</td>\n",
       "      <td>False</td>\n",
       "      <td>NaN</td>\n",
       "      <td>0.358452</td>\n",
       "      <td>0.447188</td>\n",
       "    </tr>\n",
       "    <tr>\n",
       "      <th>21909</th>\n",
       "      <td>SM_V7_7</td>\n",
       "      <td>19000008</td>\n",
       "      <td>5.928768</td>\n",
       "      <td>3.277926</td>\n",
       "      <td>0.194181</td>\n",
       "      <td>1.0</td>\n",
       "      <td>0.0</td>\n",
       "      <td>False</td>\n",
       "      <td>NaN</td>\n",
       "      <td>0.501766</td>\n",
       "      <td>0.488750</td>\n",
       "    </tr>\n",
       "    <tr>\n",
       "      <th>21910</th>\n",
       "      <td>SM_V7_7</td>\n",
       "      <td>19009311</td>\n",
       "      <td>0.642314</td>\n",
       "      <td>0.355126</td>\n",
       "      <td>0.837308</td>\n",
       "      <td>1.0</td>\n",
       "      <td>0.0</td>\n",
       "      <td>False</td>\n",
       "      <td>NaN</td>\n",
       "      <td>0.046552</td>\n",
       "      <td>0.199687</td>\n",
       "    </tr>\n",
       "    <tr>\n",
       "      <th>21911</th>\n",
       "      <td>SM_V7_7</td>\n",
       "      <td>19009392</td>\n",
       "      <td>2.247127</td>\n",
       "      <td>1.242403</td>\n",
       "      <td>0.537299</td>\n",
       "      <td>1.0</td>\n",
       "      <td>0.0</td>\n",
       "      <td>False</td>\n",
       "      <td>NaN</td>\n",
       "      <td>0.010241</td>\n",
       "      <td>0.117188</td>\n",
       "    </tr>\n",
       "    <tr>\n",
       "      <th>21912</th>\n",
       "      <td>SM_V7_7</td>\n",
       "      <td>19013583</td>\n",
       "      <td>0.159365</td>\n",
       "      <td>0.088111</td>\n",
       "      <td>0.956901</td>\n",
       "      <td>1.0</td>\n",
       "      <td>0.0</td>\n",
       "      <td>False</td>\n",
       "      <td>NaN</td>\n",
       "      <td>0.133017</td>\n",
       "      <td>0.169922</td>\n",
       "    </tr>\n",
       "  </tbody>\n",
       "</table>\n",
       "<p>21913 rows × 11 columns</p>\n",
       "</div>"
      ],
      "text/plain": [
       "         chrom       pos       stat      chi2      pval  padj  logp   sigs  \\\n",
       "0      SM_V7_1    302288   1.707152  0.943859  0.623798   1.0   0.0  False   \n",
       "1      SM_V7_1    705322   1.328624  0.734576  0.692610   1.0   0.0  False   \n",
       "2      SM_V7_1    705340   2.049736  1.133268  0.567432   1.0   0.0  False   \n",
       "3      SM_V7_1   1060362   0.923020  0.510324  0.774791   1.0   0.0  False   \n",
       "4      SM_V7_1   1060390  16.275058  8.998234  0.011119   1.0   0.0  False   \n",
       "...        ...       ...        ...       ...       ...   ...   ...    ...   \n",
       "21908  SM_V7_7  19000002   2.682516  1.483122  0.476370   1.0   0.0  False   \n",
       "21909  SM_V7_7  19000008   5.928768  3.277926  0.194181   1.0   0.0  False   \n",
       "21910  SM_V7_7  19009311   0.642314  0.355126  0.837308   1.0   0.0  False   \n",
       "21911  SM_V7_7  19009392   2.247127  1.242403  0.537299   1.0   0.0  False   \n",
       "21912  SM_V7_7  19013583   0.159365  0.088111  0.956901   1.0   0.0  False   \n",
       "\n",
       "       comps       fst       het  \n",
       "0        NaN  0.000213  0.499922  \n",
       "1        NaN  0.001793  0.095000  \n",
       "2        NaN  0.019065  0.117188  \n",
       "3        NaN  0.094908  0.409687  \n",
       "4        NaN  0.073177  0.420000  \n",
       "...      ...       ...       ...  \n",
       "21908    NaN  0.358452  0.447188  \n",
       "21909    NaN  0.501766  0.488750  \n",
       "21910    NaN  0.046552  0.199687  \n",
       "21911    NaN  0.010241  0.117188  \n",
       "21912    NaN  0.133017  0.169922  \n",
       "\n",
       "[21913 rows x 11 columns]"
      ]
     },
     "execution_count": 6,
     "metadata": {},
     "output_type": "execute_result"
    }
   ],
   "source": [
    "#convert pcadapt to bed\n",
    "df = pd.read_csv( \"pcadapt.csv\", \n",
    "                  sep=\",\" )\n",
    "df"
   ]
  },
  {
   "cell_type": "code",
   "execution_count": 15,
   "id": "51d75ba9-1a29-4a14-ad14-ee8e3301adb8",
   "metadata": {},
   "outputs": [],
   "source": [
    "#create a bedfile from the df\n",
    "sig_df = df.loc[df[\"sigs\"] == True]\n",
    "chroms = sig_df[\"chrom\"]\n",
    "start  = sig_df[\"pos\"]\n",
    "stop   = sig_df[\"pos\"]+1\n",
    "\n",
    "#make the data and data frame\n",
    "d = {\"chrom\": chroms, \"start\": start, \"stop\": stop}\n",
    "bed_df = pd.DataFrame(d)\n",
    "\n",
    "#save to csv\n",
    "bed_df.to_csv(\"pcadapt.bed\", header=False, index=False, sep=\"\\t\")"
   ]
  },
  {
   "cell_type": "code",
   "execution_count": null,
   "id": "8bab47c0-d8a6-406b-a8e1-45bb934b3d18",
   "metadata": {},
   "outputs": [],
   "source": [
    "#merge sig sites within 1/3 mb of one another.\n",
    "buffer = 333_333\n",
    "\n",
    "pcadapt_snps_bed = pybedtools.BedTool(\"pcadapt.bed\")\n",
    "pcadapt_int_bed  = pcadapt_snps_bed.merge(d=buffer)\n",
    "\n",
    "#save the bed file\n",
    "pcadapt_int_bed.saveas(\"pcadapt_regions.bed\")"
   ]
  }
 ],
 "metadata": {
  "kernelspec": {
   "display_name": "sch_man_nwinvasion-selection",
   "language": "python",
   "name": "sch_man_nwvinasion-selection"
  },
  "language_info": {
   "codemirror_mode": {
    "name": "ipython",
    "version": 3
   },
   "file_extension": ".py",
   "mimetype": "text/x-python",
   "name": "python",
   "nbconvert_exporter": "python",
   "pygments_lexer": "ipython3",
   "version": "3.9.6"
  }
 },
 "nbformat": 4,
 "nbformat_minor": 5
}
