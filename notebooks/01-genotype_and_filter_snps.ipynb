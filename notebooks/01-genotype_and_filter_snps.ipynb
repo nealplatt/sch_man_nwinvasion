{
 "cells": [
  {
   "cell_type": "markdown",
   "metadata": {},
   "source": [
    "# Genomic analysis of a parasite invasion: colonization of the New World by the blood fluke, Schistosoma mansoni \n",
    "\n",
    "Roy Nelson Platt II*, Frédéric D. Chevalier*, Winka Le Clec'h, Marina McDew-White, Philip T. LoVerde, Rafael Ramiro de Assis, Guilherme Oliveira, Safari Kinunghi, Anouk Gouvras, Bonnie Webster, Joanne Webster, Aidan Emery, David Rollinson, Timothy J. Anderson\n",
    "\n",
    "# Genotype and filter SNVs\n",
    "\n",
    "use the `sch_man_nwinvasion-gatk` conda env"
   ]
  },
  {
   "cell_type": "code",
   "execution_count": 5,
   "metadata": {},
   "outputs": [
    {
     "name": "stdout",
     "output_type": "stream",
     "text": [
      "The rpy2.ipython extension is already loaded. To reload it, use:\n",
      "  %reload_ext rpy2.ipython\n"
     ]
    }
   ],
   "source": [
    "import os\n",
    "import shutil\n",
    "import vcf\n",
    "import re\n",
    "import gzip\n",
    "import pandas as pd\n",
    "\n",
    "from IPython.display import Image\n",
    "from Bio import SeqIO\n",
    "\n",
    "\n",
    "import rpy2.ipython\n",
    "\n",
    "\n",
    "%load_ext rpy2.ipython\n",
    "\n",
    "os.chdir(\"/master/nplatt/sch_man_nwinvasion\")"
   ]
  },
  {
   "cell_type": "markdown",
   "metadata": {},
   "source": [
    "### Genotyping"
   ]
  },
  {
   "cell_type": "code",
   "execution_count": null,
   "metadata": {},
   "outputs": [],
   "source": [
    "%%bash\n",
    "\n",
    "#run snakemake\n",
    "snakemake \\\n",
    "    --printshellcmds \\\n",
    "    --use-conda \\\n",
    "    --cluster 'qsub -V -cwd -S /bin/bash -pe smp {threads} -o {log}.log -j y' \\\n",
    "    --jobs 1000 \\\n",
    "    --latency-wait 200 \\\n",
    "    --keep-going"
   ]
  },
  {
   "cell_type": "markdown",
   "metadata": {},
   "source": [
    "### Filtering\n",
    "\n",
    "Multiple rounds of filtering were used to get rid of low quality sites and poorly genotyped sites/individuals"
   ]
  },
  {
   "cell_type": "markdown",
   "metadata": {},
   "source": [
    "First low quality/coverage were removed and only bi-allelic sites were retained"
   ]
  },
  {
   "cell_type": "code",
   "execution_count": 9,
   "metadata": {
    "collapsed": true,
    "jupyter": {
     "outputs_hidden": true
    }
   },
   "outputs": [
    {
     "name": "stderr",
     "output_type": "stream",
     "text": [
      "\n",
      "VCFtools - 0.1.16\n",
      "(C) Adam Auton and Anthony Marcketta 2009\n",
      "\n",
      "Parameters as interpreted:\n",
      "\t--vcf results/variant_filtration/hard_filtered.vcf\n",
      "\t--recode-INFO-all\n",
      "\t--max-alleles 2\n",
      "\t--min-alleles 2\n",
      "\t--minDP 12\n",
      "\t--minGQ 25\n",
      "\t--recode\n",
      "\t--stdout\n",
      "\n",
      "Warning: Expected at least 2 parts in FORMAT entry: ID=PGT,Number=1,Type=String,Description=\"Physical phasing haplotype information, describing how the alternate alleles are phased in relation to one another\">\n",
      "Warning: Expected at least 2 parts in FORMAT entry: ID=PID,Number=1,Type=String,Description=\"Physical phasing ID information, where each unique ID within a given sample (but not across samples) connects records within a phasing group\">\n",
      "Warning: Expected at least 2 parts in FORMAT entry: ID=PL,Number=G,Type=Integer,Description=\"Normalized, Phred-scaled likelihoods for genotypes as defined in the VCF specification\">\n",
      "Warning: Expected at least 2 parts in FORMAT entry: ID=RGQ,Number=1,Type=Integer,Description=\"Unconditional reference genotype confidence, encoded as a phred quality -10*log10 p(genotype call is wrong)\">\n",
      "Warning: Expected at least 2 parts in INFO entry: ID=AC,Number=A,Type=Integer,Description=\"Allele count in genotypes, for each ALT allele, in the same order as listed\">\n",
      "Warning: Expected at least 2 parts in INFO entry: ID=AC,Number=A,Type=Integer,Description=\"Allele count in genotypes, for each ALT allele, in the same order as listed\">\n",
      "Warning: Expected at least 2 parts in INFO entry: ID=AF,Number=A,Type=Float,Description=\"Allele Frequency, for each ALT allele, in the same order as listed\">\n",
      "Warning: Expected at least 2 parts in INFO entry: ID=AF,Number=A,Type=Float,Description=\"Allele Frequency, for each ALT allele, in the same order as listed\">\n",
      "Warning: Expected at least 2 parts in INFO entry: ID=MLEAC,Number=A,Type=Integer,Description=\"Maximum likelihood expectation (MLE) for the allele counts (not necessarily the same as the AC), for each ALT allele, in the same order as listed\">\n",
      "Warning: Expected at least 2 parts in INFO entry: ID=MLEAC,Number=A,Type=Integer,Description=\"Maximum likelihood expectation (MLE) for the allele counts (not necessarily the same as the AC), for each ALT allele, in the same order as listed\">\n",
      "Warning: Expected at least 2 parts in INFO entry: ID=MLEAF,Number=A,Type=Float,Description=\"Maximum likelihood expectation (MLE) for the allele frequency (not necessarily the same as the AF), for each ALT allele, in the same order as listed\">\n",
      "Warning: Expected at least 2 parts in INFO entry: ID=MLEAF,Number=A,Type=Float,Description=\"Maximum likelihood expectation (MLE) for the allele frequency (not necessarily the same as the AF), for each ALT allele, in the same order as listed\">\n",
      "Warning: Expected at least 2 parts in INFO entry: ID=culprit,Number=1,Type=String,Description=\"The annotation which was the worst performing in the Gaussian mixture model, likely the reason why the variant was filtered out\">\n",
      "After filtering, kept 172 out of 172 Individuals\n",
      "Outputting VCF file...\n",
      "After filtering, kept 671303 out of a possible 703368 Sites\n",
      "Run Time = 1100.00 seconds\n"
     ]
    }
   ],
   "source": [
    "%%bash\n",
    "\n",
    "vcftools \\\n",
    "    --vcf results/variant_filtration/hard_filtered.vcf \\\n",
    "    --minDP 12 \\\n",
    "    --minGQ 25 \\\n",
    "    --min-alleles 2 \\\n",
    "    --max-alleles 2 \\\n",
    "    --recode \\\n",
    "    --recode-INFO-all \\\n",
    "    --stdout \\\n",
    "    >results/variant_filtration/gq_dp.vcf"
   ]
  },
  {
   "cell_type": "markdown",
   "metadata": {},
   "source": [
    "sites that were genotyped less than 50% of the time were removed"
   ]
  },
  {
   "cell_type": "code",
   "execution_count": 14,
   "metadata": {
    "collapsed": true,
    "jupyter": {
     "outputs_hidden": true
    }
   },
   "outputs": [
    {
     "name": "stderr",
     "output_type": "stream",
     "text": [
      "\n",
      "VCFtools - 0.1.16\n",
      "(C) Adam Auton and Anthony Marcketta 2009\n",
      "\n",
      "Parameters as interpreted:\n",
      "\t--vcf results/variant_filtration/gq_dp.vcf\n",
      "\t--recode-INFO-all\n",
      "\t--positions results/variant_filtration/gt_rate_ge_50p.list\n",
      "\t--recode\n",
      "\t--stdout\n",
      "\n",
      "Warning: Expected at least 2 parts in FORMAT entry: ID=PGT,Number=1,Type=String,Description=\"Physical phasing haplotype information, describing how the alternate alleles are phased in relation to one another\">\n",
      "Warning: Expected at least 2 parts in FORMAT entry: ID=PID,Number=1,Type=String,Description=\"Physical phasing ID information, where each unique ID within a given sample (but not across samples) connects records within a phasing group\">\n",
      "Warning: Expected at least 2 parts in FORMAT entry: ID=PL,Number=G,Type=Integer,Description=\"Normalized, Phred-scaled likelihoods for genotypes as defined in the VCF specification\">\n",
      "Warning: Expected at least 2 parts in FORMAT entry: ID=RGQ,Number=1,Type=Integer,Description=\"Unconditional reference genotype confidence, encoded as a phred quality -10*log10 p(genotype call is wrong)\">\n",
      "Warning: Expected at least 2 parts in INFO entry: ID=AC,Number=A,Type=Integer,Description=\"Allele count in genotypes, for each ALT allele, in the same order as listed\">\n",
      "Warning: Expected at least 2 parts in INFO entry: ID=AC,Number=A,Type=Integer,Description=\"Allele count in genotypes, for each ALT allele, in the same order as listed\">\n",
      "Warning: Expected at least 2 parts in INFO entry: ID=AF,Number=A,Type=Float,Description=\"Allele Frequency, for each ALT allele, in the same order as listed\">\n",
      "Warning: Expected at least 2 parts in INFO entry: ID=AF,Number=A,Type=Float,Description=\"Allele Frequency, for each ALT allele, in the same order as listed\">\n",
      "Warning: Expected at least 2 parts in INFO entry: ID=MLEAC,Number=A,Type=Integer,Description=\"Maximum likelihood expectation (MLE) for the allele counts (not necessarily the same as the AC), for each ALT allele, in the same order as listed\">\n",
      "Warning: Expected at least 2 parts in INFO entry: ID=MLEAC,Number=A,Type=Integer,Description=\"Maximum likelihood expectation (MLE) for the allele counts (not necessarily the same as the AC), for each ALT allele, in the same order as listed\">\n",
      "Warning: Expected at least 2 parts in INFO entry: ID=MLEAF,Number=A,Type=Float,Description=\"Maximum likelihood expectation (MLE) for the allele frequency (not necessarily the same as the AF), for each ALT allele, in the same order as listed\">\n",
      "Warning: Expected at least 2 parts in INFO entry: ID=MLEAF,Number=A,Type=Float,Description=\"Maximum likelihood expectation (MLE) for the allele frequency (not necessarily the same as the AF), for each ALT allele, in the same order as listed\">\n",
      "Warning: Expected at least 2 parts in INFO entry: ID=culprit,Number=1,Type=String,Description=\"The annotation which was the worst performing in the Gaussian mixture model, likely the reason why the variant was filtered out\">\n",
      "After filtering, kept 172 out of 172 Individuals\n",
      "Outputting VCF file...\n",
      "After filtering, kept 631588 out of a possible 671303 Sites\n",
      "Run Time = 857.00 seconds\n"
     ]
    }
   ],
   "source": [
    "%%bash\n",
    "\n",
    "#find sites with gt50% missing data\n",
    "vcftools \\\n",
    "    --vcf results/variant_filtration/gq_dp.vcf \\\n",
    "    --missing-site \\\n",
    "    --stdout \\\n",
    "    >results/variant_filtration/gt_rate_per_site.tbl\n",
    "\n",
    "awk '{if ($6<0.5) print $1\"\\t\"$2}' \\\n",
    "    results/variant_filtration/gt_rate_per_site.tbl \\\n",
    "    >results/variant_filtration/gt_rate_ge_50p.list\n",
    "\n",
    "vcftools \\\n",
    "    --vcf results/variant_filtration/gq_dp.vcf \\\n",
    "    --positions results/variant_filtration/gt_rate_ge_50p.list \\\n",
    "    --recode \\\n",
    "    --recode-INFO-all \\\n",
    "    --stdout \\\n",
    "    >results/variant_filtration/gt_rate_ge_50p.vcf"
   ]
  },
  {
   "cell_type": "markdown",
   "metadata": {},
   "source": [
    "individuals there were genotyped at less than 50% of sites were removed"
   ]
  },
  {
   "cell_type": "code",
   "execution_count": 15,
   "metadata": {
    "collapsed": true,
    "jupyter": {
     "outputs_hidden": true
    }
   },
   "outputs": [
    {
     "name": "stderr",
     "output_type": "stream",
     "text": [
      "\n",
      "VCFtools - 0.1.16\n",
      "(C) Adam Auton and Anthony Marcketta 2009\n",
      "\n",
      "Parameters as interpreted:\n",
      "\t--vcf results/variant_filtration/gt_rate_ge_50p.vcf\n",
      "\t--missing-indv\n",
      "\t--stdout\n",
      "\n",
      "Warning: Expected at least 2 parts in FORMAT entry: ID=PGT,Number=1,Type=String,Description=\"Physical phasing haplotype information, describing how the alternate alleles are phased in relation to one another\">\n",
      "Warning: Expected at least 2 parts in FORMAT entry: ID=PID,Number=1,Type=String,Description=\"Physical phasing ID information, where each unique ID within a given sample (but not across samples) connects records within a phasing group\">\n",
      "Warning: Expected at least 2 parts in FORMAT entry: ID=PL,Number=G,Type=Integer,Description=\"Normalized, Phred-scaled likelihoods for genotypes as defined in the VCF specification\">\n",
      "Warning: Expected at least 2 parts in FORMAT entry: ID=RGQ,Number=1,Type=Integer,Description=\"Unconditional reference genotype confidence, encoded as a phred quality -10*log10 p(genotype call is wrong)\">\n",
      "Warning: Expected at least 2 parts in INFO entry: ID=AC,Number=A,Type=Integer,Description=\"Allele count in genotypes, for each ALT allele, in the same order as listed\">\n",
      "Warning: Expected at least 2 parts in INFO entry: ID=AC,Number=A,Type=Integer,Description=\"Allele count in genotypes, for each ALT allele, in the same order as listed\">\n",
      "Warning: Expected at least 2 parts in INFO entry: ID=AF,Number=A,Type=Float,Description=\"Allele Frequency, for each ALT allele, in the same order as listed\">\n",
      "Warning: Expected at least 2 parts in INFO entry: ID=AF,Number=A,Type=Float,Description=\"Allele Frequency, for each ALT allele, in the same order as listed\">\n",
      "Warning: Expected at least 2 parts in INFO entry: ID=MLEAC,Number=A,Type=Integer,Description=\"Maximum likelihood expectation (MLE) for the allele counts (not necessarily the same as the AC), for each ALT allele, in the same order as listed\">\n",
      "Warning: Expected at least 2 parts in INFO entry: ID=MLEAC,Number=A,Type=Integer,Description=\"Maximum likelihood expectation (MLE) for the allele counts (not necessarily the same as the AC), for each ALT allele, in the same order as listed\">\n",
      "Warning: Expected at least 2 parts in INFO entry: ID=MLEAF,Number=A,Type=Float,Description=\"Maximum likelihood expectation (MLE) for the allele frequency (not necessarily the same as the AF), for each ALT allele, in the same order as listed\">\n",
      "Warning: Expected at least 2 parts in INFO entry: ID=MLEAF,Number=A,Type=Float,Description=\"Maximum likelihood expectation (MLE) for the allele frequency (not necessarily the same as the AF), for each ALT allele, in the same order as listed\">\n",
      "Warning: Expected at least 2 parts in INFO entry: ID=culprit,Number=1,Type=String,Description=\"The annotation which was the worst performing in the Gaussian mixture model, likely the reason why the variant was filtered out\">\n",
      "After filtering, kept 172 out of 172 Individuals\n",
      "Outputting Individual Missingness\n",
      "After filtering, kept 631588 out of a possible 631588 Sites\n",
      "Run Time = 180.00 seconds\n",
      "\n",
      "VCFtools - 0.1.16\n",
      "(C) Adam Auton and Anthony Marcketta 2009\n",
      "\n",
      "Parameters as interpreted:\n",
      "\t--vcf results/variant_filtration/gt_rate_ge_50p.vcf\n",
      "\t--remove results/variant_filtration/indiv_gt_rate_lt_50p.list\n",
      "\t--recode-INFO-all\n",
      "\t--recode\n",
      "\t--stdout\n",
      "\n",
      "Warning: Expected at least 2 parts in FORMAT entry: ID=PGT,Number=1,Type=String,Description=\"Physical phasing haplotype information, describing how the alternate alleles are phased in relation to one another\">\n",
      "Warning: Expected at least 2 parts in FORMAT entry: ID=PID,Number=1,Type=String,Description=\"Physical phasing ID information, where each unique ID within a given sample (but not across samples) connects records within a phasing group\">\n",
      "Warning: Expected at least 2 parts in FORMAT entry: ID=PL,Number=G,Type=Integer,Description=\"Normalized, Phred-scaled likelihoods for genotypes as defined in the VCF specification\">\n",
      "Warning: Expected at least 2 parts in FORMAT entry: ID=RGQ,Number=1,Type=Integer,Description=\"Unconditional reference genotype confidence, encoded as a phred quality -10*log10 p(genotype call is wrong)\">\n",
      "Warning: Expected at least 2 parts in INFO entry: ID=AC,Number=A,Type=Integer,Description=\"Allele count in genotypes, for each ALT allele, in the same order as listed\">\n",
      "Warning: Expected at least 2 parts in INFO entry: ID=AC,Number=A,Type=Integer,Description=\"Allele count in genotypes, for each ALT allele, in the same order as listed\">\n",
      "Warning: Expected at least 2 parts in INFO entry: ID=AF,Number=A,Type=Float,Description=\"Allele Frequency, for each ALT allele, in the same order as listed\">\n",
      "Warning: Expected at least 2 parts in INFO entry: ID=AF,Number=A,Type=Float,Description=\"Allele Frequency, for each ALT allele, in the same order as listed\">\n",
      "Warning: Expected at least 2 parts in INFO entry: ID=MLEAC,Number=A,Type=Integer,Description=\"Maximum likelihood expectation (MLE) for the allele counts (not necessarily the same as the AC), for each ALT allele, in the same order as listed\">\n",
      "Warning: Expected at least 2 parts in INFO entry: ID=MLEAC,Number=A,Type=Integer,Description=\"Maximum likelihood expectation (MLE) for the allele counts (not necessarily the same as the AC), for each ALT allele, in the same order as listed\">\n",
      "Warning: Expected at least 2 parts in INFO entry: ID=MLEAF,Number=A,Type=Float,Description=\"Maximum likelihood expectation (MLE) for the allele frequency (not necessarily the same as the AF), for each ALT allele, in the same order as listed\">\n",
      "Warning: Expected at least 2 parts in INFO entry: ID=MLEAF,Number=A,Type=Float,Description=\"Maximum likelihood expectation (MLE) for the allele frequency (not necessarily the same as the AF), for each ALT allele, in the same order as listed\">\n",
      "Warning: Expected at least 2 parts in INFO entry: ID=culprit,Number=1,Type=String,Description=\"The annotation which was the worst performing in the Gaussian mixture model, likely the reason why the variant was filtered out\">\n",
      "Excluding individuals in 'exclude' list\n",
      "After filtering, kept 156 out of 172 Individuals\n",
      "Outputting VCF file...\n",
      "After filtering, kept 631588 out of a possible 631588 Sites\n",
      "Run Time = 834.00 seconds\n"
     ]
    }
   ],
   "source": [
    "%%bash\n",
    "\n",
    "#find idivs with lt 50p data\n",
    "vcftools \\\n",
    "    --vcf results/variant_filtration/gt_rate_ge_50p.vcf \\\n",
    "    --missing-indv \\\n",
    "    --stdout \\\n",
    "    >results/variant_filtration/indiv_gt_rate.tbl\n",
    "\n",
    "cat results/variant_filtration/indiv_gt_rate.tbl \\\n",
    "    | awk '$5>0.50 {print $1}' \\\n",
    "    | sed 1d \\\n",
    "    >results/variant_filtration/indiv_gt_rate_lt_50p.list\n",
    "\n",
    "vcftools \\\n",
    "    --vcf results/variant_filtration/gt_rate_ge_50p.vcf \\\n",
    "    --remove results/variant_filtration/indiv_gt_rate_lt_50p.list \\\n",
    "    --recode \\\n",
    "    --recode-INFO-all \\\n",
    "    --stdout \\\n",
    "    >results/variant_filtration/50p_site_50p_indiv_filtered.vcf"
   ]
  },
  {
   "cell_type": "markdown",
   "metadata": {},
   "source": [
    "added an id to each site (chrom:pos)"
   ]
  },
  {
   "cell_type": "code",
   "execution_count": 16,
   "metadata": {},
   "outputs": [],
   "source": [
    "%%bash\n",
    "\n",
    "bcftools annotate \\\n",
    "    --set-id +'%CHROM\\:%POS' \\\n",
    "    results/variant_filtration/50p_site_50p_indiv_filtered.vcf \\\n",
    "    >results/variant_filtration/50p_site_50p_indiv_filtered_annotated.vcf"
   ]
  },
  {
   "cell_type": "markdown",
   "metadata": {},
   "source": [
    "to make processing easier, i reorganized the order of individuals in \"geographic\" order rather than alphabetical order of sample names (the ```re-organized_header.vcf``` file was manually generated)"
   ]
  },
  {
   "cell_type": "code",
   "execution_count": 17,
   "metadata": {},
   "outputs": [],
   "source": [
    "%%bash\n",
    "\n",
    "grep \"#\" results/variant_filtration/50p_site_50p_indiv_filtered_annotated.vcf >results/variant_filtration/header.vcf"
   ]
  },
  {
   "cell_type": "code",
   "execution_count": 18,
   "metadata": {},
   "outputs": [],
   "source": [
    "%%bash\n",
    "\n",
    "#manually re-arrange samples into desired order and save as results/variant_filtration/re-organized_header.vcf\n",
    "gzip results/variant_filtration/50p_site_50p_indiv_filtered_annotated.vcf\n",
    "gzip results/variant_filtration/re-organized_header.vcf\n",
    "\n",
    "vcf-shuffle-cols -t results/variant_filtration/re-organized_header.vcf.gz \\\n",
    "    results/variant_filtration/50p_site_50p_indiv_filtered_annotated.vcf.gz \\\n",
    "    >results/variant_filtration/smv7_ex_snps.vcf"
   ]
  },
  {
   "cell_type": "code",
   "execution_count": null,
   "metadata": {},
   "outputs": [],
   "source": [
    "%%bash\n",
    "\n",
    "#get gt rate of final filtered dataset\n",
    "vcftools \\\n",
    "    --vcf results/variant_filtration/smv7_ex_snps.vcf \\\n",
    "    --missing-indv \\\n",
    "    --stdout \\\n",
    "    >results/variant_filtration/gt_rate_per_indiv_at_filtered_sites.tbl\n",
    "    \n",
    "vcftools \\\n",
    "    --vcf results/variant_filtration/smv7_ex_snps.vcf \\\n",
    "    --missing-site \\\n",
    "    --stdout \\\n",
    "    >results/variant_filtration/gt_rate_per_site_at_filtered_sites.tbl"
   ]
  },
  {
   "cell_type": "markdown",
   "metadata": {},
   "source": [
    "split the filtered file into autosomal, sex_chr, and mitochondrial variants"
   ]
  },
  {
   "cell_type": "code",
   "execution_count": 23,
   "metadata": {
    "collapsed": true,
    "jupyter": {
     "outputs_hidden": true
    }
   },
   "outputs": [
    {
     "name": "stderr",
     "output_type": "stream",
     "text": [
      "\n",
      "VCFtools - 0.1.16\n",
      "(C) Adam Auton and Anthony Marcketta 2009\n",
      "\n",
      "Parameters as interpreted:\n",
      "\t--vcf results/variant_filtration/smv7_ex_snps.vcf\n",
      "\t--chr SM_V7_1\n",
      "\t--chr SM_V7_2\n",
      "\t--chr SM_V7_3\n",
      "\t--chr SM_V7_4\n",
      "\t--chr SM_V7_5\n",
      "\t--chr SM_V7_6\n",
      "\t--chr SM_V7_7\n",
      "\t--recode-INFO-all\n",
      "\t--recode\n",
      "\t--stdout\n",
      "\n",
      "Warning: Expected at least 2 parts in FORMAT entry: ID=PGT,Number=1,Type=String,Description=\"Physical phasing haplotype information, describing how the alternate alleles are phased in relation to one another\">\n",
      "Warning: Expected at least 2 parts in FORMAT entry: ID=PID,Number=1,Type=String,Description=\"Physical phasing ID information, where each unique ID within a given sample (but not across samples) connects records within a phasing group\">\n",
      "Warning: Expected at least 2 parts in FORMAT entry: ID=PL,Number=G,Type=Integer,Description=\"Normalized, Phred-scaled likelihoods for genotypes as defined in the VCF specification\">\n",
      "Warning: Expected at least 2 parts in FORMAT entry: ID=RGQ,Number=1,Type=Integer,Description=\"Unconditional reference genotype confidence, encoded as a phred quality -10*log10 p(genotype call is wrong)\">\n",
      "Warning: Expected at least 2 parts in INFO entry: ID=AC,Number=A,Type=Integer,Description=\"Allele count in genotypes, for each ALT allele, in the same order as listed\">\n",
      "Warning: Expected at least 2 parts in INFO entry: ID=AC,Number=A,Type=Integer,Description=\"Allele count in genotypes, for each ALT allele, in the same order as listed\">\n",
      "Warning: Expected at least 2 parts in INFO entry: ID=AF,Number=A,Type=Float,Description=\"Allele Frequency, for each ALT allele, in the same order as listed\">\n",
      "Warning: Expected at least 2 parts in INFO entry: ID=AF,Number=A,Type=Float,Description=\"Allele Frequency, for each ALT allele, in the same order as listed\">\n",
      "Warning: Expected at least 2 parts in INFO entry: ID=MLEAC,Number=A,Type=Integer,Description=\"Maximum likelihood expectation (MLE) for the allele counts (not necessarily the same as the AC), for each ALT allele, in the same order as listed\">\n",
      "Warning: Expected at least 2 parts in INFO entry: ID=MLEAC,Number=A,Type=Integer,Description=\"Maximum likelihood expectation (MLE) for the allele counts (not necessarily the same as the AC), for each ALT allele, in the same order as listed\">\n",
      "Warning: Expected at least 2 parts in INFO entry: ID=MLEAF,Number=A,Type=Float,Description=\"Maximum likelihood expectation (MLE) for the allele frequency (not necessarily the same as the AF), for each ALT allele, in the same order as listed\">\n",
      "Warning: Expected at least 2 parts in INFO entry: ID=MLEAF,Number=A,Type=Float,Description=\"Maximum likelihood expectation (MLE) for the allele frequency (not necessarily the same as the AF), for each ALT allele, in the same order as listed\">\n",
      "Warning: Expected at least 2 parts in INFO entry: ID=culprit,Number=1,Type=String,Description=\"The annotation which was the worst performing in the Gaussian mixture model, likely the reason why the variant was filtered out\">\n",
      "After filtering, kept 156 out of 156 Individuals\n",
      "Outputting VCF file...\n",
      "After filtering, kept 475081 out of a possible 631588 Sites\n",
      "Run Time = 657.00 seconds\n",
      "\n",
      "VCFtools - 0.1.16\n",
      "(C) Adam Auton and Anthony Marcketta 2009\n",
      "\n",
      "Parameters as interpreted:\n",
      "\t--vcf results/variant_filtration/smv7_ex_snps.vcf\n",
      "\t--chr SM_V7_ZW\n",
      "\t--recode-INFO-all\n",
      "\t--recode\n",
      "\t--stdout\n",
      "\n",
      "Warning: Expected at least 2 parts in FORMAT entry: ID=PGT,Number=1,Type=String,Description=\"Physical phasing haplotype information, describing how the alternate alleles are phased in relation to one another\">\n",
      "Warning: Expected at least 2 parts in FORMAT entry: ID=PID,Number=1,Type=String,Description=\"Physical phasing ID information, where each unique ID within a given sample (but not across samples) connects records within a phasing group\">\n",
      "Warning: Expected at least 2 parts in FORMAT entry: ID=PL,Number=G,Type=Integer,Description=\"Normalized, Phred-scaled likelihoods for genotypes as defined in the VCF specification\">\n",
      "Warning: Expected at least 2 parts in FORMAT entry: ID=RGQ,Number=1,Type=Integer,Description=\"Unconditional reference genotype confidence, encoded as a phred quality -10*log10 p(genotype call is wrong)\">\n",
      "Warning: Expected at least 2 parts in INFO entry: ID=AC,Number=A,Type=Integer,Description=\"Allele count in genotypes, for each ALT allele, in the same order as listed\">\n",
      "Warning: Expected at least 2 parts in INFO entry: ID=AC,Number=A,Type=Integer,Description=\"Allele count in genotypes, for each ALT allele, in the same order as listed\">\n",
      "Warning: Expected at least 2 parts in INFO entry: ID=AF,Number=A,Type=Float,Description=\"Allele Frequency, for each ALT allele, in the same order as listed\">\n",
      "Warning: Expected at least 2 parts in INFO entry: ID=AF,Number=A,Type=Float,Description=\"Allele Frequency, for each ALT allele, in the same order as listed\">\n",
      "Warning: Expected at least 2 parts in INFO entry: ID=MLEAC,Number=A,Type=Integer,Description=\"Maximum likelihood expectation (MLE) for the allele counts (not necessarily the same as the AC), for each ALT allele, in the same order as listed\">\n",
      "Warning: Expected at least 2 parts in INFO entry: ID=MLEAC,Number=A,Type=Integer,Description=\"Maximum likelihood expectation (MLE) for the allele counts (not necessarily the same as the AC), for each ALT allele, in the same order as listed\">\n",
      "Warning: Expected at least 2 parts in INFO entry: ID=MLEAF,Number=A,Type=Float,Description=\"Maximum likelihood expectation (MLE) for the allele frequency (not necessarily the same as the AF), for each ALT allele, in the same order as listed\">\n",
      "Warning: Expected at least 2 parts in INFO entry: ID=MLEAF,Number=A,Type=Float,Description=\"Maximum likelihood expectation (MLE) for the allele frequency (not necessarily the same as the AF), for each ALT allele, in the same order as listed\">\n",
      "Warning: Expected at least 2 parts in INFO entry: ID=culprit,Number=1,Type=String,Description=\"The annotation which was the worst performing in the Gaussian mixture model, likely the reason why the variant was filtered out\">\n",
      "After filtering, kept 156 out of 156 Individuals\n",
      "Outputting VCF file...\n",
      "After filtering, kept 155410 out of a possible 631588 Sites\n",
      "Run Time = 205.00 seconds\n",
      "\n",
      "VCFtools - 0.1.16\n",
      "(C) Adam Auton and Anthony Marcketta 2009\n",
      "\n",
      "Parameters as interpreted:\n",
      "\t--vcf results/variant_filtration/smv7_ex_snps.vcf\n",
      "\t--chr SM_V7_MITO\n",
      "\t--recode-INFO-all\n",
      "\t--recode\n",
      "\t--stdout\n",
      "\n",
      "Warning: Expected at least 2 parts in FORMAT entry: ID=PGT,Number=1,Type=String,Description=\"Physical phasing haplotype information, describing how the alternate alleles are phased in relation to one another\">\n",
      "Warning: Expected at least 2 parts in FORMAT entry: ID=PID,Number=1,Type=String,Description=\"Physical phasing ID information, where each unique ID within a given sample (but not across samples) connects records within a phasing group\">\n",
      "Warning: Expected at least 2 parts in FORMAT entry: ID=PL,Number=G,Type=Integer,Description=\"Normalized, Phred-scaled likelihoods for genotypes as defined in the VCF specification\">\n",
      "Warning: Expected at least 2 parts in FORMAT entry: ID=RGQ,Number=1,Type=Integer,Description=\"Unconditional reference genotype confidence, encoded as a phred quality -10*log10 p(genotype call is wrong)\">\n",
      "Warning: Expected at least 2 parts in INFO entry: ID=AC,Number=A,Type=Integer,Description=\"Allele count in genotypes, for each ALT allele, in the same order as listed\">\n",
      "Warning: Expected at least 2 parts in INFO entry: ID=AC,Number=A,Type=Integer,Description=\"Allele count in genotypes, for each ALT allele, in the same order as listed\">\n",
      "Warning: Expected at least 2 parts in INFO entry: ID=AF,Number=A,Type=Float,Description=\"Allele Frequency, for each ALT allele, in the same order as listed\">\n",
      "Warning: Expected at least 2 parts in INFO entry: ID=AF,Number=A,Type=Float,Description=\"Allele Frequency, for each ALT allele, in the same order as listed\">\n",
      "Warning: Expected at least 2 parts in INFO entry: ID=MLEAC,Number=A,Type=Integer,Description=\"Maximum likelihood expectation (MLE) for the allele counts (not necessarily the same as the AC), for each ALT allele, in the same order as listed\">\n",
      "Warning: Expected at least 2 parts in INFO entry: ID=MLEAC,Number=A,Type=Integer,Description=\"Maximum likelihood expectation (MLE) for the allele counts (not necessarily the same as the AC), for each ALT allele, in the same order as listed\">\n",
      "Warning: Expected at least 2 parts in INFO entry: ID=MLEAF,Number=A,Type=Float,Description=\"Maximum likelihood expectation (MLE) for the allele frequency (not necessarily the same as the AF), for each ALT allele, in the same order as listed\">\n",
      "Warning: Expected at least 2 parts in INFO entry: ID=MLEAF,Number=A,Type=Float,Description=\"Maximum likelihood expectation (MLE) for the allele frequency (not necessarily the same as the AF), for each ALT allele, in the same order as listed\">\n",
      "Warning: Expected at least 2 parts in INFO entry: ID=culprit,Number=1,Type=String,Description=\"The annotation which was the worst performing in the Gaussian mixture model, likely the reason why the variant was filtered out\">\n",
      "After filtering, kept 156 out of 156 Individuals\n",
      "Outputting VCF file...\n",
      "After filtering, kept 815 out of a possible 631588 Sites\n",
      "Run Time = 23.00 seconds\n",
      "\n",
      "VCFtools - 0.1.16\n",
      "(C) Adam Auton and Anthony Marcketta 2009\n",
      "\n",
      "Parameters as interpreted:\n",
      "\t--vcf results/variant_filtration/smv7_ex_snps.vcf\n",
      "\t--not-chr SM_V7_1\n",
      "\t--not-chr SM_V7_2\n",
      "\t--not-chr SM_V7_3\n",
      "\t--not-chr SM_V7_4\n",
      "\t--not-chr SM_V7_5\n",
      "\t--not-chr SM_V7_6\n",
      "\t--not-chr SM_V7_7\n",
      "\t--not-chr SM_V7_MITO\n",
      "\t--not-chr SM_V7_ZW\n",
      "\t--recode-INFO-all\n",
      "\t--recode\n",
      "\t--stdout\n",
      "\n",
      "Warning: Expected at least 2 parts in FORMAT entry: ID=PGT,Number=1,Type=String,Description=\"Physical phasing haplotype information, describing how the alternate alleles are phased in relation to one another\">\n",
      "Warning: Expected at least 2 parts in FORMAT entry: ID=PID,Number=1,Type=String,Description=\"Physical phasing ID information, where each unique ID within a given sample (but not across samples) connects records within a phasing group\">\n",
      "Warning: Expected at least 2 parts in FORMAT entry: ID=PL,Number=G,Type=Integer,Description=\"Normalized, Phred-scaled likelihoods for genotypes as defined in the VCF specification\">\n",
      "Warning: Expected at least 2 parts in FORMAT entry: ID=RGQ,Number=1,Type=Integer,Description=\"Unconditional reference genotype confidence, encoded as a phred quality -10*log10 p(genotype call is wrong)\">\n",
      "Warning: Expected at least 2 parts in INFO entry: ID=AC,Number=A,Type=Integer,Description=\"Allele count in genotypes, for each ALT allele, in the same order as listed\">\n",
      "Warning: Expected at least 2 parts in INFO entry: ID=AC,Number=A,Type=Integer,Description=\"Allele count in genotypes, for each ALT allele, in the same order as listed\">\n",
      "Warning: Expected at least 2 parts in INFO entry: ID=AF,Number=A,Type=Float,Description=\"Allele Frequency, for each ALT allele, in the same order as listed\">\n",
      "Warning: Expected at least 2 parts in INFO entry: ID=AF,Number=A,Type=Float,Description=\"Allele Frequency, for each ALT allele, in the same order as listed\">\n",
      "Warning: Expected at least 2 parts in INFO entry: ID=MLEAC,Number=A,Type=Integer,Description=\"Maximum likelihood expectation (MLE) for the allele counts (not necessarily the same as the AC), for each ALT allele, in the same order as listed\">\n",
      "Warning: Expected at least 2 parts in INFO entry: ID=MLEAC,Number=A,Type=Integer,Description=\"Maximum likelihood expectation (MLE) for the allele counts (not necessarily the same as the AC), for each ALT allele, in the same order as listed\">\n",
      "Warning: Expected at least 2 parts in INFO entry: ID=MLEAF,Number=A,Type=Float,Description=\"Maximum likelihood expectation (MLE) for the allele frequency (not necessarily the same as the AF), for each ALT allele, in the same order as listed\">\n",
      "Warning: Expected at least 2 parts in INFO entry: ID=MLEAF,Number=A,Type=Float,Description=\"Maximum likelihood expectation (MLE) for the allele frequency (not necessarily the same as the AF), for each ALT allele, in the same order as listed\">\n",
      "Warning: Expected at least 2 parts in INFO entry: ID=culprit,Number=1,Type=String,Description=\"The annotation which was the worst performing in the Gaussian mixture model, likely the reason why the variant was filtered out\">\n",
      "After filtering, kept 156 out of 156 Individuals\n",
      "Outputting VCF file...\n",
      "After filtering, kept 282 out of a possible 631588 Sites\n",
      "Run Time = 20.00 seconds\n"
     ]
    }
   ],
   "source": [
    "%%bash\n",
    "\n",
    "vcftools \\\n",
    "    --vcf results/variant_filtration/smv7_ex_snps.vcf \\\n",
    "    --chr SM_V7_1 \\\n",
    "    --chr SM_V7_2 \\\n",
    "    --chr SM_V7_3 \\\n",
    "    --chr SM_V7_4 \\\n",
    "    --chr SM_V7_5 \\\n",
    "    --chr SM_V7_6 \\\n",
    "    --chr SM_V7_7 \\\n",
    "    --recode \\\n",
    "    --recode-INFO-all \\\n",
    "    --stdout \\\n",
    "    >results/variant_filtration/smv7_ex_autosomes.vcf\n",
    "    \n",
    "vcftools \\\n",
    "    --vcf results/variant_filtration/smv7_ex_snps.vcf \\\n",
    "    --chr SM_V7_ZW \\\n",
    "    --recode \\\n",
    "    --recode-INFO-all \\\n",
    "    --stdout \\\n",
    "    >results/variant_filtration/smv7_ex_zw.vcf\n",
    "    \n",
    "vcftools \\\n",
    "    --vcf results/variant_filtration/smv7_ex_snps.vcf \\\n",
    "    --chr SM_V7_MITO \\\n",
    "    --recode \\\n",
    "    --recode-INFO-all \\\n",
    "    --stdout \\\n",
    "    >results/variant_filtration/smv7_ex_mito.vcf\n",
    "    \n",
    "vcftools \\\n",
    "    --vcf results/variant_filtration/smv7_ex_snps.vcf \\\n",
    "    --not-chr SM_V7_1 \\\n",
    "    --not-chr SM_V7_2 \\\n",
    "    --not-chr SM_V7_3 \\\n",
    "    --not-chr SM_V7_4 \\\n",
    "    --not-chr SM_V7_5 \\\n",
    "    --not-chr SM_V7_6 \\\n",
    "    --not-chr SM_V7_7 \\\n",
    "    --not-chr SM_V7_MITO \\\n",
    "    --not-chr SM_V7_Z \\\n",
    "    --recode \\\n",
    "    --recode-INFO-all \\\n",
    "    --stdout \\\n",
    "    >results/variant_filtration/smv7_ex_other.vcf"
   ]
  },
  {
   "cell_type": "markdown",
   "metadata": {},
   "source": [
    "filter sites based on ld"
   ]
  },
  {
   "cell_type": "code",
   "execution_count": 24,
   "metadata": {
    "collapsed": true,
    "jupyter": {
     "outputs_hidden": true
    }
   },
   "outputs": [
    {
     "name": "stdout",
     "output_type": "stream",
     "text": [
      "PLINK v1.90b4 64-bit (20 Mar 2017)             www.cog-genomics.org/plink/1.9/\n",
      "(C) 2005-2017 Shaun Purcell, Christopher Chang   GNU General Public License v3\n",
      "Logging to results/variant_filtration/smv7_ex_autosomes_ld.log.\n",
      "Options in effect:\n",
      "  --allow-extra-chr\n",
      "  --double-id\n",
      "  --indep-pairwise 250kb 1 0.20\n",
      "  --out results/variant_filtration/smv7_ex_autosomes_ld\n",
      "  --vcf results/variant_filtration/smv7_ex_autosomes.vcf\n",
      "\n",
      "24158 MB RAM detected; reserving 12079 MB for main workspace.\n",
      "--vcf: results/variant_filtration/smv7_ex_autosomes_ld-temporary.bed +\n",
      "results/variant_filtration/smv7_ex_autosomes_ld-temporary.bim +\n",
      "results/variant_filtration/smv7_ex_autosomes_ld-temporary.fam written.\n",
      "475081 variants loaded from .bim file.\n",
      "156 people (0 males, 0 females, 156 ambiguous) loaded from .fam.\n",
      "Ambiguous sex IDs written to\n",
      "results/variant_filtration/smv7_ex_autosomes_ld.nosex .\n",
      "Using 1 thread (no multithreaded calculations invoked).\n",
      "Before main variant filters, 156 founders and 0 nonfounders present.\n",
      "Calculating allele frequencies... 10111213141516171819202122232425262728293031323334353637383940414243444546474849505152535455565758596061626364656667686970717273747576777879808182838485868788899091929394959697989 done.\n",
      "Total genotyping rate is 0.879418.\n",
      "475081 variants and 156 people pass filters and QC.\n",
      "Note: No phenotypes present.\n",
      "Pruned 150151 variants from chromosome 27, leaving 12068.\n",
      "Pruned 74266 variants from chromosome 28, leaving 6215.\n",
      "Pruned 73043 variants from chromosome 29, leaving 5859.\n",
      "Pruned 69406 variants from chromosome 30, leaving 6175.\n",
      "Pruned 22160 variants from chromosome 31, leaving 2521.\n",
      "Pruned 28774 variants from chromosome 32, leaving 3103.\n",
      "Pruned 19084 variants from chromosome 33, leaving 2256.\n",
      "Pruning complete.  436884 of 475081 variants removed.\n",
      "Marker lists written to\n",
      "results/variant_filtration/smv7_ex_autosomes_ld.prune.in and\n",
      "results/variant_filtration/smv7_ex_autosomes_ld.prune.out .\n"
     ]
    },
    {
     "name": "stderr",
     "output_type": "stream",
     "text": [
      "\n",
      "VCFtools - 0.1.16\n",
      "(C) Adam Auton and Anthony Marcketta 2009\n",
      "\n",
      "Parameters as interpreted:\n",
      "\t--vcf results/variant_filtration/smv7_ex_autosomes.vcf\n",
      "\t--recode-INFO-all\n",
      "\t--recode\n",
      "\t--exclude results/variant_filtration/smv7_ex_autosomes_ld.prune.out\n",
      "\t--stdout\n",
      "\n",
      "Warning: Expected at least 2 parts in FORMAT entry: ID=PGT,Number=1,Type=String,Description=\"Physical phasing haplotype information, describing how the alternate alleles are phased in relation to one another\">\n",
      "Warning: Expected at least 2 parts in FORMAT entry: ID=PID,Number=1,Type=String,Description=\"Physical phasing ID information, where each unique ID within a given sample (but not across samples) connects records within a phasing group\">\n",
      "Warning: Expected at least 2 parts in FORMAT entry: ID=PL,Number=G,Type=Integer,Description=\"Normalized, Phred-scaled likelihoods for genotypes as defined in the VCF specification\">\n",
      "Warning: Expected at least 2 parts in FORMAT entry: ID=RGQ,Number=1,Type=Integer,Description=\"Unconditional reference genotype confidence, encoded as a phred quality -10*log10 p(genotype call is wrong)\">\n",
      "Warning: Expected at least 2 parts in INFO entry: ID=AC,Number=A,Type=Integer,Description=\"Allele count in genotypes, for each ALT allele, in the same order as listed\">\n",
      "Warning: Expected at least 2 parts in INFO entry: ID=AC,Number=A,Type=Integer,Description=\"Allele count in genotypes, for each ALT allele, in the same order as listed\">\n",
      "Warning: Expected at least 2 parts in INFO entry: ID=AF,Number=A,Type=Float,Description=\"Allele Frequency, for each ALT allele, in the same order as listed\">\n",
      "Warning: Expected at least 2 parts in INFO entry: ID=AF,Number=A,Type=Float,Description=\"Allele Frequency, for each ALT allele, in the same order as listed\">\n",
      "Warning: Expected at least 2 parts in INFO entry: ID=MLEAC,Number=A,Type=Integer,Description=\"Maximum likelihood expectation (MLE) for the allele counts (not necessarily the same as the AC), for each ALT allele, in the same order as listed\">\n",
      "Warning: Expected at least 2 parts in INFO entry: ID=MLEAC,Number=A,Type=Integer,Description=\"Maximum likelihood expectation (MLE) for the allele counts (not necessarily the same as the AC), for each ALT allele, in the same order as listed\">\n",
      "Warning: Expected at least 2 parts in INFO entry: ID=MLEAF,Number=A,Type=Float,Description=\"Maximum likelihood expectation (MLE) for the allele frequency (not necessarily the same as the AF), for each ALT allele, in the same order as listed\">\n",
      "Warning: Expected at least 2 parts in INFO entry: ID=MLEAF,Number=A,Type=Float,Description=\"Maximum likelihood expectation (MLE) for the allele frequency (not necessarily the same as the AF), for each ALT allele, in the same order as listed\">\n",
      "Warning: Expected at least 2 parts in INFO entry: ID=culprit,Number=1,Type=String,Description=\"The annotation which was the worst performing in the Gaussian mixture model, likely the reason why the variant was filtered out\">\n",
      "After filtering, kept 156 out of 156 Individuals\n",
      "Outputting VCF file...\n",
      "After filtering, kept 38197 out of a possible 475081 Sites\n",
      "Run Time = 43.00 seconds\n"
     ]
    }
   ],
   "source": [
    "%%bash\n",
    "\n",
    "#find SNPs in LD\n",
    "plink \\\n",
    "    --vcf results/variant_filtration/smv7_ex_autosomes.vcf \\\n",
    "    --double-id \\\n",
    "    --allow-extra-chr \\\n",
    "    --indep-pairwise 250kb 1 0.20 \\\n",
    "    --out results/variant_filtration/smv7_ex_autosomes_ld\n",
    "\n",
    "#extract SNPs in LD\n",
    "vcftools \\\n",
    "    --vcf results/variant_filtration/smv7_ex_autosomes.vcf \\\n",
    "    --exclude results/variant_filtration/smv7_ex_autosomes_ld.prune.out \\\n",
    "    --recode \\\n",
    "    --recode-INFO-all \\\n",
    "    --stdout \\\n",
    "    >results/variant_filtration/smv7_ex_autosomes_ld.vcf"
   ]
  }
 ],
 "metadata": {
  "kernelspec": {
   "display_name": "Python 3 (ipykernel)",
   "language": "python",
   "name": "python3"
  },
  "language_info": {
   "codemirror_mode": {
    "name": "ipython",
    "version": 3
   },
   "file_extension": ".py",
   "mimetype": "text/x-python",
   "name": "python",
   "nbconvert_exporter": "python",
   "pygments_lexer": "ipython3",
   "version": "3.9.6"
  },
  "toc": {
   "base_numbering": 1,
   "nav_menu": {},
   "number_sections": true,
   "sideBar": true,
   "skip_h1_title": false,
   "title_cell": "Table of Contents",
   "title_sidebar": "Contents",
   "toc_cell": false,
   "toc_position": {},
   "toc_section_display": true,
   "toc_window_display": false
  }
 },
 "nbformat": 4,
 "nbformat_minor": 4
}
