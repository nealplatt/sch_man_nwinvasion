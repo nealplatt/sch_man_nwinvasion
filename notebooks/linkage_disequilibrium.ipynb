{
 "cells": [
  {
   "cell_type": "code",
   "execution_count": 2,
   "metadata": {
    "ExecuteTime": {
     "end_time": "2020-11-24T16:24:44.864780Z",
     "start_time": "2020-11-24T16:24:44.855888Z"
    },
    "scrolled": true
   },
   "outputs": [
    {
     "name": "stdout",
     "output_type": "stream",
     "text": [
      "The rpy2.ipython extension is already loaded. To reload it, use:\n",
      "  %reload_ext rpy2.ipython\n"
     ]
    }
   ],
   "source": [
    "import os\n",
    "import shutil\n",
    "import vcf\n",
    "import re\n",
    "import gzip\n",
    "import pandas as pd\n",
    "import yaml\n",
    "import subprocess\n",
    "import matplotlib.pyplot as plt\n",
    "\n",
    "from IPython.display import Image\n",
    "from Bio import SeqIO\n",
    "\n",
    "\n",
    "import rpy2.ipython\n",
    "\n",
    "\n",
    "%load_ext rpy2.ipython\n",
    "\n",
    "os.chdir(\"/master/nplatt/sch_man_nwinvasion\")"
   ]
  },
  {
   "cell_type": "markdown",
   "metadata": {},
   "source": [
    "# Linkage Disequilibrium"
   ]
  },
  {
   "cell_type": "code",
   "execution_count": 3,
   "metadata": {
    "ExecuteTime": {
     "end_time": "2020-11-24T16:24:47.135471Z",
     "start_time": "2020-11-24T16:24:47.095840Z"
    }
   },
   "outputs": [],
   "source": [
    "if not os.path.isdir(\"results/ld\"):\n",
    "    os.mkdir(\"results/ld\")"
   ]
  },
  {
   "cell_type": "markdown",
   "metadata": {},
   "source": [
    "Read in population assignment and create (new) list files"
   ]
  },
  {
   "cell_type": "code",
   "execution_count": 4,
   "metadata": {
    "ExecuteTime": {
     "end_time": "2020-11-24T16:24:50.920655Z",
     "start_time": "2020-11-24T16:24:50.456097Z"
    }
   },
   "outputs": [],
   "source": [
    "with open('data/pop_assign.yml') as yaml_file:\n",
    "    pop_assign = yaml.load(yaml_file, Loader=yaml.FullLoader)\n",
    "\n",
    "for pop in set(pop_assign.values()):\n",
    "    list_file = \"results/ld/{}.list\".format(pop);\n",
    "    if os.path.exists(list_file):\n",
    "        os.remove(list_file)"
   ]
  },
  {
   "cell_type": "code",
   "execution_count": 5,
   "metadata": {
    "ExecuteTime": {
     "end_time": "2020-11-24T16:24:52.250536Z",
     "start_time": "2020-11-24T16:24:51.952036Z"
    }
   },
   "outputs": [],
   "source": [
    "for pop in set(pop_assign.values()):\n",
    "    list_file = \"results/ld/{}.list\".format(pop);\n",
    "    if os.path.exists(list_file):\n",
    "        os.remove(list_file)\n",
    "    \n",
    "for sample in pop_assign:\n",
    "   \n",
    "    pop=pop_assign[sample]\n",
    "    list_file=\"results/ld/\" + pop + \".list\"\n",
    "    with open(list_file, 'a') as filehandle:\n",
    "        filehandle.write(\"{}\\n\".format(sample))"
   ]
  },
  {
   "cell_type": "markdown",
   "metadata": {},
   "source": [
    "## Calculate R2 with VCFtools and Plink"
   ]
  },
  {
   "cell_type": "code",
   "execution_count": null,
   "metadata": {
    "ExecuteTime": {
     "end_time": "2020-11-24T15:59:25.362858Z",
     "start_time": "2020-11-24T15:55:14.508449Z"
    },
    "scrolled": true
   },
   "outputs": [],
   "source": [
    "in_vcf=\"results/variant_filtration/smv7_ex_autosomes.vcf\"\n",
    "\n",
    "for pop in [\"senegal\", \"niger\", \"brazil\", \"tanzania\"]:\n",
    "    in_list = \"results/ld/{}.list\".format(pop)\n",
    "    \n",
    "    for chrom in list(range(1, 8)):\n",
    "        chrom=\"SM_V7_{}\".format(chrom)\n",
    "        out_vcf = \"results/ld/smv7_ex_autosomes_{}_{}.vcf\".format(pop, chrom)\n",
    "        \n",
    "        #get ld chrom vcf\n",
    "        vcf_cmd=\"vcftools --vcf {} --mac 1 --chr {} --keep {} --recode --recode-INFO-all --stdout >{}\".format(in_vcf, chrom, in_list, out_vcf)\n",
    "        !{vcf_cmd}\n",
    "\n",
    "        #convert vcf to plink\n",
    "        plink_prefix=\"results/ld/smv7_ex_autosomes_{}_{}\".format(pop, chrom)\n",
    "        plink_cmd=\"plink --threads 6 --vcf {} --out {} --double-id --recode12 --allow-extra-chr\".format(out_vcf, plink_prefix)\n",
    "        !{plink_cmd}  \n",
    "        \n",
    "        #calculate R2 between all snps on a chr\n",
    "        plink_cmd=\"plink --threads 6 --r2 --file {} --out {} --double-id --allow-extra-chr --ld-window-r2 0.0 --ld-window 1000000 --ld-window-kb 1000\".format(plink_prefix, plink_prefix)\n",
    "        !{plink_cmd}\n"
   ]
  },
  {
   "cell_type": "markdown",
   "metadata": {},
   "source": [
    "Make new files that contain all R2 info from Plink, but also add distance between SNP-A and SNP-B. "
   ]
  },
  {
   "cell_type": "code",
   "execution_count": null,
   "metadata": {
    "ExecuteTime": {
     "end_time": "2020-11-24T16:03:26.997681Z",
     "start_time": "2020-11-24T16:00:15.673694Z"
    }
   },
   "outputs": [],
   "source": [
    "#create tables\n",
    "for pop in [\"senegal\", \"niger\", \"brazil\", \"tanzania\"]:\n",
    "    print(pop)\n",
    "    \n",
    "    in_list = \"results/ld/{}.list\".format(pop)\n",
    "    \n",
    "    #open the outfile that will contain ALL of the data (and add a header)\n",
    "    with open(\"results/ld/smv7_ex_autosomes_{}_dist.tbl\".format(pop), 'w') as merged_all_out_file:\n",
    "        #print header line\n",
    "        header_line=\"chr_a\\tbp_a\\tsnp_a\\tchr_b\\tbp_b\\tsnp_b\\tr2\\ta_b_dist\\n\"\n",
    "        merged_all_out_file.write(header_line)\n",
    "        \n",
    "        #open each chrom specific ld file (and skip the header)\n",
    "        for chrom in list(range(1, 8)):\n",
    "            chrom=\"SM_V7_{}\".format(chrom)\n",
    "            plink_file=\"results/ld/smv7_ex_autosomes_{}_{}.ld\".format(pop, chrom)\n",
    "\n",
    "            with open(plink_file, 'r') as in_file:\n",
    "                next(in_file)\n",
    "\n",
    "                #for each r2 calc\n",
    "                for entry in in_file:\n",
    "                    entry=','.join(entry.split())\n",
    "                    chr_a, bp_a, snp_a, chr_b, bp_b, snp_b, r2 = entry.split(\",\")\n",
    "\n",
    "                    #calculate the distance between the snps\n",
    "                    a_b_dist = int(bp_b) - int(bp_a)\n",
    "                    outline=[chr_a, bp_a, snp_a, chr_b, bp_b, snp_b, r2, str(a_b_dist), \"\\n\"]\n",
    "                    outline=\"\\t\".join(outline)\n",
    "\n",
    "                    #and print to the ALL output file\n",
    "                    merged_all_out_file.write(outline)"
   ]
  },
  {
   "cell_type": "code",
   "execution_count": null,
   "metadata": {
    "ExecuteTime": {
     "end_time": "2020-11-24T16:16:54.754620Z",
     "start_time": "2020-11-24T16:16:53.599764Z"
    }
   },
   "outputs": [],
   "source": [
    "#clean up all of the unused files\n",
    "for pop in [\"senegal\", \"niger\", \"brazil\", \"tanzania\"]:\n",
    "    for chrom in list(range(1, 8)):\n",
    "        chrom=\"SM_V7_{}\".format(chrom)\n",
    "        for ext in [\"ld\", \"map\", \"ped\", \"log\", \"nosex\", \"vcf\"]:\n",
    "            file_to_del=\"results/ld/smv7_ex_autosomes_{}_{}.{}\".format(pop, chrom, ext)\n",
    "            if os.path.exists(file_to_del):\n",
    "                os.remove(file_to_del)"
   ]
  },
  {
   "cell_type": "markdown",
   "metadata": {},
   "source": [
    "## Bin and Smooth mean R2 values (in R)"
   ]
  },
  {
   "cell_type": "code",
   "execution_count": null,
   "metadata": {
    "ExecuteTime": {
     "start_time": "2020-11-24T16:25:12.374Z"
    }
   },
   "outputs": [
    {
     "name": "stderr",
     "output_type": "stream",
     "text": [
      "R[write to console]: Loading required package: spam\n",
      "\n",
      "R[write to console]: Loading required package: dotCall64\n",
      "\n",
      "R[write to console]: Loading required package: grid\n",
      "\n",
      "R[write to console]: Spam version 2.5-1 (2019-12-12) is loaded.\n",
      "Type 'help( Spam)' or 'demo( spam)' for a short introduction \n",
      "and overview of this package.\n",
      "Help for individual functions is also obtained by adding the\n",
      "suffix '.spam' to the function name, e.g. 'help( chol.spam)'.\n",
      "\n",
      "R[write to console]: \n",
      "Attaching package: ‘spam’\n",
      "\n",
      "\n",
      "R[write to console]: The following objects are masked from ‘package:base’:\n",
      "\n",
      "    backsolve, forwardsolve\n",
      "\n",
      "\n",
      "R[write to console]: See https://github.com/NCAR/Fields for\n",
      " an extensive vignette, other supplements and source code \n",
      "\n"
     ]
    },
    {
     "name": "stdout",
     "output_type": "stream",
     "text": [
      "[1] \"senegal\"\n",
      "[1] \"tanzania\"\n"
     ]
    }
   ],
   "source": [
    "%%R\n",
    "#in R generate summary stats for bins and plot\n",
    "\n",
    "library(fields)\n",
    "\n",
    "#500bp bins for 1Mb\n",
    "breaks <- seq( 0, 1e6, 500)\n",
    "\n",
    "centers   <- vector()\n",
    "means     <- vector()\n",
    "pops      <- vector()\n",
    "smootheds <- vector()\n",
    "\n",
    "for (pop in c(\"senegal\", \"tanzania\", \"brazil\", \"niger\")) {\n",
    "    print(pop)\n",
    "    \n",
    "    #read in lt r2 table from plink\n",
    "    ld_table <- read.table(paste(\"results/ld/smv7_ex_autosomes_\", pop, \"_dist.tbl\", sep=\"\"), \n",
    "                           header=TRUE)\n",
    "    \n",
    "    #bin r2 values and calculate stats\n",
    "    ld_binned <- stats.bin(ld_table$a_b_dist, ld_table$r2, breaks = breaks)\n",
    "    \n",
    "    #created regression line\n",
    "    loessMod  <- loess(ld_binned$stats[\"mean\",] ~ ld_binned$centers, span=0.50)\n",
    "    smoothed  <- predict(loessMod)\n",
    "    \n",
    "    #append all data to vectors\n",
    "    centers   <- append(centers, ld_binned$centers)\n",
    "    means     <- append(means, ld_binned$stats[\"mean\",])\n",
    "    pops      <- append(pops, rep(pop, length(ld_binned$centers)))\n",
    "    smootheds <- append(smootheds, smoothed)\n",
    "}    \n",
    "\n",
    "#build the dataframe and save to csv\n",
    "r2_df <- data.frame(centers, means, pops, smootheds)\n",
    "write.csv(r2_df, file = paste(\"results/ld/ld_dist_binned_smoothed.csv\", sep=\"\") ,row.names=FALSE)"
   ]
  },
  {
   "cell_type": "code",
   "execution_count": null,
   "metadata": {
    "ExecuteTime": {
     "start_time": "2020-11-24T16:24:02.064Z"
    }
   },
   "outputs": [],
   "source": [
    "#confert to a proper table (with the far superior power of python)\n",
    "df = pd.read_csv ('results/ld/ld_dist_binned_smoothed.csv')\n",
    "df = df.pivot(index='pops', columns='centers', values='smootheds')\n",
    "df = df.transpose()\n",
    "\n",
    "csv_file = \"results/ld/ld_dist_binned_smoothed_table.csv\"\n",
    "df.to_csv(csv_file, index=False, header=True, mode='w')"
   ]
  },
  {
   "cell_type": "code",
   "execution_count": null,
   "metadata": {
    "ExecuteTime": {
     "start_time": "2020-11-24T16:24:06.667Z"
    }
   },
   "outputs": [],
   "source": [
    "df"
   ]
  },
  {
   "cell_type": "markdown",
   "metadata": {},
   "source": [
    "## Plot the results"
   ]
  },
  {
   "cell_type": "code",
   "execution_count": null,
   "metadata": {
    "ExecuteTime": {
     "end_time": "2020-11-24T14:44:12.337377Z",
     "start_time": "2020-11-24T14:44:12.046879Z"
    }
   },
   "outputs": [],
   "source": [
    "x=list(df.index)\n",
    "\n",
    "plt.scatter(x, df[\"brazil\"], c=\"red\")\n",
    "plt.scatter(x, df[\"tanzania\"], c=\"blue\")\n",
    "plt.scatter(x, df[\"niger\"], c=\"green\")\n",
    "plt.scatter(x, df[\"senegal\"], c=\"black\")\n",
    "\n",
    "\n",
    "#plt.plot(dates, values)\n",
    "plt.show()\n",
    "\n",
    "#smaller points\n",
    "#lines between points\n",
    "#legend (populations)\n",
    "#x axis title \"Distance between SNPs (Kb)\"\n",
    "#y axis title \"Mean R2\"\n",
    "#main title LD Decay\n",
    "#save image as png and svg svg_img  results/ld/ld_decay.svg"
   ]
  }
 ],
 "metadata": {
  "kernelspec": {
   "display_name": "Python 3",
   "language": "python",
   "name": "python3"
  },
  "language_info": {
   "codemirror_mode": {
    "name": "ipython",
    "version": 3
   },
   "file_extension": ".py",
   "mimetype": "text/x-python",
   "name": "python",
   "nbconvert_exporter": "python",
   "pygments_lexer": "ipython3",
   "version": "3.8.5"
  },
  "toc": {
   "base_numbering": 1,
   "nav_menu": {},
   "number_sections": true,
   "sideBar": true,
   "skip_h1_title": false,
   "title_cell": "Table of Contents",
   "title_sidebar": "Contents",
   "toc_cell": false,
   "toc_position": {},
   "toc_section_display": true,
   "toc_window_display": false
  }
 },
 "nbformat": 4,
 "nbformat_minor": 2
}
