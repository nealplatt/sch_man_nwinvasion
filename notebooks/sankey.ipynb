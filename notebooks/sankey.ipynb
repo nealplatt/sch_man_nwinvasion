{
 "cells": [
  {
   "cell_type": "code",
   "execution_count": null,
   "metadata": {
    "ExecuteTime": {
     "end_time": "2021-02-08T21:03:39.813473Z",
     "start_time": "2021-02-08T21:03:21.353964Z"
    }
   },
   "outputs": [],
   "source": [
    "import matplotlib\n",
    "#matplotlib.use('Agg')\n",
    "import matplotlib.pyplot as plt\n",
    "import numpy as np\n",
    "import pandas as pd\n",
    "import seaborn as sns"
   ]
  },
  {
   "cell_type": "code",
   "execution_count": 12,
   "metadata": {
    "ExecuteTime": {
     "end_time": "2021-02-08T21:05:01.418807Z",
     "start_time": "2021-02-08T21:04:32.919210Z"
    }
   },
   "outputs": [
    {
     "name": "stdout",
     "output_type": "stream",
     "text": [
      "Collecting pySankey\n",
      "  Using cached pySankey-0.0.1-py3-none-any.whl (4.9 kB)\n",
      "Installing collected packages: pySankey\n",
      "Successfully installed pySankey-0.0.1\n"
     ]
    }
   ],
   "source": [
    "! pip install pySankey"
   ]
  },
  {
   "cell_type": "code",
   "execution_count": 23,
   "metadata": {
    "ExecuteTime": {
     "end_time": "2021-02-08T21:28:07.131840Z",
     "start_time": "2021-02-08T21:28:07.128243Z"
    }
   },
   "outputs": [],
   "source": [
    "from pySankey import sankey"
   ]
  },
  {
   "cell_type": "code",
   "execution_count": 98,
   "metadata": {
    "ExecuteTime": {
     "end_time": "2021-02-08T22:11:02.487359Z",
     "start_time": "2021-02-08T22:11:02.357087Z"
    }
   },
   "outputs": [
    {
     "data": {
      "text/html": [
       "<div>\n",
       "<style scoped>\n",
       "    .dataframe tbody tr th:only-of-type {\n",
       "        vertical-align: middle;\n",
       "    }\n",
       "\n",
       "    .dataframe tbody tr th {\n",
       "        vertical-align: top;\n",
       "    }\n",
       "\n",
       "    .dataframe thead th {\n",
       "        text-align: right;\n",
       "    }\n",
       "</style>\n",
       "<table border=\"1\" class=\"dataframe\">\n",
       "  <thead>\n",
       "    <tr style=\"text-align: right;\">\n",
       "      <th></th>\n",
       "      <th>disembark</th>\n",
       "      <th>embark</th>\n",
       "      <th>count</th>\n",
       "    </tr>\n",
       "  </thead>\n",
       "  <tbody>\n",
       "    <tr>\n",
       "      <th>0</th>\n",
       "      <td>amazonia</td>\n",
       "      <td>bight_of_benin</td>\n",
       "      <td>1947</td>\n",
       "    </tr>\n",
       "    <tr>\n",
       "      <th>1</th>\n",
       "      <td>amazonia</td>\n",
       "      <td>bight_of_biafra</td>\n",
       "      <td>2533</td>\n",
       "    </tr>\n",
       "    <tr>\n",
       "      <th>2</th>\n",
       "      <td>amazonia</td>\n",
       "      <td>se_africa_ and_indian_ocean_ isls</td>\n",
       "      <td>1553</td>\n",
       "    </tr>\n",
       "    <tr>\n",
       "      <th>3</th>\n",
       "      <td>amazonia</td>\n",
       "      <td>senegambia</td>\n",
       "      <td>83559</td>\n",
       "    </tr>\n",
       "    <tr>\n",
       "      <th>4</th>\n",
       "      <td>amazonia</td>\n",
       "      <td>sierra_leone</td>\n",
       "      <td>42</td>\n",
       "    </tr>\n",
       "    <tr>\n",
       "      <th>5</th>\n",
       "      <td>amazonia</td>\n",
       "      <td>wc_africa_st_helena</td>\n",
       "      <td>55515</td>\n",
       "    </tr>\n",
       "    <tr>\n",
       "      <th>6</th>\n",
       "      <td>amazonia</td>\n",
       "      <td>other</td>\n",
       "      <td>6225</td>\n",
       "    </tr>\n",
       "    <tr>\n",
       "      <th>7</th>\n",
       "      <td>bahia</td>\n",
       "      <td>bight_of_benin</td>\n",
       "      <td>722319</td>\n",
       "    </tr>\n",
       "    <tr>\n",
       "      <th>8</th>\n",
       "      <td>bahia</td>\n",
       "      <td>bight_of_biafra</td>\n",
       "      <td>67715</td>\n",
       "    </tr>\n",
       "    <tr>\n",
       "      <th>9</th>\n",
       "      <td>bahia</td>\n",
       "      <td>gold_coast</td>\n",
       "      <td>10976</td>\n",
       "    </tr>\n",
       "    <tr>\n",
       "      <th>10</th>\n",
       "      <td>bahia</td>\n",
       "      <td>se_africa_ and_indian_ocean_ isls</td>\n",
       "      <td>18019</td>\n",
       "    </tr>\n",
       "    <tr>\n",
       "      <th>11</th>\n",
       "      <td>bahia</td>\n",
       "      <td>senegambia</td>\n",
       "      <td>5260</td>\n",
       "    </tr>\n",
       "    <tr>\n",
       "      <th>12</th>\n",
       "      <td>bahia</td>\n",
       "      <td>sierra_leone</td>\n",
       "      <td>1829</td>\n",
       "    </tr>\n",
       "    <tr>\n",
       "      <th>13</th>\n",
       "      <td>bahia</td>\n",
       "      <td>wc_africa_st_helena</td>\n",
       "      <td>455896</td>\n",
       "    </tr>\n",
       "    <tr>\n",
       "      <th>14</th>\n",
       "      <td>bahia</td>\n",
       "      <td>windward_coast</td>\n",
       "      <td>2458</td>\n",
       "    </tr>\n",
       "    <tr>\n",
       "      <th>15</th>\n",
       "      <td>bahia</td>\n",
       "      <td>other</td>\n",
       "      <td>62842</td>\n",
       "    </tr>\n",
       "    <tr>\n",
       "      <th>16</th>\n",
       "      <td>pernambuco</td>\n",
       "      <td>asia_e_africa</td>\n",
       "      <td>490</td>\n",
       "    </tr>\n",
       "    <tr>\n",
       "      <th>17</th>\n",
       "      <td>pernambuco</td>\n",
       "      <td>bight_of_benin</td>\n",
       "      <td>66232</td>\n",
       "    </tr>\n",
       "    <tr>\n",
       "      <th>18</th>\n",
       "      <td>pernambuco</td>\n",
       "      <td>bight_of_biafra</td>\n",
       "      <td>23346</td>\n",
       "    </tr>\n",
       "    <tr>\n",
       "      <th>19</th>\n",
       "      <td>pernambuco</td>\n",
       "      <td>gold_coast</td>\n",
       "      <td>28962</td>\n",
       "    </tr>\n",
       "    <tr>\n",
       "      <th>20</th>\n",
       "      <td>pernambuco</td>\n",
       "      <td>se_africa_ and_indian_ocean_ isls</td>\n",
       "      <td>14316</td>\n",
       "    </tr>\n",
       "    <tr>\n",
       "      <th>21</th>\n",
       "      <td>pernambuco</td>\n",
       "      <td>senegambia</td>\n",
       "      <td>4074</td>\n",
       "    </tr>\n",
       "    <tr>\n",
       "      <th>22</th>\n",
       "      <td>pernambuco</td>\n",
       "      <td>wc_africa_st_helena</td>\n",
       "      <td>327033</td>\n",
       "    </tr>\n",
       "    <tr>\n",
       "      <th>23</th>\n",
       "      <td>pernambuco</td>\n",
       "      <td>other</td>\n",
       "      <td>13198</td>\n",
       "    </tr>\n",
       "    <tr>\n",
       "      <th>24</th>\n",
       "      <td>se_brazil_riodjan</td>\n",
       "      <td>bight_of_benin</td>\n",
       "      <td>19894</td>\n",
       "    </tr>\n",
       "    <tr>\n",
       "      <th>25</th>\n",
       "      <td>se_brazil_riodjan</td>\n",
       "      <td>bight_of_biafra</td>\n",
       "      <td>17576</td>\n",
       "    </tr>\n",
       "    <tr>\n",
       "      <th>26</th>\n",
       "      <td>se_brazil_riodjan</td>\n",
       "      <td>gold_coast</td>\n",
       "      <td>3766</td>\n",
       "    </tr>\n",
       "    <tr>\n",
       "      <th>27</th>\n",
       "      <td>se_brazil_riodjan</td>\n",
       "      <td>se_africa_ and_indian_ocean_ isls</td>\n",
       "      <td>232821</td>\n",
       "    </tr>\n",
       "    <tr>\n",
       "      <th>28</th>\n",
       "      <td>se_brazil_riodjan</td>\n",
       "      <td>senegambia</td>\n",
       "      <td>2264</td>\n",
       "    </tr>\n",
       "    <tr>\n",
       "      <th>29</th>\n",
       "      <td>se_brazil_riodjan</td>\n",
       "      <td>sierra_leone</td>\n",
       "      <td>1396</td>\n",
       "    </tr>\n",
       "    <tr>\n",
       "      <th>30</th>\n",
       "      <td>se_brazil_riodjan</td>\n",
       "      <td>wc_africa_st_helena</td>\n",
       "      <td>1156304</td>\n",
       "    </tr>\n",
       "    <tr>\n",
       "      <th>31</th>\n",
       "      <td>se_brazil_riodjan</td>\n",
       "      <td>other</td>\n",
       "      <td>109097</td>\n",
       "    </tr>\n",
       "    <tr>\n",
       "      <th>32</th>\n",
       "      <td>other</td>\n",
       "      <td>wc_africa_st_helena</td>\n",
       "      <td>452</td>\n",
       "    </tr>\n",
       "  </tbody>\n",
       "</table>\n",
       "</div>"
      ],
      "text/plain": [
       "            disembark                             embark    count\n",
       "0            amazonia                     bight_of_benin     1947\n",
       "1            amazonia                    bight_of_biafra     2533\n",
       "2            amazonia  se_africa_ and_indian_ocean_ isls     1553\n",
       "3            amazonia                         senegambia    83559\n",
       "4            amazonia                       sierra_leone       42\n",
       "5            amazonia                wc_africa_st_helena    55515\n",
       "6            amazonia                              other     6225\n",
       "7               bahia                     bight_of_benin   722319\n",
       "8               bahia                    bight_of_biafra    67715\n",
       "9               bahia                         gold_coast    10976\n",
       "10              bahia  se_africa_ and_indian_ocean_ isls    18019\n",
       "11              bahia                         senegambia     5260\n",
       "12              bahia                       sierra_leone     1829\n",
       "13              bahia                wc_africa_st_helena   455896\n",
       "14              bahia                     windward_coast     2458\n",
       "15              bahia                              other    62842\n",
       "16         pernambuco                      asia_e_africa      490\n",
       "17         pernambuco                     bight_of_benin    66232\n",
       "18         pernambuco                    bight_of_biafra    23346\n",
       "19         pernambuco                         gold_coast    28962\n",
       "20         pernambuco  se_africa_ and_indian_ocean_ isls    14316\n",
       "21         pernambuco                         senegambia     4074\n",
       "22         pernambuco                wc_africa_st_helena   327033\n",
       "23         pernambuco                              other    13198\n",
       "24  se_brazil_riodjan                     bight_of_benin    19894\n",
       "25  se_brazil_riodjan                    bight_of_biafra    17576\n",
       "26  se_brazil_riodjan                         gold_coast     3766\n",
       "27  se_brazil_riodjan  se_africa_ and_indian_ocean_ isls   232821\n",
       "28  se_brazil_riodjan                         senegambia     2264\n",
       "29  se_brazil_riodjan                       sierra_leone     1396\n",
       "30  se_brazil_riodjan                wc_africa_st_helena  1156304\n",
       "31  se_brazil_riodjan                              other   109097\n",
       "32              other                wc_africa_st_helena      452"
      ]
     },
     "execution_count": 98,
     "metadata": {},
     "output_type": "execute_result"
    }
   ],
   "source": [
    "traffic_data = [ [ \"amazonia\", \"bight_of_benin\", 1947],\n",
    "                 [ \"amazonia\", \"bight_of_biafra\", 2533],\n",
    "                 [ \"amazonia\", \"se_africa_ and_indian_ocean_ isls\", 1553],\n",
    "                 [ \"amazonia\", \"senegambia\", 83559],\n",
    "                 [ \"amazonia\", \"sierra_leone\", 42],\n",
    "                 [ \"amazonia\", \"wc_africa_st_helena\", 55515],\n",
    "                 [ \"amazonia\", \"other\", 6225],\n",
    "                 [ \"bahia\", \"bight_of_benin\", 722319],\n",
    "                 [ \"bahia\", \"bight_of_biafra\", 67715],\n",
    "                 [ \"bahia\", \"gold_coast\", 10976],\n",
    "                 [ \"bahia\", \"se_africa_ and_indian_ocean_ isls\", 18019],\n",
    "                 [ \"bahia\", \"senegambia\", 5260],\n",
    "                 [ \"bahia\", \"sierra_leone\", 1829],\n",
    "                 [ \"bahia\", \"wc_africa_st_helena\", 455896],\n",
    "                 [ \"bahia\", \"windward_coast\", 2458],\n",
    "                 [ \"bahia\", \"other\", 62842],\n",
    "                 [ \"pernambuco\", \"asia_e_africa\", 490],\n",
    "                 [ \"pernambuco\", \"bight_of_benin\", 66232],\n",
    "                 [ \"pernambuco\",        \"bight_of_biafra\", 23346],\n",
    "                 [ \"pernambuco\",        \"gold_coast\", 28962],\n",
    "                 [ \"pernambuco\",        \"se_africa_ and_indian_ocean_ isls\", 14316],\n",
    "                 [ \"pernambuco\",        \"senegambia\", 4074],\n",
    "                 [ \"pernambuco\",        \"wc_africa_st_helena\", 327033],\n",
    "                 [ \"pernambuco\",        \"other\", 13198],\n",
    "                 [ \"se_brazil_riodjan\", \"bight_of_benin\", 19894],\n",
    "                 [ \"se_brazil_riodjan\", \"bight_of_biafra\", 17576],\n",
    "                 [ \"se_brazil_riodjan\", \"gold_coast\", 3766],\n",
    "                 [ \"se_brazil_riodjan\", \"se_africa_ and_indian_ocean_ isls\", 232821],\n",
    "                 [ \"se_brazil_riodjan\", \"senegambia\", 2264],\n",
    "                 [ \"se_brazil_riodjan\", \"sierra_leone\", 1396],\n",
    "                 [ \"se_brazil_riodjan\", \"wc_africa_st_helena\", 1156304],\n",
    "                 [ \"se_brazil_riodjan\", \"other\", 109097],\n",
    "                 [ \"other\", \"wc_africa_st_helena\", 452]]\n",
    "\n",
    "\n",
    "df = pd.DataFrame(traffic_data, columns = ['disembark', 'embark', 'count'])\n",
    "df"
   ]
  },
  {
   "cell_type": "code",
   "execution_count": 84,
   "metadata": {
    "ExecuteTime": {
     "end_time": "2021-02-08T22:06:35.458174Z",
     "start_time": "2021-02-08T22:06:35.449627Z"
    }
   },
   "outputs": [],
   "source": [
    "traffic_data = [ [ \"amazonia\", \"bight_of_benin\", 1947],\n",
    "                 [ \"amazonia\", \"bight_of_biafra\", 2533],\n",
    "                 [ \"amazonia\", \"se_africa_ and_indian_ocean_ isls\", 1553],\n",
    "                 [ \"amazonia\", \"senegambia\", 83559],\n",
    "                 [ \"amazonia\", \"sierra_leone\", 42],\n",
    "                 [ \"amazonia\", \"wc_africa_st_helena\", 55515],\n",
    "                 [ \"amazonia\", \"other\", 6225] ]\n",
    "df = pd.DataFrame(traffic_data, columns = ['disembark', 'embark', 'count'])\n"
   ]
  },
  {
   "cell_type": "code",
   "execution_count": 89,
   "metadata": {
    "ExecuteTime": {
     "end_time": "2021-02-08T22:08:33.729258Z",
     "start_time": "2021-02-08T22:08:33.723931Z"
    }
   },
   "outputs": [
    {
     "name": "stdout",
     "output_type": "stream",
     "text": [
      "Help on function sankey in pySankey.sankey:\n",
      "\n",
      "pySankey.sankey.sankey = sankey(left, right, leftWeight=None, rightWeight=None, colorDict=None, leftLabels=None, rightLabels=None, aspect=4, rightColor=False, fontsize=14, figure_name=None, closePlot=False)\n",
      "    Make Sankey Diagram showing flow from left-->right\n",
      "    \n",
      "    Inputs:\n",
      "        left = NumPy array of object labels on the left of the diagram\n",
      "        right = NumPy array of corresponding labels on the right of the diagram\n",
      "            len(right) == len(left)\n",
      "        leftWeight = NumPy array of weights for each strip starting from the\n",
      "            left of the diagram, if not specified 1 is assigned\n",
      "        rightWeight = NumPy array of weights for each strip starting from the\n",
      "            right of the diagram, if not specified the corresponding leftWeight\n",
      "            is assigned\n",
      "        colorDict = Dictionary of colors to use for each label\n",
      "            {'label':'color'}\n",
      "        leftLabels = order of the left labels in the diagram\n",
      "        rightLabels = order of the right labels in the diagram\n",
      "        aspect = vertical extent of the diagram in units of horizontal extent\n",
      "        rightColor = If true, each strip in the diagram will be be colored\n",
      "                    according to its left label\n",
      "    Ouput:\n",
      "        None\n",
      "\n"
     ]
    }
   ],
   "source": [
    "help(\"pySankey.sankey.sankey\")\n"
   ]
  },
  {
   "cell_type": "code",
   "execution_count": null,
   "metadata": {},
   "outputs": [],
   "source": [
    "import sys\n",
    "sys.path.append(\"/master/nplatt/sch_man_nwinvasion/code/pySankey\")\n",
    "import my_module"
   ]
  },
  {
   "cell_type": "code",
   "execution_count": 121,
   "metadata": {
    "ExecuteTime": {
     "end_time": "2021-02-08T22:25:21.343900Z",
     "start_time": "2021-02-08T22:25:20.836569Z"
    }
   },
   "outputs": [
    {
     "data": {
      "image/png": "[encoded data removed]",
      "text/plain": [
       "<Figure size 432x432 with 1 Axes>"
      ]
     },
     "metadata": {
      "needs_background": "light"
     },
     "output_type": "display_data"
    }
   ],
   "source": [
    "x=sankey.sankey( left        = df['embark'], \n",
    "               right       = df['disembark'], \n",
    "               leftWeight = df['count']\n",
    "             )\n"
   ]
  },
  {
   "cell_type": "code",
   "execution_count": 123,
   "metadata": {
    "ExecuteTime": {
     "end_time": "2021-02-08T22:25:39.372023Z",
     "start_time": "2021-02-08T22:25:39.367780Z"
    }
   },
   "outputs": [
    {
     "name": "stdout",
     "output_type": "stream",
     "text": [
      "None\n"
     ]
    }
   ],
   "source": [
    "print(x)"
   ]
  },
  {
   "cell_type": "code",
   "execution_count": 113,
   "metadata": {
    "ExecuteTime": {
     "end_time": "2021-02-08T22:20:22.437075Z",
     "start_time": "2021-02-08T22:20:22.432191Z"
    }
   },
   "outputs": [
    {
     "name": "stdout",
     "output_type": "stream",
     "text": [
      "Help on function sankey in pySankey.sankey:\n",
      "\n",
      "pySankey.sankey.sankey = sankey(left, right, leftWeight=None, rightWeight=None, colorDict=None, leftLabels=None, rightLabels=None, aspect=4, rightColor=False, fontsize=14, figure_name=None, closePlot=False)\n",
      "    Make Sankey Diagram showing flow from left-->right\n",
      "    \n",
      "    Inputs:\n",
      "        left = NumPy array of object labels on the left of the diagram\n",
      "        right = NumPy array of corresponding labels on the right of the diagram\n",
      "            len(right) == len(left)\n",
      "        leftWeight = NumPy array of weights for each strip starting from the\n",
      "            left of the diagram, if not specified 1 is assigned\n",
      "        rightWeight = NumPy array of weights for each strip starting from the\n",
      "            right of the diagram, if not specified the corresponding leftWeight\n",
      "            is assigned\n",
      "        colorDict = Dictionary of colors to use for each label\n",
      "            {'label':'color'}\n",
      "        leftLabels = order of the left labels in the diagram\n",
      "        rightLabels = order of the right labels in the diagram\n",
      "        aspect = vertical extent of the diagram in units of horizontal extent\n",
      "        rightColor = If true, each strip in the diagram will be be colored\n",
      "                    according to its left label\n",
      "    Ouput:\n",
      "        None\n",
      "\n"
     ]
    }
   ],
   "source": [
    "help(\"pySankey.sankey.sankey\")\n"
   ]
  },
  {
   "cell_type": "code",
   "execution_count": 33,
   "metadata": {
    "ExecuteTime": {
     "end_time": "2021-02-08T21:35:59.104833Z",
     "start_time": "2021-02-08T21:35:59.083506Z"
    }
   },
   "outputs": [
    {
     "ename": "TypeError",
     "evalue": "'module' object is not callable",
     "output_type": "error",
     "traceback": [
      "\u001b[0;31m---------------------------------------------------------------------------\u001b[0m",
      "\u001b[0;31mTypeError\u001b[0m                                 Traceback (most recent call last)",
      "\u001b[0;32m<ipython-input-33-04290c4d2076>\u001b[0m in \u001b[0;36m<module>\u001b[0;34m()\u001b[0m\n\u001b[1;32m      8\u001b[0m         \u001b[0maspect\u001b[0m\u001b[0;34m=\u001b[0m\u001b[0;36m20\u001b[0m\u001b[0;34m,\u001b[0m\u001b[0;34m\u001b[0m\u001b[0;34m\u001b[0m\u001b[0m\n\u001b[1;32m      9\u001b[0m         \u001b[0mfontsize\u001b[0m    \u001b[0;34m=\u001b[0m \u001b[0;36m20\u001b[0m\u001b[0;34m,\u001b[0m\u001b[0;34m\u001b[0m\u001b[0;34m\u001b[0m\u001b[0m\n\u001b[0;32m---> 10\u001b[0;31m         \u001b[0mfigureName\u001b[0m  \u001b[0;34m=\u001b[0m \u001b[0;34m\"sankeyd\"\u001b[0m\u001b[0;34m\u001b[0m\u001b[0;34m\u001b[0m\u001b[0m\n\u001b[0m\u001b[1;32m     11\u001b[0m )\n",
      "\u001b[0;31mTypeError\u001b[0m: 'module' object is not callable"
     ]
    }
   ],
   "source": [
    "\n",
    "\n",
    "pySankey.sankey( left        = df['disembark'], \n",
    "        right       = df['embark'], \n",
    "        rightWeight = df['count'], \n",
    "        aspect=20,\n",
    "        fontsize    = 20, \n",
    "        figureName  = \"sankeyd\"\n",
    ")"
   ]
  },
  {
   "cell_type": "code",
   "execution_count": 8,
   "metadata": {
    "ExecuteTime": {
     "end_time": "2021-02-08T20:51:02.230886Z",
     "start_time": "2021-02-08T20:51:01.965187Z"
    }
   },
   "outputs": [
    {
     "ename": "NameError",
     "evalue": "name 'sankey' is not defined",
     "output_type": "error",
     "traceback": [
      "\u001b[0;31m---------------------------------------------------------------------------\u001b[0m",
      "\u001b[0;31mNameError\u001b[0m                                 Traceback (most recent call last)",
      "\u001b[0;32m<ipython-input-8-1b80a4c01f8e>\u001b[0m in \u001b[0;36m<module>\u001b[0;34m()\u001b[0m\n\u001b[1;32m      8\u001b[0m \u001b[0;34m\u001b[0m\u001b[0m\n\u001b[1;32m      9\u001b[0m \u001b[0mplt\u001b[0m\u001b[0;34m.\u001b[0m\u001b[0mfigure\u001b[0m\u001b[0;34m(\u001b[0m\u001b[0mfigsize\u001b[0m\u001b[0;34m=\u001b[0m\u001b[0;34m(\u001b[0m\u001b[0;36m12\u001b[0m\u001b[0;34m,\u001b[0m \u001b[0;36m3\u001b[0m\u001b[0;34m)\u001b[0m\u001b[0;34m)\u001b[0m\u001b[0;34m\u001b[0m\u001b[0;34m\u001b[0m\u001b[0m\n\u001b[0;32m---> 10\u001b[0;31m \u001b[0msankey\u001b[0m\u001b[0;34m(\u001b[0m\u001b[0mdata\u001b[0m\u001b[0;34m,\u001b[0m \u001b[0mcmap\u001b[0m\u001b[0;34m=\u001b[0m\u001b[0mplt\u001b[0m\u001b[0;34m.\u001b[0m\u001b[0mget_cmap\u001b[0m\u001b[0;34m(\u001b[0m\u001b[0;34m'viridis'\u001b[0m\u001b[0;34m)\u001b[0m\u001b[0;34m)\u001b[0m\u001b[0;34m\u001b[0m\u001b[0;34m\u001b[0m\u001b[0m\n\u001b[0m",
      "\u001b[0;31mNameError\u001b[0m: name 'sankey' is not defined"
     ]
    },
    {
     "data": {
      "text/plain": [
       "<Figure size 864x216 with 0 Axes>"
      ]
     },
     "metadata": {},
     "output_type": "display_data"
    }
   ],
   "source": [
    "data = pd.DataFrame([[1, 'a', 1, 'I', 1, 'success'],\n",
    "                     [2, 'b', 2, 'III', 2, 'discard'],\n",
    "                     [1, 'b', 1, 'II', 2, 'success'],\n",
    "                     [1, 'c', 1, 'II', 2, 'discard'],\n",
    "                     [2.5, 'a', 2, 'IV', 1, 'discard'],\n",
    "                     [2, 'a', 1, 'I', 1, 'success']],\n",
    "                    columns=['Weight', 'First', 'Then', 'After', 'Finally', 'Outcome'])\n",
    "\n",
    "plt.figure(figsize=(12, 3))\n",
    "sankey(data, cmap=plt.get_cmap('viridis'))"
   ]
  }
 ],
 "metadata": {
  "kernelspec": {
   "display_name": "Python 3",
   "language": "python",
   "name": "python3"
  },
  "language_info": {
   "codemirror_mode": {
    "name": "ipython",
    "version": 3
   },
   "file_extension": ".py",
   "mimetype": "text/x-python",
   "name": "python",
   "nbconvert_exporter": "python",
   "pygments_lexer": "ipython3",
   "version": "3.7.8"
  }
 },
 "nbformat": 4,
 "nbformat_minor": 4
}
