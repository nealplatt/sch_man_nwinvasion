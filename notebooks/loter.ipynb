{
 "cells": [
  {
   "cell_type": "markdown",
   "id": "prerequisite-edinburgh",
   "metadata": {},
   "source": [
    "Dias-Alves, T., Mairal, J., Blum, M.G.B., 2018. Loter: A Software Package to Infer Local Ancestry for a Wide Range of Species. Mol Biol Evol 35, 2318–2326. https://doi.org/10.1093/molbev/msy126"
   ]
  },
  {
   "cell_type": "code",
   "execution_count": 1,
   "id": "wrong-census",
   "metadata": {
    "ExecuteTime": {
     "end_time": "2021-02-15T16:42:03.570214Z",
     "start_time": "2021-02-15T16:41:57.239311Z"
    }
   },
   "outputs": [],
   "source": [
    "import os\n",
    "import allel\n",
    "import numpy as np\n",
    "import loter.locanc.local_ancestry as lc"
   ]
  },
  {
   "cell_type": "code",
   "execution_count": 5,
   "id": "unexpected-ethics",
   "metadata": {
    "ExecuteTime": {
     "end_time": "2021-02-15T16:57:56.714102Z",
     "start_time": "2021-02-15T16:57:56.710511Z"
    }
   },
   "outputs": [],
   "source": [
    "os.chdir(\"/master/nplatt/sch_man_nwinvasion/results/loter\")"
   ]
  },
  {
   "cell_type": "markdown",
   "id": "bibliographic-choir",
   "metadata": {},
   "source": [
    "`vcf2npy` convert a VCF File to a numpy matrix with values 0, 1 and 2.\n",
    "\n",
    "This is a function provided by the `loter`'s example notebook"
   ]
  },
  {
   "cell_type": "code",
   "execution_count": 6,
   "id": "alpha-decrease",
   "metadata": {
    "ExecuteTime": {
     "end_time": "2021-02-15T16:57:58.807107Z",
     "start_time": "2021-02-15T16:57:58.801264Z"
    }
   },
   "outputs": [],
   "source": [
    "def vcf2npy(vcfpath):\n",
    "    callset = allel.read_vcf(vcfpath)\n",
    "    haplotypes_1 = callset['calldata/GT'][:,:,0]\n",
    "    haplotypes_2 = callset['calldata/GT'][:,:,1]\n",
    "    \n",
    "    m, n = haplotypes_1.shape\n",
    "    mat_haplo = np.empty((2*n, m))\n",
    "    mat_haplo[::2] = haplotypes_1.T\n",
    "    mat_haplo[1::2] = haplotypes_2.T\n",
    "    \n",
    "    return mat_haplo.astype(np.uint8)"
   ]
  },
  {
   "cell_type": "markdown",
   "id": "arabic-entertainment",
   "metadata": {},
   "source": [
    "Read in vcf to numpy array of haplotypes (columns = variants, rows = haplotypes)"
   ]
  },
  {
   "cell_type": "code",
   "execution_count": 7,
   "id": "complicated-closure",
   "metadata": {
    "ExecuteTime": {
     "end_time": "2021-02-15T16:58:59.647517Z",
     "start_time": "2021-02-15T16:58:48.400719Z"
    }
   },
   "outputs": [],
   "source": [
    "brazil_hs   = vcf2npy(\"auto_beagle_loter_brazil_ref.vcf\")\n",
    "rodhaini_hs = vcf2npy(\"auto_beagle_loter_rodhaini_ref.vcf\")\n",
    "query_hs    = vcf2npy(\"auto_beagle_loter_query.vcf\")"
   ]
  },
  {
   "cell_type": "markdown",
   "id": "elect-cardiff",
   "metadata": {},
   "source": [
    "run loter"
   ]
  },
  {
   "cell_type": "code",
   "execution_count": 9,
   "id": "alternate-increase",
   "metadata": {
    "ExecuteTime": {
     "end_time": "2021-02-15T18:02:15.868749Z",
     "start_time": "2021-02-15T17:02:06.311026Z"
    }
   },
   "outputs": [],
   "source": [
    "res_loter = lc.loter_smooth(l_H         = [brazil_hs, rodhaini_hs], \n",
    "                            h_adm       = query_hs, \n",
    "                            num_threads = 8) "
   ]
  },
  {
   "cell_type": "code",
   "execution_count": null,
   "id": "respiratory-cameroon",
   "metadata": {},
   "outputs": [],
   "source": [
    "np.savetxt(\"result_mex.txt\", res_loter, fmt=\"%i\")"
   ]
  },
  {
   "cell_type": "code",
   "execution_count": 10,
   "id": "federal-sustainability",
   "metadata": {
    "ExecuteTime": {
     "end_time": "2021-02-15T18:34:14.031775Z",
     "start_time": "2021-02-15T18:34:14.025317Z"
    }
   },
   "outputs": [
    {
     "name": "stdout",
     "output_type": "stream",
     "text": [
      "(288, 475081)\n"
     ]
    }
   ],
   "source": [
    "print(res_loter.shape)"
   ]
  },
  {
   "cell_type": "code",
   "execution_count": 12,
   "id": "unlimited-edgar",
   "metadata": {
    "ExecuteTime": {
     "end_time": "2021-02-15T18:45:29.133563Z",
     "start_time": "2021-02-15T18:45:22.922210Z"
    }
   },
   "outputs": [
    {
     "data": {
      "image/png": "[encoded data removed]",
      "text/plain": [
       "<Figure size 432x288 with 2 Axes>"
      ]
     },
     "metadata": {
      "needs_background": "light"
     },
     "output_type": "display_data"
    }
   ],
   "source": [
    "%matplotlib inline\n",
    "import matplotlib.pyplot as plt\n",
    "\n",
    "plt.imshow(res_loter, interpolation='nearest', aspect='auto')\n",
    "plt.colorbar()\n",
    "plt.savefig(\"brazil_rod_ref.png\")"
   ]
  },
  {
   "cell_type": "markdown",
   "id": "arranged-capitol",
   "metadata": {},
   "source": [
    "## all brazil in ref"
   ]
  },
  {
   "cell_type": "code",
   "execution_count": 16,
   "id": "documented-paradise",
   "metadata": {
    "ExecuteTime": {
     "end_time": "2021-02-15T19:04:01.154424Z",
     "start_time": "2021-02-15T19:03:50.193049Z"
    }
   },
   "outputs": [],
   "source": [
    "brazil_hs   = vcf2npy(\"auto_beagle_loter_allbrazil_ref.vcf\")\n",
    "rodhaini_hs = vcf2npy(\"auto_beagle_loter_rodhaini_ref.vcf\")\n",
    "query_hs    = vcf2npy(\"auto_beagle_loter_nobrquery.vcf\")"
   ]
  },
  {
   "cell_type": "code",
   "execution_count": null,
   "id": "social-feedback",
   "metadata": {
    "ExecuteTime": {
     "start_time": "2021-02-15T19:12:14.752Z"
    }
   },
   "outputs": [],
   "source": [
    "all_brazil_res_loter = lc.loter_smooth(l_H         = [brazil_hs, rodhaini_hs], \n",
    "                                       h_adm       = query_hs, \n",
    "                                       num_threads = 24) "
   ]
  },
  {
   "cell_type": "code",
   "execution_count": null,
   "id": "micro-resistance",
   "metadata": {
    "ExecuteTime": {
     "start_time": "2021-02-15T19:14:53.904Z"
    }
   },
   "outputs": [],
   "source": [
    "print(all_brazil_res_loter.shape)"
   ]
  },
  {
   "cell_type": "code",
   "execution_count": null,
   "id": "previous-seventh",
   "metadata": {
    "ExecuteTime": {
     "start_time": "2021-02-15T19:14:53.905Z"
    }
   },
   "outputs": [],
   "source": [
    "%matplotlib inline\n",
    "import matplotlib.pyplot as plt\n",
    "\n",
    "plt.imshow(all_brazil_res_loter, interpolation='nearest', aspect='auto')\n",
    "plt.colorbar()\n",
    "plt.savefig(\"brazil_rod_ref.png\")"
   ]
  }
 ],
 "metadata": {
  "kernelspec": {
   "display_name": "Python 3",
   "language": "python",
   "name": "python3"
  },
  "language_info": {
   "codemirror_mode": {
    "name": "ipython",
    "version": 3
   },
   "file_extension": ".py",
   "mimetype": "text/x-python",
   "name": "python",
   "nbconvert_exporter": "python",
   "pygments_lexer": "ipython3",
   "version": "3.8.6"
  }
 },
 "nbformat": 4,
 "nbformat_minor": 5
}
