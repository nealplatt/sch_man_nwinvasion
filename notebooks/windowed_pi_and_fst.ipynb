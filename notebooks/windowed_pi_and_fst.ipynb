{
 "cells": [
  {
   "cell_type": "markdown",
   "metadata": {},
   "source": [
    "# calculate genome-wide pi (and eventally replot fig X)\n",
    "\n",
    "## sch_man_nwinvasion\n",
    "\n",
    "\n",
    "will need to run in the sch_man_nwinvasion-postproc env."
   ]
  },
  {
   "cell_type": "code",
   "execution_count": 104,
   "metadata": {
    "ExecuteTime": {
     "end_time": "2021-02-13T23:26:31.784347Z",
     "start_time": "2021-02-13T23:26:31.776155Z"
    }
   },
   "outputs": [],
   "source": [
    "#run in sch_man_nwinvasion-jupyter environment\n",
    "\n",
    "import os\n",
    "import shutil\n",
    "import allel\n",
    "import math\n",
    "import yaml\n",
    "import pandas as pd\n",
    "import matplotlib.pyplot as plt\n",
    "import numpy as np\n",
    "from collections import defaultdict\n",
    "from scipy import stats\n",
    "import itertools\n",
    "import scipy.spatial\n",
    "import random\n",
    "from tqdm.notebook import tqdm"
   ]
  },
  {
   "cell_type": "code",
   "execution_count": 105,
   "metadata": {
    "ExecuteTime": {
     "end_time": "2021-02-13T23:26:31.784347Z",
     "start_time": "2021-02-13T23:26:31.776155Z"
    }
   },
   "outputs": [],
   "source": [
    "os.chdir(\"/master/nplatt/sch_man_nwinvasion\")\n",
    "\n",
    "if not os.path.exists(\"results/windowed_pi_and_fst\"):\n",
    "    os.mkdir(\"results/windowed_pi_and_fst\")"
   ]
  },
  {
   "cell_type": "markdown",
   "metadata": {},
   "source": [
    "Calculate the cumulative length fo each chromosome for downstream plotting"
   ]
  },
  {
   "cell_type": "markdown",
   "metadata": {
    "heading_collapsed": true
   },
   "source": [
    "# Read in and process data"
   ]
  },
  {
   "cell_type": "markdown",
   "metadata": {
    "ExecuteTime": {
     "end_time": "2020-11-18T18:05:57.753151Z",
     "start_time": "2020-11-18T18:05:57.747522Z"
    },
    "hidden": true
   },
   "source": [
    " Get population assignments"
   ]
  },
  {
   "cell_type": "code",
   "execution_count": 106,
   "metadata": {
    "ExecuteTime": {
     "end_time": "2021-02-28T19:34:03.087904Z",
     "start_time": "2021-02-28T19:34:03.046227Z"
    },
    "hidden": true
   },
   "outputs": [],
   "source": [
    "with open('data/pop_assign.yml') as yaml_file:\n",
    "    pop_assign = yaml.load(yaml_file, Loader=yaml.FullLoader)"
   ]
  },
  {
   "cell_type": "markdown",
   "metadata": {
    "hidden": true
   },
   "source": [
    "read in the vcf file and get pop specific allele counts"
   ]
  },
  {
   "cell_type": "code",
   "execution_count": 107,
   "metadata": {
    "ExecuteTime": {
     "end_time": "2021-02-28T19:34:23.501368Z",
     "start_time": "2021-02-28T19:34:03.090722Z"
    },
    "hidden": true
   },
   "outputs": [],
   "source": [
    "#-------------------------------------------------------------------------------\n",
    "# get genotype info per population\n",
    "\n",
    "#read in vcf\n",
    "filtered_callset=allel.read_vcf('results/variant_filtration/smv7_ex_autosomes.vcf')\n",
    "\n",
    "#now get an index for each sample/population\n",
    "samples = filtered_callset[\"samples\"]\n",
    "\n",
    "i=0\n",
    "pop_idxs = defaultdict(list)   \n",
    "for sample in samples:  \n",
    "    pop_idxs[pop_assign[sample]].append(i) \n",
    "    i=i+1\n",
    "\n",
    "pops= list(pop_idxs.keys()) \n",
    "\n",
    "#get genotypes\n",
    "gt=allel.GenotypeArray(filtered_callset['calldata/GT'])\n",
    "\n",
    "#now get allele count per population\n",
    "ac=gt.count_alleles()\n",
    "\n",
    "pop_ac={}\n",
    "for pop in pops:\n",
    "    pop_ac[pop] = gt.count_alleles(subpop=pop_idxs[pop])"
   ]
  },
  {
   "cell_type": "markdown",
   "metadata": {
    "hidden": true
   },
   "source": [
    "Find all of the accessible bases (since used probes) and get an idea of the length of each chr"
   ]
  },
  {
   "cell_type": "code",
   "execution_count": 108,
   "metadata": {
    "ExecuteTime": {
     "end_time": "2021-02-28T19:34:29.601395Z",
     "start_time": "2021-02-28T19:34:23.504263Z"
    },
    "hidden": true
   },
   "outputs": [],
   "source": [
    "#initialize an list the lenght of each contig to fale\n",
    "accessible_bases = {}\n",
    "chrom_length = {}\n",
    "\n",
    "with open('data/genomes/Smansoni_v7.fa.fai', 'r') as fai:\n",
    "    for entry in fai:\n",
    "        chrom, length, *offset = entry.rstrip().split(\"\\t\")\n",
    "        chrom_length[chrom] = int(length)\n",
    "        accessible_bases[chrom]=[False] * int(length)\n",
    "\n",
    "\n",
    "#now read the bed\n",
    "with open('data/renamed-sma_agilent_baits.v7.0.chr_reorderd.bed', 'r') as in_bed_file:\n",
    "    for bed_entry in in_bed_file:\n",
    "        chrom, start, stop = bed_entry.rstrip().split(\"\\t\")\n",
    "        for base in range(int(start) - 1, int(stop)):\n",
    "             accessible_bases[chrom][base]=True\n"
   ]
  },
  {
   "cell_type": "code",
   "execution_count": 109,
   "metadata": {
    "ExecuteTime": {
     "end_time": "2021-02-13T23:26:36.920569Z",
     "start_time": "2021-02-13T23:26:36.910622Z"
    }
   },
   "outputs": [],
   "source": [
    "#make sure that all stops are not gt chrom length\n",
    "chr_length = {}\n",
    "#genome_size = 0\n",
    "with open('/master/nplatt/sch_man_nwinvasion/data/genomes/Smansoni_v7.fa.fai', 'r') as fai:\n",
    "    for entry in fai:\n",
    "        chrom, length, *offset = entry.rstrip().split(\"\\t\")\n",
    "        chr_length[chrom]=int(length)\n",
    "\n",
    "    cumul_start={}\n",
    "    cumul_start['SM_V7_1']=0\n",
    "    cumul_start['SM_V7_2']= cumul_start['SM_V7_1'] + chr_length['SM_V7_1']\n",
    "    cumul_start['SM_V7_3']= cumul_start['SM_V7_2'] + chr_length['SM_V7_2']\n",
    "    cumul_start['SM_V7_4']= cumul_start['SM_V7_3'] + chr_length['SM_V7_3']\n",
    "    cumul_start['SM_V7_5']= cumul_start['SM_V7_4'] + chr_length['SM_V7_4']\n",
    "    cumul_start['SM_V7_6']= cumul_start['SM_V7_5'] + chr_length['SM_V7_5']\n",
    "    cumul_start['SM_V7_7']= cumul_start['SM_V7_6'] + chr_length['SM_V7_6']\n",
    "    scanned_size = cumul_start['SM_V7_7'] + chr_length['SM_V7_7']"
   ]
  },
  {
   "cell_type": "markdown",
   "metadata": {},
   "source": [
    "# Calculate Pi and Fst in same windows"
   ]
  },
  {
   "cell_type": "code",
   "execution_count": null,
   "metadata": {},
   "outputs": [],
   "source": [
    "#set window size\n",
    "window_size = 100_000\n",
    "\n",
    "#get chrom and pos values from vcf file \n",
    "pos=filtered_callset[\"variants/POS\"]\n",
    "chroms=filtered_callset[\"variants/CHROM\"]\n",
    "\n",
    "#get idxs from samples in all major pops\n",
    "major_pop_idxs = pop_idxs[\"niger\"] + pop_idxs[\"brazil\"] + pop_idxs[\"senegal\"] + pop_idxs[\"tanzania\"]\n",
    "\n",
    "for pop in [\"niger\", \"senegal\", \"brazil\", \"tanzania\"]:\n",
    "#for pop in [\"tanzania\"]:\n",
    "    \n",
    "    #initialize empty lists for values to be saved\n",
    "    pis=[]\n",
    "    starts=[]\n",
    "    stops=[]\n",
    "    bases=[]\n",
    "    snvs=[]\n",
    "    fsts=[]\n",
    "    labels=[]\n",
    "    \n",
    "    #for chrom in [\"SM_V7_7\"]:\n",
    "    for chrom in np.unique(filtered_callset[\"variants/CHROM\"]):\n",
    "        #subset the positions and allele counts for each chrom\n",
    "        #  makes sure to restrict calculations along a single chrom rather\n",
    "        #  than windows extending over 2 chroms\n",
    "        chrom_pos = pos[chroms==chrom] \n",
    "        chrom_ac  = pop_ac[pop][chroms==chrom] \n",
    "        chrom_gt  = gt[chroms==chrom] \n",
    "        chrom_fsts = []\n",
    "        #calculate pi over \"window\" bases\n",
    "        chrom_pis, chrom_windows, chrom_bases, chrom_snvs = allel.windowed_diversity(sub_pos, sub_ac, size=window_size, is_accessible=accessible_bases[chrom])\n",
    "        \n",
    "        #calculate fst in each pi window\n",
    "        query_pop=pop\n",
    "        query_idxs=pop_idxs[query_pop]\n",
    "        subject_idxs = list(set(major_pop_idxs) - set(query_idxs))\n",
    "    \n",
    "        i=0\n",
    "        chrom_fsts = chrom_fsts + [float(\"nan\")] * len(chrom_windows)\n",
    "        for start, stop in chrom_windows:\n",
    "            fst=allel.windowed_weir_cockerham_fst(chrom_pos, chrom_gt, [query_idxs, subject_idxs], windows=[[start, stop]])\n",
    "            chrom_fsts[i]=float(fst[0])\n",
    "            i+=1\n",
    "            \n",
    "        #append values for each stat\n",
    "        pis=np.hstack((pis, chrom_pis))\n",
    "        starts=np.hstack((starts, chrom_windows[:,0]))\n",
    "        stops=np.hstack((stops, chrom_windows[:,1]))\n",
    "        bases=np.hstack((bases, chrom_bases))\n",
    "        snvs=np.hstack((snvs, chrom_snvs))\n",
    "        labels.extend([chrom] * len(chrom_pis))\n",
    "        fsts.extend(chrom_fsts)\n",
    "\n",
    "    #add values to a data frame\n",
    "    df=pd.DataFrame(columns=[\"chrom\", \"start\", \"stop\", \"pi\", \"fst\", \"n_access_bases\", \"n_vars\"])\n",
    "    df[\"chrom\"]=labels\n",
    "    df[\"start\"]=starts\n",
    "    df[\"stop\"]=stops\n",
    "    df[\"pi\"]=pis\n",
    "    df[\"fst\"]=fsts\n",
    "    df[\"n_access_bases\"]=bases\n",
    "    df[\"n_vars\"]=snvs\n",
    "    \n",
    "    #reset all negative fsts to 0 and greater than 1 to na\n",
    "    df.loc[df[\"fst\"]<0, \"fst\"]=0\n",
    "    df.loc[df[\"fst\"]>1, \"fst\"]=float(\"nan\")\n",
    "\n",
    "    #save the dataframe to a csv\n",
    "    csv_file = \"./results/windowed_pi_and_fst/{}_windowed_pi_and_fst.csv\".format(pop)\n",
    "    df.to_csv(csv_file, index=False, header=True, mode='w', na_rep='NaN')"
   ]
  },
  {
   "cell_type": "code",
   "execution_count": 114,
   "metadata": {},
   "outputs": [
    {
     "data": {
      "text/html": [
       "<div>\n",
       "<style scoped>\n",
       "    .dataframe tbody tr th:only-of-type {\n",
       "        vertical-align: middle;\n",
       "    }\n",
       "\n",
       "    .dataframe tbody tr th {\n",
       "        vertical-align: top;\n",
       "    }\n",
       "\n",
       "    .dataframe thead th {\n",
       "        text-align: right;\n",
       "    }\n",
       "</style>\n",
       "<table border=\"1\" class=\"dataframe\">\n",
       "  <thead>\n",
       "    <tr style=\"text-align: right;\">\n",
       "      <th></th>\n",
       "      <th>chrom</th>\n",
       "      <th>start</th>\n",
       "      <th>stop</th>\n",
       "      <th>pi</th>\n",
       "      <th>fst</th>\n",
       "      <th>n_access_bases</th>\n",
       "      <th>n_vars</th>\n",
       "    </tr>\n",
       "  </thead>\n",
       "  <tbody>\n",
       "    <tr>\n",
       "      <th>0</th>\n",
       "      <td>SM_V7_7</td>\n",
       "      <td>410060.0</td>\n",
       "      <td>510059.0</td>\n",
       "      <td>0.001931</td>\n",
       "      <td>0.293297</td>\n",
       "      <td>332.0</td>\n",
       "      <td>10.0</td>\n",
       "    </tr>\n",
       "    <tr>\n",
       "      <th>1</th>\n",
       "      <td>SM_V7_7</td>\n",
       "      <td>510060.0</td>\n",
       "      <td>610059.0</td>\n",
       "      <td>0.002015</td>\n",
       "      <td>0.461670</td>\n",
       "      <td>241.0</td>\n",
       "      <td>2.0</td>\n",
       "    </tr>\n",
       "    <tr>\n",
       "      <th>2</th>\n",
       "      <td>SM_V7_7</td>\n",
       "      <td>610060.0</td>\n",
       "      <td>710059.0</td>\n",
       "      <td>0.000000</td>\n",
       "      <td>NaN</td>\n",
       "      <td>232.0</td>\n",
       "      <td>0.0</td>\n",
       "    </tr>\n",
       "    <tr>\n",
       "      <th>3</th>\n",
       "      <td>SM_V7_7</td>\n",
       "      <td>710060.0</td>\n",
       "      <td>810059.0</td>\n",
       "      <td>0.003019</td>\n",
       "      <td>0.597523</td>\n",
       "      <td>456.0</td>\n",
       "      <td>19.0</td>\n",
       "    </tr>\n",
       "    <tr>\n",
       "      <th>4</th>\n",
       "      <td>SM_V7_7</td>\n",
       "      <td>810060.0</td>\n",
       "      <td>910059.0</td>\n",
       "      <td>0.002672</td>\n",
       "      <td>0.566121</td>\n",
       "      <td>1086.0</td>\n",
       "      <td>40.0</td>\n",
       "    </tr>\n",
       "    <tr>\n",
       "      <th>...</th>\n",
       "      <td>...</td>\n",
       "      <td>...</td>\n",
       "      <td>...</td>\n",
       "      <td>...</td>\n",
       "      <td>...</td>\n",
       "      <td>...</td>\n",
       "      <td>...</td>\n",
       "    </tr>\n",
       "    <tr>\n",
       "      <th>182</th>\n",
       "      <td>SM_V7_7</td>\n",
       "      <td>18610060.0</td>\n",
       "      <td>18710059.0</td>\n",
       "      <td>0.001558</td>\n",
       "      <td>0.292261</td>\n",
       "      <td>5888.0</td>\n",
       "      <td>216.0</td>\n",
       "    </tr>\n",
       "    <tr>\n",
       "      <th>183</th>\n",
       "      <td>SM_V7_7</td>\n",
       "      <td>18710060.0</td>\n",
       "      <td>18810059.0</td>\n",
       "      <td>0.001412</td>\n",
       "      <td>0.508726</td>\n",
       "      <td>6616.0</td>\n",
       "      <td>339.0</td>\n",
       "    </tr>\n",
       "    <tr>\n",
       "      <th>184</th>\n",
       "      <td>SM_V7_7</td>\n",
       "      <td>18810060.0</td>\n",
       "      <td>18910059.0</td>\n",
       "      <td>0.002583</td>\n",
       "      <td>0.473762</td>\n",
       "      <td>4802.0</td>\n",
       "      <td>221.0</td>\n",
       "    </tr>\n",
       "    <tr>\n",
       "      <th>185</th>\n",
       "      <td>SM_V7_7</td>\n",
       "      <td>18910060.0</td>\n",
       "      <td>19010059.0</td>\n",
       "      <td>0.001332</td>\n",
       "      <td>0.341647</td>\n",
       "      <td>4947.0</td>\n",
       "      <td>173.0</td>\n",
       "    </tr>\n",
       "    <tr>\n",
       "      <th>186</th>\n",
       "      <td>SM_V7_7</td>\n",
       "      <td>19010060.0</td>\n",
       "      <td>19087225.0</td>\n",
       "      <td>0.000572</td>\n",
       "      <td>0.112295</td>\n",
       "      <td>3448.0</td>\n",
       "      <td>100.0</td>\n",
       "    </tr>\n",
       "  </tbody>\n",
       "</table>\n",
       "<p>187 rows × 7 columns</p>\n",
       "</div>"
      ],
      "text/plain": [
       "       chrom       start        stop        pi       fst  n_access_bases  \\\n",
       "0    SM_V7_7    410060.0    510059.0  0.001931  0.293297           332.0   \n",
       "1    SM_V7_7    510060.0    610059.0  0.002015  0.461670           241.0   \n",
       "2    SM_V7_7    610060.0    710059.0  0.000000       NaN           232.0   \n",
       "3    SM_V7_7    710060.0    810059.0  0.003019  0.597523           456.0   \n",
       "4    SM_V7_7    810060.0    910059.0  0.002672  0.566121          1086.0   \n",
       "..       ...         ...         ...       ...       ...             ...   \n",
       "182  SM_V7_7  18610060.0  18710059.0  0.001558  0.292261          5888.0   \n",
       "183  SM_V7_7  18710060.0  18810059.0  0.001412  0.508726          6616.0   \n",
       "184  SM_V7_7  18810060.0  18910059.0  0.002583  0.473762          4802.0   \n",
       "185  SM_V7_7  18910060.0  19010059.0  0.001332  0.341647          4947.0   \n",
       "186  SM_V7_7  19010060.0  19087225.0  0.000572  0.112295          3448.0   \n",
       "\n",
       "     n_vars  \n",
       "0      10.0  \n",
       "1       2.0  \n",
       "2       0.0  \n",
       "3      19.0  \n",
       "4      40.0  \n",
       "..      ...  \n",
       "182   216.0  \n",
       "183   339.0  \n",
       "184   221.0  \n",
       "185   173.0  \n",
       "186   100.0  \n",
       "\n",
       "[187 rows x 7 columns]"
      ]
     },
     "execution_count": 114,
     "metadata": {},
     "output_type": "execute_result"
    }
   ],
   "source": [
    "df"
   ]
  }
 ],
 "metadata": {
  "kernelspec": {
   "display_name": "Python [conda env:sch_man_nwinvasion-postproc]",
   "language": "python",
   "name": "conda-env-sch_man_nwinvasion-postproc-py"
  },
  "language_info": {
   "codemirror_mode": {
    "name": "ipython",
    "version": 3
   },
   "file_extension": ".py",
   "mimetype": "text/x-python",
   "name": "python",
   "nbconvert_exporter": "python",
   "pygments_lexer": "ipython3",
   "version": "3.7.10"
  }
 },
 "nbformat": 4,
 "nbformat_minor": 4
}
