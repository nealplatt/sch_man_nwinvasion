{
 "cells": [
  {
   "cell_type": "markdown",
   "metadata": {},
   "source": [
    "# calculate genome-wide pi (and eventally replot fig X)\n",
    "\n",
    "## sch_man_nwinvasion\n",
    "\n",
    "\n",
    "will need to run in the sch_man_nwinvasion-postproc env."
   ]
  },
  {
   "cell_type": "code",
   "execution_count": 1,
   "metadata": {
    "ExecuteTime": {
     "end_time": "2021-02-13T23:26:31.784347Z",
     "start_time": "2021-02-13T23:26:31.776155Z"
    }
   },
   "outputs": [],
   "source": [
    "#run in sch_man_nwinvasion-jupyter environment\n",
    "\n",
    "import os\n",
    "import shutil\n",
    "import allel\n",
    "import math\n",
    "import yaml\n",
    "import pandas as pd\n",
    "import matplotlib.pyplot as plt\n",
    "import numpy as np\n",
    "from collections import defaultdict\n",
    "from scipy import stats\n",
    "import itertools\n",
    "import scipy.spatial\n",
    "import random\n",
    "from tqdm.notebook import tqdm"
   ]
  },
  {
   "cell_type": "code",
   "execution_count": 145,
   "metadata": {
    "ExecuteTime": {
     "end_time": "2021-02-13T23:26:31.784347Z",
     "start_time": "2021-02-13T23:26:31.776155Z"
    }
   },
   "outputs": [],
   "source": [
    "os.chdir(\"/master/nplatt/sch_man_nwinvasion\")\n",
    "\n",
    "if not os.path.exists(\"results/windowed_pi\"):\n",
    "    os.mkdir(\"results/windowed_pi\")"
   ]
  },
  {
   "cell_type": "markdown",
   "metadata": {},
   "source": [
    "Calculate the cumulative length fo each chromosome for downstream plotting"
   ]
  },
  {
   "cell_type": "markdown",
   "metadata": {
    "heading_collapsed": true
   },
   "source": [
    "# Read in and process data"
   ]
  },
  {
   "cell_type": "markdown",
   "metadata": {
    "ExecuteTime": {
     "end_time": "2020-11-18T18:05:57.753151Z",
     "start_time": "2020-11-18T18:05:57.747522Z"
    },
    "hidden": true
   },
   "source": [
    " Get population assignments"
   ]
  },
  {
   "cell_type": "code",
   "execution_count": 3,
   "metadata": {
    "ExecuteTime": {
     "end_time": "2021-02-28T19:34:03.087904Z",
     "start_time": "2021-02-28T19:34:03.046227Z"
    },
    "hidden": true
   },
   "outputs": [],
   "source": [
    "with open('data/pop_assign.yml') as yaml_file:\n",
    "    pop_assign = yaml.load(yaml_file, Loader=yaml.FullLoader)"
   ]
  },
  {
   "cell_type": "markdown",
   "metadata": {
    "hidden": true
   },
   "source": [
    "read in the vcf file and get pop specific allele counts"
   ]
  },
  {
   "cell_type": "code",
   "execution_count": 4,
   "metadata": {
    "ExecuteTime": {
     "end_time": "2021-02-28T19:34:23.501368Z",
     "start_time": "2021-02-28T19:34:03.090722Z"
    },
    "hidden": true
   },
   "outputs": [],
   "source": [
    "#-------------------------------------------------------------------------------\n",
    "# get genotype info per population\n",
    "\n",
    "#read in vcf\n",
    "filtered_callset=allel.read_vcf('results/variant_filtration/smv7_ex_autosomes.vcf')\n",
    "\n",
    "#now get an index for each sample/population\n",
    "samples = filtered_callset[\"samples\"]\n",
    "\n",
    "i=0\n",
    "pop_idxs = defaultdict(list)   \n",
    "for sample in samples:  \n",
    "    pop_idxs[pop_assign[sample]].append(i) \n",
    "    i=i+1\n",
    "\n",
    "pops= list(pop_idxs.keys()) \n",
    "\n",
    "#get genotypes\n",
    "gt=allel.GenotypeArray(filtered_callset['calldata/GT'])\n",
    "\n",
    "#now get allele count per population\n",
    "ac=gt.count_alleles()\n",
    "\n",
    "pop_ac={}\n",
    "for pop in pops:\n",
    "    pop_ac[pop] = gt.count_alleles(subpop=pop_idxs[pop])"
   ]
  },
  {
   "cell_type": "markdown",
   "metadata": {
    "hidden": true
   },
   "source": [
    "Find all of the accessible bases (since used probes) and get an idea of the length of each chr"
   ]
  },
  {
   "cell_type": "code",
   "execution_count": 5,
   "metadata": {
    "ExecuteTime": {
     "end_time": "2021-02-28T19:34:29.601395Z",
     "start_time": "2021-02-28T19:34:23.504263Z"
    },
    "hidden": true
   },
   "outputs": [],
   "source": [
    "#initialize an list the lenght of each contig to fale\n",
    "accessible_bases = {}\n",
    "chrom_length = {}\n",
    "\n",
    "with open('data/genomes/Smansoni_v7.fa.fai', 'r') as fai:\n",
    "    for entry in fai:\n",
    "        chrom, length, *offset = entry.rstrip().split(\"\\t\")\n",
    "        chrom_length[chrom] = int(length)\n",
    "        accessible_bases[chrom]=[False] * int(length)\n",
    "\n",
    "\n",
    "#now read the bed\n",
    "with open('data/renamed-sma_agilent_baits.v7.0.chr_reorderd.bed', 'r') as in_bed_file:\n",
    "    for bed_entry in in_bed_file:\n",
    "        chrom, start, stop = bed_entry.rstrip().split(\"\\t\")\n",
    "        for base in range(int(start) - 1, int(stop)):\n",
    "             accessible_bases[chrom][base]=True\n"
   ]
  },
  {
   "cell_type": "code",
   "execution_count": 6,
   "metadata": {
    "ExecuteTime": {
     "end_time": "2021-02-13T23:26:36.920569Z",
     "start_time": "2021-02-13T23:26:36.910622Z"
    }
   },
   "outputs": [],
   "source": [
    "#make sure that all stops are not gt chrom length\n",
    "chr_length = {}\n",
    "#genome_size = 0\n",
    "with open('/master/nplatt/sch_man_nwinvasion/data/genomes/Smansoni_v7.fa.fai', 'r') as fai:\n",
    "    for entry in fai:\n",
    "        chrom, length, *offset = entry.rstrip().split(\"\\t\")\n",
    "        chr_length[chrom]=int(length)\n",
    "\n",
    "    cumul_start={}\n",
    "    cumul_start['SM_V7_1']=0\n",
    "    cumul_start['SM_V7_2']= cumul_start['SM_V7_1'] + chr_length['SM_V7_1']\n",
    "    cumul_start['SM_V7_3']= cumul_start['SM_V7_2'] + chr_length['SM_V7_2']\n",
    "    cumul_start['SM_V7_4']= cumul_start['SM_V7_3'] + chr_length['SM_V7_3']\n",
    "    cumul_start['SM_V7_5']= cumul_start['SM_V7_4'] + chr_length['SM_V7_4']\n",
    "    cumul_start['SM_V7_6']= cumul_start['SM_V7_5'] + chr_length['SM_V7_5']\n",
    "    cumul_start['SM_V7_7']= cumul_start['SM_V7_6'] + chr_length['SM_V7_6']\n",
    "    scanned_size = cumul_start['SM_V7_7'] + chr_length['SM_V7_7']"
   ]
  },
  {
   "cell_type": "markdown",
   "metadata": {},
   "source": [
    "# Pi"
   ]
  },
  {
   "cell_type": "code",
   "execution_count": 151,
   "metadata": {},
   "outputs": [],
   "source": [
    "#set window size\n",
    "window_size = 100_000\n",
    "\n",
    "#get chrom and pos values from vcf file \n",
    "pos=filtered_callset[\"variants/POS\"]\n",
    "chroms=filtered_callset[\"variants/CHROM\"]\n",
    "\n",
    "for pop in [\"niger\", \"senegal\", \"brazil\", \"tanzania\"]:\n",
    "    \n",
    "    #initialize empty lists for values to be saved\n",
    "    pis=[]\n",
    "    starts=[]\n",
    "    stops=[]\n",
    "    bases=[]\n",
    "    snvs=[]\n",
    "    chrom_labels=[]\n",
    "\n",
    "    for chrom in np.unique(filtered_callset[\"variants/CHROM\"]):\n",
    "        #subset the positions and allele counts for each chrom\n",
    "        #  makes sure to restrict calculations along a single chrom rather\n",
    "        #  than windows extending over 2 chroms\n",
    "        sub_pos = pos[chroms==chrom] \n",
    "        sub_ac  = pop_ac[pop][chroms==chrom] \n",
    "        \n",
    "        #calculate pi over \"window\" bases\n",
    "        pi, window, base, snv = allel.windowed_diversity(sub_pos, sub_ac, size=window_size, is_accessible=accessible_bases[chrom])\n",
    "        \n",
    "        #append values for each stat\n",
    "        pis=np.hstack((pis, pi))\n",
    "        starts=np.hstack((starts, window[:,0]))\n",
    "        stops=np.hstack((stops, window[:,0]))\n",
    "        bases=np.hstack((bases, base))\n",
    "        snvs=np.hstack((snvs, snv))\n",
    "        chrom_labels.extend([chrom] * len(pi))\n",
    "\n",
    "    #add values to a data frame\n",
    "    pi_df=pd.DataFrame(columns=[\"chrom\", \"start\", \"stop\", \"pi\", \"n_access_bases\", \"n_vars\"])\n",
    "    pi_df[\"chrom\"]=chrom_labels\n",
    "    pi_df[\"start\"]=starts\n",
    "    pi_df[\"stop\"]=stops\n",
    "    pi_df[\"pi\"]=pis\n",
    "    pi_df[\"n_access_bases\"]=bases\n",
    "    pi_df[\"n_vars\"]=snvs\n",
    "    \n",
    "    #save the dataframe to a csv\n",
    "    csv_file = \"./results/windowed_pi/{}_windowed_pi.csv\".format(pop)\n",
    "    pi_df.to_csv(csv_file, index=False, header=True, mode='w')"
   ]
  },
  {
   "cell_type": "markdown",
   "metadata": {},
   "source": [
    "# Fst"
   ]
  },
  {
   "cell_type": "code",
   "execution_count": null,
   "metadata": {},
   "outputs": [
    {
     "name": "stderr",
     "output_type": "stream",
     "text": [
      "/master/nplatt/miniconda3/envs/sch_man_nwinvasion-postproc/lib/python3.7/site-packages/allel/stats/fst.py:184: RuntimeWarning: invalid value encountered in true_divide\n",
      "  p = ac / an[:, np.newaxis, :]\n",
      "/master/nplatt/miniconda3/envs/sch_man_nwinvasion-postproc/lib/python3.7/site-packages/allel/stats/fst.py:225: RuntimeWarning: divide by zero encountered in true_divide\n",
      "  a = ((n_bar / n_C) *\n"
     ]
    }
   ],
   "source": [
    "fst_window_size=100\n",
    "pos=filtered_callset[\"variants/POS\"]\n",
    "\n",
    "if not os.path.exists(\"results/windowed_fst_target_vs_others\"):\n",
    "    os.mkdir(\"results/windowed_fst_target_vs_others\")\n",
    "    \n",
    "chroms=filtered_callset[\"variants/CHROM\"]\n",
    "\n",
    "#get idxs from samples in all major pops\n",
    "major_pop_idxs = pop_idxs[\"niger\"] + pop_idxs[\"brazil\"] + pop_idxs[\"senegal\"] + pop_idxs[\"tanzania\"]\n",
    "\n",
    "#each pop is the \"target\" pop\n",
    "for query_pop in [\"niger\", \"senegal\", \"brazil\", \"tanzania\"]:\n",
    "   \n",
    "    #clean vars\n",
    "    labels=[]\n",
    "    fsts=[]\n",
    "    starts=[]\n",
    "    stops=[]\n",
    "\n",
    "    #get idxs of query pop and idxs from all other major pops\n",
    "    query_idxs=pop_idxs[query_pop]\n",
    "    subject_idxs = list(set(major_pop_idxs) - set(query_idxs))\n",
    "\n",
    "    #break up calcs into specific chroms\n",
    "    for chrom in np.unique(filtered_callset[\"variants/CHROM\"]):\n",
    "    \n",
    "        #get chrom gt\n",
    "        chrom_gt = gt[chroms==chrom] \n",
    "        sub_pos  = pos[chroms==chrom]\n",
    "\n",
    "        #calculate fst on chrom\n",
    "        chrom_fsts = allel.moving_weir_cockerham_fst(chrom_gt, [query_idxs, subject_idxs], fst_window_size)\n",
    "\n",
    "        #get start and stop coords for each fst window\n",
    "        chrom_starts=sub_pos[0:-fst_window_size:fst_window_size]\n",
    "        chrom_stops=sub_pos[fst_window_size-1::fst_window_size]\n",
    "\n",
    "        #append chrom values to those from the rest of the genomes\n",
    "        fsts=np.hstack((fsts, chrom_fsts))\n",
    "        starts=np.hstack((starts, chrom_starts))\n",
    "        stops=np.hstack((stops, chrom_stops))\n",
    "        labels.extend([chrom] * len(chrom_fsts))\n",
    "    \n",
    "    #add values to a data frame\n",
    "    fst_df=pd.DataFrame(columns=[\"chrom\", \"start\", \"stop\", \"fst\"])\n",
    "    fst_df[\"chrom\"]=labels\n",
    "    fst_df[\"start\"]=starts\n",
    "    fst_df[\"stop\"]=stops\n",
    "    fst_df[\"fst\"]=fsts\n",
    "\n",
    "    #all negative fsts changed to 0\n",
    "    fst_df.loc[fst_df[\"fst\"] < 0, \"fst\"] = float(0)\n",
    "    \n",
    "    #save to csv\n",
    "    csv_file = \"./results/windowed_fst_target_vs_others/{}_windowed-{}snvs_fst_vs_others_.csv\".format(query_pop, fst_window_size)\n",
    "    fst_df.to_csv(csv_file, index=False, header=True, mode='w')"
   ]
  }
 ],
 "metadata": {
  "kernelspec": {
   "display_name": "Python [conda env:sch_man_nwinvasion-postproc]",
   "language": "python",
   "name": "conda-env-sch_man_nwinvasion-postproc-py"
  },
  "language_info": {
   "codemirror_mode": {
    "name": "ipython",
    "version": 3
   },
   "file_extension": ".py",
   "mimetype": "text/x-python",
   "name": "python",
   "nbconvert_exporter": "python",
   "pygments_lexer": "ipython3",
   "version": "3.7.10"
  }
 },
 "nbformat": 4,
 "nbformat_minor": 4
}
