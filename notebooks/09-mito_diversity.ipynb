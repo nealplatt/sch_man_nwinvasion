{
 "cells": [
  {
   "cell_type": "markdown",
   "id": "4b408192-868a-479e-a694-6aaadc723a8a",
   "metadata": {},
   "source": [
    "# Genomic analysis of a parasite invasion: colonization of the New World by the blood fluke, Schistosoma mansoni \n",
    "\n",
    "Roy Nelson Platt II*, Frédéric D. Chevalier*, Winka Le Clec'h, Marina McDew-White, Philip T. LoVerde, Rafael Ramiro de Assis, Guilherme Oliveira, Safari Kinunghi, Anouk Gouvras, Bonnie Webster, Joanne Webster, Aidan Emery, David Rollinson, Timothy J. Anderson\n",
    "\n",
    "# Explore impacts of invasion/introduction on mitochondrial diveristy (not phylogeny)\n",
    "\n",
    "use the `sch_man_nwinvasion-mito_diversity` conda env"
   ]
  },
  {
   "cell_type": "code",
   "execution_count": 8,
   "id": "b833f6b5-4046-4cb4-987c-6df60096dfd1",
   "metadata": {},
   "outputs": [],
   "source": [
    "import os\n",
    "#import shutil\n",
    "import allel\n",
    "#import math\n",
    "import yaml\n",
    "import pandas as pd\n",
    "import matplotlib.pyplot as plt\n",
    "import numpy as np\n",
    "from collections import defaultdict\n",
    "#from scipy import stats\n",
    "#import itertools\n",
    "#import scipy.spatial\n",
    "#import random\n",
    "#from tqdm import tqdm\n",
    "\n",
    "proj_dir=\"/master/nplatt/sch_man_nwinvasion\"\n",
    "results_dir=\"{}/results\".format(proj_dir)"
   ]
  },
  {
   "cell_type": "code",
   "execution_count": 2,
   "id": "d201b35c-4218-4311-a18b-1a072f7013ac",
   "metadata": {},
   "outputs": [],
   "source": [
    "os.chdir(proj_dir)\n",
    "\n",
    "if not os.path.exists(\"{}/mito_diversity\".format(results_dir)):\n",
    "    os.mkdir(\"{}/mito_diversity\".format(results_dir))\n",
    "    \n",
    "os.chdir(\"{}/mito_diversity\".format(results_dir))"
   ]
  },
  {
   "cell_type": "code",
   "execution_count": 3,
   "id": "1f260059-b0d4-477b-940c-531a144d0277",
   "metadata": {},
   "outputs": [],
   "source": [
    "with open('{}/data/pop_assign.yml'.format(proj_dir)) as yaml_file:\n",
    "    pop_assign = yaml.load(yaml_file, Loader=yaml.FullLoader)"
   ]
  },
  {
   "cell_type": "code",
   "execution_count": 72,
   "id": "e65c61fb-f29e-424d-815b-6915cabbe299",
   "metadata": {},
   "outputs": [],
   "source": [
    "#initialize an list the lenght of each contig to fale\n",
    "accessible_bases = {}\n",
    "chrom_length = {}\n",
    "\n",
    "with open('{}/data/genomes/Smansoni_v7.fa.fai'.format(proj_dir), 'r') as fai:\n",
    "    for entry in fai:\n",
    "        chrom, length, *offset = entry.rstrip().split(\"\\t\")\n",
    "        chrom_length[chrom] = int(length)\n",
    "        accessible_bases[chrom]=[False] * int(length)\n",
    "\n",
    "\n",
    "#now read the bed\n",
    "with open('{}/data/renamed-sma_agilent_baits.v7.0.chr_reorderd.bed'.format(proj_dir), 'r') as in_bed_file:\n",
    "    for bed_entry in in_bed_file:\n",
    "        chrom, start, stop = bed_entry.rstrip().split(\"\\t\")\n",
    "        for base in range(int(start) - 1, int(stop)):\n",
    "             accessible_bases[chrom][base]=True"
   ]
  },
  {
   "cell_type": "code",
   "execution_count": 80,
   "id": "cbe3e465-0d42-421f-815d-3103d6b02dfc",
   "metadata": {},
   "outputs": [
    {
     "name": "stderr",
     "output_type": "stream",
     "text": [
      "\n",
      "VCFtools - 0.1.16\n",
      "(C) Adam Auton and Anthony Marcketta 2009\n",
      "\n",
      "Parameters as interpreted:\n",
      "\t--vcf /master/nplatt/sch_man_nwinvasion/results/mito_network/mito.vcf\n",
      "\t--recode-INFO-all\n",
      "\t--maf 0.05\n",
      "\t--recode\n",
      "\t--stdout\n",
      "\n",
      "Warning: Expected at least 2 parts in FORMAT entry: ID=PGT,Number=1,Type=String,Description=\"Physical phasing haplotype information, describing how the alternate alleles are phased in relation to one another\">\n",
      "Warning: Expected at least 2 parts in FORMAT entry: ID=PID,Number=1,Type=String,Description=\"Physical phasing ID information, where each unique ID within a given sample (but not across samples) connects records within a phasing group\">\n",
      "Warning: Expected at least 2 parts in FORMAT entry: ID=PL,Number=G,Type=Integer,Description=\"Normalized, Phred-scaled likelihoods for genotypes as defined in the VCF specification\">\n",
      "Warning: Expected at least 2 parts in FORMAT entry: ID=RGQ,Number=1,Type=Integer,Description=\"Unconditional reference genotype confidence, encoded as a phred quality -10*log10 p(genotype call is wrong)\">\n",
      "Warning: Expected at least 2 parts in INFO entry: ID=AC,Number=A,Type=Integer,Description=\"Allele count in genotypes, for each ALT allele, in the same order as listed\">\n",
      "Warning: Expected at least 2 parts in INFO entry: ID=AC,Number=A,Type=Integer,Description=\"Allele count in genotypes, for each ALT allele, in the same order as listed\">\n",
      "Warning: Expected at least 2 parts in INFO entry: ID=AF,Number=A,Type=Float,Description=\"Allele Frequency, for each ALT allele, in the same order as listed\">\n",
      "Warning: Expected at least 2 parts in INFO entry: ID=AF,Number=A,Type=Float,Description=\"Allele Frequency, for each ALT allele, in the same order as listed\">\n",
      "Warning: Expected at least 2 parts in INFO entry: ID=MLEAC,Number=A,Type=Integer,Description=\"Maximum likelihood expectation (MLE) for the allele counts (not necessarily the same as the AC), for each ALT allele, in the same order as listed\">\n",
      "Warning: Expected at least 2 parts in INFO entry: ID=MLEAC,Number=A,Type=Integer,Description=\"Maximum likelihood expectation (MLE) for the allele counts (not necessarily the same as the AC), for each ALT allele, in the same order as listed\">\n",
      "Warning: Expected at least 2 parts in INFO entry: ID=MLEAF,Number=A,Type=Float,Description=\"Maximum likelihood expectation (MLE) for the allele frequency (not necessarily the same as the AF), for each ALT allele, in the same order as listed\">\n",
      "Warning: Expected at least 2 parts in INFO entry: ID=MLEAF,Number=A,Type=Float,Description=\"Maximum likelihood expectation (MLE) for the allele frequency (not necessarily the same as the AF), for each ALT allele, in the same order as listed\">\n",
      "Warning: Expected at least 2 parts in INFO entry: ID=culprit,Number=1,Type=String,Description=\"The annotation which was the worst performing in the Gaussian mixture model, likely the reason why the variant was filtered out\">\n",
      "After filtering, kept 142 out of 142 Individuals\n",
      "Outputting VCF file...\n",
      "After filtering, kept 298 out of a possible 815 Sites\n",
      "Run Time = 0.00 seconds\n"
     ]
    }
   ],
   "source": [
    "%%bash\n",
    "vcftools \\\n",
    "    --vcf /master/nplatt/sch_man_nwinvasion/results/mito_network/mito.vcf \\\n",
    "    --maf 0.05 \\\n",
    "    --recode \\\n",
    "    --recode-INFO-all \\\n",
    "    --stdout \\\n",
    "    >mito_maf05.vcf"
   ]
  },
  {
   "cell_type": "code",
   "execution_count": 81,
   "id": "f79fccbe-806e-4c61-a679-3ad9e2d8a777",
   "metadata": {},
   "outputs": [],
   "source": [
    "#-------------------------------------------------------------------------------\n",
    "# get genotype info per population\n",
    "\n",
    "#read in vcf\n",
    "filtered_callset=allel.read_vcf('{}/mito_network/mito.vcf'.format(results_dir))\n",
    "\n",
    "#now get an index for each sample/population\n",
    "samples = filtered_callset[\"samples\"]\n",
    "\n",
    "i=0\n",
    "pop_idxs = defaultdict(list)   \n",
    "for sample in samples:  \n",
    "    pop_idxs[pop_assign[sample]].append(i) \n",
    "    i=i+1\n",
    "\n",
    "pops= list(pop_idxs.keys()) \n",
    "\n",
    "#get genotypes\n",
    "h=allel.HaplotypeArray(filtered_callset['calldata/GT'][:,:,0])\n",
    "\n",
    "#now get allele count per population\n",
    "ac=h.count_alleles()\n",
    "\n",
    "pop_ac={}\n",
    "for pop in pops:\n",
    "    pop_ac[pop] = h.count_alleles(subpop=pop_idxs[pop])"
   ]
  },
  {
   "cell_type": "code",
   "execution_count": 82,
   "id": "04dc5aab-009d-46d5-a1c9-f4fd133307de",
   "metadata": {},
   "outputs": [
    {
     "name": "stdout",
     "output_type": "stream",
     "text": [
      "haplotype diversity\n",
      "senegal: 0.9966666666666666\n",
      "niger: 0.9777777777777779\n",
      "brazil: 0.9838383838383838\n",
      "tanzania: 1.0\n"
     ]
    }
   ],
   "source": [
    "print(\"haplotype diversity\")\n",
    "for pop in [\"senegal\", \"niger\", \"brazil\", \"tanzania\"]:\n",
    "    sub_h=h[:,pop_idxs[pop]]\n",
    "    hdiv=allel.haplotype_diversity(sub_h)\n",
    "    print(\"{}: {}\".format(pop, hdiv))"
   ]
  },
  {
   "cell_type": "code",
   "execution_count": 83,
   "id": "f4a1e733-ee57-4d9b-a0b9-e89980bcf820",
   "metadata": {},
   "outputs": [
    {
     "name": "stdout",
     "output_type": "stream",
     "text": [
      "senegal: 0.004721205528336565\n",
      "niger: 0.005889746547185994\n",
      "brazil: 0.00021015453066303578\n",
      "tanzania: 0.0072544713041787865\n"
     ]
    }
   ],
   "source": [
    "#mito Pi\n",
    "#allel.sequence_diversity(pos, ac, start=None, stop=None, is_accessible=None)\n",
    "pos_s=filtered_callset['variants/POS']\n",
    "accessible_bases[\"SM_V7_MITO\"]\n",
    "\n",
    "\n",
    "for pop in [\"senegal\", \"niger\", \"brazil\", \"tanzania\"]:\n",
    "    pi=allel.sequence_diversity(pos_s, pop_ac[pop], is_accessible=accessible_bases[\"SM_V7_MITO\"])\n",
    "    print(\"{}: {}\".format(pop, pi))"
   ]
  },
  {
   "cell_type": "code",
   "execution_count": null,
   "id": "f29254ff-312c-4168-a69e-0b72101117cc",
   "metadata": {},
   "outputs": [],
   "source": []
  }
 ],
 "metadata": {
  "kernelspec": {
   "display_name": "Python [conda env:sch_man_nwinvasion-sch_man_nwinvasion-mito_diveristy]",
   "language": "python",
   "name": "conda-env-sch_man_nwinvasion-sch_man_nwinvasion-mito_diveristy-py"
  },
  "language_info": {
   "codemirror_mode": {
    "name": "ipython",
    "version": 3
   },
   "file_extension": ".py",
   "mimetype": "text/x-python",
   "name": "python",
   "nbconvert_exporter": "python",
   "pygments_lexer": "ipython3",
   "version": "3.9.6"
  }
 },
 "nbformat": 4,
 "nbformat_minor": 5
}
