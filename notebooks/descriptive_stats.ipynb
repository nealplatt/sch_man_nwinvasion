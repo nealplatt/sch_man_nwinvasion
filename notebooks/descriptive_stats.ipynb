{
 "cells": [
  {
   "cell_type": "code",
   "execution_count": 6,
   "metadata": {
    "ExecuteTime": {
     "end_time": "2020-11-23T19:41:58.789485Z",
     "start_time": "2020-11-23T19:41:58.784359Z"
    },
    "scrolled": true
   },
   "outputs": [],
   "source": [
    "import os\n",
    "import shutil\n",
    "import vcf\n",
    "import re\n",
    "import gzip\n",
    "import pandas as pd\n",
    "import pysam\n",
    "\n",
    "from IPython.display import Image\n",
    "from Bio import SeqIO\n",
    "\n",
    "\n",
    "## import rpy2.ipython\n",
    "\n",
    "\n",
    "## %load_ext rpy2.ipython\n",
    "\n",
    "os.chdir(\"/master/nplatt/sch_man_nwinvasion\")"
   ]
  },
  {
   "cell_type": "markdown",
   "metadata": {},
   "source": [
    "# Calculate Descriptive Stats\n",
    "\n",
    "Calculate basic descriptive stats including read count, sample coverage, probe depth etc."
   ]
  },
  {
   "cell_type": "code",
   "execution_count": null,
   "metadata": {},
   "outputs": [],
   "source": [
    "%%bash\n",
    "\n",
    "#make directory\n",
    "if [ -d results/probe_coverage_and_read_counts/ ]; then\n",
    "    rm -r  results/probe_coverage_and_read_counts\n",
    "fi\n",
    "\n",
    "mkdir -p results/probe_coverage_and_read_counts/mosdepth\n",
    "mkdir -p results/probe_coverage_and_read_counts/flagstat\n",
    "\n",
    "\n",
    "echo -e \"SAMPLE,NUM_RAW_READS,NUM_FILTERED_READS,NUM_MAPPED_READS,AVG_COV_PER_PROBE,NUM_PROBES_LT_12X_COV,NUM_PROBES_W_0X_COV,MISSING_ALL_SITES,MISSING_FILT_SITES\" \\\n",
    "    >results/probe_coverage_and_read_counts/stats.csv\n",
    "\n",
    "for R1_FQ in $(ls data/exomes/*1.fastq.gz data/sra/*1.fastq.gz); do\n",
    "    SAMPLE=$(basename $R1_FQ _R1.fastq.gz)\n",
    "    \n",
    "    #NUM_RAW_READS  \n",
    "    R2_FQ=data/exomes/\"$SAMPLE\"_R2.fastq.gz \n",
    " \n",
    "    NUM_RAW_LINES=$(zcat $R1_FQ $R2_FQ| wc -l)\n",
    "    NUM_RAW_READS=$(( $NUM_RAW_LINES / 4 ))\n",
    "\n",
    "    #NUM_FILTERED_READS\n",
    "    FILT_R1=results/filtered_reads/\"$SAMPLE\"_filtered_R1.fastq.gz \n",
    "    FILT_R2=results/filtered_reads/\"$SAMPLE\"_filtered_R2.fastq.gz \n",
    "\n",
    "    NUM_FILT_LINES=$(zcat $FILT_R1 $FILT_R2| wc -l)\n",
    "    NUM_FILT_READS=$(( $NUM_FILT_LINES / 4 ))\n",
    "   \n",
    "    #NUM_MAPPED_READS\n",
    "    BAM_FILE=results/mapped_reads/\"$SAMPLE\"_processed.bam\n",
    "    FLAG_FILE=results/probe_coverage_and_read_counts/flagstat/\"$SAMPLE\"_processed.bam.flagstat\n",
    "    \n",
    "    samtools flagstat $BAM_FILE >$FLAG_FILE\n",
    "    NUM_MAPPED_READS=$(grep mapped $FLAG_FILE | cut -f1 -d\" \" | head -n 1)\n",
    "\n",
    "    #COVERAGE\n",
    "    mosdepth \\\n",
    "        -t 10 \\\n",
    "        --by data/renamed-sma_agilent_baits.v7.0.chr_reorderd.bed  \\\n",
    "        results/probe_coverage_and_read_counts/mosdepth/$SAMPLE \\\n",
    "        --no-per-base \\\n",
    "        $BAM_FILE\n",
    "\n",
    "    MOSDEPTH_BED=results/probe_coverage_and_read_counts/mosdepth/$SAMPLE.regions.bed.gz\n",
    "\n",
    "    AVG_COV=$(zcat $MOSDEPTH_BED  | awk '{sum += $4} END {print sum/NR}')\n",
    "    LT12_COV=$(zcat $MOSDEPTH_BED | awk '{if ($4<12) print $0}' | wc -l)\n",
    "    NO_COV=$(zcat $MOSDEPTH_BED   | awk '{if ($4==0) print $0}' | wc -l)\n",
    "\n",
    "    #gt rate at all gtd sites\n",
    "    MISSING_ALL=$(grep $SAMPLE results/variant_filtration/indiv_gt_rate.tbl | cut -f5)\n",
    "\n",
    "\n",
    "    #gt rate at filtered sites\n",
    "    MISSING_FILT=$(grep $SAMPLE results/variant_filtration/gt_rate_per_indiv_at_filtered_sites.tbl | cut -f5)\n",
    "    \n",
    "    #print to file\n",
    "    echo \"$SAMPLE,$NUM_RAW_READS,$NUM_FILT_READS,$NUM_MAPPED_READS,$AVG_COV,$LT12_COV,$NO_COV,$MISSING_ALL,$MISSING_FILT\" >>results/probe_coverage_and_read_counts/stats.csv\n",
    "    echo -e \"$SAMPLE\\t$NUM_RAW_READS\\t$NUM_FILT_READS\\t$NUM_MAPPED_READS\\t$AVG_COV\\t$LT12_COV\\t$NO_COV\\t$MISSING_ALL\\t$MISSING_FILT\"\n",
    "done\n"
   ]
  },
  {
   "cell_type": "code",
   "execution_count": 114,
   "metadata": {},
   "outputs": [
    {
     "data": {
      "image/png": "[encoded data removed]"
     },
     "metadata": {},
     "output_type": "display_data"
    }
   ],
   "source": [
    "%%R\n",
    "\n",
    "#gt_rate_all_sites_tbl<-read.table(\"results/variant_filtration/gt_rate_per_site.tbl\", header=TRUE)\n",
    "#gt_rate_flt_sites_tbl<-read.table(\"results/variant_filtration/gt_rate_per_site_at_filtered_sites.tbl\", header=TRUE)\n",
    "\n",
    "#head(gt_rate_flt_sites_tbl)\n",
    "\n",
    "boxplot(1-gt_rate_all_sites_tbl$F_MISS, \n",
    "        1-gt_rate_flt_sites_tbl$F_MISS,\n",
    "        notch=FALSE,\n",
    "        ylab=\"Genotyping rate\",\n",
    "        col=c(\"grey\", \"grey\"),\n",
    "        names=c(\"All Sites\", \"Filtered Sites\"),\n",
    "        boxwex=0.33\n",
    "       )\n",
    "\n",
    "\n",
    "\n",
    "#hist(1-gt_rate_flt_sites_tbl$F_MISS)"
   ]
  },
  {
   "cell_type": "code",
   "execution_count": 7,
   "metadata": {
    "ExecuteTime": {
     "end_time": "2020-11-23T19:42:12.422832Z",
     "start_time": "2020-11-23T19:42:12.400695Z"
    }
   },
   "outputs": [],
   "source": [
    "#read vcf to get all samples and store based on genome or exome\n",
    "vcf_reader = vcf.Reader(open('results/variant_filtration/smv7_ex_snps.vcf', 'r'))\n",
    "\n",
    "samples={}\n",
    "samples['genome'] = [x for x in vcf_reader.samples if re.search(\"^ER\", x)]     \n",
    "samples['exome'] = [x for x in vcf_reader.samples if not re.search(\"^ER\", x)]     \n",
    "\n",
    "#create empty df to store info\n",
    "df = pd.DataFrame(index=[samples['exome'] + samples['genome']])\n",
    "\n",
    "\n",
    "#fxn to count num seqs in fastq.gz file\n",
    "def num_seqs(in_fastq_gz):\n",
    "    n=0\n",
    "    with gzip.open(in_fastq_gz, \"rt\") as handle:\n",
    "        for record in SeqIO.parse(handle, \"fastq\"):\n",
    "            n=n+1\n",
    "    return n"
   ]
  },
  {
   "cell_type": "code",
   "execution_count": 15,
   "metadata": {
    "ExecuteTime": {
     "end_time": "2020-11-23T19:49:08.123446Z",
     "start_time": "2020-11-23T19:49:08.016723Z"
    }
   },
   "outputs": [],
   "source": [
    "import pysam\n",
    "samfile = pysam.AlignmentFile(\"results/mapped_reads/Sm.BR_PdV.0447.1_processed.bam\", \"rb\")\n"
   ]
  },
  {
   "cell_type": "code",
   "execution_count": 16,
   "metadata": {
    "ExecuteTime": {
     "end_time": "2020-11-23T19:49:27.414972Z",
     "start_time": "2020-11-23T19:49:27.409660Z"
    }
   },
   "outputs": [
    {
     "data": {
      "text/plain": [
       "18207430"
      ]
     },
     "execution_count": 16,
     "metadata": {},
     "output_type": "execute_result"
    }
   ],
   "source": [
    "samfile.mapped"
   ]
  },
  {
   "cell_type": "code",
   "execution_count": null,
   "metadata": {
    "ExecuteTime": {
     "start_time": "2020-11-23T19:50:55.409Z"
    }
   },
   "outputs": [],
   "source": [
    "#get all read count info\n",
    "\n",
    "num_raws  = []\n",
    "num_filts = []\n",
    "num_maps  = []\n",
    "seq_types = []\n",
    "#count num of raw and filtered reads\n",
    "for sample in samples['exome'] + samples['genome']:\n",
    "    seq_type = \"\"\n",
    "    \n",
    "    if sample in samples['exome']:\n",
    "        raw_file = \"data/exomes/{}_R1.fastq.gz\".format(sample)\n",
    "        seq_type = \"exome\"\n",
    "    if sample in samples['genome']:\n",
    "        raw_file = \"data/sra/{}_1.fastq.gz\".format(sample)\n",
    "        seq_type = \"genome\"\n",
    "        \n",
    "    filtered_file = \"results/filtered_reads/{}_filtered_R1.fastq.gz\".format(sample)\n",
    "    bam_file = pysam.AlignmentFile(\"results/mapped_reads/{}_processed.bam\".format(sample), \"rb\")\n",
    "    \n",
    "    #raw reads\n",
    "    num_raw = num_seqs(raw_file)\n",
    "    \n",
    "    #filtered reads\n",
    "    num_filt = num_seqs(filtered_file)\n",
    "\n",
    "\n",
    "    #count num mapped reads\n",
    "    num_map = samfile.mapped\n",
    "\n",
    "    seq_types.append(seq_type)\n",
    "    num_raws.append(num_raw)\n",
    "    num_filts.append(num_filt)\n",
    "    num_maps.append(num_map)\n",
    "    \n",
    "    print(\"{}\\t{}\\t{}\\t{}\\t{}\".format(sample, seq_type, num_raw, num_filt, num_map))\n",
    "    \n",
    "df.insert(0,'seq_type', seq_types)\n",
    "df.insert(1,'num_raw', num_raws)\n",
    "df.insert(2,'num_filt', num_filts)\n",
    "df.insert(3,'mapped_reads', num_maps)"
   ]
  },
  {
   "cell_type": "code",
   "execution_count": null,
   "metadata": {
    "ExecuteTime": {
     "start_time": "2020-11-23T19:50:59.151Z"
    }
   },
   "outputs": [],
   "source": [
    "df"
   ]
  },
  {
   "cell_type": "code",
   "execution_count": null,
   "metadata": {},
   "outputs": [],
   "source": [
    "#now get gt info\n",
    "\n",
    "for sample in samples['exome'] + samples['genome']:\n",
    "    \n",
    "    #count num gtd\n",
    "    raw_vcf = 'results/genotype/cohort_raw.vcf'\n",
    "    \n",
    "    \n",
    "    #count num in final vcf file\n",
    "\n",
    "    #count depth of final vcf per site"
   ]
  }
 ],
 "metadata": {
  "kernelspec": {
   "display_name": "Python 3",
   "language": "python",
   "name": "python3"
  },
  "language_info": {
   "codemirror_mode": {
    "name": "ipython",
    "version": 3
   },
   "file_extension": ".py",
   "mimetype": "text/x-python",
   "name": "python",
   "nbconvert_exporter": "python",
   "pygments_lexer": "ipython3",
   "version": "3.8.5"
  },
  "toc": {
   "base_numbering": 1,
   "nav_menu": {},
   "number_sections": true,
   "sideBar": true,
   "skip_h1_title": false,
   "title_cell": "Table of Contents",
   "title_sidebar": "Contents",
   "toc_cell": false,
   "toc_position": {},
   "toc_section_display": true,
   "toc_window_display": false
  }
 },
 "nbformat": 4,
 "nbformat_minor": 2
}
