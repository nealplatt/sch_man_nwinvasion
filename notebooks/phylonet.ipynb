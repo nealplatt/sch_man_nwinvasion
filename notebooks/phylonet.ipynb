{
 "cells": [
  {
   "cell_type": "code",
   "execution_count": 2,
   "id": "floating-metabolism",
   "metadata": {
    "ExecuteTime": {
     "end_time": "2021-02-22T22:12:49.592068Z",
     "start_time": "2021-02-22T22:12:46.990448Z"
    }
   },
   "outputs": [],
   "source": [
    "#run in sch_man_nwinvasion-jupyter environment\n",
    "\n",
    "import os\n",
    "#import vcf\n",
    "from tqdm import tqdm\n",
    "import shutil\n",
    "import allel\n",
    "# import math\n",
    "# import yaml\n",
    "# import pandas as pd\n",
    "# #import matplotlib.pyplot as plt\n",
    "# import numpy as np\n",
    "# from collections import defaultdict\n",
    "# from scipy import stats\n",
    "# import itertools\n",
    "from Bio.Seq import Seq\n",
    "from Bio.SeqRecord import SeqRecord\n",
    "from Bio import SeqIO\n",
    "\n",
    "os.chdir(\"/master/nplatt/sch_man_nwinvasion\")"
   ]
  },
  {
   "cell_type": "markdown",
   "id": "august-triangle",
   "metadata": {},
   "source": [
    "# Full"
   ]
  },
  {
   "cell_type": "code",
   "execution_count": 15,
   "id": "assisted-diesel",
   "metadata": {
    "ExecuteTime": {
     "end_time": "2021-02-24T15:04:42.354531Z",
     "start_time": "2021-02-24T15:04:36.290950Z"
    }
   },
   "outputs": [],
   "source": [
    "#read in vcf\n",
    "phased_callset=allel.read_vcf('results/phasing/auto_beagle.vcf')\n",
    "\n",
    "#now get an index for each sample/population\n",
    "samples = phased_callset[\"samples\"]\n",
    "\n",
    "#get genotypes\n",
    "gt=allel.GenotypeArray(phased_callset['calldata/GT'])"
   ]
  },
  {
   "cell_type": "code",
   "execution_count": 16,
   "id": "respective-apple",
   "metadata": {
    "ExecuteTime": {
     "end_time": "2021-02-24T15:04:43.019387Z",
     "start_time": "2021-02-24T15:04:42.357105Z"
    }
   },
   "outputs": [],
   "source": [
    "#get chroms\n",
    "chroms = phased_callset[\"variants/CHROM\"]\n",
    "\n",
    "#get ref alleles\n",
    "ref_alleles = phased_callset[\"variants/REF\"]\n",
    "\n",
    "#get alt alleles\n",
    "alt_alleles=[]\n",
    "for sites in phased_callset[\"variants/ALT\"]:\n",
    "    alt_alleles.append(sites[0])\n",
    "\n",
    "alleles=[list(a) for a in zip(ref_alleles, alt_alleles)]"
   ]
  },
  {
   "cell_type": "code",
   "execution_count": 17,
   "id": "successful-virgin",
   "metadata": {
    "ExecuteTime": {
     "end_time": "2021-02-24T17:25:57.112592Z",
     "start_time": "2021-02-24T15:04:44.163658Z"
    }
   },
   "outputs": [
    {
     "name": "stderr",
     "output_type": "stream",
     "text": [
      "100%|██████████| 475081/475081 [2:21:12<00:00, 56.07it/s]  \n"
     ]
    }
   ],
   "source": [
    "# for chrom in range(1,8):\n",
    "#     chrom=\"SM_V7_{}\".format(chrom)\n",
    "    \n",
    "haplotypes = {}\n",
    "\n",
    "for sample in samples:\n",
    "    haplotypes[sample]=[\"\",\"\"]\n",
    "    \n",
    "\n",
    "for i in tqdm(range(len(gt))):\n",
    "    for j in range(len(gt[i])):\n",
    "        h1=gt[i][j][0]\n",
    "        h2=gt[i][j][1]\n",
    "        \n",
    "        h1_nuc=alleles[i][h1]\n",
    "        h2_nuc=alleles[i][h2]\n",
    "        \n",
    "        sample=samples[j]\n",
    "        \n",
    "        haplotypes[sample][0]+=h1_nuc\n",
    "        haplotypes[sample][1]+=h2_nuc\n",
    "   "
   ]
  },
  {
   "cell_type": "code",
   "execution_count": 18,
   "id": "becoming-peeing",
   "metadata": {
    "ExecuteTime": {
     "end_time": "2021-02-24T17:30:46.397146Z",
     "start_time": "2021-02-24T17:30:46.391960Z"
    }
   },
   "outputs": [],
   "source": [
    "#delete Kenyan and rep samples:\n",
    "for sample in [\"ERR119614\", \"Sm.BR_PdV.1409_rep\", \"Sm.BR_PdV.1475_rep\", \"Sm.BR_PdV.2406_rep\" ]:\n",
    "    haplotypes.pop(sample, None)"
   ]
  },
  {
   "cell_type": "code",
   "execution_count": 20,
   "id": "potential-comfort",
   "metadata": {
    "ExecuteTime": {
     "end_time": "2021-02-24T17:32:12.129396Z",
     "start_time": "2021-02-24T17:32:01.699974Z"
    }
   },
   "outputs": [
    {
     "data": {
      "text/plain": [
       "302"
      ]
     },
     "execution_count": 20,
     "metadata": {},
     "output_type": "execute_result"
    }
   ],
   "source": [
    "#save as a phylip:\n",
    "hap_1s=[]\n",
    "hap_2s=[]\n",
    "\n",
    "#make a sample key:\n",
    "sample_key = {}\n",
    "i=0\n",
    "for sample in haplotypes.keys():\n",
    "    h1_id=\"{}_h1\".format(sample)\n",
    "    h2_id=\"{}_h2\".format(sample)\n",
    "    sample_key[h1_id]=i\n",
    "    sample_key[h2_id]=i+1\n",
    "    i=i+2\n",
    "    \n",
    "    \n",
    "for sample in haplotypes.keys():\n",
    "    h1_id=\"{}_h1\".format(sample)\n",
    "    h2_id=\"{}_h2\".format(sample)\n",
    "    \n",
    "    hap1 = SeqRecord( Seq(haplotypes[sample][0]),\n",
    "                      id=\"{}\".format(sample_key[h1_id]) )\n",
    "    hap2 = SeqRecord( Seq(haplotypes[sample][1]),\n",
    "                      id=\"{}\".format(sample_key[h2_id]) )        \n",
    "        \n",
    "    hap_1s.append(hap1)\n",
    "    hap_2s.append(hap2)\n",
    "    \n",
    "\n",
    "SeqIO.write(hap_1s + hap_2s, \"results/phylonet/full.phy\", \"phylip\")"
   ]
  },
  {
   "cell_type": "code",
   "execution_count": null,
   "id": "exclusive-jacksonville",
   "metadata": {
    "ExecuteTime": {
     "end_time": "2021-02-20T00:07:55.387718Z",
     "start_time": "2021-02-20T00:07:55.169924Z"
    }
   },
   "outputs": [],
   "source": [
    "#remove invariant sites\n",
    "! python ~/sch_man_nwinvasion/bin/raxml_ascbias/ascbias.py -p results/phylonet/full.phy -o results/phylonet/variant.phy"
   ]
  },
  {
   "cell_type": "code",
   "execution_count": 22,
   "id": "cheap-algeria",
   "metadata": {
    "ExecuteTime": {
     "end_time": "2021-02-24T17:38:05.285361Z",
     "start_time": "2021-02-24T17:36:49.791660Z"
    }
   },
   "outputs": [],
   "source": [
    "#read in variable sites and update names.\n",
    "rev_sample_key = {v: k for k, v in sample_key.items()}\n",
    "\n",
    "var_haps={}\n",
    "with open(\"results/phylonet/variant.phy\", 'r') as f:\n",
    "    next(f)\n",
    "    for entry in f:\n",
    "        tmp_id, seq = entry.rstrip().split(\"\\t\")\n",
    "        sample_id = rev_sample_key[int(tmp_id)]\n",
    "        var_haps[sample_id] = seq\n",
    "        \n",
    "        \n",
    "# if os.path.isdir(\"results/phylonet/alignments\") :\n",
    "#     shutil.rmtree(\"results/phylonet/alignments\")\n",
    "\n",
    "os.makedirs(\"results/phylonet/alignments\", exist_ok=True)\n",
    "\n",
    "num_samples=len(var_haps.keys())\n",
    "n = 1000\n",
    "\n",
    "for sample in var_haps.keys():\n",
    "    seq=var_haps[sample]\n",
    "    chunks = [seq[i:i+n] for i in range(0, len(seq), n)]\n",
    "\n",
    "    for i in range(len(chunks)):\n",
    "#         if not os.path.isfile(\"results/phylonet/alignments/split_seq_{}.fas\".format(i)):\n",
    "#              with open(\"results/phylonet/alignments/split_seq_{}.fas\".format(i), 'w') as f:\n",
    "#                 f.write(\"{} {}\\n\".format(num_samples, n))\n",
    "\n",
    "        split_seq=\">{}\\n{}\\n\".format(sample, chunks[i])\n",
    "\n",
    "        with open(\"results/phylonet/alignments/split_seq_{}.fas\".format(i), 'a') as f:\n",
    "            f.write(split_seq)"
   ]
  },
  {
   "cell_type": "code",
   "execution_count": null,
   "id": "hairy-russia",
   "metadata": {},
   "outputs": [],
   "source": [
    "#fix names\n",
    "! sed -i 's/\\./-/g' results/phylonet/alignments/split_seq*.fas "
   ]
  },
  {
   "cell_type": "code",
   "execution_count": null,
   "id": "crude-situation",
   "metadata": {
    "ExecuteTime": {
     "end_time": "2021-02-20T01:43:50.876263Z",
     "start_time": "2021-02-20T01:43:50.112940Z"
    }
   },
   "outputs": [],
   "source": [
    "%%bash\n",
    "\n",
    "mkdir results/phylonet/raxml-ng\n",
    "mkdir results/phylonet/raxml-ng/qlogs\n",
    "\n",
    "CONDA=\"conda activate sch_man_nwinvasion-phylonet;\"\n",
    "QSUB=\"qsub -V -cwd -S /bin/bash -q all.q -j y -pe smp 6 \"    \n",
    "\n",
    "for FAS in $(ls results/phylonet/alignments/split_seq_*.fas); do\n",
    "\n",
    "    SAMPLE=$(basename $FAS .fas)\n",
    "\n",
    "    RAXML_CMD=\"raxml-ng \\\n",
    "        --all \\\n",
    "        --msa $FAS \\\n",
    "        --msa-format fasta \\\n",
    "        --outgroup ERR310938_h1,ERR310938_h2 \\\n",
    "        --threads 6 \\\n",
    "        --bs-trees 100 \\\n",
    "        --model GTR+G+ASC_LEWIS \\\n",
    "        --prefix results/phylonet/raxml-ng/$SAMPLE\"     \n",
    "        \n",
    "        echo \"$CONDA $RAXML_CMD\" | $QSUB -N $SAMPLE -o results/phylonet/raxml-ng/qlogs/$SAMPLE.log\n",
    "done\n"
   ]
  },
  {
   "cell_type": "code",
   "execution_count": null,
   "id": "structured-event",
   "metadata": {},
   "outputs": [],
   "source": [
    "#now prep gene trees for phylonet\n",
    "cat results/phylonet/gene_trees/*support >results/phylonet/gene_trees.nwk\n",
    "\n",
    "#collapse trees w/ <10 bs support\n",
    "nw_ed  results/phylonet/gene_trees.nwk 'i & b<=10' o > results/phylonet/gene_trees_BS10.nwk\n",
    "\n",
    "#root on margrebowiei\n",
    "nw_reroot results/phylonet/gene_trees_BS10.nwk ERX284221 >results/phylonet/gene_trees_BS10_marg_root.nwk\n",
    "\n",
    "#rename and remove \".\"s in name\n",
    "nw_rename short_IDs.nw id2longname.map\n",
    "\n",
    "#may need to open file in figtree to remove bootstrap values\n",
    "\n",
    "\n",
    "#then added the following text to the bottom to run phylonet\n",
    "# BEGIN PHYLONET;\n",
    "\n",
    "# InferNetwork_MPL (all) 4 -pl 48 -a <margrebowiei:ERX284221;cameroon:ERR103050;uganda:ERR119615,ERR997461;guadeloupe:ERR539847,ERR539848;puerto_rico:ERR046038;brazil:Sm-BR_PdV-1278-1,Sm-BR_PdV-2039-1,Sm-BR_PdV-2076-1,Sm-BR_PdV-2265-1,Sm-BR_PdV-2334-1,Sm-BR_PdV-2406-1,Sm-BR_PdV-2456-1,Sm-BR_PdV-2481-1,Sm-BR_PdV-2538-1,Sm-BR_PdV-2556-1;niger:Sm-NE_Di158-1,Sm-NE_Di186-1,Sm-NE_Di238-1,Sm-NE_Di297-1,Sm-NE_Di297-2,Sm-NE_Di68-2,Sm-NE_Na376-2,Sm-NE_Na381-1,Sm-NE_Na39-1,Sm-NE_Na40-1;senegal:ERR103049,Sm-SN_Nd115-1,Sm-SN_Nd22-1,Sm-SN_Nd24-1,Sm-SN_Nd34-1,Sm-SN_Nd43-1,Sm-SN_Nd47-1,Sm-SN_Nd50-1,Sm-SN_Nd54-1,Sm-SN_Nd90-1;tanzania:Sm-TZ_009-4-2,Sm-TZ_009-8-2,Sm-TZ_055-1-3,Sm-TZ_055-10-1,Sm-TZ_055-8-1,Sm-TZ_074N-1-2,Sm-TZ_074N-7-2,Sm-TZ_074N-8-1,Sm-TZ_086-1-1,Sm-TZ_134-1-1;rodhaini:ERR310938,Sro_female_1-1_CCATCCTC,Sro_female_1-2_CCGACAAC,Sro_female_2-1_CCTAATCC,Sro_female_2-2_CCTCTATC,Sro_male_1-1_ATCATTCC,Sro_male_1-2_ATTGGCTC,Sro_male_2-1_CAAGGAGC,Sro_male_2-2_CACCTTAC> mpl. ;\n",
    "\n",
    "# END;"
   ]
  },
  {
   "cell_type": "code",
   "execution_count": null,
   "id": "incorporate-savannah",
   "metadata": {},
   "outputs": [],
   "source": []
  },
  {
   "cell_type": "code",
   "execution_count": null,
   "id": "acoustic-cornwall",
   "metadata": {},
   "outputs": [],
   "source": [
    "#NEXUS\n",
    "\n",
    "BEGIN TREES;\n",
    "\n",
    "Tree gt0=\n",
    "\n",
    "\n",
    "END;\n",
    "\n",
    "BEGIN PHYLONET;\n",
    "\n",
    "InferNetwork_MPL geneTreeList 4 -a <> -pl 96 mpl. ;\n",
    "\n",
    "END;\n",
    "\n",
    "<uganda:ERR119615,ERR997461; tanzania:Sm.TZ_009.1.1,Sm.TZ_009.10.1,Sm.TZ_009.2.2,Sm.TZ_009.3.1,Sm.TZ_009.4.2,Sm.TZ_009.5.2,Sm.TZ_009.6.1,Sm.TZ_009.7.1,Sm.TZ_009.8.2,Sm.TZ_009.9.1,Sm.TZ_055.1.3,Sm.TZ_055.10.1,Sm.TZ_055.2.1,Sm.TZ_055.3.2,Sm.TZ_055.5.1,Sm.TZ_055.6.1,Sm.TZ_055.7.1,Sm.TZ_055.8.1,Sm.TZ_074N.1.2,Sm.TZ_074N.10.2,Sm.TZ_074N.2.2,Sm.TZ_074N.3.2,Sm.TZ_074N.4.1,Sm.TZ_074N.6.3,Sm.TZ_074N.7.2,Sm.TZ_074N.8.1,Sm.TZ_074N.9.1,Sm.TZ_077.2.1,Sm.TZ_077.3.1,Sm.TZ_077.4.2,Sm.TZ_077.5.1,Sm.TZ_077.6.1,Sm.TZ_077.7.3,Sm.TZ_077.8.1,Sm.TZ_077.9.2,Sm.TZ_086.1.1,Sm.TZ_086.2.3,Sm.TZ_086.3.1,Sm.TZ_086.4.2,Sm.TZ_086.5.1,Sm.TZ_086.6.1,Sm.TZ_086.7.1,Sm.TZ_086.8.1,Sm.TZ_134.1.1,Sm.TZ_134.2.2,Sm.TZ_134.4.1,Sm.TZ_134.5.1,Sm.TZ_134.6.1,Sm.TZ_141.1.1,Sm.TZ_141.3.1,Sm.TZ_141.4.2,Sm.TZ_141.5.3,Sm.TZ_141.6.1,Sm.TZ_141.7.1,Sm.TZ_141.8.1; senegal:ERR103049,Sm.SN_Nd103.1,Sm.SN_Nd109.1,Sm.SN_Nd114.1,Sm.SN_Nd115.1,Sm.SN_Nd18.1,Sm.SN_Nd22.1,Sm.SN_Nd24.1,Sm.SN_Nd25.1,Sm.SN_Nd34.1,Sm.SN_Nd43.1,Sm.SN_Nd47.1,Sm.SN_Nd5.1,Sm.SN_Nd5.2,Sm.SN_Nd50.1,Sm.SN_Nd54.1,Sm.SN_Nd56.1,Sm.SN_Nd77.1,Sm.SN_Nd79.1,Sm.SN_Nd9.1,Sm.SN_Nd90.1,Sm.SN_Te26.1,Sm.SN_Te3.1,Sm.SN_Te49.1,Sm.SN_Te55.1,Sm.SN_Te68.1; rodhaini:ERR310938,Sro_female_1.1_CCATCCTC,Sro_female_1.2_CCGACAAC,Sro_female_2.1_CCTAATCC,Sro_female_2.2_CCTCTATC,Sro_male_1.1_ATCATTCC,Sro_male_1.2_ATTGGCTC,Sro_male_2.1_CAAGGAGC,Sro_male_2.2_CACCTTAC; niger:Sm.NE_Di158.1,Sm.NE_Di186.1,Sm.NE_Di238.1,Sm.NE_Di297.1,Sm.NE_Di297.2,Sm.NE_Di68.2,Sm.NE_Na376.2,Sm.NE_Na381.1,Sm.NE_Na39.1,Sm.NE_Na40.1; margrebowiei:ERX284221; cameroon:ERR103050; brazil:Sm.BR_PdV.0447.1,Sm.BR_PdV.1039.1,Sm.BR_PdV.1079.1,Sm.BR_PdV.1094.1,Sm.BR_PdV.1103.1,Sm.BR_PdV.1127.1,Sm.BR_PdV.1278.1,Sm.BR_PdV.1340.1,Sm.BR_PdV.1340.2,Sm.BR_PdV.1371.1,Sm.BR_PdV.1404.1,Sm.BR_PdV.1409.1,Sm.BR_PdV.1418.1,Sm.BR_PdV.1475.1,Sm.BR_PdV.1489.1,Sm.BR_PdV.2039.1,Sm.BR_PdV.2039.2,Sm.BR_PdV.2072.1,Sm.BR_PdV.2074.1,Sm.BR_PdV.2076.1,Sm.BR_PdV.2133.1,Sm.BR_PdV.2147.1,Sm.BR_PdV.2189.1,Sm.BR_PdV.2196.2,Sm.BR_PdV.2225.1,Sm.BR_PdV.2227.1,Sm.BR_PdV.2265.1,Sm.BR_PdV.2290.1,Sm.BR_PdV.2300.1,Sm.BR_PdV.2334.1,Sm.BR_PdV.2368.1,Sm.BR_PdV.2406.1,Sm.BR_PdV.2422.1,Sm.BR_PdV.2450.1,Sm.BR_PdV.2456.1,Sm.BR_PdV.2481.1,Sm.BR_PdV.2489.1,Sm.BR_PdV.2508.1,Sm.BR_PdV.2516.2,Sm.BR_PdV.2530.1,Sm.BR_PdV.2538.1,Sm.BR_PdV.2546.1,Sm.BR_PdV.2556.1,Sm.BR_PdV.2577.1,Sm.BR_PdV.4293.2; guadeloupe:ERR539847,ERR539848; puerto_rico:ERR046038>"
   ]
  },
  {
   "cell_type": "markdown",
   "id": "assisted-brown",
   "metadata": {
    "heading_collapsed": true
   },
   "source": [
    "# reduced biallelic"
   ]
  },
  {
   "cell_type": "code",
   "execution_count": 3,
   "id": "circular-theater",
   "metadata": {
    "ExecuteTime": {
     "end_time": "2021-02-22T22:12:51.280917Z",
     "start_time": "2021-02-22T22:12:51.266997Z"
    },
    "hidden": true
   },
   "outputs": [],
   "source": [
    "samples = { \"Sm.BR_PdV.1278.1\":        \"brazil\", \n",
    "            \"Sm.BR_PdV.2039.1\":        \"brazil\",\n",
    "            \"Sm.BR_PdV.2076.1\":        \"brazil\",\n",
    "            \"Sm.BR_PdV.2265.1\":        \"brazil\",\n",
    "            \"Sm.BR_PdV.2334.1\":        \"brazil\",\n",
    "            \"Sm.BR_PdV.2406.1\":        \"brazil\",\n",
    "            \"Sm.BR_PdV.2456.1\":        \"brazil\",\n",
    "            \"Sm.BR_PdV.2481.1\":        \"brazil\",\n",
    "            \"Sm.BR_PdV.2538.1\":        \"brazil\",\n",
    "            \"Sm.BR_PdV.2556.1\":        \"brazil\",\n",
    "            \"ERR103050\":               \"cameroon\",\n",
    "            \"ERR046038\":               \"puerto_rico\",\n",
    "            \"ERR539847\":               \"guadeloupe\",\n",
    "            \"ERR539848\":               \"guadeloupe\",\n",
    "            \"ERX284221\":               \"margrebowiei\",\n",
    "            \"Sm.NE_Di158.1\":           \"niger\",\n",
    "            \"Sm.NE_Di186.1\":           \"niger\",\n",
    "            \"Sm.NE_Di238.1\":           \"niger\",\n",
    "            \"Sm.NE_Di297.1\":           \"niger\",\n",
    "            \"Sm.NE_Di297.2\":           \"niger\",\n",
    "            \"Sm.NE_Di68.2\":            \"niger\",\n",
    "            \"Sm.NE_Na376.2\":           \"niger\",\n",
    "            \"Sm.NE_Na381.1\":           \"niger\",\n",
    "            \"Sm.NE_Na39.1\":            \"niger\",\n",
    "            \"Sm.NE_Na40.1\":            \"niger\",\n",
    "            \"ERR310938\":               \"rodhaini\",\n",
    "            \"Sro_female_1.1_CCATCCTC\": \"rodhaini\",\n",
    "            \"Sro_female_1.2_CCGACAAC\": \"rodhaini\",\n",
    "            \"Sro_female_2.1_CCTAATCC\": \"rodhaini\",\n",
    "            \"Sro_female_2.2_CCTCTATC\": \"rodhaini\",\n",
    "            \"Sro_male_1.1_ATCATTCC\":   \"rodhaini\",\n",
    "            \"Sro_male_1.2_ATTGGCTC\":   \"rodhaini\",\n",
    "            \"Sro_male_2.1_CAAGGAGC\":   \"rodhaini\",\n",
    "            \"Sro_male_2.2_CACCTTAC\":   \"rodhaini\",\n",
    "            \"ERR103049\":               \"senegal\",\n",
    "            \"Sm.SN_Nd115.1\":           \"senegal\",\n",
    "            \"Sm.SN_Nd22.1\":            \"senegal\",\n",
    "            \"Sm.SN_Nd24.1\":            \"senegal\",\n",
    "            \"Sm.SN_Nd34.1\":            \"senegal\",\n",
    "            \"Sm.SN_Nd43.1\":            \"senegal\",\n",
    "            \"Sm.SN_Nd47.1\":            \"senegal\",\n",
    "            \"Sm.SN_Nd50.1\":            \"senegal\",\n",
    "            \"Sm.SN_Nd54.1\":            \"senegal\",\n",
    "            \"Sm.SN_Nd90.1\":            \"senegal\",\n",
    "            \"Sm.TZ_009.4.2\":           \"tanzania\",\n",
    "            \"Sm.TZ_009.8.2\":           \"tanzania\",\n",
    "            \"Sm.TZ_055.1.3\":           \"tanzania\",\n",
    "            \"Sm.TZ_055.10.1\":          \"tanzania\",\n",
    "            \"Sm.TZ_055.8.1\":           \"tanzania\",\n",
    "            \"Sm.TZ_074N.1.2\":          \"tanzania\",\n",
    "            \"Sm.TZ_074N.7.2\":          \"tanzania\",\n",
    "            \"Sm.TZ_074N.8.1\":          \"tanzania\",\n",
    "            \"Sm.TZ_086.1.1\":           \"tanzania\",\n",
    "            \"Sm.TZ_134.1.1\":           \"tanzania\",\n",
    "            \"ERR119615\":               \"uganda\",\n",
    "            \"ERR997461\":               \"uganda\" }\n",
    "\n",
    " \n",
    "with open(\"results/phylonet/random_samples.list\", 'w') as f:\n",
    "    for sample in samples.keys():\n",
    "        f.write(\"{}\\n\".format(sample))"
   ]
  },
  {
   "cell_type": "code",
   "execution_count": 135,
   "id": "mediterranean-childhood",
   "metadata": {
    "ExecuteTime": {
     "end_time": "2021-02-22T16:29:47.666163Z",
     "start_time": "2021-02-22T16:29:19.487206Z"
    },
    "hidden": true
   },
   "outputs": [
    {
     "name": "stderr",
     "output_type": "stream",
     "text": [
      "\n",
      "VCFtools - 0.1.17\n",
      "(C) Adam Auton and Anthony Marcketta 2009\n",
      "\n",
      "Parameters as interpreted:\n",
      "\t--vcf results/phasing/auto_beagle.vcf\n",
      "\t--keep results/phylonet/random_samples/random_samples.list\n",
      "\t--recode-INFO-all\n",
      "\t--recode\n",
      "\t--stdout\n",
      "\n",
      "Keeping individuals in 'keep' list\n",
      "After filtering, kept 55 out of 155 Individuals\n",
      "Outputting VCF file...\n",
      "After filtering, kept 475081 out of a possible 475081 Sites\n",
      "Run Time = 27.00 seconds\n"
     ]
    }
   ],
   "source": [
    "%%bash\n",
    "\n",
    "#create vcf with only these samples\n",
    "vcftools \\\n",
    "    --vcf results/phasing/auto_beagle.vcf \\\n",
    "    --maf 0.05 \\\n",
    "    --recode \\\n",
    "    --recode-INFO-all \\\n",
    "    --stdout \\\n",
    "    >results/phylonet/auto_beagle_maf05.vcf\n",
    "#After filtering, kept 98715 out of a possible 475081 Sites\n",
    "\n",
    "vcftools \\\n",
    "    --vcf results/phylonet/auto_beagle_maf05.vcf \\\n",
    "    --keep results/phylonet/random_samples.list \\\n",
    "    --recode \\\n",
    "    --recode-INFO-all \\\n",
    "    --stdout \\\n",
    "    >results/phylonet/random_auto_beagle_maf05.vcf\n",
    "    \n",
    "plink \\\n",
    "    --vcf results/phylonet/random_auto_beagle_maf05.vcf \\\n",
    "    --double-id \\\n",
    "    --allow-extra-chr \\\n",
    "    --indep-pairwise 25 5 0.20 \\\n",
    "    --out results/phylonet/random_auto_beagle_maf05\n",
    "#Pruning complete.  89154 of 98715 variants removed.\n",
    "\n",
    "vcftools \\\n",
    "    --vcf results/phylonet/random_auto_beagle_maf05.vcf \\\n",
    "    --exclude results/phylonet/random_auto_beagle_maf05.prune.out \\\n",
    "    --recode \\\n",
    "    --recode-INFO-all \\\n",
    "    --stdout \\\n",
    "    >results/phylonet/random_auto_beagle_maf05_ld.vcf\n",
    "#After filtering, kept 55 out of 55 Individuals\n",
    "#Outputting VCF file...\n",
    "#After filtering, kept 9561 out of a possible 98715 Sites\n"
   ]
  },
  {
   "cell_type": "code",
   "execution_count": null,
   "id": "dimensional-coach",
   "metadata": {
    "ExecuteTime": {
     "end_time": "2021-02-22T16:33:12.843890Z",
     "start_time": "2021-02-22T16:33:12.612778Z"
    },
    "hidden": true
   },
   "outputs": [],
   "source": [
    "#create phylip\n",
    "! bin/vcf2phylip/vcf2phylip.py -i results/phylonet/random_auto_beagle_maf05_ld.vcf -b"
   ]
  },
  {
   "cell_type": "code",
   "execution_count": null,
   "id": "clean-peripheral",
   "metadata": {
    "hidden": true
   },
   "outputs": [],
   "source": [
    "### fix header to say:\n",
    "#NEXUS\n",
    "\n",
    "BEGIN DATA;\n",
    "        DIMENSIONS NTAX=55 NCHAR=9561;\n",
    "        FORMAT DATATYPE=DNA SYMBOLS=\"012\" MISSING=? GAP=- ;\n",
    "MATRIX\n",
    "\n",
    "<...>\n",
    "\n",
    "BEGIN PHYLONET;\n",
    "\n",
    "    MLE_BiMarkers -pseudo -pl 96 -op -mnr 10 -mno 20 -mf 50 -diploid -mr 4 -sd 987654321 -tm <margrebowiei:ERR310938; rodhaini:Sro_female_1.1_CCATCCTC,Sro_female_1.2_CCGACAAC,Sro_female_2.1_CCTAATCC,Sro_female_2.2_CCTCTATC,Sro_male_1.1_ATCATTCC,Sro_male_1.2_ATTGGCTC,Sro_male_2.1_CAAGGAGC,Sro_male_2.2_CACCTTAC; puerto_rico:ERR046038; guadeloupe:ERR539847,ERR539848; brazil:Sm.BR_PdV.1278.1,Sm.BR_PdV.2039.1,Sm.BR_PdV.2076.1,Sm.BR_PdV.2265.1,Sm.BR_PdV.2334.1,Sm.BR_PdV.2406.1,Sm.BR_PdV.2456.1,Sm.BR_PdV.2481.1,Sm.BR_PdV.2538.1,Sm.BR_PdV.2556.1; cameroon:ERR103050; niger:Sm.NE_Di158.1,Sm.NE_Di186.1,Sm.NE_Di238.1,Sm.NE_Di297.1,Sm.NE_Di297.2,Sm.NE_Di68.2,Sm.NE_Na376.2,Sm.NE_Na381.1,Sm.NE_Na39.1,Sm.NE_Na40.1; senegal:ERR103049,Sm.SN_Nd115.1,Sm.SN_Nd22.1,Sm.SN_Nd24.1,Sm.SN_Nd34.1,Sm.SN_Nd43.1,Sm.SN_Nd47.1,Sm.SN_Nd50.1,Sm.SN_Nd54.1,Sm.SN_Nd90.1; uganda:ERR119615,ERR997461; tanzania:Sm.TZ_009.4.2,Sm.TZ_009.8.2,Sm.TZ_055.1.3,Sm.TZ_055.10.1,Sm.TZ_055.8.1,Sm.TZ_074N.1.2,Sm.TZ_074N.7.2,Sm.TZ_074N.8.1,Sm.TZ_086.1.1,Sm.TZ_134.1.1> mle_output;\n",
    "\n",
    "END;\n",
    "\n"
   ]
  },
  {
   "cell_type": "code",
   "execution_count": null,
   "id": "wooden-assignment",
   "metadata": {
    "hidden": true
   },
   "outputs": [],
   "source": [
    "%%bash\n",
    "\n",
    "cd results/phylonet\n",
    "\n",
    "java -jar ~/sch_man_nwinvasion/bin/PhyloNet_3.8.2.jar random_auto_beagle_maf05_ld.min4.bin.PHYLONET.nexus"
   ]
  },
  {
   "cell_type": "code",
   "execution_count": 141,
   "id": "flush-apache",
   "metadata": {
    "ExecuteTime": {
     "end_time": "2021-02-22T16:39:00.990480Z",
     "start_time": "2021-02-22T16:39:00.985129Z"
    },
    "hidden": true
   },
   "outputs": [
    {
     "data": {
      "text/plain": [
       "'/master/nplatt/sch_man_nwinvasion'"
      ]
     },
     "execution_count": 141,
     "metadata": {},
     "output_type": "execute_result"
    }
   ],
   "source": [
    "os.getcwd()"
   ]
  },
  {
   "cell_type": "code",
   "execution_count": 142,
   "id": "disturbed-citation",
   "metadata": {
    "ExecuteTime": {
     "end_time": "2021-02-22T16:39:33.367234Z",
     "start_time": "2021-02-22T16:39:33.307049Z"
    },
    "hidden": true
   },
   "outputs": [],
   "source": [
    "#split into 1K snp chunks\n",
    "\n",
    "seqs={}\n",
    "with open(\"results/phylonet/random_samples/random_auto_beagle_variant.phy\", 'r') as f:\n",
    "    next(f)\n",
    "    for entry in f:\n",
    "        seq_id, seq = entry.rstrip().split(\"\\t\")\n",
    "        seqs[seq_id] = seq\n",
    "        "
   ]
  },
  {
   "cell_type": "code",
   "execution_count": 147,
   "id": "increased-magnitude",
   "metadata": {
    "ExecuteTime": {
     "end_time": "2021-02-22T16:43:06.328445Z",
     "start_time": "2021-02-22T16:42:59.819891Z"
    },
    "hidden": true
   },
   "outputs": [],
   "source": [
    "os.makedirs(\"results/phylonet/random_alignments\", exist_ok=True)\n",
    "\n",
    "num_samples=len(seqs.keys())\n",
    "n_snps = 1_000\n",
    "\n",
    "for sample in seqs.keys():\n",
    "    seq=seqs[sample]\n",
    "    chunks = [seq[i:i+n_snps] for i in range(0, len(seq), n_snps)]\n",
    "    \n",
    "    for i in range(len(chunks)):\n",
    "        split_seq=\">{}\\n{}\\n\".format(sample, chunks[i])\n",
    "\n",
    "        with open(\"results/phylonet/random_alignments/random_split_seq_{}.fas\".format(i), 'a') as f:\n",
    "            f.write(split_seq)\n",
    "            "
   ]
  },
  {
   "cell_type": "code",
   "execution_count": null,
   "id": "unusual-jacob",
   "metadata": {
    "ExecuteTime": {
     "end_time": "2021-02-20T01:43:50.876263Z",
     "start_time": "2021-02-20T01:43:50.112940Z"
    },
    "hidden": true
   },
   "outputs": [],
   "source": [
    "%%bash\n",
    "\n",
    "CONDA=\"conda activate sch_man_nwinvasion-phylonet;\"\n",
    "QSUB=\"qsub -V -cwd -S /bin/bash -q all.q -j y -pe smp 8 \"    \n",
    "\n",
    "mkdir results/phylonet/random_raxml-ng\n",
    "mkdir results/phylonet/random_raxml-ng/qlogs\n",
    "\n",
    "for FAS in $(ls results/phylonet/random_alignments/random_split_seq_*.fas); do\n",
    "\n",
    "    SAMPLE=$(basename $FAS .fas)\n",
    "\n",
    "    RAXML_CMD=\"raxml-ng \\\n",
    "        --all \\\n",
    "        --msa $FAS \\\n",
    "        --msa-format fasta \\\n",
    "        --outgroup ERR310938 \\\n",
    "        --threads 8 \\\n",
    "        --bs-trees 100 \\\n",
    "        --model GTGTR4+G+ASC_LEWIS \\\n",
    "        --prefix results/phylonet/random_raxml-ng/$SAMPLE\"     \n",
    "        \n",
    "        echo \"$CONDA $RAXML_CMD\" | $QSUB -N r$SAMPLE -o results/phylonet/random_raxml-ng/qlogs/$SAMPLE.log\n",
    "done\n"
   ]
  },
  {
   "cell_type": "code",
   "execution_count": null,
   "id": "formed-shelf",
   "metadata": {
    "hidden": true
   },
   "outputs": [],
   "source": [
    "#now prep gene trees for phylonet\n",
    "nw_ed  trees 'i & b<=10' o > treesBS10.trees\n",
    "ERX284221"
   ]
  },
  {
   "cell_type": "code",
   "execution_count": null,
   "id": "mineral-forum",
   "metadata": {
    "hidden": true
   },
   "outputs": [],
   "source": [
    "#NEXUS\n",
    "\n",
    "BEGIN TREES;\n",
    "\n",
    "Tree gt0=\n",
    "\n",
    "\n",
    "END;\n",
    "\n",
    "BEGIN PHYLONET;\n",
    "\n",
    "    MLE_BiMarkers -pseudo -pl 96 -op -mnr 10 -mno 20 -mf 50 -diploid -mr 4 -sd 987654321 -tm <margrebowiei:ERR310938; rodhaini:Sro_female_1.1_CCATCCTC,Sro_female_1.2_CCGACAAC,Sro_female_2.1_CCTAATCC,Sro_female_2.2_CCTCTATC,Sro_male_1.1_ATCATTCC,Sro_male_1.2_ATTGGCTC,Sro_male_2.1_CAAGGAGC,Sro_male_2.2_CACCTTAC; puerto_rico:ERR046038; guadeloupe:ERR539847,ERR539848; brazil:Sm.BR_PdV.1278.1,Sm.BR_PdV.2039.1,Sm.BR_PdV.2076.1,Sm.BR_PdV.2265.1,Sm.BR_PdV.2334.1,Sm.BR_PdV.2406.1,Sm.BR_PdV.2456.1,Sm.BR_PdV.2481.1,Sm.BR_PdV.2538.1,Sm.BR_PdV.2556.1; cameroon:ERR103050; niger:Sm.NE_Di158.1,Sm.NE_Di186.1,Sm.NE_Di238.1,Sm.NE_Di297.1,Sm.NE_Di297.2,Sm.NE_Di68.2,Sm.NE_Na376.2,Sm.NE_Na381.1,Sm.NE_Na39.1,Sm.NE_Na40.1; senegal:ERR103049,Sm.SN_Nd115.1,Sm.SN_Nd22.1,Sm.SN_Nd24.1,Sm.SN_Nd34.1,Sm.SN_Nd43.1,Sm.SN_Nd47.1,Sm.SN_Nd50.1,Sm.SN_Nd54.1,Sm.SN_Nd90.1; uganda:ERR119615,ERR997461; tanzania:Sm.TZ_009.4.2,Sm.TZ_009.8.2,Sm.TZ_055.1.3,Sm.TZ_055.10.1,Sm.TZ_055.8.1,Sm.TZ_074N.1.2,Sm.TZ_074N.7.2,Sm.TZ_074N.8.1,Sm.TZ_086.1.1,Sm.TZ_134.1.1> mle_output;\n",
    "\n",
    "END;\n",
    "\n"
   ]
  },
  {
   "cell_type": "markdown",
   "id": "bound-europe",
   "metadata": {
    "heading_collapsed": true
   },
   "source": [
    "# reduced iupac"
   ]
  },
  {
   "cell_type": "code",
   "execution_count": 3,
   "id": "distributed-ebony",
   "metadata": {
    "ExecuteTime": {
     "end_time": "2021-02-22T22:12:51.280917Z",
     "start_time": "2021-02-22T22:12:51.266997Z"
    },
    "hidden": true
   },
   "outputs": [],
   "source": [
    "samples = { \"Sm.BR_PdV.1278.1\":        \"brazil\", \n",
    "            \"Sm.BR_PdV.2039.1\":        \"brazil\",\n",
    "            \"Sm.BR_PdV.2076.1\":        \"brazil\",\n",
    "            \"Sm.BR_PdV.2265.1\":        \"brazil\",\n",
    "            \"Sm.BR_PdV.2334.1\":        \"brazil\",\n",
    "            \"Sm.BR_PdV.2406.1\":        \"brazil\",\n",
    "            \"Sm.BR_PdV.2456.1\":        \"brazil\",\n",
    "            \"Sm.BR_PdV.2481.1\":        \"brazil\",\n",
    "            \"Sm.BR_PdV.2538.1\":        \"brazil\",\n",
    "            \"Sm.BR_PdV.2556.1\":        \"brazil\",\n",
    "            \"ERR103050\":               \"cameroon\",\n",
    "            \"ERR046038\":               \"puerto_rico\",\n",
    "            \"ERR539847\":               \"guadeloupe\",\n",
    "            \"ERR539848\":               \"guadeloupe\",\n",
    "            \"ERX284221\":               \"margrebowiei\",\n",
    "            \"Sm.NE_Di158.1\":           \"niger\",\n",
    "            \"Sm.NE_Di186.1\":           \"niger\",\n",
    "            \"Sm.NE_Di238.1\":           \"niger\",\n",
    "            \"Sm.NE_Di297.1\":           \"niger\",\n",
    "            \"Sm.NE_Di297.2\":           \"niger\",\n",
    "            \"Sm.NE_Di68.2\":            \"niger\",\n",
    "            \"Sm.NE_Na376.2\":           \"niger\",\n",
    "            \"Sm.NE_Na381.1\":           \"niger\",\n",
    "            \"Sm.NE_Na39.1\":            \"niger\",\n",
    "            \"Sm.NE_Na40.1\":            \"niger\",\n",
    "            \"ERR310938\":               \"rodhaini\",\n",
    "            \"Sro_female_1.1_CCATCCTC\": \"rodhaini\",\n",
    "            \"Sro_female_1.2_CCGACAAC\": \"rodhaini\",\n",
    "            \"Sro_female_2.1_CCTAATCC\": \"rodhaini\",\n",
    "            \"Sro_female_2.2_CCTCTATC\": \"rodhaini\",\n",
    "            \"Sro_male_1.1_ATCATTCC\":   \"rodhaini\",\n",
    "            \"Sro_male_1.2_ATTGGCTC\":   \"rodhaini\",\n",
    "            \"Sro_male_2.1_CAAGGAGC\":   \"rodhaini\",\n",
    "            \"Sro_male_2.2_CACCTTAC\":   \"rodhaini\",\n",
    "            \"ERR103049\":               \"senegal\",\n",
    "            \"Sm.SN_Nd115.1\":           \"senegal\",\n",
    "            \"Sm.SN_Nd22.1\":            \"senegal\",\n",
    "            \"Sm.SN_Nd24.1\":            \"senegal\",\n",
    "            \"Sm.SN_Nd34.1\":            \"senegal\",\n",
    "            \"Sm.SN_Nd43.1\":            \"senegal\",\n",
    "            \"Sm.SN_Nd47.1\":            \"senegal\",\n",
    "            \"Sm.SN_Nd50.1\":            \"senegal\",\n",
    "            \"Sm.SN_Nd54.1\":            \"senegal\",\n",
    "            \"Sm.SN_Nd90.1\":            \"senegal\",\n",
    "            \"Sm.TZ_009.4.2\":           \"tanzania\",\n",
    "            \"Sm.TZ_009.8.2\":           \"tanzania\",\n",
    "            \"Sm.TZ_055.1.3\":           \"tanzania\",\n",
    "            \"Sm.TZ_055.10.1\":          \"tanzania\",\n",
    "            \"Sm.TZ_055.8.1\":           \"tanzania\",\n",
    "            \"Sm.TZ_074N.1.2\":          \"tanzania\",\n",
    "            \"Sm.TZ_074N.7.2\":          \"tanzania\",\n",
    "            \"Sm.TZ_074N.8.1\":          \"tanzania\",\n",
    "            \"Sm.TZ_086.1.1\":           \"tanzania\",\n",
    "            \"Sm.TZ_134.1.1\":           \"tanzania\",\n",
    "            \"ERR119615\":               \"uganda\",\n",
    "            \"ERR997461\":               \"uganda\" }\n",
    "\n",
    " \n",
    "with open(\"results/phylonet/random_samples.list\", 'w') as f:\n",
    "    for sample in samples.keys():\n",
    "        f.write(\"{}\\n\".format(sample))"
   ]
  },
  {
   "cell_type": "code",
   "execution_count": null,
   "id": "rubber-forge",
   "metadata": {
    "ExecuteTime": {
     "end_time": "2021-02-22T16:29:47.666163Z",
     "start_time": "2021-02-22T16:29:19.487206Z"
    },
    "hidden": true,
    "scrolled": true
   },
   "outputs": [],
   "source": [
    "%%bash\n",
    "\n",
    "#create vcf with only these samples\n",
    "vcftools \\\n",
    "    --vcf results/variant_filtration/smv7_ex_autosomes.vcf \\\n",
    "    --keep results/phylonet/random_samples.list \\\n",
    "    --recode \\\n",
    "    --recode-INFO-all \\\n",
    "    --stdout \\\n",
    "    >results/phylonet/gene_trees/random_auto.vcf\n",
    "#After filtering, kept 56 out of 156 Individuals\n",
    "#Outputting VCF file...\n",
    "#After filtering, kept 475081 out of a possible 475081 Sites\n",
    "\n"
   ]
  },
  {
   "cell_type": "code",
   "execution_count": null,
   "id": "opponent-government",
   "metadata": {
    "ExecuteTime": {
     "end_time": "2021-02-22T16:33:12.843890Z",
     "start_time": "2021-02-22T16:33:12.612778Z"
    },
    "hidden": true
   },
   "outputs": [],
   "source": [
    "#create phylip\n",
    "! bin/vcf2phylip/vcf2phylip.py -i results/phylonet/gene_trees/random_auto.vcf \n",
    "\n",
    "#remove invariant\n",
    "! python ~/sch_man_nwinvasion/bin/raxml_ascbias/ascbias.py -p results/phylonet/gene_trees/random_auto.min4.phy  -o results/phylonet/gene_trees/random_auto_variant.phy "
   ]
  },
  {
   "cell_type": "code",
   "execution_count": 7,
   "id": "exact-indonesia",
   "metadata": {
    "ExecuteTime": {
     "end_time": "2021-02-22T23:22:27.895440Z",
     "start_time": "2021-02-22T23:22:27.764433Z"
    },
    "hidden": true
   },
   "outputs": [],
   "source": [
    "#split into 1K snp chunks\n",
    "\n",
    "seqs={}\n",
    "with open(\"results/phylonet/gene_trees/random_auto_variant.phy\", 'r') as f:\n",
    "    next(f)\n",
    "    for entry in f:\n",
    "        seq_id, seq = entry.rstrip().split(\"\\t\")\n",
    "        seqs[seq_id] = seq\n",
    "        "
   ]
  },
  {
   "cell_type": "code",
   "execution_count": 10,
   "id": "national-yahoo",
   "metadata": {
    "ExecuteTime": {
     "end_time": "2021-02-22T23:24:40.182349Z",
     "start_time": "2021-02-22T23:24:24.631626Z"
    },
    "hidden": true
   },
   "outputs": [],
   "source": [
    "num_samples=len(seqs.keys())\n",
    "n_snps = 1_000\n",
    "\n",
    "for sample in seqs.keys():\n",
    "    seq=seqs[sample]\n",
    "    chunks = [seq[i:i+n_snps] for i in range(0, len(seq), n_snps)]\n",
    "    \n",
    "    for i in range(len(chunks)):\n",
    "        split_seq=\">{}\\n{}\\n\".format(sample.replace(\".\", \"_\"), chunks[i])\n",
    "\n",
    "        with open(\"results/phylonet/gene_trees/random_split_seq_{}.fas\".format(i), 'a') as f:\n",
    "            f.write(split_seq)\n",
    "            "
   ]
  },
  {
   "cell_type": "code",
   "execution_count": null,
   "id": "large-lawrence",
   "metadata": {
    "ExecuteTime": {
     "end_time": "2021-02-20T01:43:50.876263Z",
     "start_time": "2021-02-20T01:43:50.112940Z"
    },
    "hidden": true
   },
   "outputs": [],
   "source": [
    "%%bash\n",
    "\n",
    "CONDA=\"conda activate sch_man_nwinvasion-phylonet;\"\n",
    "QSUB=\"qsub -V -cwd -S /bin/bash -q all.q -j y -pe smp 4 \"    \n",
    "\n",
    "mkdir results/phylonet/gene_trees\n",
    "mkdir results/phylonet/gene_trees/qlogs\n",
    "\n",
    "for FAS in $(ls results/phylonet/gene_trees/random_split_seq_*.fas); do\n",
    "\n",
    "    SAMPLE=$(basename $FAS .fas)\n",
    "\n",
    "    RAXML_CMD=\"raxml-ng \\\n",
    "        --all \\\n",
    "        --msa $FAS \\\n",
    "        --msa-format fasta \\\n",
    "        --outgroup ERX284221 \\\n",
    "        --threads 4 \\\n",
    "        --bs-trees 100 \\\n",
    "        --model GTGTR4+G+ASC_LEWIS \\\n",
    "        --prefix results/phylonet/gene_trees/$SAMPLE\"     \n",
    "        \n",
    "        echo \"$CONDA $RAXML_CMD\" | $QSUB -N $SAMPLE -o results/phylonet/gene_trees/qlogs/$SAMPLE.log\n",
    "done\n"
   ]
  },
  {
   "cell_type": "code",
   "execution_count": null,
   "id": "occupied-basis",
   "metadata": {
    "hidden": true
   },
   "outputs": [],
   "source": [
    "#now prep gene trees for phylonet\n",
    "cat results/phylonet/gene_trees/*support >results/phylonet/gene_trees.nwk\n",
    "\n",
    "#collapse trees w/ <10 bs support\n",
    "nw_ed  results/phylonet/gene_trees.nwk 'i & b<=10' o > results/phylonet/gene_trees_BS10.nwk\n",
    "\n",
    "#root on margrebowiei\n",
    "nw_reroot results/phylonet/gene_trees_BS10.nwk ERX284221 >results/phylonet/gene_trees_BS10_marg_root.nwk\n",
    "\n",
    "#rename and remove \".\"s in name\n",
    "nw_rename short_IDs.nw id2longname.map\n",
    "\n",
    "#may need to open file in figtree to remove bootstrap values\n",
    "\n",
    "\n",
    "#then added the following text to the bottom to run phylonet\n",
    "# BEGIN PHYLONET;\n",
    "\n",
    "# InferNetwork_MPL (all) 4 -pl 48 -a <margrebowiei:ERX284221;cameroon:ERR103050;uganda:ERR119615,ERR997461;guadeloupe:ERR539847,ERR539848;puerto_rico:ERR046038;brazil:Sm-BR_PdV-1278-1,Sm-BR_PdV-2039-1,Sm-BR_PdV-2076-1,Sm-BR_PdV-2265-1,Sm-BR_PdV-2334-1,Sm-BR_PdV-2406-1,Sm-BR_PdV-2456-1,Sm-BR_PdV-2481-1,Sm-BR_PdV-2538-1,Sm-BR_PdV-2556-1;niger:Sm-NE_Di158-1,Sm-NE_Di186-1,Sm-NE_Di238-1,Sm-NE_Di297-1,Sm-NE_Di297-2,Sm-NE_Di68-2,Sm-NE_Na376-2,Sm-NE_Na381-1,Sm-NE_Na39-1,Sm-NE_Na40-1;senegal:ERR103049,Sm-SN_Nd115-1,Sm-SN_Nd22-1,Sm-SN_Nd24-1,Sm-SN_Nd34-1,Sm-SN_Nd43-1,Sm-SN_Nd47-1,Sm-SN_Nd50-1,Sm-SN_Nd54-1,Sm-SN_Nd90-1;tanzania:Sm-TZ_009-4-2,Sm-TZ_009-8-2,Sm-TZ_055-1-3,Sm-TZ_055-10-1,Sm-TZ_055-8-1,Sm-TZ_074N-1-2,Sm-TZ_074N-7-2,Sm-TZ_074N-8-1,Sm-TZ_086-1-1,Sm-TZ_134-1-1;rodhaini:ERR310938,Sro_female_1-1_CCATCCTC,Sro_female_1-2_CCGACAAC,Sro_female_2-1_CCTAATCC,Sro_female_2-2_CCTCTATC,Sro_male_1-1_ATCATTCC,Sro_male_1-2_ATTGGCTC,Sro_male_2-1_CAAGGAGC,Sro_male_2-2_CACCTTAC> mpl. ;\n",
    "\n",
    "# END;"
   ]
  },
  {
   "cell_type": "markdown",
   "id": "super-civilization",
   "metadata": {
    "hidden": true
   },
   "source": [
    "!java -jar ~/sch_man_nwinvasion/bin/PhyloNet_3.8.2.jar PHYLONET_gene_trees_BS10_marg_root_renamed.nex"
   ]
  },
  {
   "cell_type": "markdown",
   "id": "differential-federal",
   "metadata": {
    "heading_collapsed": true
   },
   "source": [
    "# all haplotypes"
   ]
  },
  {
   "cell_type": "code",
   "execution_count": 3,
   "id": "stupid-story",
   "metadata": {
    "ExecuteTime": {
     "end_time": "2021-02-22T22:12:51.280917Z",
     "start_time": "2021-02-22T22:12:51.266997Z"
    },
    "hidden": true
   },
   "outputs": [],
   "source": [
    "samples = { \"Sm.BR_PdV.1278.1\":        \"brazil\", \n",
    "            \"Sm.BR_PdV.2039.1\":        \"brazil\",\n",
    "            \"Sm.BR_PdV.2076.1\":        \"brazil\",\n",
    "            \"Sm.BR_PdV.2265.1\":        \"brazil\",\n",
    "            \"Sm.BR_PdV.2334.1\":        \"brazil\",\n",
    "            \"Sm.BR_PdV.2406.1\":        \"brazil\",\n",
    "            \"Sm.BR_PdV.2456.1\":        \"brazil\",\n",
    "            \"Sm.BR_PdV.2481.1\":        \"brazil\",\n",
    "            \"Sm.BR_PdV.2538.1\":        \"brazil\",\n",
    "            \"Sm.BR_PdV.2556.1\":        \"brazil\",\n",
    "            \"ERR103050\":               \"cameroon\",\n",
    "            \"ERR046038\":               \"puerto_rico\",\n",
    "            \"ERR539847\":               \"guadeloupe\",\n",
    "            \"ERR539848\":               \"guadeloupe\",\n",
    "            \"ERX284221\":               \"margrebowiei\",\n",
    "            \"Sm.NE_Di158.1\":           \"niger\",\n",
    "            \"Sm.NE_Di186.1\":           \"niger\",\n",
    "            \"Sm.NE_Di238.1\":           \"niger\",\n",
    "            \"Sm.NE_Di297.1\":           \"niger\",\n",
    "            \"Sm.NE_Di297.2\":           \"niger\",\n",
    "            \"Sm.NE_Di68.2\":            \"niger\",\n",
    "            \"Sm.NE_Na376.2\":           \"niger\",\n",
    "            \"Sm.NE_Na381.1\":           \"niger\",\n",
    "            \"Sm.NE_Na39.1\":            \"niger\",\n",
    "            \"Sm.NE_Na40.1\":            \"niger\",\n",
    "            \"ERR310938\":               \"rodhaini\",\n",
    "            \"Sro_female_1.1_CCATCCTC\": \"rodhaini\",\n",
    "            \"Sro_female_1.2_CCGACAAC\": \"rodhaini\",\n",
    "            \"Sro_female_2.1_CCTAATCC\": \"rodhaini\",\n",
    "            \"Sro_female_2.2_CCTCTATC\": \"rodhaini\",\n",
    "            \"Sro_male_1.1_ATCATTCC\":   \"rodhaini\",\n",
    "            \"Sro_male_1.2_ATTGGCTC\":   \"rodhaini\",\n",
    "            \"Sro_male_2.1_CAAGGAGC\":   \"rodhaini\",\n",
    "            \"Sro_male_2.2_CACCTTAC\":   \"rodhaini\",\n",
    "            \"ERR103049\":               \"senegal\",\n",
    "            \"Sm.SN_Nd115.1\":           \"senegal\",\n",
    "            \"Sm.SN_Nd22.1\":            \"senegal\",\n",
    "            \"Sm.SN_Nd24.1\":            \"senegal\",\n",
    "            \"Sm.SN_Nd34.1\":            \"senegal\",\n",
    "            \"Sm.SN_Nd43.1\":            \"senegal\",\n",
    "            \"Sm.SN_Nd47.1\":            \"senegal\",\n",
    "            \"Sm.SN_Nd50.1\":            \"senegal\",\n",
    "            \"Sm.SN_Nd54.1\":            \"senegal\",\n",
    "            \"Sm.SN_Nd90.1\":            \"senegal\",\n",
    "            \"Sm.TZ_009.4.2\":           \"tanzania\",\n",
    "            \"Sm.TZ_009.8.2\":           \"tanzania\",\n",
    "            \"Sm.TZ_055.1.3\":           \"tanzania\",\n",
    "            \"Sm.TZ_055.10.1\":          \"tanzania\",\n",
    "            \"Sm.TZ_055.8.1\":           \"tanzania\",\n",
    "            \"Sm.TZ_074N.1.2\":          \"tanzania\",\n",
    "            \"Sm.TZ_074N.7.2\":          \"tanzania\",\n",
    "            \"Sm.TZ_074N.8.1\":          \"tanzania\",\n",
    "            \"Sm.TZ_086.1.1\":           \"tanzania\",\n",
    "            \"Sm.TZ_134.1.1\":           \"tanzania\",\n",
    "            \"ERR119615\":               \"uganda\",\n",
    "            \"ERR997461\":               \"uganda\" }\n",
    "\n",
    " \n",
    "with open(\"results/phylonet/random_samples.list\", 'w') as f:\n",
    "    for sample in samples.keys():\n",
    "        f.write(\"{}\\n\".format(sample))"
   ]
  },
  {
   "cell_type": "code",
   "execution_count": null,
   "id": "adopted-auction",
   "metadata": {
    "ExecuteTime": {
     "end_time": "2021-02-22T16:29:47.666163Z",
     "start_time": "2021-02-22T16:29:19.487206Z"
    },
    "hidden": true,
    "scrolled": true
   },
   "outputs": [],
   "source": [
    "%%bash\n",
    "\n",
    "#create vcf with only these samples\n",
    "vcftools \\\n",
    "    --vcf results/variant_filtration/smv7_ex_autosomes.vcf \\\n",
    "    --keep results/phylonet/random_samples.list \\\n",
    "    --recode \\\n",
    "    --recode-INFO-all \\\n",
    "    --stdout \\\n",
    "    >results/phylonet/gene_trees/random_auto.vcf\n",
    "#After filtering, kept 56 out of 156 Individuals\n",
    "#Outputting VCF file...\n",
    "#After filtering, kept 475081 out of a possible 475081 Sites\n",
    "\n"
   ]
  },
  {
   "cell_type": "code",
   "execution_count": null,
   "id": "statistical-omega",
   "metadata": {
    "ExecuteTime": {
     "end_time": "2021-02-22T16:33:12.843890Z",
     "start_time": "2021-02-22T16:33:12.612778Z"
    },
    "hidden": true
   },
   "outputs": [],
   "source": [
    "#create phylip\n",
    "! bin/vcf2phylip/vcf2phylip.py -i results/phylonet/gene_trees/random_auto.vcf \n",
    "\n",
    "#remove invariant\n",
    "! python ~/sch_man_nwinvasion/bin/raxml_ascbias/ascbias.py -p results/phylonet/gene_trees/random_auto.min4.phy  -o results/phylonet/gene_trees/random_auto_variant.phy "
   ]
  },
  {
   "cell_type": "code",
   "execution_count": 7,
   "id": "defensive-sacramento",
   "metadata": {
    "ExecuteTime": {
     "end_time": "2021-02-22T23:22:27.895440Z",
     "start_time": "2021-02-22T23:22:27.764433Z"
    },
    "hidden": true
   },
   "outputs": [],
   "source": [
    "#split into 1K snp chunks\n",
    "\n",
    "seqs={}\n",
    "with open(\"results/phylonet/gene_trees/random_auto_variant.phy\", 'r') as f:\n",
    "    next(f)\n",
    "    for entry in f:\n",
    "        seq_id, seq = entry.rstrip().split(\"\\t\")\n",
    "        seqs[seq_id] = seq\n",
    "        "
   ]
  },
  {
   "cell_type": "code",
   "execution_count": 10,
   "id": "composite-prior",
   "metadata": {
    "ExecuteTime": {
     "end_time": "2021-02-22T23:24:40.182349Z",
     "start_time": "2021-02-22T23:24:24.631626Z"
    },
    "hidden": true
   },
   "outputs": [],
   "source": [
    "num_samples=len(seqs.keys())\n",
    "n_snps = 1_000\n",
    "\n",
    "for sample in seqs.keys():\n",
    "    seq=seqs[sample]\n",
    "    chunks = [seq[i:i+n_snps] for i in range(0, len(seq), n_snps)]\n",
    "    \n",
    "    for i in range(len(chunks)):\n",
    "        split_seq=\">{}\\n{}\\n\".format(sample.replace(\".\", \"_\"), chunks[i])\n",
    "\n",
    "        with open(\"results/phylonet/gene_trees/random_split_seq_{}.fas\".format(i), 'a') as f:\n",
    "            f.write(split_seq)\n",
    "            "
   ]
  },
  {
   "cell_type": "code",
   "execution_count": null,
   "id": "twelve-hydrogen",
   "metadata": {
    "ExecuteTime": {
     "end_time": "2021-02-20T01:43:50.876263Z",
     "start_time": "2021-02-20T01:43:50.112940Z"
    },
    "hidden": true
   },
   "outputs": [],
   "source": [
    "%%bash\n",
    "\n",
    "CONDA=\"conda activate sch_man_nwinvasion-phylonet;\"\n",
    "QSUB=\"qsub -V -cwd -S /bin/bash -q all.q -j y -pe smp 4 \"    \n",
    "\n",
    "mkdir results/phylonet/gene_trees\n",
    "mkdir results/phylonet/gene_trees/qlogs\n",
    "\n",
    "for FAS in $(ls results/phylonet/gene_trees/random_split_seq_*.fas); do\n",
    "\n",
    "    SAMPLE=$(basename $FAS .fas)\n",
    "\n",
    "    RAXML_CMD=\"raxml-ng \\\n",
    "        --all \\\n",
    "        --msa $FAS \\\n",
    "        --msa-format fasta \\\n",
    "        --outgroup ERX284221 \\\n",
    "        --threads 4 \\\n",
    "        --bs-trees 100 \\\n",
    "        --model GTGTR4+G+ASC_LEWIS \\\n",
    "        --prefix results/phylonet/gene_trees/$SAMPLE\"     \n",
    "        \n",
    "        echo \"$CONDA $RAXML_CMD\" | $QSUB -N $SAMPLE -o results/phylonet/gene_trees/qlogs/$SAMPLE.log\n",
    "done\n"
   ]
  },
  {
   "cell_type": "code",
   "execution_count": null,
   "id": "future-semester",
   "metadata": {
    "hidden": true
   },
   "outputs": [],
   "source": [
    "#now prep gene trees for phylonet\n",
    "cat results/phylonet/gene_trees/*support >results/phylonet/gene_trees.nwk\n",
    "\n",
    "#collapse trees w/ <10 bs support\n",
    "nw_ed  results/phylonet/gene_trees.nwk 'i & b<=10' o > results/phylonet/gene_trees_BS10.nwk\n",
    "\n",
    "#root on margrebowiei\n",
    "nw_reroot results/phylonet/gene_trees_BS10.nwk ERX284221 >results/phylonet/gene_trees_BS10_marg_root.nwk\n",
    "\n",
    "#rename and remove \".\"s in name\n",
    "nw_rename short_IDs.nw id2longname.map\n",
    "\n",
    "#may need to open file in figtree to remove bootstrap values\n",
    "\n",
    "\n",
    "#then added the following text to the bottom to run phylonet\n",
    "# BEGIN PHYLONET;\n",
    "\n",
    "# InferNetwork_MPL (all) 4 -pl 48 -a <margrebowiei:ERX284221;cameroon:ERR103050;uganda:ERR119615,ERR997461;guadeloupe:ERR539847,ERR539848;puerto_rico:ERR046038;brazil:Sm-BR_PdV-1278-1,Sm-BR_PdV-2039-1,Sm-BR_PdV-2076-1,Sm-BR_PdV-2265-1,Sm-BR_PdV-2334-1,Sm-BR_PdV-2406-1,Sm-BR_PdV-2456-1,Sm-BR_PdV-2481-1,Sm-BR_PdV-2538-1,Sm-BR_PdV-2556-1;niger:Sm-NE_Di158-1,Sm-NE_Di186-1,Sm-NE_Di238-1,Sm-NE_Di297-1,Sm-NE_Di297-2,Sm-NE_Di68-2,Sm-NE_Na376-2,Sm-NE_Na381-1,Sm-NE_Na39-1,Sm-NE_Na40-1;senegal:ERR103049,Sm-SN_Nd115-1,Sm-SN_Nd22-1,Sm-SN_Nd24-1,Sm-SN_Nd34-1,Sm-SN_Nd43-1,Sm-SN_Nd47-1,Sm-SN_Nd50-1,Sm-SN_Nd54-1,Sm-SN_Nd90-1;tanzania:Sm-TZ_009-4-2,Sm-TZ_009-8-2,Sm-TZ_055-1-3,Sm-TZ_055-10-1,Sm-TZ_055-8-1,Sm-TZ_074N-1-2,Sm-TZ_074N-7-2,Sm-TZ_074N-8-1,Sm-TZ_086-1-1,Sm-TZ_134-1-1;rodhaini:ERR310938,Sro_female_1-1_CCATCCTC,Sro_female_1-2_CCGACAAC,Sro_female_2-1_CCTAATCC,Sro_female_2-2_CCTCTATC,Sro_male_1-1_ATCATTCC,Sro_male_1-2_ATTGGCTC,Sro_male_2-1_CAAGGAGC,Sro_male_2-2_CACCTTAC> mpl. ;\n",
    "\n",
    "# END;"
   ]
  },
  {
   "cell_type": "markdown",
   "id": "union-italy",
   "metadata": {
    "hidden": true
   },
   "source": [
    "!java -jar ~/sch_man_nwinvasion/bin/PhyloNet_3.8.2.jar PHYLONET_gene_trees_BS10_marg_root_renamed.nex"
   ]
  }
 ],
 "metadata": {
  "kernelspec": {
   "display_name": "Python 3",
   "language": "python",
   "name": "python3"
  },
  "language_info": {
   "codemirror_mode": {
    "name": "ipython",
    "version": 3
   },
   "file_extension": ".py",
   "mimetype": "text/x-python",
   "name": "python",
   "nbconvert_exporter": "python",
   "pygments_lexer": "ipython3",
   "version": "3.8.6"
  }
 },
 "nbformat": 4,
 "nbformat_minor": 5
}
