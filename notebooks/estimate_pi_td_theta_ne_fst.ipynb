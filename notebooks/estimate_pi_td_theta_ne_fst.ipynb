{
 "cells": [
  {
   "cell_type": "code",
   "execution_count": 1,
   "metadata": {
    "ExecuteTime": {
     "end_time": "2021-02-28T19:33:58.608758Z",
     "start_time": "2021-02-28T19:33:54.182505Z"
    }
   },
   "outputs": [],
   "source": [
    "#run in sch_man_nwinvasion-jupyter environment\n",
    "\n",
    "import os\n",
    "import shutil\n",
    "import allel\n",
    "import math\n",
    "import yaml\n",
    "import pandas as pd\n",
    "import matplotlib.pyplot as plt\n",
    "import numpy as np\n",
    "from collections import defaultdict\n",
    "from scipy import stats\n",
    "import itertools\n",
    "import scipy.spatial\n",
    "import random\n",
    "from tqdm.notebook import tqdm\n"
   ]
  },
  {
   "cell_type": "code",
   "execution_count": 2,
   "metadata": {
    "ExecuteTime": {
     "end_time": "2021-02-28T19:33:58.615769Z",
     "start_time": "2021-02-28T19:33:58.612106Z"
    }
   },
   "outputs": [],
   "source": [
    "os.chdir(\"/master/nplatt/sch_man_nwinvasion\")"
   ]
  },
  {
   "cell_type": "markdown",
   "metadata": {
    "heading_collapsed": true
   },
   "source": [
    "# Read in and process data"
   ]
  },
  {
   "cell_type": "markdown",
   "metadata": {
    "ExecuteTime": {
     "end_time": "2020-11-18T18:05:57.753151Z",
     "start_time": "2020-11-18T18:05:57.747522Z"
    },
    "hidden": true
   },
   "source": [
    " Get population assignments"
   ]
  },
  {
   "cell_type": "code",
   "execution_count": 3,
   "metadata": {
    "ExecuteTime": {
     "end_time": "2021-02-28T19:34:03.087904Z",
     "start_time": "2021-02-28T19:34:03.046227Z"
    },
    "hidden": true
   },
   "outputs": [],
   "source": [
    "with open('data/pop_assign.yml') as yaml_file:\n",
    "    pop_assign = yaml.load(yaml_file, Loader=yaml.FullLoader)"
   ]
  },
  {
   "cell_type": "markdown",
   "metadata": {
    "hidden": true
   },
   "source": [
    "read in the vcf file and get pop specific allele counts"
   ]
  },
  {
   "cell_type": "code",
   "execution_count": 4,
   "metadata": {
    "ExecuteTime": {
     "end_time": "2021-02-28T19:34:23.501368Z",
     "start_time": "2021-02-28T19:34:03.090722Z"
    },
    "hidden": true
   },
   "outputs": [],
   "source": [
    "#-------------------------------------------------------------------------------\n",
    "# get genotype info per population\n",
    "\n",
    "#read in vcf\n",
    "filtered_callset=allel.read_vcf('results/variant_filtration/smv7_ex_autosomes.vcf')\n",
    "\n",
    "#now get an index for each sample/population\n",
    "samples = filtered_callset[\"samples\"]\n",
    "\n",
    "i=0\n",
    "pop_idxs = defaultdict(list)   \n",
    "for sample in samples:  \n",
    "    pop_idxs[pop_assign[sample]].append(i) \n",
    "    i=i+1\n",
    "\n",
    "pops= list(pop_idxs.keys()) \n",
    "\n",
    "#get genotypes\n",
    "gt=allel.GenotypeArray(filtered_callset['calldata/GT'])\n",
    "\n",
    "#now get allele count per population\n",
    "ac=gt.count_alleles()\n",
    "\n",
    "pop_ac={}\n",
    "for pop in pops:\n",
    "    pop_ac[pop] = gt.count_alleles(subpop=pop_idxs[pop])"
   ]
  },
  {
   "cell_type": "markdown",
   "metadata": {
    "hidden": true
   },
   "source": [
    "Find all of the accessible bases (since used probes) and get an idea of the length of each chr"
   ]
  },
  {
   "cell_type": "code",
   "execution_count": 5,
   "metadata": {
    "ExecuteTime": {
     "end_time": "2021-02-28T19:34:29.601395Z",
     "start_time": "2021-02-28T19:34:23.504263Z"
    },
    "hidden": true
   },
   "outputs": [],
   "source": [
    "#initialize an list the lenght of each contig to fale\n",
    "accessible_bases = {}\n",
    "chrom_length = {}\n",
    "\n",
    "with open('data/genomes/Smansoni_v7.fa.fai', 'r') as fai:\n",
    "    for entry in fai:\n",
    "        chrom, length, *offset = entry.rstrip().split(\"\\t\")\n",
    "        chrom_length[chrom] = int(length)\n",
    "        accessible_bases[chrom]=[False] * int(length)\n",
    "\n",
    "\n",
    "#now read the bed\n",
    "with open('data/renamed-sma_agilent_baits.v7.0.chr_reorderd.bed', 'r') as in_bed_file:\n",
    "    for bed_entry in in_bed_file:\n",
    "        chrom, start, stop = bed_entry.rstrip().split(\"\\t\")\n",
    "        for base in range(int(start) - 1, int(stop)):\n",
    "             accessible_bases[chrom][base]=True\n"
   ]
  },
  {
   "cell_type": "markdown",
   "metadata": {
    "heading_collapsed": true,
    "hidden": true
   },
   "source": [
    "## How many SNPs are segregating on Chr 1 per pop"
   ]
  },
  {
   "cell_type": "code",
   "execution_count": 90,
   "metadata": {
    "ExecuteTime": {
     "end_time": "2020-11-20T17:26:23.509639Z",
     "start_time": "2020-11-20T17:26:23.406228Z"
    },
    "hidden": true
   },
   "outputs": [
    {
     "name": "stdout",
     "output_type": "stream",
     "text": [
      "tanzania chr1=29765 total=98136\n",
      "brazil chr1=8947 total=33042\n",
      "senegal chr1=9381 total=35593\n",
      "niger chr1=6107 total=24017\n"
     ]
    }
   ],
   "source": [
    "for pop in [\"tanzania\", \"brazil\", \"senegal\", \"niger\"]:\n",
    "    seg=np.sum(pop_ac[pop].is_segregating())\n",
    "    chr1_seg=np.sum(pop_ac[pop][0:162218].is_segregating())\n",
    "    print(\"{} chr1={} total={}\".format(pop, chr1_seg, seg))"
   ]
  },
  {
   "cell_type": "markdown",
   "metadata": {
    "heading_collapsed": true
   },
   "source": [
    "# Pi, Tajima's D, Theta, Ne"
   ]
  },
  {
   "cell_type": "code",
   "execution_count": 45,
   "metadata": {
    "ExecuteTime": {
     "end_time": "2020-11-18T21:27:42.906614Z",
     "start_time": "2020-11-18T21:24:01.940752Z"
    },
    "hidden": true
   },
   "outputs": [
    {
     "name": "stdout",
     "output_type": "stream",
     "text": [
      "rodhaini:0.000482784736658036\t0.4786576179515533\t0.0004285068495203049\t13225.520046922991\n",
      "brazil:0.0006229634190808082\t0.22480080261256646\t0.0005842378015352539\t18032.03091158191\n",
      "niger:0.0005282391905747682\t-0.5633207858097302\t0.000607062748979703\t18736.50459813898\n",
      "senegal:0.000452726735843687\t-1.4171249923020972\t0.0007125456426101054\t21992.149463274858\n",
      "tanzania:0.0013144180653959314\t-0.7287596992860278\t0.0016688696510230978\t51508.32256244129\n"
     ]
    }
   ],
   "source": [
    "for pop in [\"rodhaini\", \"brazil\", \"niger\", \"senegal\", \"tanzania\"]:\n",
    "    accessible_genome_size = 0\n",
    "    pi_s=[]\n",
    "    td_s=[]\n",
    "    theta_s=[]\n",
    "    mu=8.1e-9\n",
    "\n",
    "    #now loop through each chromosome\n",
    "    for chrom in list(set(filtered_callset['variants/CHROM'])) :\n",
    "        target_sites = filtered_callset['variants/CHROM'] == chrom\n",
    "\n",
    "     \n",
    "        chr_poss = filtered_callset['variants/POS'][target_sites]\n",
    "        chr_acs  = pop_ac[pop][target_sites]\n",
    "        chr_len  = len(accessible_bases[chrom])\n",
    "        \n",
    "\n",
    "        chr_pi    = allel.sequence_diversity(chr_poss, chr_acs, start=1, stop=chr_len, is_accessible=accessible_bases[chrom])\n",
    "        chr_theta = allel.watterson_theta(chr_poss, chr_acs, is_accessible=accessible_bases[chrom])\n",
    "        chr_td    = allel.tajima_d(chr_acs, pos=chr_poss, start=1, stop=chr_len, min_sites=3)\n",
    "\n",
    "\n",
    "        num_accessible_bases = sum(accessible_bases[chrom])\n",
    "        theta_s += [chr_theta] * num_accessible_bases\n",
    "        pi_s    += [chr_pi]    * num_accessible_bases\n",
    "        td_s    += [chr_td]    * num_accessible_bases\n",
    "\n",
    "        accessible_genome_size += num_accessible_bases\n",
    "\n",
    "    pi    = np.mean(pi_s)\n",
    "    td    = np.mean(td_s)\n",
    "    theta = np.mean(theta_s)\n",
    "    ne = theta/(4 * mu)\n",
    "\n",
    "    outline=\"{}:{}\\t{}\\t{}\\t{}\".format(pop, pi, td, theta, ne)\n",
    "    print(outline)"
   ]
  },
  {
   "cell_type": "markdown",
   "metadata": {
    "heading_collapsed": true
   },
   "source": [
    "# Fst"
   ]
  },
  {
   "cell_type": "markdown",
   "metadata": {
    "heading_collapsed": true,
    "hidden": true
   },
   "source": [
    "## genome-wide Fst"
   ]
  },
  {
   "cell_type": "code",
   "execution_count": 9,
   "metadata": {
    "ExecuteTime": {
     "end_time": "2020-11-24T18:09:36.174816Z",
     "start_time": "2020-11-24T18:08:40.685035Z"
    },
    "hidden": true
   },
   "outputs": [
    {
     "name": "stdout",
     "output_type": "stream",
     "text": [
      "pop1\tpop2\tfst\tSE\n",
      "rodhaini\tcaribbean\t0.928506200479594\t0.0012228434103421389\n",
      "rodhaini\ttanzania\t0.8439788473873892\t0.001616842545372161\n",
      "rodhaini\tsenegal\t0.9370016347766583\t0.001296004539097002\n",
      "rodhaini\tniger\t0.9305794094480899\t0.0011327164324128835\n",
      "rodhaini\tbrazil\t0.9189907169217962\t0.001343597256193136\n",
      "caribbean\ttanzania\t0.2789521159568736\t0.0036073079664987\n",
      "caribbean\tsenegal\t0.32307932601975586\t0.008473085940511469\n",
      "caribbean\tniger\t0.23645993744180765\t0.00707938775077595\n",
      "caribbean\tbrazil\t0.15369549738924515\t0.006733044751663753\n",
      "tanzania\tsenegal\t0.41553169413628227\t0.00321957992128926\n",
      "tanzania\tniger\t0.3478709508995357\t0.0031245927121814343\n",
      "tanzania\tbrazil\t0.3790452130775332\t0.0034260999716080004\n",
      "senegal\tniger\t0.13546469500849986\t0.0042380948004846425\n",
      "senegal\tbrazil\t0.23465523710207586\t0.0046503734975993725\n",
      "niger\tbrazil\t0.15190265241779138\t0.0036320702629908355\n"
     ]
    }
   ],
   "source": [
    "pops = [ 'rodhaini', 'caribbean', 'tanzania',\n",
    "         'senegal',  'niger',     'brazil' ]\n",
    "\n",
    "pop_combs=list(itertools.combinations(pops, 2)) \n",
    "\n",
    "with open(\"results/fst/genome_wide_fst.csv\", 'w') as out_csv:\n",
    "    out_csv.write(\"pop1,pop2,fst,se\\n\")\n",
    "    print(\"pop1\\tpop2\\tfst\\tse\")\n",
    "\n",
    "    for pop1, pop2 in pop_combs:\n",
    "\n",
    "        idxs=[pop_idxs[pop1], pop_idxs[pop2]]\n",
    "\n",
    "        #allel.average_weir_cockerham_fst(g, subpops, blen, max_allele=None)\n",
    "        fst, se, block_fsts, jacknife_fsts = allel.average_weir_cockerham_fst(gt, idxs, 100)\n",
    "\n",
    "        outline=\"{}\\t{}\\t{}\\t{}\".format(pop1, pop2, fst, se)\n",
    "        print(outline)\n",
    "        \n",
    "        out_csv.write(outline.replace(\"\\t\", \",\")+\"\\n\")"
   ]
  },
  {
   "cell_type": "markdown",
   "metadata": {
    "ExecuteTime": {
     "end_time": "2020-11-18T18:08:22.615957Z",
     "start_time": "2020-11-18T18:08:22.612803Z"
    },
    "heading_collapsed": true,
    "hidden": true
   },
   "source": [
    "## sliding window Fst-UNUSED"
   ]
  },
  {
   "cell_type": "code",
   "execution_count": null,
   "metadata": {
    "hidden": true
   },
   "outputs": [],
   "source": [
    "\n",
    "\n",
    "os.chdir(\"/master/nplatt/sch_man_nwinvasion\")\n",
    "\n",
    "if not os.path.exists(\"results/fst_per_window\"):\n",
    "    os.mkdir(\"results/fst_per_window\")\n",
    "    \n",
    "with open('data/pop_assign.yml') as yaml_file:\n",
    "    pop_assign = yaml.load(yaml_file, Loader=yaml.FullLoader)\n",
    "\n",
    "#-----------------------------------\n",
    "# get lengths from cumul positions\n",
    "#make sure that all stops are not gt chrom length\n",
    "chr_length = {}\n",
    "#genome_size = 0\n",
    "with open('/master/nplatt/sch_man_nwinvasion/data/genomes/Smansoni_v7.fa.fai', 'r') as fai:\n",
    "    for entry in fai:\n",
    "        chrom, length, *offset = entry.rstrip().split(\"\\t\")\n",
    "        chr_length[chrom]=int(length)\n",
    "\n",
    "    cumul_start={}\n",
    "    cumul_start['SM_V7_1']=0\n",
    "    cumul_start['SM_V7_2']= cumul_start['SM_V7_1'] + chr_length['SM_V7_1']\n",
    "    cumul_start['SM_V7_3']= cumul_start['SM_V7_2'] + chr_length['SM_V7_2']\n",
    "    cumul_start['SM_V7_4']= cumul_start['SM_V7_3'] + chr_length['SM_V7_3']\n",
    "    cumul_start['SM_V7_5']= cumul_start['SM_V7_4'] + chr_length['SM_V7_4']\n",
    "    cumul_start['SM_V7_6']= cumul_start['SM_V7_5'] + chr_length['SM_V7_5']\n",
    "    cumul_start['SM_V7_7']= cumul_start['SM_V7_6'] + chr_length['SM_V7_6']\n",
    "    scanned_size = cumul_start['SM_V7_7'] + chr_length['SM_V7_7']\n",
    "\n",
    "#-------------------------------------------------------------------------------\n",
    "# get genotype info per population\n",
    "\n",
    "#read in vcf\n",
    "callset=allel.read_vcf('results/variant_filtration/smv7_ex_autosomes.vcf')\n",
    "\n",
    "#now get an index for each sample/population\n",
    "samples = callset[\"samples\"]\n",
    "\n",
    "i=0 \n",
    "pop_idxs = defaultdict(list)   \n",
    "for sample in samples:  \n",
    "     pop_idxs[pop_assign[sample]].append(i) \n",
    "     i=i+1 \n",
    "\n",
    "pops= list(pop_idxs.keys()) \n",
    "\n",
    "#get genotypes\n",
    "gt=allel.GenotypeArray(callset['calldata/GT'])\n",
    "\n",
    "#now get allele count per population\n",
    "ac=gt.count_alleles()\n",
    "\n",
    "#for simplicity add maf info to callset data\n",
    "maf=ac[:, :2].min(axis=1)/ac[:, :2].sum(axis=1)\n",
    "callset['maf']=maf \n",
    "\n",
    "pop_ac={}\n",
    "for pop in pops:\n",
    "    pop_ac[pop] = gt.count_alleles(subpop=pop_idxs[pop])\n",
    "    \n",
    "#-------------------------------------------------------------------------------\n",
    "#generate windows\n",
    "window=100_000\n",
    "\n",
    "#define an array of window start and stops\n",
    "window_starts = [int(x - (window/2)) for x in callset['variants/POS']]\n",
    "window_stops  = [int(x + (window/2)) for x in callset['variants/POS']]\n",
    "\n",
    "#make sure that window starts are all gt 1\n",
    "window_starts = [1 if i < 1 else i for i in window_starts]\n",
    "\n",
    "\n",
    "#make sure that all stops are not gt chrom length\n",
    "chr_length = {}\n",
    "#genome_size = 0\n",
    "with open('/master/nplatt/sch_man_nwinvasion/data/genomes/Smansoni_v7.fa.fai', 'r') as fai:\n",
    "    for entry in fai:\n",
    "        chrom, length, *offset = entry.rstrip().split(\"\\t\")\n",
    "        chr_length[chrom]=int(length)\n",
    "        #genome_size = genome_size + chr_length[chrom]\n",
    "    \n",
    "i=0\n",
    "for stop in window_stops:\n",
    "    chrom = callset['variants/CHROM'][i]\n",
    "    \n",
    "    if stop > chr_length[chrom]:\n",
    "        window_stops[i]=chr_length[chrom]\n",
    "    i=i+1\n",
    "    \n",
    "windows = np.column_stack((np.array(window_starts), \n",
    "                           np.array(window_stops)))\n",
    "\n",
    "callset['windows']=windows"
   ]
  },
  {
   "cell_type": "code",
   "execution_count": null,
   "metadata": {
    "hidden": true
   },
   "outputs": [],
   "source": [
    "#-------------------------------------------------------------------------------\n",
    "# fst calculations\n",
    "\n",
    "pops = [\"brazil\", \"tanzania\", \"niger\", \"senegal\" ]\n",
    "\n",
    "idx_comps = {\"brazil\":   [pop_idxs[\"brazil\"],   pop_idxs[\"tanzania\"] + pop_idxs[\"niger\"]  + pop_idxs[\"senegal\"] ],\n",
    "             \"tanzania\": [pop_idxs[\"tanzania\"], pop_idxs[\"brazil\"]   + pop_idxs[\"niger\"]  + pop_idxs[\"senegal\"] ],\n",
    "             \"niger\":    [pop_idxs[\"niger\"],    pop_idxs[\"tanzania\"] + pop_idxs[\"brazil\"] + pop_idxs[\"senegal\"] ],\n",
    "             \"senegal\":  [pop_idxs[\"senegal\"],  pop_idxs[\"tanzania\"] + pop_idxs[\"niger\"]  + pop_idxs[\"brazil\"] ]}\n",
    "\n",
    "#make comparisons between population\n",
    "for pop in idx_comps.keys():\n",
    "    print(pop)\n",
    "    pop1_idx = idx_comps[pop][0]\n",
    "    pop2_idx = idx_comps[pop][1]\n",
    "\n",
    "    fst_s             = []\n",
    "    fst_calc_window_s = []\n",
    "    fst_count_s       = []\n",
    "\n",
    "    #create empty dataframe to store data    \n",
    "    headers = [\"chrom\", \"pos\", \"fst\", \"smoothed_fst\", \"window\", \"num_snps\", \"zscore\", \"pvalue\", \"-log10(p)\"]\n",
    "    df=pd.DataFrame(columns=headers) \n",
    "\n",
    "    #now loop through each chromosome\n",
    "    for chrom in list(set(callset['variants/CHROM'])) :\n",
    "        target_sites = np.logical_and( callset['maf'] < 0.05, \n",
    "                                       callset['variants/CHROM'] == chrom )  \n",
    "\n",
    "        chr_gts  = gt[target_sites]\n",
    "        chr_poss = callset['variants/POS'][target_sites]\n",
    "        chr_wins = callset['windows'][target_sites]\n",
    "\n",
    "        \n",
    "        fsts, fst_calc_windows, fst_counts =allel.windowed_weir_cockerham_fst(chr_poss, chr_gts, subpops=[pop1_idx, pop2_idx], windows=chr_wins )\n",
    "\n",
    "        #get rid of nan values\n",
    "        useful_values = np.logical_and( np.isfinite(fsts), fst_counts>=10) \n",
    "\n",
    "        fsts = fsts[useful_values]\n",
    "        fst_calc_windows = fst_calc_windows[useful_values]\n",
    "        fst_counts = fst_counts[useful_values]\n",
    "        chr_poss = chr_poss[useful_values]\n",
    "\n",
    "        #set negative fst values to 0\n",
    "        i=0\n",
    "        for fst in fsts:\n",
    "            if fst <0:\n",
    "                fsts[i]=0\n",
    "            i=i+1        \n",
    "        \n",
    "        #smooth\n",
    "        smoothed_fsts=signal.medfilt(fsts, kernel_size = 101)\n",
    "\n",
    "        #add data to dataframe/table\n",
    "        data = list(zip([chrom]*len(fsts), chr_poss, fsts, smoothed_fsts, fst_calc_windows, fst_counts))\n",
    "        chr_df=pd.DataFrame(data, columns=headers)\n",
    "        df = df.append(chr_df)\n",
    "\n",
    "    #add cumul positions\n",
    "    fig_x_pos_s=[]\n",
    "    for index, row in df.iterrows(): \n",
    "        fig_x_pos_s.append(int(row[\"pos\"]) + int(cumul_start[row['chrom']]))\n",
    "\n",
    "    df['fig_x_pos']=fig_x_pos_s\n",
    "\n",
    "    #save data to csv file\n",
    "    csv_file = \"./results/fst_per_window/{}_vs_all_windowed_fst.csv\".format(pop)\n",
    "    df = df.sort_values([\"fig_x_pos\"], ascending = True)\n",
    "    df.to_csv(csv_file, index=False, header=True, mode='w')"
   ]
  },
  {
   "cell_type": "markdown",
   "metadata": {
    "heading_collapsed": true
   },
   "source": [
    "# F3"
   ]
  },
  {
   "cell_type": "code",
   "execution_count": 11,
   "metadata": {
    "ExecuteTime": {
     "end_time": "2021-02-13T23:13:42.944201Z",
     "start_time": "2021-02-13T23:13:42.939070Z"
    },
    "hidden": true
   },
   "outputs": [
    {
     "data": {
      "text/plain": [
       "dict_keys(['samples', 'calldata/GT', 'variants/ALT', 'variants/CHROM', 'variants/FILTER_PASS', 'variants/ID', 'variants/POS', 'variants/QUAL', 'variants/REF'])"
      ]
     },
     "execution_count": 11,
     "metadata": {},
     "output_type": "execute_result"
    }
   ],
   "source": [
    "#allel.average_patterson_f3(acc, aca, acb, blen, normed=True)[source]"
   ]
  },
  {
   "cell_type": "code",
   "execution_count": 7,
   "metadata": {
    "ExecuteTime": {
     "end_time": "2021-02-14T00:19:32.378501Z",
     "start_time": "2021-02-14T00:19:31.763873Z"
    },
    "hidden": true
   },
   "outputs": [
    {
     "name": "stderr",
     "output_type": "stream",
     "text": [
      "/master/nplatt/miniconda3/envs/sch_man_nwinvasion-jupyter/lib/python3.8/site-packages/allel/stats/admixture.py:38: RuntimeWarning: invalid value encountered in true_divide\n",
      "  x = (ac[:, 0] * ac[:, 1]) / (an * (an - 1))\n",
      "/master/nplatt/miniconda3/envs/sch_man_nwinvasion-jupyter/lib/python3.8/site-packages/allel/stats/admixture.py:359: RuntimeWarning: divide by zero encountered in true_divide\n",
      "  vb = T_bsum / B_bsum\n",
      "/master/nplatt/miniconda3/envs/sch_man_nwinvasion-jupyter/lib/python3.8/site-packages/allel/stats/admixture.py:359: RuntimeWarning: invalid value encountered in true_divide\n",
      "  vb = T_bsum / B_bsum\n"
     ]
    },
    {
     "data": {
      "text/plain": [
       "(0.7642687717897145,\n",
       " 0.02070652497665151,\n",
       " 36.90956221053494,\n",
       " array([2.30770842, 0.38621328, 2.60482947, ..., 2.16391042, 2.00865931,\n",
       "        0.5053442 ]),\n",
       " array([0.76363462, 0.76462773, 0.76375805, ..., 0.76407041, 0.76402817,\n",
       "        0.76435461]))"
      ]
     },
     "execution_count": 7,
     "metadata": {},
     "output_type": "execute_result"
    }
   ],
   "source": [
    "allel.average_patterson_f3(pop_ac[\"brazil\"],\n",
    "                           pop_ac[\"rodhaini\"],\n",
    "                           pop_ac[\"tanzania\"],\n",
    "                           blen=100,\n",
    "                           normed=True)\n"
   ]
  },
  {
   "cell_type": "code",
   "execution_count": 8,
   "metadata": {
    "ExecuteTime": {
     "end_time": "2021-02-14T00:22:06.022702Z",
     "start_time": "2021-02-14T00:22:05.453600Z"
    },
    "hidden": true
   },
   "outputs": [
    {
     "data": {
      "text/plain": [
       "(0.99263110166744,\n",
       " 0.029885483308429644,\n",
       " 33.21449050775276,\n",
       " array([1.87430761, 0.42550039, 1.06493091, ..., 1.74566325, 8.69340121,\n",
       "        0.45554722]),\n",
       " array([0.99205936, 0.99310809, 0.9925732 , ..., 0.99246997, 0.99211768,\n",
       "        0.9928036 ]))"
      ]
     },
     "execution_count": 8,
     "metadata": {},
     "output_type": "execute_result"
    }
   ],
   "source": [
    "allel.average_patterson_f3(pop_ac[\"niger\"],\n",
    "                           pop_ac[\"rodhaini\"],\n",
    "                           pop_ac[\"tanzania\"],\n",
    "                           blen=100,\n",
    "                           normed=True)"
   ]
  },
  {
   "cell_type": "code",
   "execution_count": 9,
   "metadata": {
    "ExecuteTime": {
     "end_time": "2021-02-14T00:22:23.488099Z",
     "start_time": "2021-02-14T00:22:22.905758Z"
    },
    "hidden": true
   },
   "outputs": [
    {
     "data": {
      "text/plain": [
       "(1.2648039000192297,\n",
       " 0.046112799000395034,\n",
       " 27.42847815437086,\n",
       " array([2.30182821, 1.01034066, 7.12026285, ..., 1.39569625, 2.63755556,\n",
       "        1.16257658]),\n",
       " array([1.26427968, 1.26501592, 1.26402984, ..., 1.26485081, 1.26458232,\n",
       "        1.26490291]))"
      ]
     },
     "execution_count": 9,
     "metadata": {},
     "output_type": "execute_result"
    }
   ],
   "source": [
    "allel.average_patterson_f3(pop_ac[\"senegal\"],\n",
    "                           pop_ac[\"rodhaini\"],\n",
    "                           pop_ac[\"tanzania\"],\n",
    "                           blen=100,\n",
    "                           normed=True)"
   ]
  },
  {
   "cell_type": "markdown",
   "metadata": {
    "heading_collapsed": true
   },
   "source": [
    "# D; ABBA BABA"
   ]
  },
  {
   "cell_type": "markdown",
   "metadata": {
    "hidden": true
   },
   "source": [
    "## genome wide"
   ]
  },
  {
   "cell_type": "code",
   "execution_count": 22,
   "metadata": {
    "ExecuteTime": {
     "end_time": "2021-02-16T18:15:03.138168Z",
     "start_time": "2021-02-16T18:15:02.932029Z"
    },
    "hidden": true
   },
   "outputs": [
    {
     "data": {
      "text/plain": [
       "(-0.03261718592569776,\n",
       " 0.04040435124698111,\n",
       " -0.8072691410466545,\n",
       " array([-8.82594616e-01, -2.47966235e-01, -3.76546254e-01, -2.63829334e-01,\n",
       "        -8.64685364e-01,  3.29493488e-01,  1.00000000e+00, -4.61564271e-01,\n",
       "        -4.96106730e-01, -1.11290935e-01, -4.01299276e-01,  3.51693121e-01,\n",
       "        -6.66369350e-01, -1.62442320e-01,  1.22037184e-02, -3.21706266e-01,\n",
       "        -9.37888965e-02,  1.19647107e-01, -8.35101776e-01, -7.50273158e-01,\n",
       "        -8.92564786e-01,  6.01474933e-01,  1.17053499e-01, -2.57864285e-01,\n",
       "        -3.46094358e-01, -8.03869738e-02, -2.44462173e-01, -6.75453628e-01,\n",
       "        -3.74648131e-01, -4.64865059e-02,  6.08967083e-01, -6.69769474e-01,\n",
       "        -3.01681538e-01,  2.70398336e-01,  3.75302705e-02,  5.79912225e-01,\n",
       "        -1.04846105e-01, -9.68276941e-01, -1.78855052e-01, -2.89364375e-01,\n",
       "        -3.01062356e-01, -5.25293250e-01,  1.91914917e-01,  3.50985983e-01,\n",
       "         6.95302506e-01,  5.83909719e-01, -2.78103353e-03,  6.80119450e-01,\n",
       "         5.90558287e-01, -7.34127317e-01, -4.56155408e-01, -5.61213995e-02,\n",
       "        -8.31527585e-01, -7.67095463e-01, -1.00457955e-01,  8.51044972e-01,\n",
       "         1.66655279e-01,  4.06369118e-01,  8.89274864e-01, -8.00685213e-01,\n",
       "        -2.29882976e-01, -1.05438671e-01,  4.03339759e-01, -7.71928357e-01,\n",
       "        -4.17546088e-01, -5.29350023e-01, -5.52422920e-01, -9.00564260e-02,\n",
       "        -2.06660289e-01, -4.46767080e-01, -6.49697006e-01, -3.01251670e-01,\n",
       "        -4.64081454e-01, -3.01874405e-01,  1.14033038e-01, -2.99496832e-01,\n",
       "        -1.98493551e-01, -9.44878256e-01,  4.77597606e-01, -5.15610754e-02,\n",
       "         6.69781931e-01, -5.44283625e-01, -3.49551550e-02, -8.37133376e-01,\n",
       "         2.79627928e-01, -7.20062000e-01,  3.71294334e-01,  6.61816653e-01,\n",
       "         5.51964633e-01,  4.95185682e-01, -5.34203846e-02, -8.84434499e-01,\n",
       "         2.48972566e-01,  1.08610381e-01,  4.08830837e-02,  2.76325967e-01,\n",
       "         1.07711927e-01,  1.61884584e-01,  7.56912318e-01,  5.02777774e-01,\n",
       "        -8.66516903e-01, -4.76048693e-01,  8.55081685e-01,  2.09168611e-01,\n",
       "        -7.06197032e-02, -4.53817022e-01, -2.85942035e-01,  4.15348424e-01,\n",
       "         4.66792203e-01,  9.80595453e-01, -4.03991961e-01, -7.10781949e-01,\n",
       "        -2.42211418e-01,  7.13258579e-01, -2.33557419e-01,  8.47585290e-01,\n",
       "         5.56847842e-01, -4.42629133e-01,  8.83457427e-01,  2.97536978e-01,\n",
       "         1.77683032e-03, -2.00499357e-01, -1.58517618e-01, -1.61861220e-01,\n",
       "         4.46304394e-02, -7.03657589e-01, -6.79670823e-01, -8.45967878e-01,\n",
       "         7.56974016e-01,  5.29799729e-01,  8.77809157e-01, -5.43853917e-01,\n",
       "        -5.14210285e-01, -4.94915658e-01, -6.40970816e-01, -4.06002892e-03,\n",
       "         3.65154268e-02, -2.26664863e-01,  3.02362603e-03,  8.72263477e-01,\n",
       "        -4.73693719e-01, -2.73097390e-01,  5.51834340e-01, -5.95083556e-01,\n",
       "        -3.93740413e-01,  8.22587428e-01,  8.63283569e-01, -5.41499971e-01,\n",
       "         1.00000000e+00, -2.79717590e-01, -6.08520721e-01, -7.67947454e-01,\n",
       "        -2.12630555e-01,  2.66643750e-01,  8.68802899e-01, -1.23419168e-01,\n",
       "        -1.29213029e-01,  2.08534146e-01,  6.93733616e-01, -4.83576759e-01,\n",
       "        -6.43627835e-01,  8.71942472e-01,  5.08195225e-02, -6.22358210e-01,\n",
       "        -3.34524382e-01, -3.21644590e-01,  8.29935853e-01, -3.88475280e-01,\n",
       "        -8.90578672e-01,  8.88702764e-01,  4.95124832e-01, -2.37480358e-01,\n",
       "        -5.09264879e-01,  6.55500132e-02,  5.25159737e-01, -4.86927293e-01,\n",
       "        -5.99337712e-01, -9.94628600e-02, -2.28156282e-02, -1.25237609e-01,\n",
       "        -6.36165403e-01,  1.69133587e-01,  3.67898666e-02,  6.99836202e-01,\n",
       "        -7.32729698e-01,  2.61291368e-01,  4.76563506e-03,  4.68916978e-01,\n",
       "        -6.73613044e-02,  1.16321454e-01, -9.72005741e-01, -8.09109224e-01,\n",
       "         5.67996615e-02,  8.56487689e-01,  3.09486632e-01,  7.91400697e-02,\n",
       "         4.55510519e-01, -3.40460595e-01,  2.91069389e-01,  4.29193218e-01,\n",
       "        -3.22103085e-01,  3.78535866e-01, -4.97666734e-01,  2.79830415e-01,\n",
       "         1.00000000e+00,  8.86030267e-01,  1.59686439e-02, -9.86013778e-01,\n",
       "        -2.14372353e-01,  7.14218534e-01, -1.06486552e-01,  4.07936812e-01,\n",
       "        -7.95556766e-02, -1.28428648e-01, -8.72674989e-01, -6.06259877e-01,\n",
       "        -1.49080221e-01, -3.29086205e-01, -4.47061225e-01, -1.52183560e-01,\n",
       "        -4.46669533e-01,  7.76096600e-01,  6.47580806e-01,  2.16004049e-01,\n",
       "         4.12352320e-01, -8.47729193e-01, -8.16987015e-01, -7.90450619e-04,\n",
       "        -5.31367616e-01, -2.47625530e-01,  6.56942867e-01, -2.46767239e-01,\n",
       "        -5.80776812e-01, -3.47228215e-02,  5.42436385e-03, -2.06757917e-01,\n",
       "        -1.46968010e-01,  6.96173980e-02,  4.07164168e-01, -4.07042074e-01,\n",
       "         9.05083576e-03, -3.71624922e-01, -5.89254247e-01,  6.24722650e-01,\n",
       "         8.70709242e-02,  2.05648497e-01, -2.17307062e-01, -4.35084433e-02,\n",
       "         6.20934995e-01, -1.24622124e-01, -7.04102659e-02, -5.77842141e-01,\n",
       "        -5.86733030e-01, -5.04354682e-02, -4.52672695e-01, -3.74052674e-02,\n",
       "         2.34587625e-01, -1.76069537e-01, -5.11881644e-01, -6.63774649e-01,\n",
       "         2.58482763e-01, -7.66359921e-01, -3.69967610e-01,  7.19184322e-01,\n",
       "         6.06079962e-01,  1.51688253e-01,  5.27744921e-01,  5.63813980e-01,\n",
       "         3.51934287e-01, -1.48053157e-01, -7.50154727e-02,  8.26228732e-01,\n",
       "        -1.23023906e-01, -4.30462122e-01,  7.92797231e-02, -2.40281216e-01,\n",
       "        -7.88254048e-01, -8.22388757e-01,  9.49916788e-01,  8.50227354e-01,\n",
       "         1.20479049e-01, -2.46250175e-01,  4.04017815e-01,  1.38587049e-01,\n",
       "         6.41903501e-01, -7.84924322e-01,  3.95774901e-01,  1.69211718e-01,\n",
       "        -2.12318098e-01,  7.26975110e-02,  7.86008607e-01, -5.01772428e-01,\n",
       "         9.76717782e-01,  9.48132498e-01,  4.66197386e-01,  5.22637775e-03,\n",
       "        -3.77592074e-01, -8.72964178e-01, -8.00719819e-01, -4.64406734e-01,\n",
       "        -6.07995870e-01,  4.79710575e-01,  9.30184530e-01,  7.37434744e-02,\n",
       "         4.10413293e-01,  3.50786886e-01,  7.28324838e-01, -9.83343656e-01,\n",
       "         4.41000537e-01,  8.38371478e-01, -8.30316591e-01, -3.80783447e-01,\n",
       "        -1.79611416e-01, -7.93106766e-01, -9.09146653e-01, -3.73946895e-01,\n",
       "        -1.04869310e-01, -3.83229757e-01, -2.53535748e-01, -5.62519290e-01,\n",
       "        -3.38744982e-01, -5.00120849e-01, -3.55893054e-02, -5.71987870e-01,\n",
       "        -2.80058870e-01, -1.94052511e-01,  1.14123220e-01, -1.60875037e-01,\n",
       "         6.60760869e-01, -4.39767011e-01,  2.26563624e-01, -4.03308839e-01,\n",
       "         1.00000000e+00,  1.96919925e-01, -1.28328686e-01, -1.45232529e-01,\n",
       "         3.35136520e-01, -8.55785232e-01, -2.69455129e-01, -2.20934670e-01,\n",
       "        -3.44640077e-01, -5.40435134e-01,  3.68486007e-01,  4.59337720e-01,\n",
       "        -3.40286089e-01,  1.57973761e-02,  2.02662465e-01, -4.90623009e-01,\n",
       "         9.87398994e-02,  7.17467860e-01,  8.39098967e-01,  6.80359554e-01,\n",
       "         8.83559416e-01, -1.64402713e-01, -6.68994937e-01,  4.78569772e-01,\n",
       "        -5.73566795e-01,  6.24531895e-01,  9.65992172e-01,  3.95296566e-01,\n",
       "         1.01136250e-01, -4.00754545e-01,  8.55914935e-01, -3.16481322e-02,\n",
       "         8.83254460e-01, -3.05354276e-01,  3.93707599e-01,  1.03915299e-01,\n",
       "        -1.00000000e+00, -2.48569423e-01,  1.00000000e+00,  5.58986407e-01,\n",
       "         3.58384224e-02, -5.06775056e-01,  2.50918282e-01,  1.00000000e+00,\n",
       "         5.53388095e-01,  4.08729649e-01, -1.00897981e-01, -6.70403356e-02,\n",
       "         1.86164535e-01,  8.39816311e-01,  5.22516890e-01,  6.03331430e-01,\n",
       "        -6.21314918e-01, -8.69205710e-02,  9.87806250e-02, -9.80495030e-02,\n",
       "         6.61990868e-01,  1.81459172e-01, -3.30174695e-01,  4.66443343e-01,\n",
       "        -6.25028100e-02, -8.10334012e-01, -2.16882749e-02, -2.85764926e-01,\n",
       "         5.13588892e-01, -3.10168332e-01, -7.48582419e-01, -2.98343457e-01,\n",
       "         5.22768730e-01,  2.70385985e-02, -1.85759634e-01, -3.06382512e-01,\n",
       "         1.65946839e-02,  2.07458846e-02,  4.41939629e-01, -1.84749678e-01,\n",
       "        -2.52946408e-01, -2.70526798e-01, -6.98649705e-01,  5.47645171e-02,\n",
       "         5.67081023e-01,  1.36743659e-01,  3.14555212e-01,  2.50109312e-01,\n",
       "        -4.14241719e-01,  6.07833490e-01, -2.02875094e-01,  8.28636514e-01,\n",
       "        -4.72297709e-01,  6.77563584e-01, -1.68854392e-01, -1.23589445e-01,\n",
       "         2.58900729e-01,  2.48724841e-02, -4.18815455e-01, -3.37315778e-01,\n",
       "         1.07424452e-02,  5.78456323e-01, -6.99399744e-01,  2.87779457e-01,\n",
       "        -2.23977471e-01, -8.01600979e-01,  1.00000000e+00, -3.48479860e-01,\n",
       "         9.01549153e-01, -4.69554974e-01, -2.34785770e-01,  6.70955638e-01,\n",
       "         6.37740174e-01,  3.00510808e-01, -6.86445027e-01, -4.41348271e-01,\n",
       "         4.15589522e-01, -9.30812612e-02,  6.03197597e-01,  9.58611005e-01,\n",
       "        -4.71828379e-01,  3.09926106e-01,  5.40029442e-01,  6.16851711e-01,\n",
       "        -9.30203961e-01, -2.36588310e-01,  2.78752527e-03, -3.46482472e-01,\n",
       "        -2.42760454e-01,  8.55379350e-01, -4.74246035e-01, -4.65216705e-01,\n",
       "        -3.83552311e-01, -1.78100786e-01,  4.64317898e-01,  8.99630803e-02,\n",
       "         5.42486780e-01,  1.18921558e-01,  3.51003903e-01, -6.60051926e-01,\n",
       "        -2.85396093e-01,  3.28849591e-01, -4.12751436e-01, -5.45110136e-01,\n",
       "         6.37472187e-01,  1.61712553e-01, -2.05228773e-01]),\n",
       " array([-0.0319238 , -0.03232516, -0.03232273, -0.03221823, -0.03171071,\n",
       "        -0.03276437, -0.03302662, -0.03216316, -0.03115957, -0.03224388,\n",
       "        -0.03244033, -0.03376002, -0.02917523, -0.03257463, -0.03270319,\n",
       "        -0.03221171, -0.03254315, -0.03271274, -0.03170095, -0.03230961,\n",
       "        -0.03212203, -0.03425767, -0.03287604, -0.03215321, -0.03222778,\n",
       "        -0.03255969, -0.0321763 , -0.03168465, -0.032179  , -0.03260822,\n",
       "        -0.03263926, -0.03168688, -0.03226429, -0.03306317, -0.03269022,\n",
       "        -0.03614151, -0.03250028, -0.03102736, -0.03250315, -0.03224046,\n",
       "        -0.03188952, -0.03102636, -0.03272535, -0.03286791, -0.03301822,\n",
       "        -0.03323026, -0.03264608, -0.03319668, -0.03292369, -0.03209501,\n",
       "        -0.03160226, -0.03258795, -0.03104611, -0.03113319, -0.03247296,\n",
       "        -0.03273368, -0.03276863, -0.03273499, -0.03291303, -0.03102362,\n",
       "        -0.0323148 , -0.03254002, -0.03290038, -0.03053459, -0.03215209,\n",
       "        -0.03230675, -0.03215614, -0.03255922, -0.03253089, -0.03225911,\n",
       "        -0.03206129, -0.03248636, -0.03032548, -0.0321957 , -0.03289552,\n",
       "        -0.0325286 , -0.03234588, -0.03150667, -0.03320536, -0.0325868 ,\n",
       "        -0.0326458 , -0.03223776, -0.03261007, -0.03238616, -0.0327312 ,\n",
       "        -0.03167102, -0.03298818, -0.03270494, -0.03275839, -0.03373574,\n",
       "        -0.03261005, -0.03211318, -0.033047  , -0.03293354, -0.03268852,\n",
       "        -0.03292177, -0.03276961, -0.03292623, -0.03287731, -0.03309627,\n",
       "        -0.03121207, -0.031119  , -0.03356318, -0.03308402, -0.03259818,\n",
       "        -0.03178539, -0.03215794, -0.03292721, -0.03301279, -0.03419283,\n",
       "        -0.03229766, -0.03203435, -0.03215593, -0.03343693, -0.0323689 ,\n",
       "        -0.03271042, -0.03268747, -0.03224559, -0.03421206, -0.03311913,\n",
       "        -0.03267431, -0.03243066, -0.03234033, -0.03249312, -0.03263263,\n",
       "        -0.03199726, -0.03207725, -0.03196405, -0.03308156, -0.03277078,\n",
       "        -0.03276063, -0.03203045, -0.03191775, -0.03245513, -0.0320738 ,\n",
       "        -0.03267356, -0.03272339, -0.03226142, -0.03268315, -0.03283203,\n",
       "        -0.0322783 , -0.03227461, -0.03347187, -0.03207684, -0.03170233,\n",
       "        -0.03310106, -0.0331357 , -0.03188395, -0.03272045, -0.03231916,\n",
       "        -0.02901372, -0.03130538, -0.03230482, -0.03351451, -0.03287859,\n",
       "        -0.03256672, -0.0324287 , -0.03270429, -0.03305677, -0.03217343,\n",
       "        -0.03244798, -0.03271635, -0.03294363, -0.02930865, -0.03114753,\n",
       "        -0.03108711, -0.04030626, -0.02850214, -0.0316855 , -0.04009402,\n",
       "        -0.0362023 , -0.03235743, -0.03200197, -0.03269503, -0.03509931,\n",
       "        -0.03026455, -0.03088882, -0.03251662, -0.03263252, -0.03235329,\n",
       "        -0.03099844, -0.03314965, -0.03284174, -0.03369863, -0.030851  ,\n",
       "        -0.0330404 , -0.03266727, -0.03302586, -0.0326026 , -0.03295704,\n",
       "        -0.03143704, -0.03198719, -0.03272542, -0.03280058, -0.0326949 ,\n",
       "        -0.03271262, -0.03328936, -0.03118101, -0.03321793, -0.03385486,\n",
       "        -0.03216671, -0.03287648, -0.03226594, -0.0330568 , -0.03311295,\n",
       "        -0.03310061, -0.03264956, -0.03153946, -0.03253029, -0.03362745,\n",
       "        -0.03255934, -0.03266147, -0.03254709, -0.03245794, -0.03071024,\n",
       "        -0.03183641, -0.03256516, -0.03256422, -0.03225782, -0.03246681,\n",
       "        -0.03214587, -0.03863102, -0.03768053, -0.03294597, -0.03291254,\n",
       "        -0.03148351, -0.03119811, -0.03263523, -0.03145727, -0.03192607,\n",
       "        -0.03535366, -0.03232777, -0.03206404, -0.03261388, -0.03269055,\n",
       "        -0.03228355, -0.03240453, -0.03272009, -0.03310207, -0.0323284 ,\n",
       "        -0.03266126, -0.03212404, -0.03065973, -0.03949105, -0.03384863,\n",
       "        -0.0388024 , -0.03107125, -0.03257432, -0.03417432, -0.03260377,\n",
       "        -0.03242737, -0.03216066, -0.03219363, -0.03253327, -0.03192935,\n",
       "        -0.0325828 , -0.03310826, -0.03253662, -0.03162564, -0.03220485,\n",
       "        -0.03300236, -0.03251766, -0.03235782, -0.03946368, -0.03321685,\n",
       "        -0.03303556, -0.03273116, -0.03307122, -0.03327552, -0.03247494,\n",
       "        -0.03252908, -0.0335235 , -0.032363  , -0.0316965 , -0.03272569,\n",
       "        -0.03225312, -0.03169651, -0.03160199, -0.03336632, -0.04010478,\n",
       "        -0.03286003, -0.0323668 , -0.03333635, -0.03285901, -0.03338797,\n",
       "        -0.03203276, -0.03332741, -0.03307775, -0.03240565, -0.03271491,\n",
       "        -0.03454485, -0.03198717, -0.0335017 , -0.03288141, -0.03306981,\n",
       "        -0.03264284, -0.0319609 , -0.01532351, -0.02612242, -0.03073658,\n",
       "        -0.03197626, -0.0341989 , -0.03426347, -0.03280575, -0.03389614,\n",
       "        -0.03376327, -0.03574161, -0.03180345, -0.0330239 , -0.03535896,\n",
       "        -0.02947408, -0.03226825, -0.03253762, -0.03117285, -0.03098358,\n",
       "        -0.0317658 , -0.03240896, -0.02956512, -0.03176264, -0.02980929,\n",
       "        -0.03072132, -0.02931835, -0.03260862, -0.02944871, -0.03192539,\n",
       "        -0.03254355, -0.03267673, -0.0324987 , -0.03365673, -0.03199443,\n",
       "        -0.03362431, -0.03145241, -0.03289641, -0.03300786, -0.03238386,\n",
       "        -0.03208347, -0.03369761, -0.03086458, -0.03217955, -0.03252586,\n",
       "        -0.03156738, -0.03198287, -0.03311049, -0.03286111, -0.03186421,\n",
       "        -0.03264461, -0.03310105, -0.03136376, -0.03283907, -0.03332568,\n",
       "        -0.04366931, -0.0338554 , -0.0328484 , -0.03242357, -0.03215018,\n",
       "        -0.0331623 , -0.03207662, -0.03322203, -0.033044  , -0.03326482,\n",
       "        -0.03283153, -0.03211875, -0.03386912, -0.03261812, -0.03324434,\n",
       "        -0.03226395, -0.03349793, -0.03300381, -0.03234942, -0.03246169,\n",
       "        -0.03297531, -0.03320111, -0.03269276, -0.03239704, -0.03303828,\n",
       "        -0.03271371, -0.03318583, -0.03322536, -0.03252208, -0.0325015 ,\n",
       "        -0.03303596, -0.03310922, -0.03315515, -0.03360662, -0.03119863,\n",
       "        -0.03258454, -0.03283288, -0.0323773 , -0.03963118, -0.03332594,\n",
       "        -0.03240044, -0.03309271, -0.03249547, -0.02661918, -0.03263467,\n",
       "        -0.03243863, -0.03351818, -0.03131729, -0.02871877, -0.03236619,\n",
       "        -0.03432639, -0.03263076, -0.03223967, -0.03231238, -0.03270175,\n",
       "        -0.03269749, -0.03304602, -0.03219717, -0.03217536, -0.03174121,\n",
       "        -0.03008413, -0.0328389 , -0.03610476, -0.03374389, -0.03461152,\n",
       "        -0.03311912, -0.03058488, -0.0397281 , -0.03194953, -0.03314249,\n",
       "        -0.03198903, -0.03280039, -0.03234841, -0.03251586, -0.03284077,\n",
       "        -0.03265332, -0.03055658, -0.03215503, -0.03272507, -0.03296962,\n",
       "        -0.03206568, -0.03348118, -0.03244643, -0.03182214, -0.03291572,\n",
       "        -0.03222244, -0.03277387, -0.03218166, -0.03235754, -0.03394142,\n",
       "        -0.0379555 , -0.03358735, -0.02974806, -0.03195431, -0.03290327,\n",
       "        -0.03250441, -0.03480134, -0.03933428, -0.03165553, -0.03444084,\n",
       "        -0.04076217, -0.03369699, -0.0230549 , -0.03223404, -0.03277451,\n",
       "        -0.03186862, -0.03232431, -0.0330837 , -0.03179963, -0.03143144,\n",
       "        -0.03214719, -0.03218438, -0.03338545, -0.03265438, -0.03294402,\n",
       "        -0.03274154, -0.03313045, -0.03170984, -0.03193068, -0.03459984,\n",
       "        -0.03226755, -0.03012488, -0.03352356, -0.03308452, -0.03239449]))"
      ]
     },
     "execution_count": 22,
     "metadata": {},
     "output_type": "execute_result"
    }
   ],
   "source": [
    "#allel.average_patterson_d(aca, acb, acc, acd, blen)\n",
    "allel.average_patterson_d(pop_ac[\"brazil\"],\n",
    "                          pop_ac[\"tanzania\"],\n",
    "                          pop_ac[\"rodhaini\"],\n",
    "                          pop_ac[\"margrebowiei\"],\n",
    "                          blen=1000)"
   ]
  },
  {
   "cell_type": "code",
   "execution_count": 23,
   "metadata": {
    "ExecuteTime": {
     "end_time": "2021-02-16T18:15:03.324408Z",
     "start_time": "2021-02-16T18:15:03.140299Z"
    },
    "hidden": true
   },
   "outputs": [
    {
     "data": {
      "text/plain": [
       "(0.005640941265044407,\n",
       " 0.04372255749596241,\n",
       " 0.12901672701934974,\n",
       " array([-6.81917479e-01, -3.85718949e-01, -3.14518210e-01, -1.48157010e-01,\n",
       "        -7.26049583e-01, -7.48819544e-02,  1.00000000e+00, -4.76431986e-01,\n",
       "        -4.55424532e-01,  7.70122384e-02,  1.43218693e-01,  5.50476508e-01,\n",
       "        -6.57157674e-01, -1.70171662e-01,  2.27459140e-01, -3.07161523e-01,\n",
       "        -8.09768024e-02, -2.33823000e-03, -8.35834344e-01, -7.07126413e-01,\n",
       "        -8.90220088e-01,  4.65090694e-01,  5.94384452e-02, -3.35107045e-01,\n",
       "        -1.78654594e-01,  8.73872130e-02, -6.75157654e-02, -7.24413685e-01,\n",
       "        -1.53511725e-01, -2.05955403e-01,  6.08967083e-01, -6.46493549e-01,\n",
       "        -4.15855446e-02,  3.07765389e-01, -1.43415159e-01, -5.69425287e-01,\n",
       "         2.14343956e-02, -9.68151000e-01, -2.19293184e-01, -3.19503789e-01,\n",
       "        -3.64196420e-01, -7.63703966e-01,  4.48711792e-01,  5.35479304e-01,\n",
       "         9.09525757e-01,  9.38213406e-01,  1.83753096e-01,  9.74067439e-01,\n",
       "         6.18728912e-01, -7.28228873e-01, -4.35730795e-01,  9.14993867e-02,\n",
       "        -9.43506440e-01, -7.58154249e-01, -2.37066721e-01,  1.00000000e+00,\n",
       "         7.68525216e-01,  5.46302423e-01,  6.04581741e-01, -7.06313020e-01,\n",
       "         2.45007107e-02,  5.17158498e-02,  5.69497250e-01, -7.59345534e-01,\n",
       "        -2.07454078e-01, -8.79304799e-01, -6.12584133e-01, -3.39938190e-01,\n",
       "         2.52214152e-01, -2.83399626e-01, -6.38964685e-01, -2.33343877e-01,\n",
       "        -4.50796677e-01, -9.76846445e-02,  3.88829306e-01, -3.75456450e-01,\n",
       "        -3.57465594e-02, -9.36986256e-01,  6.33412336e-01,  2.25359462e-01,\n",
       "        -1.61189358e-01, -6.75475551e-01,  1.05187199e-01, -6.58981748e-01,\n",
       "        -2.97687081e-01, -6.62970377e-01,  6.45073206e-01,  6.61816653e-01,\n",
       "         3.49051300e-01,  5.34171318e-01, -3.16607359e-03, -9.45954877e-01,\n",
       "         4.52755206e-01,  3.11897680e-01, -5.28252475e-02, -1.04732416e-01,\n",
       "         3.36816569e-01,  1.18531395e-01,  8.03157660e-01,  4.75696195e-01,\n",
       "        -9.50443942e-01, -5.81753013e-01,  1.00000000e+00,  3.69335148e-01,\n",
       "        -3.20084729e-01, -5.42837395e-01, -2.75371370e-01,  5.20893423e-01,\n",
       "         3.35110242e-01,  9.72842630e-01, -3.33505858e-01, -7.21262373e-01,\n",
       "        -3.17517999e-01,  5.39520835e-01, -1.57290887e-01,  2.06656417e-01,\n",
       "         6.56513572e-01, -2.58275329e-01,  8.18230866e-01,  4.42840752e-01,\n",
       "        -2.06036140e-01, -2.26467228e-01, -1.60599050e-01,  3.30012741e-01,\n",
       "        -1.68571884e-01, -8.57168088e-01, -6.41179541e-01, -8.21069787e-01,\n",
       "         5.41952416e-01,  6.47857297e-01,  9.02366416e-01, -4.97407433e-01,\n",
       "        -3.44304022e-01, -4.94915658e-01, -5.13544786e-01, -4.53217163e-01,\n",
       "         7.76162082e-02, -3.04053156e-01,  1.96962406e-01,  5.56291443e-01,\n",
       "        -5.13479043e-01, -2.07170227e-01,  5.66630955e-01, -6.21732093e-01,\n",
       "        -1.52767815e-01,  8.79404204e-01,  9.23550377e-01, -6.51363884e-01,\n",
       "         4.67066223e-01, -4.11189492e-01, -6.17077633e-01, -8.35984610e-01,\n",
       "        -2.92005169e-01,  2.12234317e-01,  9.41011797e-01, -1.66047442e-01,\n",
       "        -6.04145749e-02,  2.08534146e-01,  6.82461259e-01, -4.98741923e-01,\n",
       "        -6.43627835e-01,  8.71942472e-01,  1.06036448e-01, -7.17467113e-01,\n",
       "        -4.94627348e-02, -3.95833198e-01,  7.57528668e-01, -4.15105895e-01,\n",
       "        -9.04766584e-01,  8.18822848e-01,  3.29256114e-01, -2.67235604e-01,\n",
       "        -6.01275435e-01,  3.42899460e-01,  5.10481857e-01, -4.62257735e-01,\n",
       "        -7.37638667e-01,  9.42876743e-02, -9.50753091e-02, -1.38753953e-01,\n",
       "        -7.56351685e-01,  5.55780366e-01,  6.85199984e-01,  1.00000000e+00,\n",
       "        -7.82861055e-01,  1.55756173e-01,  1.06699345e-01,  6.06923819e-01,\n",
       "        -4.36570571e-01,  5.11798536e-02, -9.81704720e-01, -8.09109224e-01,\n",
       "         2.07993837e-01,  9.32109933e-01,  9.21029355e-01,  4.47712889e-02,\n",
       "         4.18427412e-01, -1.60651712e-01,  2.87294740e-01,  4.64923947e-01,\n",
       "        -4.64118275e-01,  2.10465814e-01, -6.82795130e-01,  1.64329824e-01,\n",
       "         5.81124885e-01,  9.47185740e-01,  1.59686439e-02, -8.58170945e-01,\n",
       "        -6.10558503e-01,  7.90707221e-01,  5.78957006e-01,  9.14356397e-01,\n",
       "        -1.11985241e-01, -1.47159988e-01, -8.65447917e-01, -5.91424120e-01,\n",
       "        -5.35502894e-01, -5.87818875e-01, -3.30219267e-01, -2.03820462e-01,\n",
       "        -1.32376877e-01,  6.95812024e-04,  1.68962699e-01,  1.88547815e-01,\n",
       "         6.05318126e-01, -7.42236656e-01, -9.26519595e-01, -8.95817965e-01,\n",
       "        -5.56425846e-01, -3.04534229e-01, -1.32748923e-01, -1.00000000e+00,\n",
       "        -1.74467588e-01,  4.52642074e-01,  3.40374470e-02, -1.87619292e-01,\n",
       "        -4.48574376e-01, -1.00812812e-01,  4.18168877e-01, -3.85949558e-01,\n",
       "        -8.25205697e-02, -1.22239638e-01, -3.22444388e-01,  3.92341752e-01,\n",
       "         1.09643594e-01,  1.51258627e-01, -2.19578342e-01, -1.69281120e-01,\n",
       "         7.07113385e-01,  7.80361757e-01,  3.46123296e-01, -6.28299355e-01,\n",
       "        -7.64421180e-01, -3.28109230e-01, -1.59566661e-01, -6.58745036e-01,\n",
       "        -1.53361816e-01, -1.98750657e-01, -5.20320506e-01, -6.97440384e-01,\n",
       "         2.53213625e-01, -6.88228200e-01, -8.50536792e-01,  7.37469829e-01,\n",
       "         3.54994175e-01,  4.41817249e-01,  7.41863136e-01,  1.38279662e-01,\n",
       "         7.40468261e-01,  1.03987359e-01,  2.52716870e-01,  9.77171400e-01,\n",
       "        -2.51973923e-01,  2.91347946e-02, -1.22399088e-02, -1.47001594e-01,\n",
       "        -8.07637133e-01, -7.44989100e-01,  8.43626138e-01,  8.65965889e-01,\n",
       "        -4.25318990e-03, -4.49617455e-01,  1.41759867e-01,  3.09664597e-01,\n",
       "         6.94264983e-01, -7.21986093e-01,  8.24615369e-01,  3.16579985e-01,\n",
       "        -2.32321124e-01,  8.54214654e-02,  9.20404710e-01, -3.87866990e-01,\n",
       "         9.98982898e-01,  9.46113933e-01,  2.88253700e-01,  2.92234605e-02,\n",
       "        -1.67503010e-01, -8.63029491e-01, -8.27139691e-01, -4.50952738e-01,\n",
       "        -8.57439352e-01,  5.96311243e-01,  6.26583081e-01,  7.39006132e-01,\n",
       "         8.86808246e-01,  8.36839670e-01,  9.88637785e-01,  2.89735887e-01,\n",
       "         7.38488505e-01,  8.61413886e-01, -8.19669788e-01, -7.92931923e-01,\n",
       "        -9.90556233e-02, -5.93139306e-01, -7.23162337e-01, -4.41908931e-01,\n",
       "        -2.88660734e-01, -3.82507818e-01, -1.39910979e-01, -6.87517609e-01,\n",
       "         1.49280506e-01, -6.66420976e-01,  5.12703919e-02, -1.89254845e-01,\n",
       "        -8.62802136e-02, -4.06952259e-01,  2.45128561e-02, -3.17274235e-01,\n",
       "         9.62543799e-01, -3.94992110e-01,  2.30418122e-01, -4.88173099e-01,\n",
       "         1.00000000e+00,  3.41817683e-01, -9.82550724e-02, -1.68123366e-01,\n",
       "         3.87740625e-01, -9.63951957e-01, -3.88119328e-01,  2.29560042e-02,\n",
       "        -2.37598233e-01, -3.84828605e-01,  3.02836648e-02,  7.80487328e-01,\n",
       "        -4.30344982e-01,  1.00000000e+00,  3.00984448e-01, -4.52859789e-01,\n",
       "         3.61399655e-01,  4.78612625e-01,  6.15252787e-01,  6.34809816e-01,\n",
       "         9.59963852e-01, -4.11169344e-01, -7.49039887e-01,  4.11871514e-01,\n",
       "        -6.64197615e-01,  6.14575280e-01,  2.25317097e-01,  2.78911415e-01,\n",
       "         7.33790057e-02, -4.79229467e-01,  7.40004774e-01, -2.66240295e-02,\n",
       "         5.08584546e-01, -2.57864851e-01,  9.96693209e-02,  7.72417042e-02,\n",
       "        -1.00000000e+00, -5.74777499e-01,  1.00000000e+00,  5.58986407e-01,\n",
       "         7.56413239e-02, -7.49468333e-01,  3.52343447e-01,  1.00000000e+00,\n",
       "         3.27878906e-01,  1.44993721e-01, -2.05283813e-01,  1.29409928e-01,\n",
       "         1.06512085e-01,  8.53319210e-01,  4.17207322e-01,  6.98602837e-01,\n",
       "        -5.51232453e-01,  1.69281379e-01,  1.06793359e-01, -2.28471107e-02,\n",
       "         1.86492989e-01,  2.19872192e-01, -3.77011681e-01,  3.64269630e-01,\n",
       "        -2.40610440e-01, -7.94445533e-01, -3.23071125e-02, -2.75440995e-01,\n",
       "         4.95950470e-01,  2.17503692e-01, -5.52347009e-01, -3.28180803e-01,\n",
       "         9.46155959e-01, -8.70220998e-02, -1.96687874e-01, -2.02153202e-01,\n",
       "        -1.26184826e-01, -3.34578377e-03,  6.21715503e-01, -3.77505818e-01,\n",
       "        -1.23640071e-01, -3.51708053e-02, -7.02205818e-01,  2.48357286e-01,\n",
       "         3.52300685e-01, -3.05471491e-01,  6.57130249e-01,  3.47922626e-02,\n",
       "        -5.16667345e-01,  5.67992103e-01, -6.30956369e-01,  9.17809112e-01,\n",
       "         1.18008488e-01,  2.06276207e-01, -3.44402097e-01, -3.46064159e-03,\n",
       "         2.79966545e-01,  2.51868666e-01, -4.09657922e-01,  6.23974090e-01,\n",
       "        -8.45382374e-02,  8.50886490e-01, -6.40797471e-01,  3.69950686e-01,\n",
       "        -1.00286244e-01, -9.10620894e-01,  1.00000000e+00,  5.64648059e-01,\n",
       "         1.00000000e+00, -4.72205704e-01,  2.29927337e-02,  6.72689200e-01,\n",
       "         7.06564203e-01, -2.73907189e-01, -6.69627016e-01, -3.44974637e-01,\n",
       "         4.89616865e-01, -2.05169430e-01,  5.55867001e-01,  9.30938531e-01,\n",
       "        -4.64378273e-01,  8.27529875e-01,  8.71120397e-01, -6.17737716e-01,\n",
       "        -9.29346054e-01, -5.28414203e-01,  3.71174928e-03, -4.57652129e-01,\n",
       "        -2.82498639e-01,  8.79927888e-01, -5.60616777e-01, -3.83799506e-01,\n",
       "        -1.48513217e-01, -3.18082884e-02,  2.45082430e-01,  8.99630803e-02,\n",
       "        -7.31934062e-02,  7.71519597e-01,  6.55069667e-01, -5.62480895e-01,\n",
       "        -3.70620040e-01,  3.13881249e-01, -4.76282843e-01, -6.02675086e-01,\n",
       "         7.49990307e-01,  1.86890744e-01, -1.20727638e-01]),\n",
       " array([ 0.00599248,  0.00611058,  0.0058729 ,  0.00589133,  0.00664926,\n",
       "         0.00568004,  0.00526905,  0.00614581,  0.00696876,  0.00530307,\n",
       "         0.00560767,  0.00413622,  0.0090492 ,  0.0056935 ,  0.00533239,\n",
       "         0.0060545 ,  0.00573974,  0.00564635,  0.00657013,  0.00600095,\n",
       "         0.006127  ,  0.00454746,  0.00554873,  0.0063276 ,  0.00583627,\n",
       "         0.00554546,  0.00577002,  0.00670746,  0.00578397,  0.0058256 ,\n",
       "         0.00562095,  0.0065114 ,  0.00571161,  0.00518417,  0.00582197,\n",
       "         0.00711767,  0.00561938,  0.00722774,  0.00581858,  0.0061038 ,\n",
       "         0.00669823,  0.00784696,  0.00544128,  0.0053554 ,  0.005123  ,\n",
       "         0.00493943,  0.00549927,  0.00500341,  0.00532913,  0.00615549,\n",
       "         0.0066311 ,  0.00556455,  0.00731116,  0.00705172,  0.00614979,\n",
       "         0.00547443,  0.00527277,  0.00548942,  0.00542896,  0.00679302,\n",
       "         0.00561412,  0.00559692,  0.00521494,  0.00768251,  0.00582307,\n",
       "         0.00612145,  0.00622612,  0.0060148 ,  0.00556637,  0.00591447,\n",
       "         0.00613652,  0.00574307,  0.00779207,  0.00576759,  0.00503932,\n",
       "         0.00577756,  0.00571035,  0.00666853,  0.00502681,  0.00532304,\n",
       "         0.00565397,  0.00610463,  0.00539261,  0.005738  ,  0.0058358 ,\n",
       "         0.00643148,  0.00514605,  0.0055611 ,  0.00554906,  0.00460204,\n",
       "         0.0056437 ,  0.00634897,  0.00498752,  0.00496966,  0.0056966 ,\n",
       "         0.00571727,  0.00534383,  0.00542257,  0.00539443,  0.00523431,\n",
       "         0.00731742,  0.00773188,  0.00464795,  0.00503779,  0.00592995,\n",
       "         0.0068063 ,  0.00613209,  0.00532144,  0.00538405,  0.00411331,\n",
       "         0.00589216,  0.00626509,  0.0060931 ,  0.00503478,  0.00581722,\n",
       "         0.00559789,  0.00554453,  0.00581397,  0.00437282,  0.00501342,\n",
       "         0.00600048,  0.00587411,  0.00590467,  0.00538675,  0.00569774,\n",
       "         0.00635286,  0.00614939,  0.00624775,  0.00530505,  0.00541419,\n",
       "         0.00547067,  0.00614541,  0.00597962,  0.0058099 ,  0.00603221,\n",
       "         0.00661715,  0.00553829,  0.00626259,  0.00534486,  0.00543101,\n",
       "         0.00606827,  0.00604379,  0.00484568,  0.00621677,  0.00607488,\n",
       "         0.00517932,  0.00514506,  0.00684017,  0.00558037,  0.00612305,\n",
       "         0.00940879,  0.00697459,  0.00616576,  0.00502093,  0.00535201,\n",
       "         0.00572681,  0.00577246,  0.00557038,  0.00521573,  0.00614232,\n",
       "         0.00581407,  0.00554949,  0.0052465 ,  0.00777489,  0.00596549,\n",
       "         0.00870118, -0.00052753,  0.0102454 ,  0.00657807,  0.00171802,\n",
       "         0.00358685,  0.00598689,  0.00647502,  0.00545232,  0.00377195,\n",
       "         0.00796093,  0.00757   ,  0.00552598,  0.00578183,  0.00604403,\n",
       "         0.00830564, -0.00249545, -0.00038036,  0.00443769,  0.00814183,\n",
       "         0.0054073 ,  0.00553435,  0.00517704,  0.00579059,  0.00553738,\n",
       "         0.00679468,  0.00627742,  0.00542042,  0.00546414,  0.00551222,\n",
       "         0.00560771,  0.00509182,  0.00627502,  0.0051593 ,  0.00448482,\n",
       "         0.00626557,  0.00548611,  0.0063814 ,  0.00540461,  0.00530439,\n",
       "         0.00517886,  0.00563432,  0.00661213,  0.00592356,  0.00452391,\n",
       "         0.00531173,  0.00557626,  0.00580708,  0.00590343,  0.0074423 ,\n",
       "         0.00639495,  0.00598531,  0.00580715,  0.00607929,  0.00597359,\n",
       "         0.00568686,  0.00564872,  0.00500923,  0.00544364,  0.00530022,\n",
       "         0.00675576,  0.00725756,  0.0059839 ,  0.00699549,  0.00671588,\n",
       "         0.0057901 ,  0.00676145,  0.00579483,  0.00413835,  0.00558717,\n",
       "         0.00598902,  0.0064061 ,  0.00577165,  0.00520631,  0.00593168,\n",
       "         0.00572967,  0.00601151,  0.00703482,  0.00139156,  0.00437121,\n",
       "         0.00170052,  0.00746431,  0.00634563,  0.00399615,  0.00559439,\n",
       "         0.00330734,  0.00619859,  0.00632082,  0.00671342,  0.00588597,\n",
       "         0.00928592,  0.00588424,  0.00574938,  0.0067071 ,  0.00613245,\n",
       "         0.00532821,  0.00570885,  0.00678251, -0.00075583,  0.00526654,\n",
       "         0.00415005,  0.00501234,  0.00555745,  0.00242009,  0.00549138,\n",
       "         0.00520735,  0.00454183,  0.00641752,  0.00556754,  0.00565736,\n",
       "         0.00592807,  0.00657572,  0.00624192,  0.00499806, -0.00271253,\n",
       "         0.00565641,  0.00610201,  0.00546234,  0.00526788,  0.00493746,\n",
       "         0.00606192,  0.00448787,  0.00503817,  0.00591681,  0.00557364,\n",
       "         0.00371247,  0.006152  ,  0.00484595,  0.00540611,  0.00540846,\n",
       "         0.0056216 ,  0.0059889 ,  0.02313937,  0.01245209,  0.00759021,\n",
       "         0.00658695,  0.0040192 ,  0.00454635,  0.00026954,  0.00145761,\n",
       "        -0.00174253, -0.00466147,  0.00494737,  0.00476219,  0.00333602,\n",
       "         0.00863347,  0.00643452,  0.00571479,  0.00699289,  0.00692286,\n",
       "         0.00672135,  0.00651305,  0.00888946,  0.00617954,  0.01001249,\n",
       "         0.00448952,  0.00911699,  0.00553322,  0.00711384,  0.00596621,\n",
       "         0.00581653,  0.00563292,  0.0059875 ,  0.00450241,  0.00628068,\n",
       "         0.00483436,  0.00712791,  0.00534339,  0.00514955,  0.00588123,\n",
       "         0.00642606,  0.00462667,  0.00767418,  0.00651122,  0.00563471,\n",
       "         0.00648998,  0.00613587,  0.00560626,  0.00534454,  0.00674323,\n",
       "         0.00532619,  0.0050939 ,  0.00681481,  0.00502515,  0.005143  ,\n",
       "         0.00136623,  0.0043837 ,  0.00496618,  0.00626502,  0.00634444,\n",
       "         0.00527119,  0.00636007,  0.00500183,  0.00549969,  0.00530356,\n",
       "         0.00553684,  0.00636842,  0.00470128,  0.00566407,  0.00542107,\n",
       "         0.00599828,  0.00543561,  0.00546988,  0.00580895,  0.00586763,\n",
       "         0.00535923,  0.00511507,  0.00556567,  0.00595731,  0.00518241,\n",
       "         0.00555145,  0.00528111,  0.0054779 ,  0.00594603,  0.00528356,\n",
       "         0.00544802,  0.00513822,  0.00524748,  0.00455772,  0.00691121,\n",
       "         0.00556274,  0.00550696,  0.00574133,  0.00503843,  0.00481444,\n",
       "         0.00589514,  0.0052898 ,  0.00652108,  0.0129376 ,  0.00569939,\n",
       "         0.00582925,  0.00484814,  0.00420805,  0.00719209,  0.0059441 ,\n",
       "         0.0015354 ,  0.00566347,  0.00616354,  0.00583457,  0.00583179,\n",
       "         0.00565428,  0.00420925,  0.00687568,  0.00590187,  0.0057827 ,\n",
       "         0.00824782,  0.00492045,  0.00424852,  0.00693297,  0.00013413,\n",
       "         0.00557907,  0.00847643, -0.00025331,  0.00761177,  0.00520946,\n",
       "         0.0054713 ,  0.00556173,  0.00626263,  0.00564941,  0.00543243,\n",
       "         0.00551673,  0.007766  ,  0.00402185,  0.00579269,  0.00557191,\n",
       "         0.00620259,  0.00473672,  0.00572115,  0.00654959,  0.00536414,\n",
       "         0.00533653,  0.00548826,  0.00616458,  0.0056225 ,  0.004375  ,\n",
       "         0.00250494,  0.00612502,  0.00827042,  0.0061269 ,  0.00528635,\n",
       "         0.00600492,  0.00450043,  0.00288641,  0.00665624, -0.00527544,\n",
       "        -0.00974843,  0.00575188,  0.01511057,  0.00658699,  0.00564917,\n",
       "         0.00670984,  0.00599866,  0.00449019,  0.00665213,  0.00650679,\n",
       "         0.00591514,  0.00575271,  0.00534187,  0.00561631,  0.00567201,\n",
       "         0.00282594,  0.0039288 ,  0.00623563,  0.00666466,  0.00400686,\n",
       "         0.00603896,  0.00848921,  0.00469939,  0.00525465,  0.00578281]))"
      ]
     },
     "execution_count": 23,
     "metadata": {},
     "output_type": "execute_result"
    }
   ],
   "source": [
    "allel.average_patterson_d(pop_ac[\"niger\"],\n",
    "                          pop_ac[\"tanzania\"],\n",
    "                          pop_ac[\"rodhaini\"],\n",
    "                          pop_ac[\"margrebowiei\"],\n",
    "                          blen=1000)"
   ]
  },
  {
   "cell_type": "code",
   "execution_count": 24,
   "metadata": {
    "ExecuteTime": {
     "end_time": "2021-02-16T18:15:03.494390Z",
     "start_time": "2021-02-16T18:15:03.326587Z"
    },
    "hidden": true
   },
   "outputs": [
    {
     "data": {
      "text/plain": [
       "(0.05059992689029783,\n",
       " 0.047304361492924364,\n",
       " 1.069667263088762,\n",
       " array([-0.89406293, -0.41463584, -0.30774139, -0.16139064, -0.75768364,\n",
       "         0.44104235,  0.81960111, -0.46710038, -0.38152435,  0.1597514 ,\n",
       "         0.65115171,  0.48547131, -0.65927959, -0.21034687,  0.40279166,\n",
       "         0.1466188 , -0.04446779,  0.09214502, -0.82464819, -0.61686142,\n",
       "        -0.91202416,  0.41720816,  0.01416276, -0.2812765 , -0.06709415,\n",
       "        -0.0066766 , -0.23985181, -0.82531992, -0.13169282, -0.29448431,\n",
       "        -0.19772801, -0.70027812,  0.16975618,  0.13907246, -0.21881032,\n",
       "        -0.57208123,  0.0214344 , -0.94780753, -0.1966875 , -0.07814018,\n",
       "        -0.43446418, -0.79269509,  0.33335328,  0.71104633,  0.89928786,\n",
       "         0.95764246, -0.16487126,  0.84891221,  0.46558885, -0.77476284,\n",
       "        -0.44066063, -0.03270511, -0.78116302, -0.74541501, -0.12114947,\n",
       "         0.57997731,  0.35401737,  0.92859108,  0.46336566, -0.81648348,\n",
       "        -0.27947332,  0.08839017,  0.66815843, -0.73577249, -0.32999911,\n",
       "        -0.86999564, -0.65511044, -0.32251696,  0.19683346, -0.49722919,\n",
       "        -0.59755314, -0.2730731 , -0.47237589, -0.2610409 ,  0.28283495,\n",
       "        -0.57553655, -0.0461378 , -0.94613242,  0.63673595,  0.09779947,\n",
       "        -0.2264113 , -0.58518726,  0.12466106, -0.86798098,  0.29126406,\n",
       "        -0.46605186,  0.7815959 ,  0.66181665,  0.55196463,  0.26952362,\n",
       "        -0.00316607, -0.91730176,  0.57973703,  0.28228966,  0.03633372,\n",
       "        -0.21614824,  0.45543373,  0.40759831,  0.58286341,  0.37893745,\n",
       "        -0.97522076, -0.58684518,  0.56917346,  0.38173746, -0.55267664,\n",
       "        -0.52558098, -0.29157136,  0.5067137 ,  0.5239462 ,  0.90267688,\n",
       "        -0.53046872, -0.73188878, -0.08077586,  0.28783717, -0.12585998,\n",
       "         0.73208723,  0.19286522, -0.48437269,  0.66109114,  0.42831847,\n",
       "        -0.20603614, -0.19557374, -0.18463216,  0.89450477,  0.02943525,\n",
       "        -0.85010261, -0.72486416, -0.86339627,  0.59734174,  0.31999283,\n",
       "         0.10710452, -0.48389411, -0.36352348, -0.51764153, -0.66808101,\n",
       "        -0.4143667 ,  0.08146284, -0.13673017,  0.37813861,  0.76004746,\n",
       "        -0.52080732, -0.19684173,  0.55064589, -0.61059324, -0.16230525,\n",
       "         0.77705375,  0.820799  , -0.57079972,  0.56699453, -0.52317154,\n",
       "        -0.60873659, -0.86115759, -0.34552686,  0.32124284,  0.96330954,\n",
       "        -0.03559226, -0.23862038,  0.1111509 ,  0.78042635, -0.54765797,\n",
       "        -0.58744603,  0.88806793,  0.07617584,  0.05497359,  0.34344429,\n",
       "        -0.29809984,  0.80229743, -0.36229116, -0.85512718,  0.36178506,\n",
       "         0.36796665, -0.2672356 , -0.49448012,  0.24543184,  0.50839629,\n",
       "        -0.49309437, -0.68447599, -0.16484095, -0.22791809, -0.15503062,\n",
       "        -0.78268929,  0.65119664,  0.77002199,  0.92716801, -0.8647978 ,\n",
       "         0.72743349,  0.03324176,  0.15574628, -0.75529936,  0.11801547,\n",
       "        -0.9509336 , -0.79642739,  0.08789567,  0.6612917 ,  0.37005198,\n",
       "        -0.09116872,  0.37586097, -0.25247065,  0.0819179 ,  0.46492395,\n",
       "        -0.49877367,  0.47851521, -0.70053441,  0.30557585,  0.93627788,\n",
       "         0.79371693,  0.01596864, -0.97976502, -0.62189926,  0.9663712 ,\n",
       "         0.18389856,  0.36613492, -0.10332937, -0.13930054, -0.8665785 ,\n",
       "        -0.61009903, -0.66492173, -0.07946962, -0.14602595, -0.12379763,\n",
       "        -0.13864558,  0.70686291,  0.77038007,  0.22467383,  0.72324447,\n",
       "        -0.88254257, -0.92840608, -0.90537681, -0.53136762, -0.19067422,\n",
       "         0.03245017, -0.97009054,  0.03190718, -0.32615343, -0.00559867,\n",
       "        -0.09471701, -0.44898334, -0.23853509,  0.4050478 , -0.4505289 ,\n",
       "        -0.02449658,  0.01902579,  0.04750068, -0.0771249 , -0.29816579,\n",
       "         0.06110763, -0.21124555, -0.35559084,  0.70733437,  0.8247187 ,\n",
       "         0.26071516, -0.6588819 , -0.7220579 , -0.28099193, -0.23530182,\n",
       "        -0.87880898, -0.09604475, -0.22108733, -0.51188164, -0.67139217,\n",
       "         0.22165098, -0.82133695, -0.82912765,  0.71519917,  0.26031792,\n",
       "         0.48012951,  0.97489002,  0.73592542,  0.91099518,  0.81208265,\n",
       "         0.14440011,  0.98397778, -0.19217317,  0.06330975,  0.56702334,\n",
       "         0.72184834,  0.80746984, -0.44353513,  0.97047308,  0.82661479,\n",
       "         0.25089287, -0.40656465,  0.21667698,  0.2441596 ,  0.86328699,\n",
       "        -0.81740887,  0.89303549,  0.29529427, -0.25225977,  0.06699229,\n",
       "         0.89463359, -0.51650421,  0.96083591, -0.00290913,  0.1512425 ,\n",
       "         0.07128598, -0.3720021 , -0.86698007, -0.81883486, -0.44950948,\n",
       "        -0.85457747,  0.56309054,  0.95203474,  0.68450718,  0.95733521,\n",
       "         0.93077765,  0.96776957,  0.73922496,  0.87764278,  0.89034186,\n",
       "        -0.77626226, -0.50351712,  0.19222072, -0.43802205, -0.79966021,\n",
       "        -0.47938138, -0.30887843, -0.38574331, -0.12987443, -0.71903   ,\n",
       "         0.25268702, -0.68099849,  0.09958852, -0.60594523, -0.05649642,\n",
       "         0.09970961,  0.04445654, -0.31439367,  0.91849148, -0.08692681,\n",
       "         0.28181815, -0.47884936,  0.45355237,  0.32855328, -0.11676264,\n",
       "        -0.15445668,  0.29348787, -0.95712144, -0.12508359,  0.11244541,\n",
       "        -0.3113797 , -0.54840853,  0.07839533,  0.87755074, -0.42157585,\n",
       "         0.46408834,  0.20223029, -0.094554  ,  0.4626527 ,  0.77253418,\n",
       "         0.82467775,  0.77825766,  0.87451517, -0.17402669, -0.55956786,\n",
       "         0.36445599, -0.64223843,  0.44337674,  0.96720446,  0.26456473,\n",
       "         0.18287177, -0.35039437,  0.69072362, -0.13882719,  0.51222198,\n",
       "        -0.32411089, -0.01147791,  0.08099094, -1.        , -0.59066753,\n",
       "         0.37112453,  0.40773956,  0.12077729, -0.94302957,  0.39454607,\n",
       "        -0.07968288,  0.45749612,  0.22505496, -0.21322182, -0.0145628 ,\n",
       "         0.15361033,  0.72294708,  0.59676264,  0.68279465, -0.75544642,\n",
       "         0.11207201,  0.20256562, -0.11359289, -0.09258461,  0.19978226,\n",
       "        -0.37701168,  0.52422815, -0.46857353, -0.80330181, -0.0041805 ,\n",
       "        -0.19010064,  0.43836684,  0.48588003, -0.47925741, -0.3281808 ,\n",
       "         0.80554767,  0.7301639 , -0.26586084, -0.24666633, -0.20691027,\n",
       "         0.01012962,  0.47210389, -0.1247618 , -0.26649508, -0.11786989,\n",
       "        -0.69894609,  0.25235032, -0.21747619, -0.50987968,  0.38791846,\n",
       "        -0.00977187, -0.48723756,  0.57089065, -0.77548771,  0.86269437,\n",
       "        -0.61462275,  0.39605034, -0.64017976, -0.04458285,  0.1021838 ,\n",
       "         0.4906833 , -0.42078889,  0.70883038,  0.02305653, -0.22678921,\n",
       "        -0.64824905,  0.34649027, -0.2121971 , -0.90587396,  0.80604004,\n",
       "         0.80044427,  0.17797856, -0.40591557, -0.11012866,  0.83737364,\n",
       "         0.67448873, -0.25618223, -0.72910851, -0.51067088,  0.60631742,\n",
       "        -0.23815493,  0.53413136,  0.82202122, -0.25032253,  0.64820497,\n",
       "         0.87422222,  0.66316586, -0.92864461, -0.66719662,  0.00371175,\n",
       "        -0.37113716, -0.47714972,  0.81091127, -0.45012381, -0.50378063,\n",
       "        -0.19030025, -0.09783401,  0.10850979,  0.04014365,  0.1324343 ,\n",
       "         0.84876531,  0.34365494, -0.56545835, -0.44585855,  0.24872936,\n",
       "        -0.47628284, -0.57063366,  0.81271943,  0.13117129, -0.12610156]),\n",
       " array([0.05151936, 0.05111432, 0.05079739, 0.05091939, 0.05151729,\n",
       "        0.0504624 , 0.05030882, 0.05109042, 0.05177083, 0.05015061,\n",
       "        0.05049328, 0.04941806, 0.05398112, 0.05067542, 0.05017778,\n",
       "        0.05049521, 0.0506931 , 0.05057623, 0.05143304, 0.05084013,\n",
       "        0.0512315 , 0.04981413, 0.05065684, 0.05115333, 0.05071533,\n",
       "        0.05066751, 0.05110178, 0.05241886, 0.050749  , 0.05087885,\n",
       "        0.05061512, 0.05167098, 0.05039694, 0.05048769, 0.05093032,\n",
       "        0.05208127, 0.0506366 , 0.05202812, 0.05077469, 0.05074308,\n",
       "        0.05184509, 0.05288389, 0.05049197, 0.05010614, 0.05019567,\n",
       "        0.04993349, 0.05082474, 0.05007207, 0.05039591, 0.05124298,\n",
       "        0.05163531, 0.05068892, 0.05200825, 0.05186657, 0.05096783,\n",
       "        0.05052743, 0.05041869, 0.0504476 , 0.05045242, 0.05220794,\n",
       "        0.05110072, 0.05057121, 0.05009053, 0.05256494, 0.05095395,\n",
       "        0.05102725, 0.05128829, 0.05097102, 0.05055732, 0.05104984,\n",
       "        0.05115793, 0.05073427, 0.05290108, 0.05100229, 0.0503209 ,\n",
       "        0.05090411, 0.05077126, 0.05170014, 0.05006398, 0.05052973,\n",
       "        0.05063156, 0.05096111, 0.05042864, 0.05104267, 0.05051729,\n",
       "        0.05114005, 0.05011891, 0.05053144, 0.05049255, 0.05017504,\n",
       "        0.05061546, 0.0510332 , 0.04990104, 0.0501454 , 0.05061163,\n",
       "        0.05081203, 0.05028958, 0.05006755, 0.05039443, 0.05035074,\n",
       "        0.05225985, 0.05271473, 0.05008586, 0.05012475, 0.0511974 ,\n",
       "        0.05171987, 0.05116402, 0.05033737, 0.05028552, 0.04928829,\n",
       "        0.05116269, 0.05124315, 0.05075823, 0.05037572, 0.0507694 ,\n",
       "        0.05053165, 0.0505768 , 0.05106463, 0.04976481, 0.05009565,\n",
       "        0.05100129, 0.05087138, 0.05097864, 0.05011594, 0.05060434,\n",
       "        0.05125198, 0.05118338, 0.05131333, 0.05028632, 0.05053004,\n",
       "        0.05058964, 0.05108054, 0.05098013, 0.05078487, 0.05163739,\n",
       "        0.05149139, 0.05055789, 0.05095764, 0.05015298, 0.05044105,\n",
       "        0.05095422, 0.05103018, 0.04994172, 0.05114274, 0.05114302,\n",
       "        0.05022615, 0.05019515, 0.05144797, 0.05053299, 0.05127307,\n",
       "        0.05425139, 0.0521907 , 0.05130665, 0.04990946, 0.05018246,\n",
       "        0.05064929, 0.05115567, 0.05057883, 0.05022739, 0.05115224,\n",
       "        0.05079409, 0.05050679, 0.05051137, 0.05057954, 0.04791375,\n",
       "        0.05471775, 0.0444404 , 0.05478603, 0.0515002 , 0.04958351,\n",
       "        0.04870036, 0.05097095, 0.05120583, 0.05050181, 0.04905514,\n",
       "        0.05313085, 0.05231731, 0.05090701, 0.05092618, 0.05113005,\n",
       "        0.05329216, 0.04491897, 0.04067131, 0.04958628, 0.05339231,\n",
       "        0.04991238, 0.05061663, 0.05047857, 0.05082147, 0.05046145,\n",
       "        0.05141129, 0.05128146, 0.05055998, 0.05047511, 0.05054192,\n",
       "        0.050727  , 0.05018417, 0.05171602, 0.05053904, 0.04963969,\n",
       "        0.0512976 , 0.05037684, 0.05137977, 0.05028816, 0.0502105 ,\n",
       "        0.05023535, 0.05062039, 0.05160549, 0.05100079, 0.0494945 ,\n",
       "        0.05051313, 0.05057094, 0.05080882, 0.05088954, 0.05236107,\n",
       "        0.05140504, 0.05111106, 0.05061951, 0.05086029, 0.05083574,\n",
       "        0.05066225, 0.04620155, 0.04606441, 0.05043742, 0.05027209,\n",
       "        0.05179338, 0.05220449, 0.05096869, 0.05179971, 0.05147642,\n",
       "        0.05062277, 0.05170021, 0.05061454, 0.05104329, 0.05069477,\n",
       "        0.05082251, 0.05134053, 0.05095499, 0.05023161, 0.05098113,\n",
       "        0.05070334, 0.05068253, 0.05061888, 0.05211208, 0.05621216,\n",
       "        0.0503572 , 0.0525577 , 0.05187743, 0.04918107, 0.05054625,\n",
       "        0.04923041, 0.05122618, 0.05122666, 0.05176532, 0.05094192,\n",
       "        0.05488568, 0.05081767, 0.05073647, 0.05163155, 0.05102783,\n",
       "        0.05039545, 0.05073708, 0.05173836, 0.04513354, 0.05037741,\n",
       "        0.04910834, 0.04862949, 0.04980872, 0.04297037, 0.0453787 ,\n",
       "        0.05042763, 0.04656556, 0.05132508, 0.050561  , 0.04928507,\n",
       "        0.04590473, 0.04419363, 0.05107718, 0.04999142, 0.04328067,\n",
       "        0.05032778, 0.05101602, 0.05041471, 0.05037919, 0.04987449,\n",
       "        0.05130424, 0.04961624, 0.05015598, 0.0509187 , 0.05058712,\n",
       "        0.0489393 , 0.05128645, 0.04988647, 0.05062395, 0.05051521,\n",
       "        0.05058978, 0.05129788, 0.06743487, 0.05704419, 0.05255003,\n",
       "        0.05151491, 0.04927692, 0.04917372, 0.04747762, 0.04040109,\n",
       "        0.03801532, 0.03529349, 0.04586624, 0.04892367, 0.0468688 ,\n",
       "        0.0535186 , 0.05105121, 0.05046405, 0.05176521, 0.0520075 ,\n",
       "        0.05181218, 0.0515344 , 0.05397847, 0.05122557, 0.05515215,\n",
       "        0.04898551, 0.0541414 , 0.05048614, 0.05402561, 0.05097955,\n",
       "        0.05058233, 0.05060228, 0.0509591 , 0.04959073, 0.0508826 ,\n",
       "        0.04982736, 0.05204137, 0.05045954, 0.05022209, 0.05095671,\n",
       "        0.05144648, 0.04992488, 0.05258097, 0.05102001, 0.0505802 ,\n",
       "        0.05174594, 0.05131456, 0.05056146, 0.0503237 , 0.05161863,\n",
       "        0.05043549, 0.05031483, 0.0509435 , 0.05024641, 0.04991747,\n",
       "        0.04091799, 0.04948663, 0.04816221, 0.05089664, 0.05101907,\n",
       "        0.05031717, 0.05119069, 0.05025753, 0.05023972, 0.05035392,\n",
       "        0.05042501, 0.05108659, 0.04981014, 0.05071588, 0.05043641,\n",
       "        0.05104214, 0.05073663, 0.05053331, 0.05063123, 0.05083951,\n",
       "        0.05047794, 0.05025379, 0.0505356 , 0.05088087, 0.05018684,\n",
       "        0.05062736, 0.05022605, 0.05040939, 0.05095485, 0.05078553,\n",
       "        0.05047133, 0.0502409 , 0.05015238, 0.04965603, 0.05240232,\n",
       "        0.05056993, 0.05035816, 0.05110396, 0.05098523, 0.05010572,\n",
       "        0.0508615 , 0.05018609, 0.05182954, 0.05623628, 0.05067999,\n",
       "        0.05073346, 0.04999155, 0.04647838, 0.05462914, 0.05091667,\n",
       "        0.04892516, 0.0505148 , 0.0514277 , 0.05090743, 0.05093487,\n",
       "        0.05065449, 0.0493736 , 0.05096007, 0.05116635, 0.05109785,\n",
       "        0.05319861, 0.05011042, 0.05120472, 0.05239024, 0.04926247,\n",
       "        0.05070596, 0.05315121, 0.04636337, 0.0525633 , 0.05023572,\n",
       "        0.05120504, 0.05051135, 0.05116325, 0.05068704, 0.05055986,\n",
       "        0.05042483, 0.05283639, 0.05000415, 0.05064745, 0.05064987,\n",
       "        0.05118234, 0.04990048, 0.05082627, 0.05142925, 0.05038548,\n",
       "        0.0502995 , 0.05056934, 0.05102209, 0.05078079, 0.04841479,\n",
       "        0.04876812, 0.05107997, 0.05355522, 0.0511778 , 0.0503069 ,\n",
       "        0.0510886 , 0.04966581, 0.0486078 , 0.05115838, 0.0471557 ,\n",
       "        0.03791428, 0.05020795, 0.05963522, 0.05180384, 0.05078398,\n",
       "        0.05141857, 0.05122418, 0.05022634, 0.0514285 , 0.0516793 ,\n",
       "        0.05086229, 0.05099771, 0.05053126, 0.05060287, 0.05056258,\n",
       "        0.04653519, 0.0502986 , 0.05118649, 0.05181893, 0.04960575,\n",
       "        0.05100062, 0.05322808, 0.04974301, 0.05043635, 0.05079154]))"
      ]
     },
     "execution_count": 24,
     "metadata": {},
     "output_type": "execute_result"
    }
   ],
   "source": [
    "allel.average_patterson_d(pop_ac[\"senegal\"],\n",
    "                          pop_ac[\"tanzania\"],\n",
    "                          pop_ac[\"rodhaini\"],\n",
    "                          pop_ac[\"margrebowiei\"],\n",
    "                          blen=1000)"
   ]
  },
  {
   "cell_type": "markdown",
   "metadata": {
    "heading_collapsed": true,
    "hidden": true
   },
   "source": [
    "## at region with high rod alleles from loter"
   ]
  },
  {
   "cell_type": "code",
   "execution_count": 53,
   "metadata": {
    "ExecuteTime": {
     "end_time": "2021-02-18T21:51:47.522859Z",
     "start_time": "2021-02-18T21:51:47.486248Z"
    },
    "hidden": true
   },
   "outputs": [],
   "source": [
    "#get variants from region: SM_V7_2:31,708,474-32,212,727\n",
    "x=np.logical_and( filtered_callset['variants/POS'] >= 31_708_474,\n",
    "                  filtered_callset['variants/POS'] <= 32_212_727)\n",
    "y=np.logical_and(x,\n",
    "                 filtered_callset['variants/CHROM'] == \"SM_V7_2\")\n",
    "\n",
    "\n",
    "\n",
    "num, den = allel.patterson_d(pop_ac[\"brazil\"][y],\n",
    "                             pop_ac[\"tanzania\"][y],\n",
    "                             pop_ac[\"rodhaini\"][y],\n",
    "                             pop_ac[\"margrebowiei\"][y])"
   ]
  },
  {
   "cell_type": "code",
   "execution_count": 65,
   "metadata": {
    "ExecuteTime": {
     "end_time": "2021-02-18T21:55:06.604259Z",
     "start_time": "2021-02-18T21:55:06.600262Z"
    },
    "hidden": true
   },
   "outputs": [],
   "source": [
    "num=num[~np.isnan(num)]\n",
    "den=den[~np.isnan(den)]"
   ]
  },
  {
   "cell_type": "code",
   "execution_count": 82,
   "metadata": {
    "ExecuteTime": {
     "end_time": "2021-02-18T22:08:20.550692Z",
     "start_time": "2021-02-18T22:08:20.543532Z"
    },
    "hidden": true
   },
   "outputs": [
    {
     "data": {
      "text/plain": [
       "-0.8712250892015296"
      ]
     },
     "execution_count": 82,
     "metadata": {},
     "output_type": "execute_result"
    }
   ],
   "source": [
    "target_d=num.sum()/den.sum()\n",
    "target_d"
   ]
  },
  {
   "cell_type": "code",
   "execution_count": 69,
   "metadata": {
    "ExecuteTime": {
     "end_time": "2021-02-18T21:57:54.340970Z",
     "start_time": "2021-02-18T21:57:54.119333Z"
    },
    "hidden": true
   },
   "outputs": [],
   "source": [
    "d, se, z, d_block, n_block = allel.average_patterson_d(pop_ac[\"brazil\"],\n",
    "                                                       pop_ac[\"tanzania\"],\n",
    "                                                       pop_ac[\"rodhaini\"],\n",
    "                                                       pop_ac[\"margrebowiei\"],\n",
    "                                                       blen=1000)\n"
   ]
  },
  {
   "cell_type": "code",
   "execution_count": 81,
   "metadata": {
    "ExecuteTime": {
     "end_time": "2021-02-18T22:05:30.685885Z",
     "start_time": "2021-02-18T22:05:30.680607Z"
    },
    "hidden": true
   },
   "outputs": [
    {
     "data": {
      "text/plain": [
       "-0.016875737747302933"
      ]
     },
     "execution_count": 81,
     "metadata": {},
     "output_type": "execute_result"
    }
   ],
   "source": [
    "d_block.mean()"
   ]
  },
  {
   "cell_type": "code",
   "execution_count": 76,
   "metadata": {
    "ExecuteTime": {
     "end_time": "2021-02-18T22:02:12.757227Z",
     "start_time": "2021-02-18T22:02:12.751828Z"
    },
    "hidden": true
   },
   "outputs": [
    {
     "data": {
      "text/plain": [
       "2.9473684210526314"
      ]
     },
     "execution_count": 76,
     "metadata": {},
     "output_type": "execute_result"
    }
   ],
   "source": [
    "stats.percentileofscore(d_block, target_d, kind=\"rank\")"
   ]
  },
  {
   "cell_type": "markdown",
   "metadata": {},
   "source": [
    "# D3"
   ]
  },
  {
   "cell_type": "code",
   "execution_count": 17,
   "metadata": {
    "ExecuteTime": {
     "end_time": "2021-02-24T20:49:08.734379Z",
     "start_time": "2021-02-24T20:49:08.728650Z"
    }
   },
   "outputs": [],
   "source": [
    "os.mkdir(\"results/d3\")"
   ]
  },
  {
   "cell_type": "code",
   "execution_count": 7,
   "metadata": {
    "ExecuteTime": {
     "end_time": "2021-02-28T19:34:51.374062Z",
     "start_time": "2021-02-28T19:34:40.377544Z"
    }
   },
   "outputs": [],
   "source": [
    "d = allel.pairwise_distance(gt.to_n_alt(), metric='euclidean')"
   ]
  },
  {
   "cell_type": "code",
   "execution_count": 8,
   "metadata": {
    "ExecuteTime": {
     "end_time": "2021-02-28T19:34:51.379395Z",
     "start_time": "2021-02-28T19:34:51.376382Z"
    }
   },
   "outputs": [],
   "source": [
    "pw_d = scipy.spatial.distance.squareform(d)"
   ]
  },
  {
   "cell_type": "code",
   "execution_count": 9,
   "metadata": {
    "ExecuteTime": {
     "end_time": "2021-02-28T19:34:56.593370Z",
     "start_time": "2021-02-28T19:34:53.826211Z"
    }
   },
   "outputs": [],
   "source": [
    "pw_df = pd.DataFrame(pw_d, columns = samples, index=samples)\n",
    "pw_df = pw_df/len(gt)\n",
    "\n",
    "pw_df.to_csv(\"results/d3/pairwise_pdistance.csv\", sep=\",\")"
   ]
  },
  {
   "cell_type": "code",
   "execution_count": 10,
   "metadata": {
    "ExecuteTime": {
     "end_time": "2021-02-28T19:35:00.247018Z",
     "start_time": "2021-02-28T19:35:00.242234Z"
    }
   },
   "outputs": [],
   "source": [
    "samples_per_pop = defaultdict(lambda: [])\n",
    "\n",
    "for sample in pop_assign:\n",
    "    pop = pop_assign[sample]\n",
    "    samples_per_pop[pop].append(sample)\n",
    "    "
   ]
  },
  {
   "cell_type": "code",
   "execution_count": 11,
   "metadata": {
    "ExecuteTime": {
     "end_time": "2021-02-28T19:35:05.184212Z",
     "start_time": "2021-02-28T19:35:05.175611Z"
    }
   },
   "outputs": [],
   "source": [
    "def random_block_d3(pop_a, pop_b, pop_c, block_size, gt_array):\n",
    "    x = random.sample(range(0,len(gt)-block_size), 1)[0]\n",
    "    block_gt = gt_array[x:x+block_size]\n",
    "    \n",
    "    block_dist = allel.pairwise_distance(block_gt.to_n_alt(), metric='euclidean')\n",
    "    block_dist = scipy.spatial.distance.squareform(block_dist)\n",
    "    block_df = pd.DataFrame(block_dist, columns = samples, index=samples)\n",
    "    block_pw_df = block_df/len(gt)\n",
    "\n",
    "    dac = block_pw_df.loc[samples_per_pop[pop_a], samples_per_pop[pop_c]].values.mean()\n",
    "    dbc = block_pw_df.loc[samples_per_pop[pop_b], samples_per_pop[pop_c]].values.mean()\n",
    "    \n",
    "    d3=(dbc-dac)/(dbc+dac)\n",
    "\n",
    "    return(d3)"
   ]
  },
  {
   "cell_type": "code",
   "execution_count": 12,
   "metadata": {
    "ExecuteTime": {
     "end_time": "2021-02-28T19:36:54.681156Z",
     "start_time": "2021-02-28T19:35:24.168646Z"
    }
   },
   "outputs": [
    {
     "data": {
      "application/vnd.jupyter.widget-view+json": {
       "model_id": "7c014113cc86480aa06066b90a77ee59",
       "version_major": 2,
       "version_minor": 0
      },
      "text/plain": [
       "Combos:   0%|          | 0/6 [00:00<?, ?it/s]"
      ]
     },
     "metadata": {},
     "output_type": "display_data"
    },
    {
     "data": {
      "application/vnd.jupyter.widget-view+json": {
       "model_id": "806590c9f89049acae58fe245af10339",
       "version_major": 2,
       "version_minor": 0
      },
      "text/plain": [
       "bootstrapping:   0%|          | 0/1000 [00:00<?, ?it/s]"
      ]
     },
     "metadata": {},
     "output_type": "display_data"
    },
    {
     "data": {
      "application/vnd.jupyter.widget-view+json": {
       "model_id": "22133e02a54c407eb661105e21c28648",
       "version_major": 2,
       "version_minor": 0
      },
      "text/plain": [
       "bootstrapping:   0%|          | 0/1000 [00:00<?, ?it/s]"
      ]
     },
     "metadata": {},
     "output_type": "display_data"
    },
    {
     "data": {
      "application/vnd.jupyter.widget-view+json": {
       "model_id": "d6b22e12da9f418a9a41ccbc04e38fb8",
       "version_major": 2,
       "version_minor": 0
      },
      "text/plain": [
       "bootstrapping:   0%|          | 0/1000 [00:00<?, ?it/s]"
      ]
     },
     "metadata": {},
     "output_type": "display_data"
    },
    {
     "data": {
      "application/vnd.jupyter.widget-view+json": {
       "model_id": "1df5b43d514d4b26adb58f578a7bb521",
       "version_major": 2,
       "version_minor": 0
      },
      "text/plain": [
       "bootstrapping:   0%|          | 0/1000 [00:00<?, ?it/s]"
      ]
     },
     "metadata": {},
     "output_type": "display_data"
    },
    {
     "data": {
      "application/vnd.jupyter.widget-view+json": {
       "model_id": "09d690d8d4ae431e89babb9d68bd079b",
       "version_major": 2,
       "version_minor": 0
      },
      "text/plain": [
       "bootstrapping:   0%|          | 0/1000 [00:00<?, ?it/s]"
      ]
     },
     "metadata": {},
     "output_type": "display_data"
    },
    {
     "data": {
      "application/vnd.jupyter.widget-view+json": {
       "model_id": "d0c02d9483054149a7fe9f7f821c3598",
       "version_major": 2,
       "version_minor": 0
      },
      "text/plain": [
       "bootstrapping:   0%|          | 0/1000 [00:00<?, ?it/s]"
      ]
     },
     "metadata": {},
     "output_type": "display_data"
    }
   ],
   "source": [
    "combos = [ (\"brazil\",    \"tanzania\"), \n",
    "           (\"niger\",     \"tanzania\"), \n",
    "           (\"senegal\",   \"tanzania\"), \n",
    "           (\"cameroon\",  \"tanzania\"),\n",
    "           (\"caribbean\", \"tanzania\"), \n",
    "           (\"uganda\",    \"tanzania\") ]\n",
    "\n",
    "d3s = []\n",
    "comparison_labels=[]\n",
    "\n",
    "for pop_a, pop_b in tqdm(combos, desc=\"Combos\"):\n",
    "\n",
    "    label = \"({},{}){}\".format(pop_a, pop_b, \"Sr\")\n",
    "    comparison_labels.append(label)\n",
    "    \n",
    "    combo_d3s=[]\n",
    "    for i in tqdm(range(0,1_000), desc = \"bootstrapping\"):\n",
    "        \n",
    "        d3 = random_block_d3(pop_a, pop_b, \"rodhaini\", 1_000, gt)\n",
    "        combo_d3s.append(d3)\n",
    "        \n",
    "    d3s.append(combo_d3s)"
   ]
  },
  {
   "cell_type": "code",
   "execution_count": 13,
   "metadata": {
    "ExecuteTime": {
     "end_time": "2021-02-28T19:37:08.176569Z",
     "start_time": "2021-02-28T19:37:07.903234Z"
    }
   },
   "outputs": [
    {
     "data": {
      "image/png": "[encoded data removed]",
      "text/plain": [
       "<Figure size 432x288 with 1 Axes>"
      ]
     },
     "metadata": {
      "needs_background": "light"
     },
     "output_type": "display_data"
    }
   ],
   "source": [
    "plt.violinplot(d3s, showextrema=False, showmeans=True)\n",
    "plt.ylim(-0.05, 0.05)\n",
    "plt.hlines(0, 0, len(d3s))\n",
    "#plt.xlabels(comparison_labels)\n",
    "#plt.savefig(\"results/d3/d3.svg\")\n",
    "plt.show()\n"
   ]
  },
  {
   "cell_type": "code",
   "execution_count": 10,
   "metadata": {
    "ExecuteTime": {
     "end_time": "2021-02-26T20:56:12.010394Z",
     "start_time": "2021-02-26T20:56:11.622001Z"
    }
   },
   "outputs": [
    {
     "data": {
      "image/png": "[encoded data removed]",
      "text/plain": [
       "<Figure size 432x288 with 1 Axes>"
      ]
     },
     "metadata": {
      "needs_background": "light"
     },
     "output_type": "display_data"
    }
   ],
   "source": [
    "plt.violinplot(d3s, showextrema=False, showmeans=True)\n",
    "plt.ylim(-0.05, 0.05)\n",
    "plt.hlines(0, 0, len(d3s))\n",
    "#plt.xlabels(comparison_labels)\n",
    "plt.savefig(\"results/d3/d3.svg\")\n",
    "plt.show()\n"
   ]
  },
  {
   "cell_type": "code",
   "execution_count": 30,
   "metadata": {
    "ExecuteTime": {
     "end_time": "2021-02-28T19:50:29.930745Z",
     "start_time": "2021-02-28T19:50:29.916811Z"
    }
   },
   "outputs": [
    {
     "name": "stdout",
     "output_type": "stream",
     "text": [
      "(brazil,tanzania)Sr - mean -0.004720852896774627 sem 0.0003576299668106418 z 0.417641667792854\n",
      "(niger,tanzania)Sr - mean -0.004560228845382902 sem 0.0003440201099468939 z 0.41939192369931866\n",
      "(senegal,tanzania)Sr - mean -0.00538156214567549 sem 0.0004817839402108949 z 0.35340549389358533\n",
      "(cameroon,tanzania)Sr - mean 0.00046427266133737283 sem 0.0006621534770245247 z -0.02218358351490054\n",
      "(caribbean,tanzania)Sr - mean -0.004753340817546751 sem 0.00029100766329161925 z 0.516787243387249\n",
      "(uganda,tanzania)Sr - mean 0.0034022709374206647 sem 0.0006169041726716121 z -0.17448915661050748\n"
     ]
    }
   ],
   "source": [
    "for i in range(len(d3s)):\n",
    "    d3_mean = np.array(d3s[i]).mean()\n",
    "    d3_std = np.array(d3s[i]).std()\n",
    "    d3_sem = scipy.stats.sem(d3s[i])\n",
    "    d3_0z = (0-d3_mean)/d3_std\n",
    "    comp = comparison_labels[i]\n",
    "    out = \"{} - mean {} sem {} z {}\".format(comp, d3_mean, d3_sem, d3_0z)\n",
    "    print(out)"
   ]
  },
  {
   "cell_type": "code",
   "execution_count": 25,
   "metadata": {
    "ExecuteTime": {
     "end_time": "2021-02-28T19:47:43.133239Z",
     "start_time": "2021-02-28T19:47:43.127266Z"
    }
   },
   "outputs": [
    {
     "data": {
      "text/plain": [
       "-0.17448915661050748"
      ]
     },
     "execution_count": 25,
     "metadata": {},
     "output_type": "execute_result"
    }
   ],
   "source": [
    "#z=(x-mean/)SD\n",
    "#abs(d3_mean)/d3_sem\n",
    "\n",
    "(0-d3_mean)/d3_std"
   ]
  },
  {
   "cell_type": "code",
   "execution_count": 28,
   "metadata": {
    "ExecuteTime": {
     "end_time": "2021-02-28T19:49:21.259161Z",
     "start_time": "2021-02-28T19:49:21.231017Z"
    }
   },
   "outputs": [
    {
     "data": {
      "text/plain": [
       "array([-1.48012763e-01, -2.22195696e-01, -3.55651062e-01, -1.84425663e-01,\n",
       "       -2.97741290e-01, -1.44323087e-02, -7.03215194e-02,  4.79111937e-01,\n",
       "       -2.75515490e-01,  6.67975347e-02,  3.80906347e-02,  3.38393029e-02,\n",
       "       -2.59475600e-01, -1.80200380e-01,  6.01848611e-01, -5.84241816e-01,\n",
       "       -9.02746617e-02, -1.16983170e-01, -1.49200803e-01, -2.66609425e-01,\n",
       "       -4.84554627e-01, -8.37552402e-02, -2.55941425e-01, -3.33421947e-02,\n",
       "       -4.63689467e-02, -1.07316460e-01,  6.01651250e-01, -3.24434302e-01,\n",
       "       -3.13832219e-01, -8.56835074e-02, -1.87914716e-01, -1.64110265e-01,\n",
       "       -7.82477420e-02, -1.41561860e-01, -4.26477072e-01, -3.51119369e-01,\n",
       "       -3.13477211e-01,  4.57464234e-02,  2.03775066e-01,  1.05435018e-01,\n",
       "        2.09024121e-01,  1.80809750e-02, -7.98996565e-01,  1.42681383e-01,\n",
       "       -1.45955253e-03, -3.68787630e-01,  4.99003321e-03, -2.14903104e-01,\n",
       "       -1.81421338e-01, -5.07076749e-01, -1.64799542e-01, -2.47423254e-01,\n",
       "       -1.62171721e-01,  2.29809635e-01, -1.87245190e-02, -4.17232017e-01,\n",
       "       -9.20845350e-02, -2.96172133e-01, -1.06227471e-01, -2.58739589e-01,\n",
       "       -2.66777985e-02, -1.39435520e-01, -1.92839504e-01, -7.66914187e-02,\n",
       "       -2.52253555e-02, -2.17303172e-03,  1.98557242e-01, -4.56573270e-01,\n",
       "        5.40580645e-02, -3.24684601e-02,  3.62509645e+00, -1.39317154e-01,\n",
       "       -2.35328220e-01,  2.82239353e-02, -8.43302031e-02, -2.46253287e-01,\n",
       "       -5.81912729e-02,  8.76511509e-03, -2.90974626e-02, -2.57737914e-01,\n",
       "        2.65932935e-01, -3.03318486e-01, -1.18649190e-01,  2.67140124e-01,\n",
       "        2.30288745e-01,  3.74645409e-01, -7.59929690e-01, -4.61069371e-01,\n",
       "       -5.28618103e-02,  1.84085965e+00, -3.85713372e-01, -2.42180314e-01,\n",
       "       -5.38914113e-01,  1.22597181e+00, -3.83619110e-02, -2.80428441e-01,\n",
       "       -2.43488646e-02, -1.04313839e+00, -6.72898765e-02, -2.33267348e-01,\n",
       "       -1.53391519e-01, -2.81166840e-01, -2.75195442e-01,  4.55310181e-01,\n",
       "       -2.31253652e-01,  9.32359653e-02, -3.66496373e-01,  6.74000000e-01,\n",
       "       -8.99493381e-01, -2.27019510e-01,  2.82071096e-02,  6.87045789e+00,\n",
       "       -4.88402290e-02,  2.06097689e-01,  4.38397126e-02, -3.04208088e-03,\n",
       "       -1.40424844e+00, -2.59470312e-01, -1.08480914e-02,  3.05767404e-02,\n",
       "        5.39716138e-01, -8.15254045e-01, -2.73319653e-01, -4.92804462e-02,\n",
       "       -2.30835965e-01, -2.08677787e-01, -4.07129884e-02,  1.54953338e-01,\n",
       "       -4.75977647e-01, -3.85829293e-01, -2.60156352e-01, -5.29049636e-02,\n",
       "       -1.06270342e-02,  5.32684949e-02, -1.54842483e-01, -2.73950787e+00,\n",
       "       -3.05311421e-02, -7.40149204e-02, -1.73271962e-01, -2.06835704e-01,\n",
       "        1.34548064e+00,  2.48114110e-02,  1.62628120e-02,  1.50074790e-01,\n",
       "        1.43957990e-01, -1.02769789e-01, -1.62925868e-01, -1.50648255e-01,\n",
       "       -6.12476432e-02, -1.25437623e-01, -4.75971919e-01, -2.83359873e-02,\n",
       "        7.08897685e-02, -3.36672469e-01, -6.26906580e-01,  1.80896328e-01,\n",
       "       -1.71690605e-01,  1.29898362e-01, -2.23823009e-02,  3.02853777e-01,\n",
       "       -8.99776959e-02, -1.07240471e-01,  5.04379592e-01,  5.87830873e-01,\n",
       "       -9.55774268e-02, -2.98861751e-01, -2.35631600e-01, -6.92558619e-02,\n",
       "       -1.29263144e-01, -4.47790976e-01, -7.39059589e-02, -3.02186467e+00,\n",
       "       -9.18040122e-01, -7.01489934e-03, -9.01671346e-02, -2.68671069e-01,\n",
       "       -4.80771931e-01, -1.59495771e-01,  2.66260137e-02, -1.94100840e-01,\n",
       "       -7.47860776e-02, -6.63311179e-02, -1.69796106e-01, -1.27027007e-01,\n",
       "       -1.02888769e-01, -2.47917689e-01, -4.10610573e-02,  4.53972214e-02,\n",
       "       -2.16417447e-02, -1.99446586e-01, -1.05161713e-01,  8.85187112e+00,\n",
       "        8.13968707e-02, -1.37965521e-01, -1.12421631e-01, -7.20765965e-02,\n",
       "       -2.94700075e-01, -2.27862576e-01, -3.77729962e-01, -4.00968207e-01,\n",
       "        1.70057388e-01, -1.90390668e-01, -1.19714484e-01, -2.78418173e-01,\n",
       "       -1.30166657e-01,  6.78456594e-02, -1.11238114e-01, -6.91951402e-02,\n",
       "       -8.63227842e-02, -7.43822055e-02, -9.94598008e-02,  7.93192426e-02,\n",
       "        2.30405000e-01, -1.38920505e-01, -7.45937718e-02, -2.63847166e-01,\n",
       "       -6.83801053e-02, -1.96711887e-01,  8.59772953e-03, -2.04423726e-01,\n",
       "        7.27433526e+00, -1.64225837e-01, -2.50251298e-01, -9.70435223e-02,\n",
       "        7.30711290e-02, -5.11278693e-01,  2.73186689e-01, -5.24028141e-01,\n",
       "        1.88178721e-01, -2.24512800e-01, -9.76986595e-02, -1.44009553e-01,\n",
       "       -3.47212572e-02, -4.13893677e-04, -1.99408890e-02,  6.82754729e+00,\n",
       "       -3.42995961e-01,  1.33174801e-01, -2.16854067e-01,  8.45049533e-02,\n",
       "       -2.58979048e-01, -2.54031959e-01, -9.05672353e-02, -5.75405968e-02,\n",
       "        5.53161705e-01, -1.01693635e-01, -8.30045757e-02,  1.28761400e-01,\n",
       "        2.85923080e+00, -3.15783055e-01, -4.93395280e-02, -8.37632432e-02,\n",
       "        1.56283487e-01, -2.36079803e-01, -1.44535451e-01,  3.46972943e-02,\n",
       "       -1.75771024e-01, -6.44519166e-01,  2.43518694e-01,  1.81784284e-01,\n",
       "       -2.48458795e-01, -1.39977205e-01, -2.03649633e-02, -1.67420338e-01,\n",
       "       -8.66742991e-02, -3.44423728e-01, -1.36032623e-01, -1.82920132e-01,\n",
       "        3.35316703e-01, -1.63730040e-01, -5.85649155e-02,  4.98669877e-02,\n",
       "       -7.93575423e-02, -9.62092412e-02, -1.29737057e-01, -2.49043669e-01,\n",
       "        4.12832225e-02, -2.11856083e-01,  5.61750965e-01, -2.07636103e-01,\n",
       "       -1.92625038e-01, -2.31594522e-01,  4.95343079e-01, -1.91503019e-01,\n",
       "       -4.25467421e-01, -6.73930385e-02, -1.78844475e-01, -3.72439455e-01,\n",
       "       -3.00469829e-01, -9.26336790e-02, -1.08439012e-01, -1.05856072e-02,\n",
       "        1.14470875e-02,  8.55644900e-01, -5.70209432e-02, -2.21045040e-01,\n",
       "       -9.86781382e-02, -1.84041909e-01, -1.16982352e-01, -5.37673944e-01,\n",
       "       -2.23657390e-01,  2.54833181e-01, -4.08410930e-01, -4.50119209e-01,\n",
       "       -2.90450337e-01, -3.88576866e-01, -1.45479287e-01, -9.82396186e-02,\n",
       "        7.99038566e-02, -2.72648345e-01,  2.18264564e-01, -4.32828587e-02,\n",
       "       -3.52655278e-01, -2.16297601e-01,  2.69155715e-01,  2.51370431e-01,\n",
       "       -1.01314126e-01, -8.33808573e-02, -1.73750051e-01, -1.15400945e-01,\n",
       "        8.00343405e-02, -2.11728497e-02, -1.36434756e-01,  3.72209626e-01,\n",
       "        3.50656194e-02, -2.21808279e-01,  2.44666000e-01, -3.33354602e-01,\n",
       "       -2.63707552e+00, -1.59616244e-01,  1.49231381e-01, -6.93313812e-01,\n",
       "        2.47789876e-01, -3.91721126e-01, -4.01687579e-01, -4.89487225e-02,\n",
       "        1.13324217e-01, -2.00277347e-01, -4.72309508e-01, -3.29056262e-02,\n",
       "       -1.77111195e-01,  1.69741761e-02,  2.12342738e-01, -1.10071086e-01,\n",
       "        5.81044948e-02, -3.09772007e-01,  2.30051451e-01, -1.15487044e-01,\n",
       "        1.35676827e-01, -6.30520302e-02,  1.36781611e+00,  4.61320368e-02,\n",
       "        2.11959231e-01, -1.76228591e-01, -1.25491233e-01, -3.62664663e-01,\n",
       "        1.12672733e-02,  1.29627438e-02,  1.38631374e+00, -9.49284015e-02,\n",
       "       -2.15722198e-01,  1.13151281e-01,  3.37911768e-02, -9.89132441e-02,\n",
       "       -3.43003683e-01, -5.14549897e-01, -2.54667601e-01,  4.57724164e-01,\n",
       "       -3.60940343e-01, -2.22851605e-01, -1.96198032e-01, -1.80266744e-01,\n",
       "        1.94442864e-01, -3.12132033e-02,  3.32086015e-02,  1.27728874e-02,\n",
       "        4.95037025e-02, -1.58846485e-01, -5.14305952e-01, -2.39509777e-01,\n",
       "        1.40632817e-01,  1.53399447e-01, -4.81933289e-01, -5.57891636e-01,\n",
       "        4.66683476e-02, -1.55923014e-01, -2.12399441e-01, -1.22679855e-01,\n",
       "       -3.56908602e-02, -1.23535316e-01, -7.07899900e-02, -3.13407434e-02,\n",
       "       -3.39905763e-01,  3.72782534e-01, -2.76216560e-01, -5.47944909e-02,\n",
       "        4.17516018e-02, -2.89684175e-01, -2.57671709e-01, -4.37303201e+00,\n",
       "        3.51041502e-01, -6.39566692e-03, -5.46593438e-01, -1.39002251e-01,\n",
       "       -6.89080598e-01, -1.41371335e-01,  5.93154196e-03,  3.83255543e-02,\n",
       "        3.25491333e-01,  6.52936013e-02, -1.89113399e-01, -7.65804359e-02,\n",
       "       -7.11330283e-02,  3.71094249e-01, -3.66965515e-01, -4.05902280e-01,\n",
       "       -1.10083972e-01,  1.84083560e-02, -1.63924106e-01, -3.01889509e-01,\n",
       "       -3.97475638e-01,  1.55707417e-01, -1.49471647e-01,  1.38589304e-01,\n",
       "       -1.15915425e-01,  4.31094683e-02, -2.82438870e-01, -3.07824911e-01,\n",
       "       -5.34096973e-01,  2.14861060e-01, -3.75522255e-01, -7.18638966e-01,\n",
       "        5.65106193e-01,  9.03049454e+00, -3.03758480e-01, -3.11952841e-02,\n",
       "        1.34594495e-01, -9.25481906e-02,  2.32724318e-01, -1.40916795e-01,\n",
       "       -1.10144463e-01,  2.08598264e-01, -6.45686914e-01, -2.40061627e-01,\n",
       "       -2.45630585e-01,  2.39633234e-03,  2.07590145e-02, -2.77790908e-02,\n",
       "       -1.40374144e-02,  1.03971758e-01, -6.11076657e-02, -3.45068338e-01,\n",
       "       -9.23694292e-02, -3.39450499e-01, -8.05814532e-02, -4.66261126e-01,\n",
       "       -1.18387700e-01, -2.55552903e-01, -2.60116464e-01, -2.48487558e-01,\n",
       "        3.71632015e-02,  1.04087074e-01, -2.86904037e-01, -1.13008735e-01,\n",
       "       -1.16017189e+00, -1.54074532e-01,  6.87989115e-02, -3.06881431e-01,\n",
       "       -2.16034545e-01, -2.71524531e-01,  1.26523317e-01,  3.42849063e-01,\n",
       "       -5.68378412e-01, -2.70990378e-02, -3.10368768e-01,  3.13860580e-01,\n",
       "       -5.05957096e-01, -1.86361258e-01, -2.02663334e-01,  7.61327453e-02,\n",
       "        1.43854785e-01, -3.19140393e-01,  5.28080593e-01, -8.70909510e-02,\n",
       "       -1.61921085e-01, -4.48780185e-02, -2.41960616e-01, -1.28131178e-02,\n",
       "        2.29055743e-01,  8.92335368e-02, -7.95189518e-03, -1.19778220e-01,\n",
       "       -1.89087481e-02,  1.88303679e-01, -7.96498556e-02, -2.26707458e-01,\n",
       "       -6.45446073e-02, -2.18722979e-01,  2.15344936e-01,  9.10657671e-02,\n",
       "       -1.31167187e-01,  1.77274203e-01, -6.21173972e-01, -8.31579522e-02,\n",
       "       -1.22441087e-01, -1.74194494e-01, -1.09140054e-01, -1.87231563e-01,\n",
       "       -1.49097338e+00, -2.40158408e-01,  1.24365658e-01, -1.89780072e-02,\n",
       "        3.89765848e-02,  1.16646940e-01,  3.11210188e-01, -7.13115935e-01,\n",
       "       -4.31018814e-02,  4.40683569e-03,  8.68594554e-03, -3.49761557e-02,\n",
       "       -2.65989698e-01,  6.59687128e-02,  2.34578634e-01, -2.70303227e+00,\n",
       "       -1.19631183e-01,  3.72625754e-01, -1.16591219e-01,  3.46636591e-02,\n",
       "       -3.04845336e-02,  3.84052281e-02,  1.29095908e-01, -9.29307334e-02,\n",
       "       -2.30291133e-01,  2.25469408e-01,  1.00924087e-01, -2.26576185e-01,\n",
       "       -2.59926936e-01,  4.61971567e-01, -2.84735695e-01, -9.71711560e-01,\n",
       "        1.43755103e-01, -1.18730928e-01, -3.26852011e-01, -2.15099690e-01,\n",
       "       -1.14247253e-01, -1.32375487e-02,  6.16049562e-02, -3.31608851e-01,\n",
       "       -1.35190080e-01,  7.44566297e-02, -2.39922319e-01, -1.42783687e-01,\n",
       "        3.55541768e-01,  2.33772063e-01,  5.00014169e-03, -3.35543757e-01,\n",
       "       -4.22182401e-03,  8.69337533e+00, -2.22566647e-01, -2.26105637e-01,\n",
       "       -3.93768096e-02, -2.63244648e-01, -2.07869406e-01, -1.43880421e-01,\n",
       "       -4.73221960e-02, -3.07385016e-01, -6.01784103e-02, -4.16855129e-01,\n",
       "       -4.11330919e-01, -1.15436715e-01, -2.96214795e+00, -7.94465970e-02,\n",
       "       -6.26089639e-02,  2.51748708e-01, -9.60816464e-02, -2.07164101e-01,\n",
       "        5.02854884e-02, -1.31318508e-01, -8.26309294e-02,  2.82898335e-01,\n",
       "        1.37872427e+00,  1.03121750e-01,  2.54669702e-01,  5.28749889e-03,\n",
       "        5.91936157e-01,  2.12395083e-01, -5.42152455e-01, -3.29392771e-01,\n",
       "       -4.95189511e-01,  1.06532989e-03, -1.75126130e-01, -1.19730872e-01,\n",
       "       -9.52248590e-02, -4.66204666e-02, -3.48877358e+00, -4.64016898e-01,\n",
       "        5.44593464e+00,  1.15628312e-01,  1.20041918e-01,  2.64771859e-01,\n",
       "       -2.60749587e-01,  9.98371336e-02, -1.24652942e-01, -1.03651111e-01,\n",
       "       -1.82217755e-01, -3.00184196e-01,  1.23085731e-01, -1.00261269e-01,\n",
       "       -1.65814757e-01, -1.66226693e-01,  6.90928227e-02, -2.29751290e-02,\n",
       "       -1.92034029e-01, -1.59697011e-01, -3.65275592e-01,  5.14554144e-01,\n",
       "       -2.61444680e-01, -1.55322819e+00, -4.57134111e-02,  2.72580929e-02,\n",
       "        5.99576013e-01, -4.17036114e-01, -1.15479385e-01,  1.51231936e+00,\n",
       "        2.74811583e-02, -1.59153753e-01, -4.14367416e-02,  8.21074547e+00,\n",
       "        1.20530428e-01, -2.10799403e-01,  2.45326963e-01,  8.89665952e-02,\n",
       "       -2.09393799e-02,  1.12567851e-01,  5.27195950e-01, -4.76474949e-01,\n",
       "        3.65153639e-03,  5.40757257e-02,  2.15455208e-01,  1.36880259e-01,\n",
       "       -2.22548413e-01, -2.99033785e-01, -2.13252092e-01,  2.30292056e-01,\n",
       "       -1.40385120e-01, -3.02457713e-01, -3.91524562e-01,  6.87392360e+00,\n",
       "       -2.70607229e-01,  1.25384818e-01, -5.63316586e-01, -1.68820691e-01,\n",
       "       -2.34084291e-01, -1.88922336e-01, -1.07174769e-01,  1.42332158e-01,\n",
       "       -2.08859006e-01,  4.98687269e-01, -2.65153668e-01,  2.24123499e-01,\n",
       "       -6.61376702e-01, -5.30922109e-01, -1.25827651e-01,  1.79100835e-01,\n",
       "        1.95631976e-01,  4.93185179e-03,  2.24507282e-01, -1.67008862e-01,\n",
       "       -6.19571282e-01,  1.15487684e-01, -1.00827712e-01, -2.88979455e-01,\n",
       "        3.07830201e-02, -2.46381139e-02, -3.11870970e-01, -2.19820166e-01,\n",
       "       -4.73196862e-01, -5.17293920e-02,  5.15330139e-02, -3.01549633e-01,\n",
       "       -1.64912015e-01,  4.63826494e+00, -2.58979048e-01, -2.24738671e-01,\n",
       "        1.34262926e-03, -3.24856758e-01,  1.08038249e-02,  1.66044331e-01,\n",
       "       -3.84747848e-01, -5.96114882e-01, -3.13934981e-02, -3.14736483e-01,\n",
       "       -4.79365931e-02, -1.49818198e-01,  6.79156212e-02, -8.62932432e-02,\n",
       "        1.71942242e-01,  6.22509299e-02,  3.26206640e-01, -7.04842435e-01,\n",
       "        2.45414029e-01, -3.81391700e-01,  1.25523189e-01,  2.01812860e-02,\n",
       "       -3.48653702e-01, -1.85916605e-01,  5.95552834e-02, -3.13390401e-01,\n",
       "        2.81919778e-01, -1.10597306e-01,  5.45168617e+00, -1.46033840e-01,\n",
       "        7.25290332e+00, -1.45392717e-01, -6.09311356e-03,  1.45018430e-01,\n",
       "       -1.78431425e-01, -2.07610249e-01,  2.55532107e-02,  2.47718124e-01,\n",
       "       -2.16592671e-01, -4.83699767e-02, -1.17355527e-01, -3.34551311e-02,\n",
       "       -1.12538642e-01, -1.30247624e-01,  2.25263442e-01, -1.84364812e-01,\n",
       "       -6.71812241e-01, -3.15385451e-01,  1.05776866e-01, -1.07281182e-01,\n",
       "        3.99266286e-02, -5.61942540e-01, -1.18822523e-01, -1.06183716e+00,\n",
       "       -1.69225664e-01, -1.62692436e-01, -1.15979764e-01, -4.48635949e-01,\n",
       "       -4.80826238e-01, -2.03999736e-05,  9.64264659e-02, -3.42282542e-01,\n",
       "        1.42332158e-01, -1.18626565e-02,  2.56750815e-01, -5.66596085e-01,\n",
       "       -1.45350720e-01,  2.91298722e-01, -9.10171929e-02, -2.19888692e-01,\n",
       "       -5.35478123e-01, -1.43053196e-01, -2.65945987e+00, -1.08854838e-01,\n",
       "        2.62572661e-01,  1.50400731e-01, -9.46166627e-02,  3.39237455e-01,\n",
       "       -6.71603445e-01, -3.78857926e-02, -1.66193331e-01, -5.50807383e-01,\n",
       "       -2.26391247e-01, -1.54177811e-01,  8.02552998e-03,  8.77004580e-03,\n",
       "       -2.52447823e-01,  1.13909480e-01, -2.93042030e-01, -6.98893740e-02,\n",
       "        2.67570652e-01, -2.59793401e-01, -6.54433762e-02, -3.05268332e-03,\n",
       "       -3.26355915e-01, -4.71000975e-01, -1.94334216e-01, -3.44683008e-01,\n",
       "       -1.03681887e-01,  4.65183386e-01,  1.35279901e-01,  2.91636623e-01,\n",
       "       -2.93301891e-02, -2.04445545e-01,  3.76620631e-02, -8.47345701e-01,\n",
       "        2.76918055e-03, -2.56498338e-01, -2.37523006e-01,  3.33629826e-02,\n",
       "        8.36569807e-02, -2.74206662e-01,  1.84224378e-01, -7.61275185e-01,\n",
       "       -2.92526872e-01, -3.22867541e-02, -3.90193285e-01, -6.73853050e-02,\n",
       "        2.15889039e-01, -2.06661073e-01, -2.48223090e-01, -1.00277245e-02,\n",
       "       -1.68476148e-01,  6.11576770e-02,  2.76613807e-02, -2.51306715e-01,\n",
       "       -2.69352430e-01, -1.52262543e-01, -3.67359789e-02, -4.78072685e-01,\n",
       "        1.97205470e-01, -1.08880831e-01, -2.56261031e-01, -9.68571972e-02,\n",
       "        8.90801772e-02, -4.16277476e-01, -1.60305754e-01, -5.57830551e-02,\n",
       "        1.69716499e-01, -3.54862888e-02, -9.23426519e-02,  7.74327501e-02,\n",
       "       -2.07489509e-01,  5.62574083e+00,  3.32681201e-02,  1.30596215e-01,\n",
       "       -2.28157520e-02, -1.15362303e-02, -1.61311841e-01, -6.55600664e-01,\n",
       "       -2.13442106e-01,  1.82343324e-02, -2.14668560e-01, -1.23490433e-01,\n",
       "        5.76790293e-02,  2.80466395e-01,  7.72989143e+00, -2.49603252e+00,\n",
       "        2.11639762e-01, -2.86471501e-01, -1.65530640e-02,  1.44350269e-01,\n",
       "       -3.12281262e-01, -1.35282456e+00,  7.57216298e-03, -9.33855432e-01,\n",
       "        8.42232351e-04, -2.17401809e-01, -2.58937761e-01, -1.94977105e-01,\n",
       "       -2.02518482e-01,  8.86774461e-02, -3.15075383e-01, -1.08626678e-02,\n",
       "        2.04996721e-01, -2.74851844e-02, -1.49055851e-01, -9.79219360e-02,\n",
       "        1.77979085e-01, -5.02276084e-01,  1.62108567e-01, -2.93718580e-01,\n",
       "       -3.77744926e-01, -2.90568739e-01, -4.01495451e-01, -1.64437165e-01,\n",
       "       -3.89675491e-01,  3.34480956e-01, -5.18813079e-02, -1.32685215e-01,\n",
       "       -1.58057487e-01, -1.04704015e-01,  3.31390128e+00, -3.41577120e-01,\n",
       "        4.03151272e-02, -5.97516821e-01, -1.59286844e-02, -2.94490505e-01,\n",
       "       -3.24762809e-01, -9.16012282e-02,  2.67523555e-02, -4.47578914e-01,\n",
       "       -4.72936364e-02, -2.82360780e-01, -1.42893300e+00, -2.05119560e-02,\n",
       "        2.42555050e-01, -8.76515071e-02,  2.21274492e-01, -5.66331908e-02,\n",
       "       -7.90428865e-02, -4.75690680e-01,  2.15043291e-01,  2.31249698e-01,\n",
       "       -1.63224837e-01, -5.12754062e-01, -5.96012025e-02, -1.40167616e-01,\n",
       "       -7.81990922e-02, -1.28589664e-03, -6.67933871e-02, -3.99008953e-02,\n",
       "        4.99994460e-02, -1.43721287e-01, -2.51874983e-01,  4.73433877e-03,\n",
       "       -2.15992819e-01, -1.14507612e-01, -5.49249420e-01, -6.32580180e-02,\n",
       "        8.11553387e-02, -1.00563705e-01,  2.56424601e-01, -1.05882878e-01,\n",
       "       -3.72122398e-01, -1.93436312e-01, -8.38538695e-02,  5.55629145e-02,\n",
       "        6.01496569e-02, -5.41182539e-01,  1.85818318e-02,  1.03563308e-01,\n",
       "       -2.78852395e-01, -1.65063633e-02,  1.00600124e-01, -2.73868508e-01,\n",
       "       -5.73414563e-02,  8.50487813e-02,  3.77430366e-02,  7.90718289e-03,\n",
       "       -5.48548589e-01, -2.35680234e-01, -1.82436959e-01, -1.53754216e-01,\n",
       "       -8.93680413e-02,  1.65251768e-01,  1.84150883e-01,  5.54538044e-02,\n",
       "       -6.32959837e-01,  4.95915674e-01, -9.66283051e-02,  9.17294846e-02,\n",
       "       -5.19774543e-01,  1.95109854e-01, -2.11037568e-01, -1.15983634e-01,\n",
       "        2.91165685e+00,  2.48857555e-02, -6.12186530e-01, -1.17757929e-01,\n",
       "       -3.59217121e-01,  2.23703858e-01,  2.52236240e-01, -3.57632772e-01,\n",
       "       -1.38594004e-02, -5.33346505e-02, -5.99500374e-02, -9.20032730e-02,\n",
       "        7.43752006e-02,  1.69371512e-01,  6.28296160e+00, -7.97674630e-02,\n",
       "        3.18744040e+00,  5.19145548e-02, -2.58182830e-01, -9.37447060e-02,\n",
       "       -1.61176828e-02,  4.88324038e-03, -5.93608888e-02, -1.86021521e-01,\n",
       "       -1.48928496e-01, -7.82750973e-01, -4.31362245e-01, -3.55964462e-02,\n",
       "        4.12177475e-02,  3.06451214e+00,  1.94621037e-01, -2.29166706e-03,\n",
       "        2.34260395e-01, -2.55947819e-01, -1.32289714e-01, -1.74802740e-01,\n",
       "        9.80549388e-02,  4.83930902e-02, -4.03708468e-01,  1.57360111e-02,\n",
       "       -2.98406644e-01, -8.51036673e-02,  2.73401253e-02, -5.86390997e-02,\n",
       "       -3.41157178e-02, -7.59998766e-01, -2.02320517e-01, -1.52556986e-01,\n",
       "       -6.31311860e-02, -1.15235635e-01, -1.44087533e-01, -8.31000433e-02])"
      ]
     },
     "execution_count": 28,
     "metadata": {},
     "output_type": "execute_result"
    }
   ],
   "source": [
    "scipy.stats.zscore(d3s[i])"
   ]
  },
  {
   "cell_type": "code",
   "execution_count": 29,
   "metadata": {
    "ExecuteTime": {
     "end_time": "2021-02-28T19:49:45.027957Z",
     "start_time": "2021-02-28T19:49:45.022236Z"
    }
   },
   "outputs": [
    {
     "data": {
      "text/plain": [
       "-0.14801276298268887"
      ]
     },
     "execution_count": 29,
     "metadata": {},
     "output_type": "execute_result"
    }
   ],
   "source": [
    "(d3s[i][0]-d3_mean)/d3_std"
   ]
  }
 ],
 "metadata": {
  "kernelspec": {
   "display_name": "Python [conda env:sch_man_nwinvasion-jupyter]",
   "language": "python",
   "name": "conda-env-sch_man_nwinvasion-jupyter-py"
  },
  "language_info": {
   "codemirror_mode": {
    "name": "ipython",
    "version": 3
   },
   "file_extension": ".py",
   "mimetype": "text/x-python",
   "name": "python",
   "nbconvert_exporter": "python",
   "pygments_lexer": "ipython3",
   "version": "3.8.5"
  }
 },
 "nbformat": 4,
 "nbformat_minor": 4
}
