{
 "cells": [
  {
   "cell_type": "code",
   "execution_count": 28,
   "id": "liked-trick",
   "metadata": {
    "ExecuteTime": {
     "end_time": "2021-02-13T17:32:10.170596Z",
     "start_time": "2021-02-13T17:32:10.155347Z"
    }
   },
   "outputs": [],
   "source": [
    "import pandas as pd\n",
    "import os\n",
    "from haversine import haversine, Unit\n",
    "from skbio import stats"
   ]
  },
  {
   "cell_type": "markdown",
   "id": "sapphire-masters",
   "metadata": {},
   "source": [
    "# Mantel Test"
   ]
  },
  {
   "cell_type": "markdown",
   "id": "contrary-error",
   "metadata": {},
   "source": [
    "```results/mantel/locations.tsv``` have all of the exome samples (post filtration) and their locations in tsv as:\n",
    "\n",
    "```sample\\tlat\\tlong```"
   ]
  },
  {
   "cell_type": "markdown",
   "id": "packed-manufacturer",
   "metadata": {
    "ExecuteTime": {
     "end_time": "2021-02-13T16:45:53.300964Z",
     "start_time": "2021-02-13T16:45:53.296239Z"
    }
   },
   "source": [
    "## get genetic distance"
   ]
  },
  {
   "cell_type": "markdown",
   "id": "laden-perry",
   "metadata": {},
   "source": [
    "in bash run:\n",
    "    \n",
    "```\n",
    "#https://github.com/BGI-shenzhen/VCF2Dis\n",
    "```\n",
    "which generats the output pairwise genetic distance matrix\n",
    "\n",
    "```\n",
    "smv7_ex_autosomes_exomes_renamed_genetic_distance_matrix.tsv\n",
    "```\n",
    "\n",
    "The names of the columns and header are integers, the key to covert back to sample id is here:\n",
    "```\n",
    "sample_name_key.list\n",
    "```"
   ]
  },
  {
   "cell_type": "markdown",
   "id": "restricted-finger",
   "metadata": {
    "ExecuteTime": {
     "end_time": "2021-02-13T18:01:11.902209Z",
     "start_time": "2021-02-13T18:01:11.898985Z"
    }
   },
   "source": [
    "## get geographic distance (in Km)"
   ]
  },
  {
   "cell_type": "code",
   "execution_count": 23,
   "id": "taken-elder",
   "metadata": {
    "ExecuteTime": {
     "end_time": "2021-02-13T17:26:35.994195Z",
     "start_time": "2021-02-13T17:26:35.909004Z"
    }
   },
   "outputs": [],
   "source": [
    "os.chdir(\"/master/nplatt/sch_man_nwinvasion/results/mantel\")\n",
    "\n",
    "#read in distance matrix\n",
    "gen_df = pd.read_table(\"smv7_ex_autosomes_exomes_renamed_genetic_distance_matrix.tsv\", sep=\"\\t\", header=None, index_col=0)\n",
    "gen_df\n",
    "\n",
    "#read in header names\n",
    "header={}\n",
    "with open(\"sample_name_key.list\") as f:\n",
    "    for line in f:\n",
    "        (re_id, sample_id)=line.split()\n",
    "        header[int(re_id)]=sample_id\n",
    "            \n",
    "#add header and header names\n",
    "index_names=[]\n",
    "for re_id in gen_df.index:\n",
    "    index_names.append(header[re_id])\n",
    "\n",
    "gen_df.index=index_names\n",
    "gen_df.columns=index_names\n",
    "gen_df\n",
    "\n",
    "#re-save\n",
    "gen_df.to_csv(\"gen_dist.csv\", sep=\",\")"
   ]
  },
  {
   "cell_type": "code",
   "execution_count": 48,
   "id": "daily-shipping",
   "metadata": {
    "ExecuteTime": {
     "end_time": "2021-02-13T17:43:18.332457Z",
     "start_time": "2021-02-13T17:43:18.203910Z"
    }
   },
   "outputs": [],
   "source": [
    "#read in tsv file of sample\\tlocation\n",
    "locations={}\n",
    "with open(\"locations.tsv\") as f:\n",
    "    for line in f:\n",
    "        (sample_id, lat, lon)=line.split()\n",
    "        locations[sample_id]=[float(lat), float(lon)]\n",
    "\n",
    "x_s=[]\n",
    "for x in gen_df.index:\n",
    "    y_s=[]\n",
    "    for y in gen_df.index:\n",
    "        #get distance\n",
    "        km=haversine(locations[x], locations[y])\n",
    "        y_s.append(km)\n",
    "    x_s.append(y_s)\n",
    "    \n",
    "km_df=pd.DataFrame(x_s, columns=gen_df.index, index=gen_df.index)\n",
    "\n",
    "#save to csv\n",
    "km_df.to_csv(\"km_dist.csv\", sep=\",\")"
   ]
  },
  {
   "cell_type": "code",
   "execution_count": 50,
   "id": "dress-shepherd",
   "metadata": {
    "ExecuteTime": {
     "end_time": "2021-02-13T17:45:22.930480Z",
     "start_time": "2021-02-13T17:45:22.927704Z"
    }
   },
   "outputs": [],
   "source": [
    "# skbio.stats.distance.mantel(x, y, \n",
    "#                             method='pearson', \n",
    "#                             permutations=999, \n",
    "#                             alternative='two-sided', \n",
    "#                             strict=True, \n",
    "#                             lookup=None)\n"
   ]
  },
  {
   "cell_type": "markdown",
   "id": "lucky-center",
   "metadata": {},
   "source": [
    "## Mantel Tests"
   ]
  },
  {
   "cell_type": "code",
   "execution_count": 56,
   "id": "later-bulletin",
   "metadata": {
    "ExecuteTime": {
     "end_time": "2021-02-13T17:50:33.623527Z",
     "start_time": "2021-02-13T17:50:33.295890Z"
    }
   },
   "outputs": [
    {
     "data": {
      "text/plain": [
       "(0.6432888597268949, 0.000999000999000999, 135)"
      ]
     },
     "execution_count": 56,
     "metadata": {},
     "output_type": "execute_result"
    }
   ],
   "source": [
    "#mantel test from all exome samples:\n",
    "stats.distance.mantel(gen_df, km_df, permutations=1000)"
   ]
  },
  {
   "cell_type": "code",
   "execution_count": 68,
   "id": "hungarian-cambodia",
   "metadata": {
    "ExecuteTime": {
     "end_time": "2021-02-13T17:57:16.393943Z",
     "start_time": "2021-02-13T17:57:16.169134Z"
    }
   },
   "outputs": [
    {
     "data": {
      "text/plain": [
       "(0.7664780051722738, 0.000999000999000999, 90)"
      ]
     },
     "execution_count": 68,
     "metadata": {},
     "output_type": "execute_result"
    }
   ],
   "source": [
    "#mantel test within africa:\n",
    "\n",
    "#get list of brazilian samples\n",
    "brazil_samples = list(gen_df.filter(regex='Sm.BR'))\n",
    "\n",
    "gen_no_brazil_df = gen_df.drop(index=brazil_samples, columns=brazil_samples)\n",
    "km_no_brazil_df = km_df.drop(index=brazil_samples, columns=brazil_samples)\n",
    "\n",
    "stats.distance.mantel(gen_no_brazil_df, km_no_brazil_df, permutations=1000)\n"
   ]
  }
 ],
 "metadata": {
  "kernelspec": {
   "display_name": "Python 3",
   "language": "python",
   "name": "python3"
  },
  "language_info": {
   "codemirror_mode": {
    "name": "ipython",
    "version": 3
   },
   "file_extension": ".py",
   "mimetype": "text/x-python",
   "name": "python",
   "nbconvert_exporter": "python",
   "pygments_lexer": "ipython3",
   "version": "3.8.6"
  }
 },
 "nbformat": 4,
 "nbformat_minor": 5
}
