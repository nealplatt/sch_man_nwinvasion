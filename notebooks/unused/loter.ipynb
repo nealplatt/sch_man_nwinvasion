{
 "cells": [
  {
   "cell_type": "markdown",
   "id": "streaming-locking",
   "metadata": {},
   "source": [
    "Dias-Alves, T., Mairal, J., Blum, M.G.B., 2018. Loter: A Software Package to Infer Local Ancestry for a Wide Range of Species. Mol Biol Evol 35, 2318–2326. https://doi.org/10.1093/molbev/msy126"
   ]
  },
  {
   "cell_type": "code",
   "execution_count": 2,
   "id": "united-round",
   "metadata": {
    "ExecuteTime": {
     "end_time": "2021-02-28T22:29:32.232141Z",
     "start_time": "2021-02-28T22:29:32.203516Z"
    }
   },
   "outputs": [],
   "source": [
    "import os\n",
    "import allel\n",
    "import numpy as np\n",
    "import loter.locanc.local_ancestry as lc\n",
    "#import pandas as pd\n",
    "#import vcf\n",
    "#import matplotlib.pyplot as plt\n"
   ]
  },
  {
   "cell_type": "code",
   "execution_count": 3,
   "id": "divine-society",
   "metadata": {
    "ExecuteTime": {
     "end_time": "2021-02-28T20:59:29.072616Z",
     "start_time": "2021-02-28T20:59:29.069106Z"
    }
   },
   "outputs": [],
   "source": [
    "os.chdir(\"/master/nplatt/sch_man_nwinvasion/results/loter\")"
   ]
  },
  {
   "cell_type": "markdown",
   "id": "primary-integration",
   "metadata": {},
   "source": [
    "`vcf2npy` convert a VCF File to a numpy matrix with values 0, 1 and 2.\n",
    "\n",
    "This is a function provided by the `loter`'s example notebook"
   ]
  },
  {
   "cell_type": "code",
   "execution_count": 4,
   "id": "floral-intellectual",
   "metadata": {
    "ExecuteTime": {
     "end_time": "2021-02-28T20:59:29.090052Z",
     "start_time": "2021-02-28T20:59:29.075170Z"
    }
   },
   "outputs": [],
   "source": [
    "def vcf2npy(vcfpath):\n",
    "    callset = allel.read_vcf(vcfpath)\n",
    "    haplotypes_1 = callset['calldata/GT'][:,:,0]\n",
    "    haplotypes_2 = callset['calldata/GT'][:,:,1]\n",
    "    \n",
    "    m, n = haplotypes_1.shape\n",
    "    mat_haplo = np.empty((2*n, m))\n",
    "    mat_haplo[::2] = haplotypes_1.T\n",
    "    mat_haplo[1::2] = haplotypes_2.T\n",
    "    \n",
    "    return mat_haplo.astype(np.uint8)"
   ]
  },
  {
   "cell_type": "markdown",
   "id": "polish-seeking",
   "metadata": {},
   "source": [
    "Read in vcf to numpy array of haplotypes (columns = variants, rows = haplotypes)"
   ]
  },
  {
   "cell_type": "code",
   "execution_count": 5,
   "id": "pacific-humidity",
   "metadata": {
    "ExecuteTime": {
     "end_time": "2021-02-28T20:59:42.273865Z",
     "start_time": "2021-02-28T20:59:30.319284Z"
    }
   },
   "outputs": [],
   "source": [
    "brazil_hs   = vcf2npy(\"auto_beagle_loter_brazil_ref.vcf\")\n",
    "rodhaini_hs = vcf2npy(\"auto_beagle_loter_rodhaini_ref.vcf\")\n",
    "query_hs    = vcf2npy(\"auto_beagle_loter_query.vcf\")"
   ]
  },
  {
   "cell_type": "markdown",
   "id": "earned-sandwich",
   "metadata": {},
   "source": [
    "run loter"
   ]
  },
  {
   "cell_type": "code",
   "execution_count": null,
   "id": "brave-recommendation",
   "metadata": {
    "ExecuteTime": {
     "end_time": "2021-02-28T21:56:21.128615Z",
     "start_time": "2021-02-28T21:03:17.020597Z"
    }
   },
   "outputs": [],
   "source": [
    "res_loter = lc.loter_smooth(l_H         = [brazil_hs, rodhaini_hs], \n",
    "                            h_adm       = query_hs, \n",
    "                            num_threads = 24) "
   ]
  },
  {
   "cell_type": "code",
   "execution_count": null,
   "id": "completed-shakespeare",
   "metadata": {
    "ExecuteTime": {
     "end_time": "2021-02-28T22:20:14.769353Z",
     "start_time": "2021-02-28T22:20:14.763316Z"
    }
   },
   "outputs": [],
   "source": [
    "print(res_loter.shape)"
   ]
  },
  {
   "cell_type": "code",
   "execution_count": null,
   "id": "interesting-august",
   "metadata": {
    "ExecuteTime": {
     "end_time": "2021-02-28T22:29:24.789259Z",
     "start_time": "2021-02-28T22:29:24.783223Z"
    }
   },
   "outputs": [],
   "source": [
    "loter_df = pd.DataFrame(res_loter)"
   ]
  },
  {
   "cell_type": "code",
   "execution_count": null,
   "id": "addressed-cinema",
   "metadata": {
    "ExecuteTime": {
     "end_time": "2021-02-28T22:55:42.973353Z",
     "start_time": "2021-02-28T22:55:42.968496Z"
    }
   },
   "outputs": [],
   "source": [
    "vcf_reader = vcf.Reader(open('auto_beagle_loter_query.vcf', 'r'))"
   ]
  },
  {
   "cell_type": "code",
   "execution_count": null,
   "id": "featured-visit",
   "metadata": {
    "ExecuteTime": {
     "end_time": "2021-02-28T23:01:21.475421Z",
     "start_time": "2021-02-28T22:55:45.007269Z"
    },
    "scrolled": true
   },
   "outputs": [],
   "source": [
    "samples = vcf_reader.samples\n",
    "\n",
    "hap_ids = []\n",
    "for sample in samples:\n",
    "    hap_ids.append(\"{}_H1\".format(sample))\n",
    "    hap_ids.append(\"{}_H2\".format(sample))\n",
    "\n",
    "\n",
    "pos_ids = []\n",
    "chrom_labels=[]\n",
    "for record in vcf_reader:\n",
    "    pos_ids.append(\"{}:{}\".format(record.CHROM, record.POS))\n",
    "    chrom_labels.append(record.CHROM)\n",
    "    \n",
    "#loter_df.index=hap_ids\n",
    "#loter_df.columns=pos_ids"
   ]
  },
  {
   "cell_type": "code",
   "execution_count": null,
   "id": "fuzzy-radar",
   "metadata": {
    "ExecuteTime": {
     "end_time": "2021-02-28T22:39:50.881466Z",
     "start_time": "2021-02-28T22:35:14.435910Z"
    }
   },
   "outputs": [],
   "source": [
    "loter_df.to_csv(\"5br_vs_5rod_loter.csv\", sep=\",\")"
   ]
  },
  {
   "cell_type": "code",
   "execution_count": null,
   "id": "northern-wiring",
   "metadata": {
    "ExecuteTime": {
     "end_time": "2021-02-18T22:37:49.690919Z",
     "start_time": "2021-02-18T22:17:01.042140Z"
    }
   },
   "outputs": [],
   "source": [
    "loter_df = pd.read_csv(\"5br_vs_5rod_loter.csv\", sep=\",\")"
   ]
  },
  {
   "cell_type": "code",
   "execution_count": null,
   "id": "centered-therapy",
   "metadata": {
    "ExecuteTime": {
     "end_time": "2021-02-28T22:39:51.133054Z",
     "start_time": "2021-02-28T22:39:50.885411Z"
    }
   },
   "outputs": [],
   "source": [
    "loter_df"
   ]
  },
  {
   "cell_type": "code",
   "execution_count": null,
   "id": "worse-pressure",
   "metadata": {
    "ExecuteTime": {
     "end_time": "2021-02-28T23:06:00.960352Z",
     "start_time": "2021-02-28T23:06:00.805921Z"
    }
   },
   "outputs": [],
   "source": [
    "chroms = [ \"SM_V7_1\", \n",
    "           \"SM_V7_2\", \n",
    "           \"SM_V7_3\", \n",
    "           \"SM_V7_4\", \n",
    "           \"SM_V7_5\", \n",
    "           \"SM_V7_6\", \n",
    "           \"SM_V7_7\", ]\n",
    "\n",
    "for chrom in chroms:\n",
    "    last_index = len(chrom_labels) - 1 - chrom_labels[::-1].index(chrom) \n",
    "    chrom_ticks.append(last_index)"
   ]
  },
  {
   "cell_type": "code",
   "execution_count": null,
   "id": "swiss-kennedy",
   "metadata": {
    "ExecuteTime": {
     "end_time": "2021-02-28T23:07:02.072000Z",
     "start_time": "2021-02-28T23:06:35.741163Z"
    }
   },
   "outputs": [],
   "source": [
    "fig, ax = plt.subplots(figsize=(15,8), dpi= 300, facecolor='w', edgecolor='k')\n",
    "\n",
    "#fig, q=plt.figure(figsize=(6,10), dpi= 300, facecolor='w', edgecolor='k')\n",
    "\n",
    "ax.set_xticks(chrom_ticks)\n",
    "ax.set_yticks(np.arange(len(hap_ids)))\n",
    "\n",
    "ax.set_xticklabels(chroms)\n",
    "ax.set_yticklabels(hap_ids)\n",
    "\n",
    "#plt.figure(figsize=(20,10)) \n",
    "plt.imshow(res_loter, interpolation='nearest', aspect='auto')\n",
    "plt.colorbar()\n",
    "plt.savefig(\"5br_vs_5rod_loter.svg\")"
   ]
  },
  {
   "cell_type": "code",
   "execution_count": null,
   "id": "harmful-mayor",
   "metadata": {
    "ExecuteTime": {
     "end_time": "2021-03-01T00:43:15.988379Z",
     "start_time": "2021-03-01T00:43:15.035225Z"
    }
   },
   "outputs": [],
   "source": [
    "rod_afs_in_tz = sums=np.array(loter_df[178:].sum(axis=0))/len(loter_df[178:])\n",
    "rod_afs_in_tz.max()"
   ]
  },
  {
   "cell_type": "code",
   "execution_count": null,
   "id": "proper-valve",
   "metadata": {
    "ExecuteTime": {
     "end_time": "2021-03-01T00:43:21.174598Z",
     "start_time": "2021-03-01T00:43:20.153289Z"
    }
   },
   "outputs": [],
   "source": [
    "rod_afs_in_sm = sums=np.array(loter_df[8:].sum(axis=0))/len(loter_df[8:])\n",
    "rod_afs_in_sm.max()"
   ]
  },
  {
   "cell_type": "code",
   "execution_count": null,
   "id": "dimensional-inspection",
   "metadata": {
    "ExecuteTime": {
     "end_time": "2021-03-01T00:42:27.566898Z",
     "start_time": "2021-03-01T00:42:27.349234Z"
    }
   },
   "outputs": [],
   "source": [
    "plt.plot(rod_afs_in_sm)\n",
    "#plt.savefig(\"freq.png\")"
   ]
  },
  {
   "cell_type": "code",
   "execution_count": null,
   "id": "minor-glucose",
   "metadata": {
    "ExecuteTime": {
     "end_time": "2021-03-01T00:48:04.934494Z",
     "start_time": "2021-03-01T00:48:04.928892Z"
    }
   },
   "outputs": [],
   "source": [
    "len(rod_afs_in_sm[rod_afs_in_tz>0])/len(rod_afs_in_sm)"
   ]
  },
  {
   "cell_type": "code",
   "execution_count": null,
   "id": "included-decimal",
   "metadata": {
    "ExecuteTime": {
     "end_time": "2021-03-01T00:54:53.779051Z",
     "start_time": "2021-03-01T00:54:53.773102Z"
    }
   },
   "outputs": [],
   "source": [
    "rod_afs_in_sm[rod_afs_in_sm>0].mean()"
   ]
  },
  {
   "cell_type": "code",
   "execution_count": null,
   "id": "pregnant-compiler",
   "metadata": {
    "ExecuteTime": {
     "end_time": "2021-03-01T00:58:42.596682Z",
     "start_time": "2021-03-01T00:58:42.590758Z"
    }
   },
   "outputs": [],
   "source": [
    "rod_afs_in_tz[rod_afs_in_tz>0].mean()"
   ]
  },
  {
   "cell_type": "code",
   "execution_count": null,
   "id": "regulation-public",
   "metadata": {
    "ExecuteTime": {
     "end_time": "2021-03-01T00:41:37.503858Z",
     "start_time": "2021-03-01T00:41:37.498825Z"
    }
   },
   "outputs": [],
   "source": [
    "rod_afs_in_tz.max()\n",
    "#rod_afs_in_sm.max()"
   ]
  },
  {
   "cell_type": "code",
   "execution_count": null,
   "id": "legendary-patient",
   "metadata": {
    "ExecuteTime": {
     "end_time": "2021-03-01T01:02:14.143588Z",
     "start_time": "2021-03-01T01:02:14.137836Z"
    }
   },
   "outputs": [],
   "source": [
    "rod_afs_in_sm.mean()"
   ]
  },
  {
   "cell_type": "code",
   "execution_count": null,
   "id": "combined-founder",
   "metadata": {
    "ExecuteTime": {
     "end_time": "2021-03-01T01:12:18.889771Z",
     "start_time": "2021-03-01T01:12:17.883271Z"
    }
   },
   "outputs": [],
   "source": [
    "tz_afs=loter_df[178:].sum(axis=0)/len(loter_df[178:])"
   ]
  },
  {
   "cell_type": "code",
   "execution_count": null,
   "id": "million-award",
   "metadata": {
    "ExecuteTime": {
     "end_time": "2021-03-01T01:15:12.935485Z",
     "start_time": "2021-03-01T01:15:12.925953Z"
    },
    "tags": []
   },
   "outputs": [],
   "source": [
    "tz_afs[tz_afs>0.10].mean()"
   ]
  }
 ],
 "metadata": {
  "kernelspec": {
   "display_name": "Python 3",
   "language": "python",
   "name": "python3"
  },
  "language_info": {
   "codemirror_mode": {
    "name": "ipython",
    "version": 3
   },
   "file_extension": ".py",
   "mimetype": "text/x-python",
   "name": "python",
   "nbconvert_exporter": "python",
   "pygments_lexer": "ipython3",
   "version": "3.8.10"
  }
 },
 "nbformat": 4,
 "nbformat_minor": 5
}
