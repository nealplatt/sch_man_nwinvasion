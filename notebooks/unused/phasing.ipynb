{
 "cells": [
  {
   "cell_type": "markdown",
   "metadata": {},
   "source": [
    "# Phasing exome data from SM"
   ]
  },
  {
   "cell_type": "code",
   "execution_count": 2,
   "metadata": {},
   "outputs": [],
   "source": [
    "import os\n",
    "import shutil"
   ]
  },
  {
   "cell_type": "code",
   "execution_count": 3,
   "metadata": {},
   "outputs": [],
   "source": [
    "%%bash \n",
    "\n",
    "#make directory\n",
    "if [ -d results/phasing/ ]; then\n",
    "    rm -r  results/phasing\n",
    "fi\n",
    "mkdir results/phasing"
   ]
  },
  {
   "cell_type": "code",
   "execution_count": 4,
   "metadata": {},
   "outputs": [],
   "source": [
    "%%bash\n",
    "\n",
    "#calculate a recomb map.  1cm = 287Kb based on data from Criscione et al. (2009) avg\n",
    "grep -v \"#\" results/variant_filtration/smv7_ex_autosomes.vcf  \\\n",
    "    | awk '{printf \"%s\\t%s\\t%.6f\\t%s\\n\", $1, $3, $2/287000, $2}' \\\n",
    "    > results/phasing/auto.map\n"
   ]
  },
  {
   "cell_type": "code",
   "execution_count": 5,
   "metadata": {},
   "outputs": [],
   "source": [
    "import os\n",
    "from os import path\n",
    "\n",
    "samples = [ \"ERR310938\",               \"Sro_female_1.1_CCATCCTC\", \"Sro_female_1.2_CCGACAAC\",\n",
    "            \"Sro_female_2.1_CCTAATCC\", \"Sro_female_2.2_CCTCTATC\", \"Sro_male_1.1_ATCATTCC\", \n",
    "            \"Sro_male_1.2_ATTGGCTC\",   \"Sro_male_2.1_CAAGGAGC\",   \"Sro_male_2.2_CACCTTAC\",\n",
    "            \"ERR046038\",               \"ERR539847\",               \"ERR539848\",\n",
    "            \"Sm.BR_PdV.0447.1\",        \"Sm.BR_PdV.1039.1\",        \"Sm.BR_PdV.1079.1\",\n",
    "            \"Sm.BR_PdV.1094.1\",        \"Sm.BR_PdV.1103.1\",        \"Sm.BR_PdV.1127.1\",\n",
    "            \"Sm.BR_PdV.1278.1\",        \"Sm.BR_PdV.1340.1\",        \"Sm.BR_PdV.1340.2\",\n",
    "            \"Sm.BR_PdV.1371.1\",        \"Sm.BR_PdV.1404.1\",        \"Sm.BR_PdV.1409.1\",\n",
    "            \"Sm.BR_PdV.1418.1\",        \"Sm.BR_PdV.1475.1\",        \"Sm.BR_PdV.1489.1\",\n",
    "            \"Sm.BR_PdV.2039.1\",        \"Sm.BR_PdV.2039.2\",        \"Sm.BR_PdV.2072.1\",\n",
    "            \"Sm.BR_PdV.2074.1\",        \"Sm.BR_PdV.2076.1\",        \"Sm.BR_PdV.2133.1\",\n",
    "            \"Sm.BR_PdV.2147.1\",        \"Sm.BR_PdV.2189.1\",        \"Sm.BR_PdV.2196.2\",\n",
    "            \"Sm.BR_PdV.2225.1\",        \"Sm.BR_PdV.2227.1\",        \"Sm.BR_PdV.2265.1\",\n",
    "            \"Sm.BR_PdV.2290.1\",        \"Sm.BR_PdV.2300.1\",        \"Sm.BR_PdV.2334.1\",\n",
    "            \"Sm.BR_PdV.2368.1\",        \"Sm.BR_PdV.2406.1\",        \"Sm.BR_PdV.2422.1\",\n",
    "            \"Sm.BR_PdV.2450.1\",        \"Sm.BR_PdV.2456.1\",        \"Sm.BR_PdV.2481.1\",\n",
    "            \"Sm.BR_PdV.2489.1\",        \"Sm.BR_PdV.2508.1\",        \"Sm.BR_PdV.2516.2\",\n",
    "            \"Sm.BR_PdV.2530.1\",        \"Sm.BR_PdV.2538.1\",        \"Sm.BR_PdV.2546.1\",\n",
    "            \"Sm.BR_PdV.2556.1\",        \"Sm.BR_PdV.2577.1\",        \"Sm.BR_PdV.4293.2\",\n",
    "            \"ERR103050\",               \"Sm.NE_Di158.1\",           \"Sm.NE_Di186.1\",        \n",
    "            \"Sm.NE_Di238.1\",           \"Sm.NE_Di297.1\",           \"Sm.NE_Di297.2\", \n",
    "            \"Sm.NE_Di68.2\",            \"Sm.NE_Na376.2\",           \"Sm.NE_Na381.1\", \n",
    "            \"Sm.NE_Na39.1\",            \"Sm.NE_Na40.1\",            \"ERR103049\", \n",
    "            \"Sm.SN_Nd103.1\",           \"Sm.SN_Nd109.1\",           \"Sm.SN_Nd114.1\", \n",
    "            \"Sm.SN_Nd115.1\",           \"Sm.SN_Nd18.1\",            \"Sm.SN_Nd22.1\", \n",
    "            \"Sm.SN_Nd24.1\",            \"Sm.SN_Nd25.1\",            \"Sm.SN_Nd34.1\", \n",
    "            \"Sm.SN_Nd43.1\",            \"Sm.SN_Nd47.1\",            \"Sm.SN_Nd5.1\", \n",
    "            \"Sm.SN_Nd5.2\",             \"Sm.SN_Nd50.1\",            \"Sm.SN_Nd54.1\", \n",
    "            \"Sm.SN_Nd56.1\",            \"Sm.SN_Nd77.1\",            \"Sm.SN_Nd79.1\", \n",
    "            \"Sm.SN_Nd9.1\",             \"Sm.SN_Nd90.1\",            \"Sm.SN_Te26.1\", \n",
    "            \"Sm.SN_Te3.1\",             \"Sm.SN_Te49.1\",            \"Sm.SN_Te55.1\", \n",
    "            \"Sm.SN_Te68.1\",            \"ERR119614\",               \"ERR119615\",\n",
    "            \"ERR997461\",               \"Sm.TZ_009.1.1\",           \"Sm.TZ_009.10.1\", \n",
    "            \"Sm.TZ_009.2.2\",           \"Sm.TZ_009.3.1\",           \"Sm.TZ_009.4.2\",\n",
    "            \"Sm.TZ_009.5.2\",           \"Sm.TZ_009.6.1\",           \"Sm.TZ_009.7.1\",\n",
    "            \"Sm.TZ_009.8.2\",           \"Sm.TZ_009.9.1\",           \"Sm.TZ_055.1.3\",\n",
    "            \"Sm.TZ_055.10.1\",          \"Sm.TZ_055.2.1\",           \"Sm.TZ_055.3.2\", \n",
    "            \"Sm.TZ_055.5.1\",           \"Sm.TZ_055.6.1\",           \"Sm.TZ_055.7.1\", \n",
    "            \"Sm.TZ_055.8.1\",           \"Sm.TZ_074N.1.2\",          \"Sm.TZ_074N.10.2\", \n",
    "            \"Sm.TZ_074N.2.2\",          \"Sm.TZ_074N.3.2\",          \"Sm.TZ_074N.4.1\",\n",
    "            \"Sm.TZ_074N.6.3\",          \"Sm.TZ_074N.7.2\",          \"Sm.TZ_074N.8.1\", \n",
    "            \"Sm.TZ_074N.9.1\",          \"Sm.TZ_077.2.1\",           \"Sm.TZ_077.3.1\", \n",
    "            \"Sm.TZ_077.4.2\",           \"Sm.TZ_077.5.1\",           \"Sm.TZ_077.6.1\", \n",
    "            \"Sm.TZ_077.7.3\",           \"Sm.TZ_077.8.1\",           \"Sm.TZ_077.9.2\",\n",
    "            \"Sm.TZ_086.1.1\",           \"Sm.TZ_086.2.3\",           \"Sm.TZ_086.3.1\", \n",
    "            \"Sm.TZ_086.4.2\",           \"Sm.TZ_086.5.1\",           \"Sm.TZ_086.6.1\", \n",
    "            \"Sm.TZ_086.7.1\",           \"Sm.TZ_086.8.1\",           \"Sm.TZ_134.1.1\", \n",
    "            \"Sm.TZ_134.2.2\",           \"Sm.TZ_134.4.1\",           \"Sm.TZ_134.5.1\", \n",
    "            \"Sm.TZ_134.6.1\",           \"Sm.TZ_141.1.1\",           \"Sm.TZ_141.3.1\", \n",
    "            \"Sm.TZ_141.4.2\",           \"Sm.TZ_141.5.3\",           \"Sm.TZ_141.6.1\",\n",
    "            \"Sm.TZ_141.7.1\",           \"Sm.TZ_141.8.1\",           \"Sm.BR_PdV.1409_rep\",\n",
    "            \"Sm.BR_PdV.1475_rep\",      \"Sm.BR_PdV.2406_rep\" ]\n",
    "\n",
    "#get clean files (so delete if they already exits)\n",
    "if  path.exists(\"results/phasing/samples.list\"):\n",
    "    os.remove(\"results/phasing/samples.list\")\n",
    "\n",
    "#create files with lists of samples per population\n",
    "with open(\"results/phasing/samples.list\", 'w') as list_file:\n",
    "    for sample in samples:\n",
    "        list_file.write(sample + \"\\n\")"
   ]
  },
  {
   "cell_type": "code",
   "execution_count": null,
   "metadata": {},
   "outputs": [],
   "source": [
    "%%bash\n",
    "\n",
    "#impute on each seperatley\n",
    "for i in $(seq 1 7); do\n",
    "\n",
    "    CHR=SM_V7_\"$i\"\n",
    "\n",
    "#     #extract autosome specific vcf for the samples of interest\n",
    "#     vcftools \\\n",
    "#         --vcf results/variant_filtration/smv7_ex_autosomes.vcf \\\n",
    "#         --chr $CHR \\\n",
    "#         --keep results/phasing/samples.list \\\n",
    "#         --recode \\\n",
    "#         --stdout >results/phasing/$CHR.vcf\n",
    "\n",
    "#    sed -i 's/,assembly=schMan_v7.fa//gi' results/phasing/$CHR.vcf &\n",
    "\n",
    "     grep $CHR results/phasing/auto.map >results/phasing/$CHR.map\n",
    "\n",
    "    beagle \\\n",
    "        gt=results/phasing/$CHR.vcf \\\n",
    "        out=results/phasing/$CHR\"_beagle\" \\\n",
    "        map=results/phasing/$CHR.map \\\n",
    "        nthreads=4 \\\n",
    "        window=300 \\\n",
    "        overlap=30 \\\n",
    "        iterations=250 \\\n",
    "        >results/phasing/$CHR.beaglelog 2>&1 &\n",
    "\n",
    "done"
   ]
  },
  {
   "cell_type": "code",
   "execution_count": 9,
   "metadata": {},
   "outputs": [
    {
     "name": "stderr",
     "output_type": "stream",
     "text": [
      "\n",
      "VCFtools - 0.1.16\n",
      "(C) Adam Auton and Anthony Marcketta 2009\n",
      "\n",
      "Parameters as interpreted:\n",
      "\t--vcf results/phasing/auto_beagle.vcf\n",
      "\t--recode-INFO-all\n",
      "\t--maf 0.05\n",
      "\t--recode\n",
      "\t--stdout\n",
      "\n",
      "After filtering, kept 155 out of 155 Individuals\n",
      "Outputting VCF file...\n",
      "After filtering, kept 98715 out of a possible 475081 Sites\n",
      "Run Time = 38.00 seconds\n"
     ]
    }
   ],
   "source": [
    "%%bash\n",
    "\n",
    "gunzip results/phasing/SM*vcf.gz\n",
    "\n",
    "#create one file of phased snps (for all autosomes)\n",
    "vcfcombine \\\n",
    "    results/phasing/SM_V7_1_beagle.vcf \\\n",
    "    results/phasing/SM_V7_2_beagle.vcf \\\n",
    "    results/phasing/SM_V7_3_beagle.vcf \\\n",
    "    results/phasing/SM_V7_4_beagle.vcf \\\n",
    "    results/phasing/SM_V7_5_beagle.vcf \\\n",
    "    results/phasing/SM_V7_6_beagle.vcf \\\n",
    "    results/phasing/SM_V7_7_beagle.vcf \\\n",
    "    >results/phasing/auto_beagle.vcf\n",
    "    #475,081\n",
    "\n",
    "vcftools \\\n",
    "    --vcf results/phasing/auto_beagle.vcf \\\n",
    "    --maf 0.05 \\\n",
    "    --recode \\\n",
    "    --recode-INFO-all \\\n",
    "    --stdout \\\n",
    "    >results/phasing/auto_beagle_maf05.vcf\n",
    "    #98,715"
   ]
  }
 ],
 "metadata": {
  "kernelspec": {
   "display_name": "Python 3",
   "language": "python",
   "name": "python3"
  },
  "language_info": {
   "codemirror_mode": {
    "name": "ipython",
    "version": 3
   },
   "file_extension": ".py",
   "mimetype": "text/x-python",
   "name": "python",
   "nbconvert_exporter": "python",
   "pygments_lexer": "ipython3",
   "version": "3.8.5"
  },
  "toc": {
   "base_numbering": 1,
   "nav_menu": {},
   "number_sections": true,
   "sideBar": true,
   "skip_h1_title": false,
   "title_cell": "Table of Contents",
   "title_sidebar": "Contents",
   "toc_cell": false,
   "toc_position": {},
   "toc_section_display": true,
   "toc_window_display": false
  }
 },
 "nbformat": 4,
 "nbformat_minor": 2
}
