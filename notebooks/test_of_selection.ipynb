{
 "cells": [
  {
   "cell_type": "markdown",
   "metadata": {
    "toc-hr-collapsed": true
   },
   "source": [
    "# Finding regions under selection\n",
    "\n",
    "## [paper title]\n",
    "\n",
    "\n",
    "breif description"
   ]
  },
  {
   "cell_type": "code",
   "execution_count": 34,
   "metadata": {
    "ExecuteTime": {
     "end_time": "2021-02-13T23:26:31.784347Z",
     "start_time": "2021-02-13T23:26:31.776155Z"
    }
   },
   "outputs": [],
   "source": [
    "import scipy.stats\n",
    "#import statsmodels.api as sm\n",
    "#import statsmodels as sm\n",
    "import numpy as np\n",
    "import pandas as pd\n",
    "import matplotlib.pyplot as plt\n",
    "import glob\n",
    "import os\n",
    "import allel\n",
    "import shutil\n",
    "import math\n",
    "import yaml\n",
    "import pandas as pd\n",
    "from intervaltree import IntervalTree\n",
    "from collections import defaultdict\n",
    "from scipy import stats\n",
    "from scipy import signal\n",
    "import pybedtools\n",
    "import gffutils\n",
    "import itertools\n",
    "from tqdm import tqdm\n",
    "import random\n",
    "\n",
    "os.chdir(\"/master/nplatt/sch_man_nwinvasion\")"
   ]
  },
  {
   "cell_type": "markdown",
   "metadata": {},
   "source": [
    "Calculate the cumulative length fo each chromosome for downstream plotting"
   ]
  },
  {
   "cell_type": "code",
   "execution_count": 7,
   "metadata": {
    "ExecuteTime": {
     "end_time": "2021-02-13T23:26:36.920569Z",
     "start_time": "2021-02-13T23:26:36.910622Z"
    }
   },
   "outputs": [],
   "source": [
    "#make sure that all stops are not gt chrom length\n",
    "chr_length = {}\n",
    "#genome_size = 0\n",
    "with open('/master/nplatt/sch_man_nwinvasion/data/genomes/Smansoni_v7.fa.fai', 'r') as fai:\n",
    "    for entry in fai:\n",
    "        chrom, length, *offset = entry.rstrip().split(\"\\t\")\n",
    "        chr_length[chrom]=int(length)\n",
    "\n",
    "    cumul_start={}\n",
    "    cumul_start['SM_V7_1']=0\n",
    "    cumul_start['SM_V7_2']= cumul_start['SM_V7_1'] + chr_length['SM_V7_1']\n",
    "    cumul_start['SM_V7_3']= cumul_start['SM_V7_2'] + chr_length['SM_V7_2']\n",
    "    cumul_start['SM_V7_4']= cumul_start['SM_V7_3'] + chr_length['SM_V7_3']\n",
    "    cumul_start['SM_V7_5']= cumul_start['SM_V7_4'] + chr_length['SM_V7_4']\n",
    "    cumul_start['SM_V7_6']= cumul_start['SM_V7_5'] + chr_length['SM_V7_5']\n",
    "    cumul_start['SM_V7_7']= cumul_start['SM_V7_6'] + chr_length['SM_V7_6']\n",
    "    scanned_size = cumul_start['SM_V7_7'] + chr_length['SM_V7_7']"
   ]
  },
  {
   "cell_type": "code",
   "execution_count": 8,
   "metadata": {},
   "outputs": [],
   "source": [
    "#read in vcf file\n",
    "filtered_callset=allel.read_vcf('results/variant_filtration/smv7_ex_autosomes.vcf')"
   ]
  },
  {
   "cell_type": "markdown",
   "metadata": {},
   "source": [
    "# msprime \n",
    "\n",
    "breif description"
   ]
  },
  {
   "cell_type": "code",
   "execution_count": 35,
   "metadata": {
    "ExecuteTime": {
     "end_time": "2020-06-23T15:52:56.288307Z",
     "start_time": "2020-06-23T15:51:11.241046Z"
    },
    "collapsed": true,
    "jupyter": {
     "outputs_hidden": true
    }
   },
   "outputs": [
    {
     "name": "stdout",
     "output_type": "stream",
     "text": [
      "Your job 5672368 (\"tanzania_1\") has been submitted\n",
      "Your job 5672369 (\"tanzania_2\") has been submitted\n",
      "Your job 5672370 (\"tanzania_3\") has been submitted\n",
      "Your job 5672371 (\"tanzania_4\") has been submitted\n",
      "Your job 5672372 (\"tanzania_5\") has been submitted\n",
      "Your job 5672373 (\"tanzania_6\") has been submitted\n",
      "Your job 5672374 (\"tanzania_7\") has been submitted\n",
      "Your job 5672375 (\"tanzania_8\") has been submitted\n",
      "Your job 5672376 (\"tanzania_9\") has been submitted\n",
      "Your job 5672377 (\"tanzania_10\") has been submitted\n",
      "Your job 5672378 (\"tanzania_11\") has been submitted\n",
      "Your job 5672379 (\"tanzania_12\") has been submitted\n",
      "Your job 5672380 (\"tanzania_13\") has been submitted\n",
      "Your job 5672381 (\"tanzania_14\") has been submitted\n",
      "Your job 5672382 (\"tanzania_15\") has been submitted\n",
      "Your job 5672383 (\"tanzania_16\") has been submitted\n",
      "Your job 5672384 (\"tanzania_17\") has been submitted\n",
      "Your job 5672385 (\"tanzania_18\") has been submitted\n",
      "Your job 5672386 (\"tanzania_19\") has been submitted\n",
      "Your job 5672387 (\"tanzania_20\") has been submitted\n",
      "Your job 5672388 (\"tanzania_21\") has been submitted\n",
      "Your job 5672389 (\"tanzania_22\") has been submitted\n",
      "Your job 5672390 (\"tanzania_23\") has been submitted\n",
      "Your job 5672391 (\"tanzania_24\") has been submitted\n",
      "Your job 5672392 (\"tanzania_25\") has been submitted\n",
      "Your job 5672393 (\"tanzania_26\") has been submitted\n",
      "Your job 5672394 (\"tanzania_27\") has been submitted\n",
      "Your job 5672395 (\"tanzania_28\") has been submitted\n",
      "Your job 5672396 (\"tanzania_29\") has been submitted\n",
      "Your job 5672397 (\"tanzania_30\") has been submitted\n",
      "Your job 5672398 (\"tanzania_31\") has been submitted\n",
      "Your job 5672399 (\"tanzania_32\") has been submitted\n",
      "Your job 5672400 (\"tanzania_33\") has been submitted\n",
      "Your job 5672401 (\"tanzania_34\") has been submitted\n",
      "Your job 5672402 (\"tanzania_35\") has been submitted\n",
      "Your job 5672403 (\"tanzania_36\") has been submitted\n",
      "Your job 5672404 (\"tanzania_37\") has been submitted\n",
      "Your job 5672405 (\"tanzania_38\") has been submitted\n",
      "Your job 5672406 (\"tanzania_39\") has been submitted\n",
      "Your job 5672407 (\"tanzania_40\") has been submitted\n",
      "Your job 5672408 (\"tanzania_41\") has been submitted\n",
      "Your job 5672409 (\"tanzania_42\") has been submitted\n",
      "Your job 5672410 (\"tanzania_43\") has been submitted\n",
      "Your job 5672411 (\"tanzania_44\") has been submitted\n",
      "Your job 5672412 (\"tanzania_45\") has been submitted\n",
      "Your job 5672413 (\"tanzania_46\") has been submitted\n",
      "Your job 5672414 (\"tanzania_47\") has been submitted\n",
      "Your job 5672415 (\"tanzania_48\") has been submitted\n",
      "Your job 5672416 (\"tanzania_49\") has been submitted\n",
      "Your job 5672417 (\"tanzania_50\") has been submitted\n",
      "Your job 5672418 (\"tanzania_51\") has been submitted\n",
      "Your job 5672419 (\"tanzania_52\") has been submitted\n",
      "Your job 5672420 (\"tanzania_53\") has been submitted\n",
      "Your job 5672421 (\"tanzania_54\") has been submitted\n",
      "Your job 5672422 (\"tanzania_55\") has been submitted\n",
      "Your job 5672423 (\"tanzania_56\") has been submitted\n",
      "Your job 5672424 (\"tanzania_57\") has been submitted\n",
      "Your job 5672425 (\"tanzania_58\") has been submitted\n",
      "Your job 5672426 (\"tanzania_59\") has been submitted\n",
      "Your job 5672427 (\"tanzania_60\") has been submitted\n",
      "Your job 5672428 (\"tanzania_61\") has been submitted\n",
      "Your job 5672429 (\"tanzania_62\") has been submitted\n",
      "Your job 5672430 (\"tanzania_63\") has been submitted\n",
      "Your job 5672431 (\"tanzania_64\") has been submitted\n",
      "Your job 5672432 (\"tanzania_65\") has been submitted\n",
      "Your job 5672433 (\"tanzania_66\") has been submitted\n",
      "Your job 5672434 (\"tanzania_67\") has been submitted\n",
      "Your job 5672435 (\"tanzania_68\") has been submitted\n",
      "Your job 5672436 (\"tanzania_69\") has been submitted\n",
      "Your job 5672437 (\"tanzania_70\") has been submitted\n",
      "Your job 5672438 (\"tanzania_71\") has been submitted\n",
      "Your job 5672439 (\"tanzania_72\") has been submitted\n",
      "Your job 5672440 (\"tanzania_73\") has been submitted\n",
      "Your job 5672441 (\"tanzania_74\") has been submitted\n",
      "Your job 5672442 (\"tanzania_75\") has been submitted\n",
      "Your job 5672443 (\"tanzania_76\") has been submitted\n",
      "Your job 5672444 (\"tanzania_77\") has been submitted\n",
      "Your job 5672445 (\"tanzania_78\") has been submitted\n",
      "Your job 5672446 (\"tanzania_79\") has been submitted\n",
      "Your job 5672447 (\"tanzania_80\") has been submitted\n",
      "Your job 5672448 (\"tanzania_81\") has been submitted\n",
      "Your job 5672449 (\"tanzania_82\") has been submitted\n",
      "Your job 5672450 (\"tanzania_83\") has been submitted\n",
      "Your job 5672451 (\"tanzania_84\") has been submitted\n",
      "Your job 5672452 (\"tanzania_85\") has been submitted\n",
      "Your job 5672453 (\"tanzania_86\") has been submitted\n",
      "Your job 5672454 (\"tanzania_87\") has been submitted\n",
      "Your job 5672455 (\"tanzania_88\") has been submitted\n",
      "Your job 5672456 (\"tanzania_89\") has been submitted\n",
      "Your job 5672457 (\"tanzania_90\") has been submitted\n",
      "Your job 5672458 (\"tanzania_91\") has been submitted\n",
      "Your job 5672459 (\"tanzania_92\") has been submitted\n",
      "Your job 5672460 (\"tanzania_93\") has been submitted\n",
      "Your job 5672461 (\"tanzania_94\") has been submitted\n",
      "Your job 5672462 (\"tanzania_95\") has been submitted\n",
      "Your job 5672463 (\"tanzania_96\") has been submitted\n",
      "Your job 5672464 (\"tanzania_97\") has been submitted\n",
      "Your job 5672465 (\"tanzania_98\") has been submitted\n",
      "Your job 5672466 (\"tanzania_99\") has been submitted\n",
      "Your job 5672467 (\"tanzania_100\") has been submitted\n",
      "Your job 5672468 (\"tanzania_101\") has been submitted\n",
      "Your job 5672469 (\"tanzania_102\") has been submitted\n",
      "Your job 5672470 (\"tanzania_103\") has been submitted\n",
      "Your job 5672471 (\"tanzania_104\") has been submitted\n",
      "Your job 5672472 (\"tanzania_105\") has been submitted\n",
      "Your job 5672473 (\"tanzania_106\") has been submitted\n",
      "Your job 5672474 (\"tanzania_107\") has been submitted\n",
      "Your job 5672475 (\"tanzania_108\") has been submitted\n",
      "Your job 5672476 (\"tanzania_109\") has been submitted\n",
      "Your job 5672477 (\"tanzania_110\") has been submitted\n",
      "Your job 5672478 (\"tanzania_111\") has been submitted\n",
      "Your job 5672479 (\"tanzania_112\") has been submitted\n",
      "Your job 5672480 (\"tanzania_113\") has been submitted\n",
      "Your job 5672481 (\"tanzania_114\") has been submitted\n",
      "Your job 5672482 (\"tanzania_115\") has been submitted\n",
      "Your job 5672483 (\"tanzania_116\") has been submitted\n",
      "Your job 5672484 (\"tanzania_117\") has been submitted\n",
      "Your job 5672485 (\"tanzania_118\") has been submitted\n",
      "Your job 5672486 (\"tanzania_119\") has been submitted\n",
      "Your job 5672487 (\"tanzania_120\") has been submitted\n",
      "Your job 5672488 (\"tanzania_121\") has been submitted\n",
      "Your job 5672489 (\"tanzania_122\") has been submitted\n",
      "Your job 5672490 (\"tanzania_123\") has been submitted\n",
      "Your job 5672491 (\"tanzania_124\") has been submitted\n",
      "Your job 5672492 (\"tanzania_125\") has been submitted\n",
      "Your job 5672493 (\"tanzania_126\") has been submitted\n",
      "Your job 5672494 (\"tanzania_127\") has been submitted\n",
      "Your job 5672495 (\"tanzania_128\") has been submitted\n",
      "Your job 5672496 (\"tanzania_129\") has been submitted\n",
      "Your job 5672497 (\"tanzania_130\") has been submitted\n",
      "Your job 5672498 (\"tanzania_131\") has been submitted\n",
      "Your job 5672499 (\"tanzania_132\") has been submitted\n",
      "Your job 5672500 (\"tanzania_133\") has been submitted\n",
      "Your job 5672501 (\"tanzania_134\") has been submitted\n",
      "Your job 5672502 (\"tanzania_135\") has been submitted\n",
      "Your job 5672503 (\"tanzania_136\") has been submitted\n",
      "Your job 5672504 (\"tanzania_137\") has been submitted\n",
      "Your job 5672505 (\"tanzania_138\") has been submitted\n",
      "Your job 5672506 (\"tanzania_139\") has been submitted\n",
      "Your job 5672507 (\"tanzania_140\") has been submitted\n",
      "Your job 5672508 (\"tanzania_141\") has been submitted\n",
      "Your job 5672509 (\"tanzania_142\") has been submitted\n",
      "Your job 5672510 (\"tanzania_143\") has been submitted\n",
      "Your job 5672511 (\"tanzania_144\") has been submitted\n",
      "Your job 5672512 (\"tanzania_145\") has been submitted\n",
      "Your job 5672513 (\"tanzania_146\") has been submitted\n",
      "Your job 5672514 (\"tanzania_147\") has been submitted\n",
      "Your job 5672515 (\"tanzania_148\") has been submitted\n",
      "Your job 5672516 (\"tanzania_149\") has been submitted\n",
      "Your job 5672517 (\"tanzania_150\") has been submitted\n",
      "Your job 5672518 (\"tanzania_151\") has been submitted\n",
      "Your job 5672519 (\"tanzania_152\") has been submitted\n",
      "Your job 5672520 (\"tanzania_153\") has been submitted\n",
      "Your job 5672521 (\"tanzania_154\") has been submitted\n",
      "Your job 5672522 (\"tanzania_155\") has been submitted\n",
      "Your job 5672523 (\"tanzania_156\") has been submitted\n",
      "Your job 5672524 (\"tanzania_157\") has been submitted\n",
      "Your job 5672525 (\"tanzania_158\") has been submitted\n",
      "Your job 5672526 (\"tanzania_159\") has been submitted\n",
      "Your job 5672527 (\"tanzania_160\") has been submitted\n",
      "Your job 5672528 (\"tanzania_161\") has been submitted\n",
      "Your job 5672529 (\"tanzania_162\") has been submitted\n",
      "Your job 5672530 (\"tanzania_163\") has been submitted\n",
      "Your job 5672531 (\"tanzania_164\") has been submitted\n",
      "Your job 5672532 (\"tanzania_165\") has been submitted\n",
      "Your job 5672533 (\"tanzania_166\") has been submitted\n",
      "Your job 5672534 (\"tanzania_167\") has been submitted\n",
      "Your job 5672535 (\"tanzania_168\") has been submitted\n",
      "Your job 5672536 (\"tanzania_169\") has been submitted\n",
      "Your job 5672537 (\"tanzania_170\") has been submitted\n",
      "Your job 5672538 (\"tanzania_171\") has been submitted\n",
      "Your job 5672539 (\"tanzania_172\") has been submitted\n",
      "Your job 5672540 (\"tanzania_173\") has been submitted\n",
      "Your job 5672541 (\"tanzania_174\") has been submitted\n",
      "Your job 5672542 (\"tanzania_175\") has been submitted\n",
      "Your job 5672543 (\"tanzania_176\") has been submitted\n",
      "Your job 5672544 (\"tanzania_177\") has been submitted\n",
      "Your job 5672545 (\"tanzania_178\") has been submitted\n",
      "Your job 5672546 (\"tanzania_179\") has been submitted\n",
      "Your job 5672547 (\"tanzania_180\") has been submitted\n",
      "Your job 5672548 (\"tanzania_181\") has been submitted\n",
      "Your job 5672549 (\"tanzania_182\") has been submitted\n",
      "Your job 5672550 (\"tanzania_183\") has been submitted\n",
      "Your job 5672551 (\"tanzania_184\") has been submitted\n",
      "Your job 5672552 (\"tanzania_185\") has been submitted\n",
      "Your job 5672553 (\"tanzania_186\") has been submitted\n",
      "Your job 5672554 (\"tanzania_187\") has been submitted\n",
      "Your job 5672555 (\"tanzania_188\") has been submitted\n",
      "Your job 5672556 (\"tanzania_189\") has been submitted\n",
      "Your job 5672557 (\"tanzania_190\") has been submitted\n",
      "Your job 5672558 (\"tanzania_191\") has been submitted\n",
      "Your job 5672559 (\"tanzania_192\") has been submitted\n",
      "Your job 5672560 (\"tanzania_193\") has been submitted\n",
      "Your job 5672561 (\"tanzania_194\") has been submitted\n",
      "Your job 5672562 (\"tanzania_195\") has been submitted\n",
      "Your job 5672563 (\"tanzania_196\") has been submitted\n",
      "Your job 5672564 (\"tanzania_197\") has been submitted\n",
      "Your job 5672565 (\"tanzania_198\") has been submitted\n",
      "Your job 5672566 (\"tanzania_199\") has been submitted\n",
      "Your job 5672567 (\"tanzania_200\") has been submitted\n",
      "Your job 5672568 (\"tanzania_201\") has been submitted\n",
      "Your job 5672569 (\"tanzania_202\") has been submitted\n",
      "Your job 5672570 (\"tanzania_203\") has been submitted\n",
      "Your job 5672571 (\"tanzania_204\") has been submitted\n",
      "Your job 5672572 (\"tanzania_205\") has been submitted\n",
      "Your job 5672573 (\"tanzania_206\") has been submitted\n",
      "Your job 5672574 (\"tanzania_207\") has been submitted\n",
      "Your job 5672575 (\"tanzania_208\") has been submitted\n",
      "Your job 5672576 (\"tanzania_209\") has been submitted\n",
      "Your job 5672577 (\"tanzania_210\") has been submitted\n",
      "Your job 5672578 (\"tanzania_211\") has been submitted\n",
      "Your job 5672579 (\"tanzania_212\") has been submitted\n",
      "Your job 5672580 (\"tanzania_213\") has been submitted\n",
      "Your job 5672581 (\"tanzania_214\") has been submitted\n",
      "Your job 5672582 (\"tanzania_215\") has been submitted\n",
      "Your job 5672583 (\"tanzania_216\") has been submitted\n",
      "Your job 5672584 (\"tanzania_217\") has been submitted\n",
      "Your job 5672585 (\"tanzania_218\") has been submitted\n",
      "Your job 5672586 (\"tanzania_219\") has been submitted\n",
      "Your job 5672587 (\"tanzania_220\") has been submitted\n",
      "Your job 5672588 (\"tanzania_221\") has been submitted\n",
      "Your job 5672589 (\"tanzania_222\") has been submitted\n",
      "Your job 5672590 (\"tanzania_223\") has been submitted\n",
      "Your job 5672591 (\"tanzania_224\") has been submitted\n",
      "Your job 5672592 (\"tanzania_225\") has been submitted\n",
      "Your job 5672593 (\"tanzania_226\") has been submitted\n",
      "Your job 5672594 (\"tanzania_227\") has been submitted\n",
      "Your job 5672595 (\"tanzania_228\") has been submitted\n",
      "Your job 5672596 (\"tanzania_229\") has been submitted\n",
      "Your job 5672597 (\"tanzania_230\") has been submitted\n",
      "Your job 5672598 (\"tanzania_231\") has been submitted\n",
      "Your job 5672599 (\"tanzania_232\") has been submitted\n",
      "Your job 5672600 (\"tanzania_233\") has been submitted\n",
      "Your job 5672601 (\"tanzania_234\") has been submitted\n",
      "Your job 5672602 (\"tanzania_235\") has been submitted\n",
      "Your job 5672603 (\"tanzania_236\") has been submitted\n",
      "Your job 5672604 (\"tanzania_237\") has been submitted\n",
      "Your job 5672605 (\"tanzania_238\") has been submitted\n",
      "Your job 5672606 (\"tanzania_239\") has been submitted\n",
      "Your job 5672607 (\"tanzania_240\") has been submitted\n",
      "Your job 5672608 (\"tanzania_241\") has been submitted\n",
      "Your job 5672609 (\"tanzania_242\") has been submitted\n",
      "Your job 5672610 (\"tanzania_243\") has been submitted\n",
      "Your job 5672611 (\"tanzania_244\") has been submitted\n",
      "Your job 5672612 (\"tanzania_245\") has been submitted\n",
      "Your job 5672613 (\"tanzania_246\") has been submitted\n",
      "Your job 5672614 (\"tanzania_247\") has been submitted\n",
      "Your job 5672615 (\"tanzania_248\") has been submitted\n",
      "Your job 5672616 (\"tanzania_249\") has been submitted\n",
      "Your job 5672617 (\"tanzania_250\") has been submitted\n",
      "Your job 5672618 (\"tanzania_251\") has been submitted\n",
      "Your job 5672619 (\"tanzania_252\") has been submitted\n",
      "Your job 5672620 (\"tanzania_253\") has been submitted\n",
      "Your job 5672621 (\"tanzania_254\") has been submitted\n",
      "Your job 5672622 (\"tanzania_255\") has been submitted\n",
      "Your job 5672623 (\"tanzania_256\") has been submitted\n",
      "Your job 5672624 (\"tanzania_257\") has been submitted\n",
      "Your job 5672625 (\"tanzania_258\") has been submitted\n",
      "Your job 5672626 (\"tanzania_259\") has been submitted\n",
      "Your job 5672627 (\"tanzania_260\") has been submitted\n",
      "Your job 5672628 (\"tanzania_261\") has been submitted\n",
      "Your job 5672629 (\"tanzania_262\") has been submitted\n",
      "Your job 5672630 (\"tanzania_263\") has been submitted\n",
      "Your job 5672631 (\"tanzania_264\") has been submitted\n",
      "Your job 5672632 (\"tanzania_265\") has been submitted\n",
      "Your job 5672633 (\"tanzania_266\") has been submitted\n",
      "Your job 5672634 (\"tanzania_267\") has been submitted\n",
      "Your job 5672635 (\"tanzania_268\") has been submitted\n",
      "Your job 5672636 (\"tanzania_269\") has been submitted\n",
      "Your job 5672637 (\"tanzania_270\") has been submitted\n",
      "Your job 5672638 (\"tanzania_271\") has been submitted\n",
      "Your job 5672639 (\"tanzania_272\") has been submitted\n",
      "Your job 5672640 (\"tanzania_273\") has been submitted\n",
      "Your job 5672641 (\"tanzania_274\") has been submitted\n",
      "Your job 5672642 (\"tanzania_275\") has been submitted\n",
      "Your job 5672643 (\"tanzania_276\") has been submitted\n",
      "Your job 5672644 (\"tanzania_277\") has been submitted\n",
      "Your job 5672645 (\"tanzania_278\") has been submitted\n",
      "Your job 5672646 (\"tanzania_279\") has been submitted\n",
      "Your job 5672647 (\"tanzania_280\") has been submitted\n",
      "Your job 5672648 (\"tanzania_281\") has been submitted\n",
      "Your job 5672649 (\"tanzania_282\") has been submitted\n",
      "Your job 5672650 (\"tanzania_283\") has been submitted\n",
      "Your job 5672651 (\"tanzania_284\") has been submitted\n",
      "Your job 5672652 (\"tanzania_285\") has been submitted\n",
      "Your job 5672653 (\"tanzania_286\") has been submitted\n",
      "Your job 5672654 (\"tanzania_287\") has been submitted\n",
      "Your job 5672655 (\"tanzania_288\") has been submitted\n",
      "Your job 5672656 (\"tanzania_289\") has been submitted\n",
      "Your job 5672657 (\"tanzania_290\") has been submitted\n",
      "Your job 5672658 (\"tanzania_291\") has been submitted\n",
      "Your job 5672659 (\"tanzania_292\") has been submitted\n",
      "Your job 5672660 (\"tanzania_293\") has been submitted\n",
      "Your job 5672661 (\"tanzania_294\") has been submitted\n",
      "Your job 5672662 (\"tanzania_295\") has been submitted\n",
      "Your job 5672663 (\"tanzania_296\") has been submitted\n",
      "Your job 5672664 (\"tanzania_297\") has been submitted\n",
      "Your job 5672665 (\"tanzania_298\") has been submitted\n",
      "Your job 5672666 (\"tanzania_299\") has been submitted\n",
      "Your job 5672667 (\"tanzania_300\") has been submitted\n",
      "Your job 5672668 (\"tanzania_301\") has been submitted\n",
      "Your job 5672669 (\"tanzania_302\") has been submitted\n",
      "Your job 5672670 (\"tanzania_303\") has been submitted\n",
      "Your job 5672671 (\"tanzania_304\") has been submitted\n",
      "Your job 5672672 (\"tanzania_305\") has been submitted\n",
      "Your job 5672673 (\"tanzania_306\") has been submitted\n",
      "Your job 5672674 (\"tanzania_307\") has been submitted\n",
      "Your job 5672675 (\"tanzania_308\") has been submitted\n",
      "Your job 5672676 (\"tanzania_309\") has been submitted\n",
      "Your job 5672677 (\"tanzania_310\") has been submitted\n",
      "Your job 5672678 (\"tanzania_311\") has been submitted\n",
      "Your job 5672679 (\"tanzania_312\") has been submitted\n",
      "Your job 5672680 (\"tanzania_313\") has been submitted\n",
      "Your job 5672681 (\"tanzania_314\") has been submitted\n",
      "Your job 5672682 (\"tanzania_315\") has been submitted\n",
      "Your job 5672683 (\"tanzania_316\") has been submitted\n",
      "Your job 5672684 (\"tanzania_317\") has been submitted\n",
      "Your job 5672685 (\"tanzania_318\") has been submitted\n",
      "Your job 5672686 (\"tanzania_319\") has been submitted\n",
      "Your job 5672687 (\"tanzania_320\") has been submitted\n",
      "Your job 5672688 (\"tanzania_321\") has been submitted\n",
      "Your job 5672689 (\"tanzania_322\") has been submitted\n",
      "Your job 5672690 (\"tanzania_323\") has been submitted\n",
      "Your job 5672691 (\"tanzania_324\") has been submitted\n",
      "Your job 5672692 (\"tanzania_325\") has been submitted\n",
      "Your job 5672693 (\"tanzania_326\") has been submitted\n",
      "Your job 5672694 (\"tanzania_327\") has been submitted\n",
      "Your job 5672695 (\"tanzania_328\") has been submitted\n",
      "Your job 5672696 (\"tanzania_329\") has been submitted\n",
      "Your job 5672697 (\"tanzania_330\") has been submitted\n",
      "Your job 5672698 (\"tanzania_331\") has been submitted\n",
      "Your job 5672699 (\"tanzania_332\") has been submitted\n",
      "Your job 5672700 (\"tanzania_333\") has been submitted\n",
      "Your job 5672701 (\"tanzania_334\") has been submitted\n",
      "Your job 5672702 (\"tanzania_335\") has been submitted\n",
      "Your job 5672703 (\"tanzania_336\") has been submitted\n",
      "Your job 5672704 (\"tanzania_337\") has been submitted\n",
      "Your job 5672705 (\"tanzania_338\") has been submitted\n",
      "Your job 5672706 (\"tanzania_339\") has been submitted\n",
      "Your job 5672707 (\"tanzania_340\") has been submitted\n",
      "Your job 5672708 (\"tanzania_341\") has been submitted\n",
      "Your job 5672709 (\"tanzania_342\") has been submitted\n",
      "Your job 5672710 (\"senegal_1\") has been submitted\n",
      "Your job 5672711 (\"senegal_2\") has been submitted\n",
      "Your job 5672712 (\"senegal_3\") has been submitted\n",
      "Your job 5672713 (\"senegal_4\") has been submitted\n",
      "Your job 5672714 (\"senegal_5\") has been submitted\n",
      "Your job 5672715 (\"senegal_6\") has been submitted\n",
      "Your job 5672716 (\"senegal_7\") has been submitted\n",
      "Your job 5672717 (\"senegal_8\") has been submitted\n",
      "Your job 5672718 (\"senegal_9\") has been submitted\n",
      "Your job 5672719 (\"senegal_10\") has been submitted\n",
      "Your job 5672720 (\"senegal_11\") has been submitted\n",
      "Your job 5672721 (\"senegal_12\") has been submitted\n",
      "Your job 5672722 (\"senegal_13\") has been submitted\n",
      "Your job 5672723 (\"senegal_14\") has been submitted\n",
      "Your job 5672724 (\"senegal_15\") has been submitted\n",
      "Your job 5672725 (\"senegal_16\") has been submitted\n",
      "Your job 5672726 (\"senegal_17\") has been submitted\n",
      "Your job 5672727 (\"senegal_18\") has been submitted\n",
      "Your job 5672728 (\"senegal_19\") has been submitted\n",
      "Your job 5672729 (\"senegal_20\") has been submitted\n",
      "Your job 5672730 (\"senegal_21\") has been submitted\n",
      "Your job 5672731 (\"senegal_22\") has been submitted\n",
      "Your job 5672732 (\"senegal_23\") has been submitted\n",
      "Your job 5672733 (\"senegal_24\") has been submitted\n",
      "Your job 5672734 (\"senegal_25\") has been submitted\n",
      "Your job 5672735 (\"senegal_26\") has been submitted\n",
      "Your job 5672736 (\"senegal_27\") has been submitted\n",
      "Your job 5672737 (\"senegal_28\") has been submitted\n",
      "Your job 5672738 (\"senegal_29\") has been submitted\n",
      "Your job 5672739 (\"senegal_30\") has been submitted\n",
      "Your job 5672740 (\"senegal_31\") has been submitted\n",
      "Your job 5672741 (\"senegal_32\") has been submitted\n",
      "Your job 5672742 (\"senegal_33\") has been submitted\n",
      "Your job 5672743 (\"senegal_34\") has been submitted\n",
      "Your job 5672744 (\"senegal_35\") has been submitted\n",
      "Your job 5672745 (\"senegal_36\") has been submitted\n",
      "Your job 5672746 (\"senegal_37\") has been submitted\n",
      "Your job 5672747 (\"senegal_38\") has been submitted\n",
      "Your job 5672748 (\"senegal_39\") has been submitted\n",
      "Your job 5672749 (\"senegal_40\") has been submitted\n",
      "Your job 5672750 (\"senegal_41\") has been submitted\n",
      "Your job 5672751 (\"senegal_42\") has been submitted\n",
      "Your job 5672752 (\"senegal_43\") has been submitted\n",
      "Your job 5672753 (\"senegal_44\") has been submitted\n",
      "Your job 5672754 (\"senegal_45\") has been submitted\n",
      "Your job 5672755 (\"senegal_46\") has been submitted\n",
      "Your job 5672756 (\"senegal_47\") has been submitted\n",
      "Your job 5672757 (\"senegal_48\") has been submitted\n",
      "Your job 5672758 (\"senegal_49\") has been submitted\n",
      "Your job 5672759 (\"senegal_50\") has been submitted\n",
      "Your job 5672760 (\"senegal_51\") has been submitted\n",
      "Your job 5672761 (\"senegal_52\") has been submitted\n",
      "Your job 5672762 (\"senegal_53\") has been submitted\n",
      "Your job 5672763 (\"senegal_54\") has been submitted\n",
      "Your job 5672764 (\"senegal_55\") has been submitted\n",
      "Your job 5672765 (\"senegal_56\") has been submitted\n",
      "Your job 5672766 (\"senegal_57\") has been submitted\n",
      "Your job 5672767 (\"senegal_58\") has been submitted\n",
      "Your job 5672768 (\"senegal_59\") has been submitted\n",
      "Your job 5672769 (\"senegal_60\") has been submitted\n",
      "Your job 5672770 (\"senegal_61\") has been submitted\n",
      "Your job 5672771 (\"senegal_62\") has been submitted\n",
      "Your job 5672772 (\"senegal_63\") has been submitted\n",
      "Your job 5672773 (\"senegal_64\") has been submitted\n",
      "Your job 5672774 (\"senegal_65\") has been submitted\n",
      "Your job 5672775 (\"senegal_66\") has been submitted\n",
      "Your job 5672776 (\"senegal_67\") has been submitted\n",
      "Your job 5672777 (\"senegal_68\") has been submitted\n",
      "Your job 5672778 (\"senegal_69\") has been submitted\n",
      "Your job 5672779 (\"senegal_70\") has been submitted\n",
      "Your job 5672780 (\"senegal_71\") has been submitted\n",
      "Your job 5672781 (\"senegal_72\") has been submitted\n",
      "Your job 5672782 (\"senegal_73\") has been submitted\n",
      "Your job 5672783 (\"senegal_74\") has been submitted\n",
      "Your job 5672784 (\"senegal_75\") has been submitted\n",
      "Your job 5672785 (\"senegal_76\") has been submitted\n",
      "Your job 5672786 (\"senegal_77\") has been submitted\n",
      "Your job 5672787 (\"senegal_78\") has been submitted\n",
      "Your job 5672788 (\"senegal_79\") has been submitted\n",
      "Your job 5672789 (\"senegal_80\") has been submitted\n",
      "Your job 5672790 (\"senegal_81\") has been submitted\n",
      "Your job 5672791 (\"senegal_82\") has been submitted\n",
      "Your job 5672792 (\"senegal_83\") has been submitted\n",
      "Your job 5672793 (\"senegal_84\") has been submitted\n",
      "Your job 5672794 (\"senegal_85\") has been submitted\n",
      "Your job 5672795 (\"senegal_86\") has been submitted\n",
      "Your job 5672796 (\"senegal_87\") has been submitted\n",
      "Your job 5672797 (\"senegal_88\") has been submitted\n",
      "Your job 5672798 (\"senegal_89\") has been submitted\n",
      "Your job 5672799 (\"senegal_90\") has been submitted\n",
      "Your job 5672800 (\"senegal_91\") has been submitted\n",
      "Your job 5672801 (\"senegal_92\") has been submitted\n",
      "Your job 5672802 (\"senegal_93\") has been submitted\n",
      "Your job 5672803 (\"senegal_94\") has been submitted\n",
      "Your job 5672804 (\"senegal_95\") has been submitted\n",
      "Your job 5672805 (\"senegal_96\") has been submitted\n",
      "Your job 5672806 (\"senegal_97\") has been submitted\n",
      "Your job 5672807 (\"senegal_98\") has been submitted\n",
      "Your job 5672808 (\"senegal_99\") has been submitted\n",
      "Your job 5672809 (\"senegal_100\") has been submitted\n",
      "Your job 5672810 (\"senegal_101\") has been submitted\n",
      "Your job 5672811 (\"senegal_102\") has been submitted\n",
      "Your job 5672812 (\"senegal_103\") has been submitted\n",
      "Your job 5672813 (\"senegal_104\") has been submitted\n",
      "Your job 5672814 (\"senegal_105\") has been submitted\n",
      "Your job 5672815 (\"senegal_106\") has been submitted\n",
      "Your job 5672816 (\"senegal_107\") has been submitted\n",
      "Your job 5672817 (\"senegal_108\") has been submitted\n",
      "Your job 5672818 (\"senegal_109\") has been submitted\n",
      "Your job 5672819 (\"senegal_110\") has been submitted\n",
      "Your job 5672820 (\"senegal_111\") has been submitted\n",
      "Your job 5672821 (\"senegal_112\") has been submitted\n",
      "Your job 5672822 (\"senegal_113\") has been submitted\n",
      "Your job 5672823 (\"senegal_114\") has been submitted\n",
      "Your job 5672824 (\"senegal_115\") has been submitted\n",
      "Your job 5672825 (\"senegal_116\") has been submitted\n",
      "Your job 5672826 (\"senegal_117\") has been submitted\n",
      "Your job 5672827 (\"senegal_118\") has been submitted\n",
      "Your job 5672828 (\"senegal_119\") has been submitted\n",
      "Your job 5672829 (\"senegal_120\") has been submitted\n",
      "Your job 5672830 (\"senegal_121\") has been submitted\n",
      "Your job 5672831 (\"senegal_122\") has been submitted\n",
      "Your job 5672832 (\"senegal_123\") has been submitted\n",
      "Your job 5672833 (\"senegal_124\") has been submitted\n",
      "Your job 5672834 (\"senegal_125\") has been submitted\n",
      "Your job 5672835 (\"senegal_126\") has been submitted\n",
      "Your job 5672836 (\"senegal_127\") has been submitted\n",
      "Your job 5672837 (\"senegal_128\") has been submitted\n",
      "Your job 5672838 (\"senegal_129\") has been submitted\n",
      "Your job 5672839 (\"senegal_130\") has been submitted\n",
      "Your job 5672840 (\"senegal_131\") has been submitted\n",
      "Your job 5672841 (\"senegal_132\") has been submitted\n",
      "Your job 5672842 (\"senegal_133\") has been submitted\n",
      "Your job 5672843 (\"senegal_134\") has been submitted\n",
      "Your job 5672844 (\"senegal_135\") has been submitted\n",
      "Your job 5672845 (\"senegal_136\") has been submitted\n",
      "Your job 5672846 (\"senegal_137\") has been submitted\n",
      "Your job 5672847 (\"senegal_138\") has been submitted\n",
      "Your job 5672848 (\"senegal_139\") has been submitted\n",
      "Your job 5672849 (\"senegal_140\") has been submitted\n",
      "Your job 5672850 (\"senegal_141\") has been submitted\n",
      "Your job 5672851 (\"senegal_142\") has been submitted\n",
      "Your job 5672852 (\"senegal_143\") has been submitted\n",
      "Your job 5672853 (\"senegal_144\") has been submitted\n",
      "Your job 5672854 (\"senegal_145\") has been submitted\n",
      "Your job 5672855 (\"senegal_146\") has been submitted\n",
      "Your job 5672856 (\"senegal_147\") has been submitted\n",
      "Your job 5672857 (\"senegal_148\") has been submitted\n",
      "Your job 5672858 (\"senegal_149\") has been submitted\n",
      "Your job 5672859 (\"senegal_150\") has been submitted\n",
      "Your job 5672860 (\"senegal_151\") has been submitted\n",
      "Your job 5672861 (\"senegal_152\") has been submitted\n",
      "Your job 5672862 (\"senegal_153\") has been submitted\n",
      "Your job 5672863 (\"senegal_154\") has been submitted\n",
      "Your job 5672864 (\"senegal_155\") has been submitted\n",
      "Your job 5672865 (\"senegal_156\") has been submitted\n",
      "Your job 5672866 (\"senegal_157\") has been submitted\n",
      "Your job 5672867 (\"senegal_158\") has been submitted\n",
      "Your job 5672868 (\"senegal_159\") has been submitted\n",
      "Your job 5672869 (\"senegal_160\") has been submitted\n",
      "Your job 5672870 (\"senegal_161\") has been submitted\n",
      "Your job 5672871 (\"senegal_162\") has been submitted\n",
      "Your job 5672872 (\"senegal_163\") has been submitted\n",
      "Your job 5672873 (\"senegal_164\") has been submitted\n",
      "Your job 5672874 (\"senegal_165\") has been submitted\n",
      "Your job 5672875 (\"senegal_166\") has been submitted\n",
      "Your job 5672876 (\"senegal_167\") has been submitted\n",
      "Your job 5672877 (\"senegal_168\") has been submitted\n",
      "Your job 5672878 (\"senegal_169\") has been submitted\n",
      "Your job 5672879 (\"senegal_170\") has been submitted\n",
      "Your job 5672880 (\"senegal_171\") has been submitted\n",
      "Your job 5672881 (\"senegal_172\") has been submitted\n",
      "Your job 5672882 (\"senegal_173\") has been submitted\n",
      "Your job 5672883 (\"senegal_174\") has been submitted\n",
      "Your job 5672884 (\"senegal_175\") has been submitted\n",
      "Your job 5672885 (\"senegal_176\") has been submitted\n",
      "Your job 5672886 (\"senegal_177\") has been submitted\n",
      "Your job 5672887 (\"senegal_178\") has been submitted\n",
      "Your job 5672888 (\"senegal_179\") has been submitted\n",
      "Your job 5672889 (\"senegal_180\") has been submitted\n",
      "Your job 5672890 (\"senegal_181\") has been submitted\n",
      "Your job 5672891 (\"senegal_182\") has been submitted\n",
      "Your job 5672892 (\"senegal_183\") has been submitted\n",
      "Your job 5672893 (\"senegal_184\") has been submitted\n",
      "Your job 5672894 (\"senegal_185\") has been submitted\n",
      "Your job 5672895 (\"senegal_186\") has been submitted\n",
      "Your job 5672896 (\"senegal_187\") has been submitted\n",
      "Your job 5672897 (\"senegal_188\") has been submitted\n",
      "Your job 5672898 (\"senegal_189\") has been submitted\n",
      "Your job 5672899 (\"senegal_190\") has been submitted\n",
      "Your job 5672900 (\"senegal_191\") has been submitted\n",
      "Your job 5672901 (\"senegal_192\") has been submitted\n",
      "Your job 5672902 (\"senegal_193\") has been submitted\n",
      "Your job 5672903 (\"senegal_194\") has been submitted\n",
      "Your job 5672904 (\"senegal_195\") has been submitted\n",
      "Your job 5672905 (\"senegal_196\") has been submitted\n",
      "Your job 5672906 (\"senegal_197\") has been submitted\n",
      "Your job 5672907 (\"senegal_198\") has been submitted\n",
      "Your job 5672908 (\"senegal_199\") has been submitted\n",
      "Your job 5672909 (\"senegal_200\") has been submitted\n",
      "Your job 5672910 (\"senegal_201\") has been submitted\n",
      "Your job 5672911 (\"senegal_202\") has been submitted\n",
      "Your job 5672912 (\"senegal_203\") has been submitted\n",
      "Your job 5672913 (\"senegal_204\") has been submitted\n",
      "Your job 5672914 (\"senegal_205\") has been submitted\n",
      "Your job 5672915 (\"senegal_206\") has been submitted\n",
      "Your job 5672916 (\"senegal_207\") has been submitted\n",
      "Your job 5672917 (\"senegal_208\") has been submitted\n",
      "Your job 5672918 (\"senegal_209\") has been submitted\n",
      "Your job 5672919 (\"senegal_210\") has been submitted\n",
      "Your job 5672920 (\"senegal_211\") has been submitted\n",
      "Your job 5672921 (\"senegal_212\") has been submitted\n",
      "Your job 5672922 (\"senegal_213\") has been submitted\n",
      "Your job 5672923 (\"senegal_214\") has been submitted\n",
      "Your job 5672924 (\"senegal_215\") has been submitted\n",
      "Your job 5672925 (\"senegal_216\") has been submitted\n",
      "Your job 5672926 (\"senegal_217\") has been submitted\n",
      "Your job 5672927 (\"senegal_218\") has been submitted\n",
      "Your job 5672928 (\"senegal_219\") has been submitted\n",
      "Your job 5672929 (\"senegal_220\") has been submitted\n",
      "Your job 5672930 (\"senegal_221\") has been submitted\n",
      "Your job 5672931 (\"senegal_222\") has been submitted\n",
      "Your job 5672932 (\"senegal_223\") has been submitted\n",
      "Your job 5672933 (\"senegal_224\") has been submitted\n",
      "Your job 5672934 (\"senegal_225\") has been submitted\n",
      "Your job 5672935 (\"senegal_226\") has been submitted\n",
      "Your job 5672936 (\"senegal_227\") has been submitted\n",
      "Your job 5672937 (\"senegal_228\") has been submitted\n",
      "Your job 5672938 (\"senegal_229\") has been submitted\n",
      "Your job 5672939 (\"senegal_230\") has been submitted\n",
      "Your job 5672940 (\"senegal_231\") has been submitted\n",
      "Your job 5672941 (\"senegal_232\") has been submitted\n",
      "Your job 5672942 (\"senegal_233\") has been submitted\n",
      "Your job 5672943 (\"senegal_234\") has been submitted\n",
      "Your job 5672944 (\"senegal_235\") has been submitted\n",
      "Your job 5672945 (\"senegal_236\") has been submitted\n",
      "Your job 5672946 (\"senegal_237\") has been submitted\n",
      "Your job 5672947 (\"senegal_238\") has been submitted\n",
      "Your job 5672948 (\"senegal_239\") has been submitted\n",
      "Your job 5672949 (\"senegal_240\") has been submitted\n",
      "Your job 5672950 (\"senegal_241\") has been submitted\n",
      "Your job 5672951 (\"senegal_242\") has been submitted\n",
      "Your job 5672952 (\"senegal_243\") has been submitted\n",
      "Your job 5672953 (\"senegal_244\") has been submitted\n",
      "Your job 5672954 (\"senegal_245\") has been submitted\n",
      "Your job 5672955 (\"senegal_246\") has been submitted\n",
      "Your job 5672956 (\"senegal_247\") has been submitted\n",
      "Your job 5672957 (\"senegal_248\") has been submitted\n",
      "Your job 5672958 (\"senegal_249\") has been submitted\n",
      "Your job 5672959 (\"senegal_250\") has been submitted\n",
      "Your job 5672960 (\"senegal_251\") has been submitted\n",
      "Your job 5672961 (\"senegal_252\") has been submitted\n",
      "Your job 5672962 (\"senegal_253\") has been submitted\n",
      "Your job 5672963 (\"senegal_254\") has been submitted\n",
      "Your job 5672964 (\"senegal_255\") has been submitted\n",
      "Your job 5672965 (\"senegal_256\") has been submitted\n",
      "Your job 5672966 (\"senegal_257\") has been submitted\n",
      "Your job 5672967 (\"senegal_258\") has been submitted\n",
      "Your job 5672968 (\"senegal_259\") has been submitted\n",
      "Your job 5672969 (\"senegal_260\") has been submitted\n",
      "Your job 5672970 (\"senegal_261\") has been submitted\n",
      "Your job 5672971 (\"senegal_262\") has been submitted\n",
      "Your job 5672972 (\"senegal_263\") has been submitted\n",
      "Your job 5672973 (\"senegal_264\") has been submitted\n",
      "Your job 5672974 (\"senegal_265\") has been submitted\n",
      "Your job 5672975 (\"senegal_266\") has been submitted\n",
      "Your job 5672976 (\"senegal_267\") has been submitted\n",
      "Your job 5672977 (\"senegal_268\") has been submitted\n",
      "Your job 5672978 (\"senegal_269\") has been submitted\n",
      "Your job 5672979 (\"senegal_270\") has been submitted\n",
      "Your job 5672980 (\"senegal_271\") has been submitted\n",
      "Your job 5672981 (\"senegal_272\") has been submitted\n",
      "Your job 5672982 (\"senegal_273\") has been submitted\n",
      "Your job 5672983 (\"senegal_274\") has been submitted\n",
      "Your job 5672984 (\"senegal_275\") has been submitted\n",
      "Your job 5672985 (\"senegal_276\") has been submitted\n",
      "Your job 5672986 (\"senegal_277\") has been submitted\n",
      "Your job 5672987 (\"senegal_278\") has been submitted\n",
      "Your job 5672988 (\"senegal_279\") has been submitted\n",
      "Your job 5672989 (\"senegal_280\") has been submitted\n",
      "Your job 5672990 (\"senegal_281\") has been submitted\n",
      "Your job 5672991 (\"senegal_282\") has been submitted\n",
      "Your job 5672992 (\"senegal_283\") has been submitted\n",
      "Your job 5672993 (\"senegal_284\") has been submitted\n",
      "Your job 5672994 (\"senegal_285\") has been submitted\n",
      "Your job 5672995 (\"senegal_286\") has been submitted\n",
      "Your job 5672996 (\"senegal_287\") has been submitted\n",
      "Your job 5672997 (\"senegal_288\") has been submitted\n",
      "Your job 5672998 (\"senegal_289\") has been submitted\n",
      "Your job 5672999 (\"senegal_290\") has been submitted\n",
      "Your job 5673000 (\"senegal_291\") has been submitted\n",
      "Your job 5673001 (\"senegal_292\") has been submitted\n",
      "Your job 5673002 (\"senegal_293\") has been submitted\n",
      "Your job 5673003 (\"senegal_294\") has been submitted\n",
      "Your job 5673004 (\"senegal_295\") has been submitted\n",
      "Your job 5673005 (\"senegal_296\") has been submitted\n",
      "Your job 5673006 (\"senegal_297\") has been submitted\n",
      "Your job 5673007 (\"senegal_298\") has been submitted\n",
      "Your job 5673008 (\"senegal_299\") has been submitted\n",
      "Your job 5673009 (\"senegal_300\") has been submitted\n",
      "Your job 5673010 (\"senegal_301\") has been submitted\n",
      "Your job 5673011 (\"senegal_302\") has been submitted\n",
      "Your job 5673012 (\"senegal_303\") has been submitted\n",
      "Your job 5673013 (\"senegal_304\") has been submitted\n",
      "Your job 5673014 (\"senegal_305\") has been submitted\n",
      "Your job 5673015 (\"senegal_306\") has been submitted\n",
      "Your job 5673016 (\"senegal_307\") has been submitted\n",
      "Your job 5673017 (\"senegal_308\") has been submitted\n",
      "Your job 5673018 (\"senegal_309\") has been submitted\n",
      "Your job 5673019 (\"senegal_310\") has been submitted\n",
      "Your job 5673020 (\"senegal_311\") has been submitted\n",
      "Your job 5673021 (\"senegal_312\") has been submitted\n",
      "Your job 5673022 (\"senegal_313\") has been submitted\n",
      "Your job 5673023 (\"senegal_314\") has been submitted\n",
      "Your job 5673024 (\"senegal_315\") has been submitted\n",
      "Your job 5673025 (\"senegal_316\") has been submitted\n",
      "Your job 5673026 (\"senegal_317\") has been submitted\n",
      "Your job 5673027 (\"senegal_318\") has been submitted\n",
      "Your job 5673028 (\"senegal_319\") has been submitted\n",
      "Your job 5673029 (\"senegal_320\") has been submitted\n",
      "Your job 5673030 (\"senegal_321\") has been submitted\n",
      "Your job 5673031 (\"senegal_322\") has been submitted\n",
      "Your job 5673032 (\"senegal_323\") has been submitted\n",
      "Your job 5673033 (\"senegal_324\") has been submitted\n",
      "Your job 5673034 (\"senegal_325\") has been submitted\n",
      "Your job 5673035 (\"senegal_326\") has been submitted\n",
      "Your job 5673036 (\"senegal_327\") has been submitted\n",
      "Your job 5673037 (\"senegal_328\") has been submitted\n",
      "Your job 5673038 (\"senegal_329\") has been submitted\n",
      "Your job 5673039 (\"senegal_330\") has been submitted\n",
      "Your job 5673040 (\"senegal_331\") has been submitted\n",
      "Your job 5673041 (\"senegal_332\") has been submitted\n",
      "Your job 5673042 (\"senegal_333\") has been submitted\n",
      "Your job 5673043 (\"senegal_334\") has been submitted\n",
      "Your job 5673044 (\"senegal_335\") has been submitted\n",
      "Your job 5673045 (\"senegal_336\") has been submitted\n",
      "Your job 5673046 (\"senegal_337\") has been submitted\n",
      "Your job 5673047 (\"senegal_338\") has been submitted\n",
      "Your job 5673048 (\"senegal_339\") has been submitted\n",
      "Your job 5673049 (\"senegal_340\") has been submitted\n",
      "Your job 5673050 (\"senegal_341\") has been submitted\n",
      "Your job 5673051 (\"senegal_342\") has been submitted\n",
      "Your job 5673052 (\"niger_1\") has been submitted\n",
      "Your job 5673053 (\"niger_2\") has been submitted\n",
      "Your job 5673054 (\"niger_3\") has been submitted\n",
      "Your job 5673055 (\"niger_4\") has been submitted\n",
      "Your job 5673056 (\"niger_5\") has been submitted\n",
      "Your job 5673057 (\"niger_6\") has been submitted\n",
      "Your job 5673058 (\"niger_7\") has been submitted\n",
      "Your job 5673059 (\"niger_8\") has been submitted\n",
      "Your job 5673060 (\"niger_9\") has been submitted\n",
      "Your job 5673061 (\"niger_10\") has been submitted\n",
      "Your job 5673062 (\"niger_11\") has been submitted\n",
      "Your job 5673063 (\"niger_12\") has been submitted\n",
      "Your job 5673064 (\"niger_13\") has been submitted\n",
      "Your job 5673065 (\"niger_14\") has been submitted\n",
      "Your job 5673066 (\"niger_15\") has been submitted\n",
      "Your job 5673067 (\"niger_16\") has been submitted\n",
      "Your job 5673068 (\"niger_17\") has been submitted\n",
      "Your job 5673069 (\"niger_18\") has been submitted\n",
      "Your job 5673070 (\"niger_19\") has been submitted\n",
      "Your job 5673071 (\"niger_20\") has been submitted\n",
      "Your job 5673072 (\"niger_21\") has been submitted\n",
      "Your job 5673073 (\"niger_22\") has been submitted\n",
      "Your job 5673074 (\"niger_23\") has been submitted\n",
      "Your job 5673075 (\"niger_24\") has been submitted\n",
      "Your job 5673076 (\"niger_25\") has been submitted\n",
      "Your job 5673077 (\"niger_26\") has been submitted\n",
      "Your job 5673078 (\"niger_27\") has been submitted\n",
      "Your job 5673079 (\"niger_28\") has been submitted\n",
      "Your job 5673080 (\"niger_29\") has been submitted\n",
      "Your job 5673081 (\"niger_30\") has been submitted\n",
      "Your job 5673082 (\"niger_31\") has been submitted\n",
      "Your job 5673083 (\"niger_32\") has been submitted\n",
      "Your job 5673084 (\"niger_33\") has been submitted\n",
      "Your job 5673085 (\"niger_34\") has been submitted\n",
      "Your job 5673086 (\"niger_35\") has been submitted\n",
      "Your job 5673087 (\"niger_36\") has been submitted\n",
      "Your job 5673088 (\"niger_37\") has been submitted\n",
      "Your job 5673089 (\"niger_38\") has been submitted\n",
      "Your job 5673090 (\"niger_39\") has been submitted\n",
      "Your job 5673091 (\"niger_40\") has been submitted\n",
      "Your job 5673092 (\"niger_41\") has been submitted\n",
      "Your job 5673093 (\"niger_42\") has been submitted\n",
      "Your job 5673094 (\"niger_43\") has been submitted\n",
      "Your job 5673095 (\"niger_44\") has been submitted\n",
      "Your job 5673096 (\"niger_45\") has been submitted\n",
      "Your job 5673097 (\"niger_46\") has been submitted\n",
      "Your job 5673098 (\"niger_47\") has been submitted\n",
      "Your job 5673099 (\"niger_48\") has been submitted\n",
      "Your job 5673100 (\"niger_49\") has been submitted\n",
      "Your job 5673101 (\"niger_50\") has been submitted\n",
      "Your job 5673102 (\"niger_51\") has been submitted\n",
      "Your job 5673103 (\"niger_52\") has been submitted\n",
      "Your job 5673104 (\"niger_53\") has been submitted\n",
      "Your job 5673105 (\"niger_54\") has been submitted\n",
      "Your job 5673106 (\"niger_55\") has been submitted\n",
      "Your job 5673107 (\"niger_56\") has been submitted\n",
      "Your job 5673108 (\"niger_57\") has been submitted\n",
      "Your job 5673109 (\"niger_58\") has been submitted\n",
      "Your job 5673110 (\"niger_59\") has been submitted\n",
      "Your job 5673111 (\"niger_60\") has been submitted\n",
      "Your job 5673112 (\"niger_61\") has been submitted\n",
      "Your job 5673113 (\"niger_62\") has been submitted\n",
      "Your job 5673114 (\"niger_63\") has been submitted\n",
      "Your job 5673115 (\"niger_64\") has been submitted\n",
      "Your job 5673116 (\"niger_65\") has been submitted\n",
      "Your job 5673117 (\"niger_66\") has been submitted\n",
      "Your job 5673118 (\"niger_67\") has been submitted\n",
      "Your job 5673119 (\"niger_68\") has been submitted\n",
      "Your job 5673120 (\"niger_69\") has been submitted\n",
      "Your job 5673121 (\"niger_70\") has been submitted\n",
      "Your job 5673122 (\"niger_71\") has been submitted\n",
      "Your job 5673123 (\"niger_72\") has been submitted\n",
      "Your job 5673124 (\"niger_73\") has been submitted\n",
      "Your job 5673125 (\"niger_74\") has been submitted\n",
      "Your job 5673126 (\"niger_75\") has been submitted\n",
      "Your job 5673127 (\"niger_76\") has been submitted\n",
      "Your job 5673128 (\"niger_77\") has been submitted\n",
      "Your job 5673129 (\"niger_78\") has been submitted\n",
      "Your job 5673130 (\"niger_79\") has been submitted\n",
      "Your job 5673131 (\"niger_80\") has been submitted\n",
      "Your job 5673132 (\"niger_81\") has been submitted\n",
      "Your job 5673133 (\"niger_82\") has been submitted\n",
      "Your job 5673134 (\"niger_83\") has been submitted\n",
      "Your job 5673135 (\"niger_84\") has been submitted\n",
      "Your job 5673136 (\"niger_85\") has been submitted\n",
      "Your job 5673137 (\"niger_86\") has been submitted\n",
      "Your job 5673138 (\"niger_87\") has been submitted\n",
      "Your job 5673139 (\"niger_88\") has been submitted\n",
      "Your job 5673140 (\"niger_89\") has been submitted\n",
      "Your job 5673141 (\"niger_90\") has been submitted\n",
      "Your job 5673142 (\"niger_91\") has been submitted\n",
      "Your job 5673143 (\"niger_92\") has been submitted\n",
      "Your job 5673144 (\"niger_93\") has been submitted\n",
      "Your job 5673145 (\"niger_94\") has been submitted\n",
      "Your job 5673146 (\"niger_95\") has been submitted\n",
      "Your job 5673147 (\"niger_96\") has been submitted\n",
      "Your job 5673148 (\"niger_97\") has been submitted\n",
      "Your job 5673149 (\"niger_98\") has been submitted\n",
      "Your job 5673150 (\"niger_99\") has been submitted\n",
      "Your job 5673151 (\"niger_100\") has been submitted\n",
      "Your job 5673152 (\"niger_101\") has been submitted\n",
      "Your job 5673153 (\"niger_102\") has been submitted\n",
      "Your job 5673154 (\"niger_103\") has been submitted\n",
      "Your job 5673155 (\"niger_104\") has been submitted\n",
      "Your job 5673156 (\"niger_105\") has been submitted\n",
      "Your job 5673157 (\"niger_106\") has been submitted\n",
      "Your job 5673158 (\"niger_107\") has been submitted\n",
      "Your job 5673159 (\"niger_108\") has been submitted\n",
      "Your job 5673160 (\"niger_109\") has been submitted\n",
      "Your job 5673161 (\"niger_110\") has been submitted\n",
      "Your job 5673162 (\"niger_111\") has been submitted\n",
      "Your job 5673163 (\"niger_112\") has been submitted\n",
      "Your job 5673164 (\"niger_113\") has been submitted\n",
      "Your job 5673165 (\"niger_114\") has been submitted\n",
      "Your job 5673166 (\"niger_115\") has been submitted\n",
      "Your job 5673167 (\"niger_116\") has been submitted\n",
      "Your job 5673168 (\"niger_117\") has been submitted\n",
      "Your job 5673169 (\"niger_118\") has been submitted\n",
      "Your job 5673170 (\"niger_119\") has been submitted\n",
      "Your job 5673171 (\"niger_120\") has been submitted\n",
      "Your job 5673172 (\"niger_121\") has been submitted\n",
      "Your job 5673173 (\"niger_122\") has been submitted\n",
      "Your job 5673174 (\"niger_123\") has been submitted\n",
      "Your job 5673175 (\"niger_124\") has been submitted\n",
      "Your job 5673176 (\"niger_125\") has been submitted\n",
      "Your job 5673177 (\"niger_126\") has been submitted\n",
      "Your job 5673178 (\"niger_127\") has been submitted\n",
      "Your job 5673179 (\"niger_128\") has been submitted\n",
      "Your job 5673180 (\"niger_129\") has been submitted\n",
      "Your job 5673181 (\"niger_130\") has been submitted\n",
      "Your job 5673182 (\"niger_131\") has been submitted\n",
      "Your job 5673183 (\"niger_132\") has been submitted\n",
      "Your job 5673184 (\"niger_133\") has been submitted\n",
      "Your job 5673185 (\"niger_134\") has been submitted\n",
      "Your job 5673186 (\"niger_135\") has been submitted\n",
      "Your job 5673187 (\"niger_136\") has been submitted\n",
      "Your job 5673188 (\"niger_137\") has been submitted\n",
      "Your job 5673189 (\"niger_138\") has been submitted\n",
      "Your job 5673190 (\"niger_139\") has been submitted\n",
      "Your job 5673191 (\"niger_140\") has been submitted\n",
      "Your job 5673192 (\"niger_141\") has been submitted\n",
      "Your job 5673193 (\"niger_142\") has been submitted\n",
      "Your job 5673194 (\"niger_143\") has been submitted\n",
      "Your job 5673195 (\"niger_144\") has been submitted\n",
      "Your job 5673196 (\"niger_145\") has been submitted\n",
      "Your job 5673197 (\"niger_146\") has been submitted\n",
      "Your job 5673198 (\"niger_147\") has been submitted\n",
      "Your job 5673199 (\"niger_148\") has been submitted\n",
      "Your job 5673200 (\"niger_149\") has been submitted\n",
      "Your job 5673201 (\"niger_150\") has been submitted\n",
      "Your job 5673202 (\"niger_151\") has been submitted\n",
      "Your job 5673203 (\"niger_152\") has been submitted\n",
      "Your job 5673204 (\"niger_153\") has been submitted\n",
      "Your job 5673205 (\"niger_154\") has been submitted\n",
      "Your job 5673206 (\"niger_155\") has been submitted\n",
      "Your job 5673207 (\"niger_156\") has been submitted\n",
      "Your job 5673208 (\"niger_157\") has been submitted\n",
      "Your job 5673209 (\"niger_158\") has been submitted\n",
      "Your job 5673210 (\"niger_159\") has been submitted\n",
      "Your job 5673211 (\"niger_160\") has been submitted\n",
      "Your job 5673212 (\"niger_161\") has been submitted\n",
      "Your job 5673213 (\"niger_162\") has been submitted\n",
      "Your job 5673214 (\"niger_163\") has been submitted\n",
      "Your job 5673215 (\"niger_164\") has been submitted\n",
      "Your job 5673216 (\"niger_165\") has been submitted\n",
      "Your job 5673217 (\"niger_166\") has been submitted\n",
      "Your job 5673218 (\"niger_167\") has been submitted\n",
      "Your job 5673219 (\"niger_168\") has been submitted\n",
      "Your job 5673220 (\"niger_169\") has been submitted\n",
      "Your job 5673221 (\"niger_170\") has been submitted\n",
      "Your job 5673222 (\"niger_171\") has been submitted\n",
      "Your job 5673223 (\"niger_172\") has been submitted\n",
      "Your job 5673224 (\"niger_173\") has been submitted\n",
      "Your job 5673225 (\"niger_174\") has been submitted\n",
      "Your job 5673226 (\"niger_175\") has been submitted\n",
      "Your job 5673227 (\"niger_176\") has been submitted\n",
      "Your job 5673228 (\"niger_177\") has been submitted\n",
      "Your job 5673229 (\"niger_178\") has been submitted\n",
      "Your job 5673230 (\"niger_179\") has been submitted\n",
      "Your job 5673231 (\"niger_180\") has been submitted\n",
      "Your job 5673232 (\"niger_181\") has been submitted\n",
      "Your job 5673233 (\"niger_182\") has been submitted\n",
      "Your job 5673234 (\"niger_183\") has been submitted\n",
      "Your job 5673235 (\"niger_184\") has been submitted\n",
      "Your job 5673236 (\"niger_185\") has been submitted\n",
      "Your job 5673237 (\"niger_186\") has been submitted\n",
      "Your job 5673238 (\"niger_187\") has been submitted\n",
      "Your job 5673239 (\"niger_188\") has been submitted\n",
      "Your job 5673240 (\"niger_189\") has been submitted\n",
      "Your job 5673241 (\"niger_190\") has been submitted\n",
      "Your job 5673242 (\"niger_191\") has been submitted\n",
      "Your job 5673243 (\"niger_192\") has been submitted\n",
      "Your job 5673244 (\"niger_193\") has been submitted\n",
      "Your job 5673245 (\"niger_194\") has been submitted\n",
      "Your job 5673246 (\"niger_195\") has been submitted\n",
      "Your job 5673247 (\"niger_196\") has been submitted\n",
      "Your job 5673248 (\"niger_197\") has been submitted\n",
      "Your job 5673249 (\"niger_198\") has been submitted\n",
      "Your job 5673250 (\"niger_199\") has been submitted\n",
      "Your job 5673251 (\"niger_200\") has been submitted\n",
      "Your job 5673252 (\"niger_201\") has been submitted\n",
      "Your job 5673253 (\"niger_202\") has been submitted\n",
      "Your job 5673254 (\"niger_203\") has been submitted\n",
      "Your job 5673255 (\"niger_204\") has been submitted\n",
      "Your job 5673256 (\"niger_205\") has been submitted\n",
      "Your job 5673257 (\"niger_206\") has been submitted\n",
      "Your job 5673258 (\"niger_207\") has been submitted\n",
      "Your job 5673259 (\"niger_208\") has been submitted\n",
      "Your job 5673260 (\"niger_209\") has been submitted\n",
      "Your job 5673261 (\"niger_210\") has been submitted\n",
      "Your job 5673262 (\"niger_211\") has been submitted\n",
      "Your job 5673263 (\"niger_212\") has been submitted\n",
      "Your job 5673264 (\"niger_213\") has been submitted\n",
      "Your job 5673265 (\"niger_214\") has been submitted\n",
      "Your job 5673266 (\"niger_215\") has been submitted\n",
      "Your job 5673267 (\"niger_216\") has been submitted\n",
      "Your job 5673268 (\"niger_217\") has been submitted\n",
      "Your job 5673269 (\"niger_218\") has been submitted\n",
      "Your job 5673270 (\"niger_219\") has been submitted\n",
      "Your job 5673271 (\"niger_220\") has been submitted\n",
      "Your job 5673272 (\"niger_221\") has been submitted\n",
      "Your job 5673273 (\"niger_222\") has been submitted\n",
      "Your job 5673274 (\"niger_223\") has been submitted\n",
      "Your job 5673275 (\"niger_224\") has been submitted\n",
      "Your job 5673276 (\"niger_225\") has been submitted\n",
      "Your job 5673277 (\"niger_226\") has been submitted\n",
      "Your job 5673278 (\"niger_227\") has been submitted\n",
      "Your job 5673279 (\"niger_228\") has been submitted\n",
      "Your job 5673280 (\"niger_229\") has been submitted\n",
      "Your job 5673281 (\"niger_230\") has been submitted\n",
      "Your job 5673282 (\"niger_231\") has been submitted\n",
      "Your job 5673283 (\"niger_232\") has been submitted\n",
      "Your job 5673284 (\"niger_233\") has been submitted\n",
      "Your job 5673285 (\"niger_234\") has been submitted\n",
      "Your job 5673286 (\"niger_235\") has been submitted\n",
      "Your job 5673287 (\"niger_236\") has been submitted\n",
      "Your job 5673288 (\"niger_237\") has been submitted\n",
      "Your job 5673289 (\"niger_238\") has been submitted\n",
      "Your job 5673290 (\"niger_239\") has been submitted\n",
      "Your job 5673291 (\"niger_240\") has been submitted\n",
      "Your job 5673292 (\"niger_241\") has been submitted\n",
      "Your job 5673293 (\"niger_242\") has been submitted\n",
      "Your job 5673294 (\"niger_243\") has been submitted\n",
      "Your job 5673295 (\"niger_244\") has been submitted\n",
      "Your job 5673296 (\"niger_245\") has been submitted\n",
      "Your job 5673297 (\"niger_246\") has been submitted\n",
      "Your job 5673298 (\"niger_247\") has been submitted\n",
      "Your job 5673299 (\"niger_248\") has been submitted\n",
      "Your job 5673300 (\"niger_249\") has been submitted\n",
      "Your job 5673301 (\"niger_250\") has been submitted\n",
      "Your job 5673302 (\"niger_251\") has been submitted\n",
      "Your job 5673303 (\"niger_252\") has been submitted\n",
      "Your job 5673304 (\"niger_253\") has been submitted\n",
      "Your job 5673305 (\"niger_254\") has been submitted\n",
      "Your job 5673306 (\"niger_255\") has been submitted\n",
      "Your job 5673307 (\"niger_256\") has been submitted\n",
      "Your job 5673308 (\"niger_257\") has been submitted\n",
      "Your job 5673309 (\"niger_258\") has been submitted\n",
      "Your job 5673310 (\"niger_259\") has been submitted\n",
      "Your job 5673311 (\"niger_260\") has been submitted\n",
      "Your job 5673312 (\"niger_261\") has been submitted\n",
      "Your job 5673313 (\"niger_262\") has been submitted\n",
      "Your job 5673314 (\"niger_263\") has been submitted\n",
      "Your job 5673315 (\"niger_264\") has been submitted\n",
      "Your job 5673316 (\"niger_265\") has been submitted\n",
      "Your job 5673317 (\"niger_266\") has been submitted\n",
      "Your job 5673318 (\"niger_267\") has been submitted\n",
      "Your job 5673319 (\"niger_268\") has been submitted\n",
      "Your job 5673320 (\"niger_269\") has been submitted\n",
      "Your job 5673321 (\"niger_270\") has been submitted\n",
      "Your job 5673322 (\"niger_271\") has been submitted\n",
      "Your job 5673323 (\"niger_272\") has been submitted\n",
      "Your job 5673324 (\"niger_273\") has been submitted\n",
      "Your job 5673325 (\"niger_274\") has been submitted\n",
      "Your job 5673326 (\"niger_275\") has been submitted\n",
      "Your job 5673327 (\"niger_276\") has been submitted\n",
      "Your job 5673328 (\"niger_277\") has been submitted\n",
      "Your job 5673329 (\"niger_278\") has been submitted\n",
      "Your job 5673330 (\"niger_279\") has been submitted\n",
      "Your job 5673331 (\"niger_280\") has been submitted\n",
      "Your job 5673332 (\"niger_281\") has been submitted\n",
      "Your job 5673333 (\"niger_282\") has been submitted\n",
      "Your job 5673334 (\"niger_283\") has been submitted\n",
      "Your job 5673335 (\"niger_284\") has been submitted\n",
      "Your job 5673336 (\"niger_285\") has been submitted\n",
      "Your job 5673337 (\"niger_286\") has been submitted\n",
      "Your job 5673338 (\"niger_287\") has been submitted\n",
      "Your job 5673339 (\"niger_288\") has been submitted\n",
      "Your job 5673340 (\"niger_289\") has been submitted\n",
      "Your job 5673341 (\"niger_290\") has been submitted\n",
      "Your job 5673342 (\"niger_291\") has been submitted\n",
      "Your job 5673343 (\"niger_292\") has been submitted\n",
      "Your job 5673344 (\"niger_293\") has been submitted\n",
      "Your job 5673345 (\"niger_294\") has been submitted\n",
      "Your job 5673346 (\"niger_295\") has been submitted\n",
      "Your job 5673347 (\"niger_296\") has been submitted\n",
      "Your job 5673348 (\"niger_297\") has been submitted\n",
      "Your job 5673349 (\"niger_298\") has been submitted\n",
      "Your job 5673350 (\"niger_299\") has been submitted\n",
      "Your job 5673351 (\"niger_300\") has been submitted\n",
      "Your job 5673352 (\"niger_301\") has been submitted\n",
      "Your job 5673353 (\"niger_302\") has been submitted\n",
      "Your job 5673354 (\"niger_303\") has been submitted\n",
      "Your job 5673355 (\"niger_304\") has been submitted\n",
      "Your job 5673356 (\"niger_305\") has been submitted\n",
      "Your job 5673357 (\"niger_306\") has been submitted\n",
      "Your job 5673358 (\"niger_307\") has been submitted\n",
      "Your job 5673359 (\"niger_308\") has been submitted\n",
      "Your job 5673360 (\"niger_309\") has been submitted\n",
      "Your job 5673361 (\"niger_310\") has been submitted\n",
      "Your job 5673362 (\"niger_311\") has been submitted\n",
      "Your job 5673363 (\"niger_312\") has been submitted\n",
      "Your job 5673364 (\"niger_313\") has been submitted\n",
      "Your job 5673365 (\"niger_314\") has been submitted\n",
      "Your job 5673366 (\"niger_315\") has been submitted\n",
      "Your job 5673367 (\"niger_316\") has been submitted\n",
      "Your job 5673368 (\"niger_317\") has been submitted\n",
      "Your job 5673369 (\"niger_318\") has been submitted\n",
      "Your job 5673370 (\"niger_319\") has been submitted\n",
      "Your job 5673371 (\"niger_320\") has been submitted\n",
      "Your job 5673372 (\"niger_321\") has been submitted\n",
      "Your job 5673373 (\"niger_322\") has been submitted\n",
      "Your job 5673374 (\"niger_323\") has been submitted\n",
      "Your job 5673375 (\"niger_324\") has been submitted\n",
      "Your job 5673376 (\"niger_325\") has been submitted\n",
      "Your job 5673377 (\"niger_326\") has been submitted\n",
      "Your job 5673378 (\"niger_327\") has been submitted\n",
      "Your job 5673379 (\"niger_328\") has been submitted\n",
      "Your job 5673380 (\"niger_329\") has been submitted\n",
      "Your job 5673381 (\"niger_330\") has been submitted\n",
      "Your job 5673382 (\"niger_331\") has been submitted\n",
      "Your job 5673383 (\"niger_332\") has been submitted\n",
      "Your job 5673384 (\"niger_333\") has been submitted\n",
      "Your job 5673385 (\"niger_334\") has been submitted\n",
      "Your job 5673386 (\"niger_335\") has been submitted\n",
      "Your job 5673387 (\"niger_336\") has been submitted\n",
      "Your job 5673388 (\"niger_337\") has been submitted\n",
      "Your job 5673389 (\"niger_338\") has been submitted\n",
      "Your job 5673390 (\"niger_339\") has been submitted\n",
      "Your job 5673391 (\"niger_340\") has been submitted\n",
      "Your job 5673392 (\"niger_341\") has been submitted\n",
      "Your job 5673393 (\"niger_342\") has been submitted\n",
      "Your job 5673394 (\"brazil_1\") has been submitted\n",
      "Your job 5673395 (\"brazil_2\") has been submitted\n",
      "Your job 5673396 (\"brazil_3\") has been submitted\n",
      "Your job 5673397 (\"brazil_4\") has been submitted\n",
      "Your job 5673398 (\"brazil_5\") has been submitted\n",
      "Your job 5673399 (\"brazil_6\") has been submitted\n",
      "Your job 5673400 (\"brazil_7\") has been submitted\n",
      "Your job 5673401 (\"brazil_8\") has been submitted\n",
      "Your job 5673402 (\"brazil_9\") has been submitted\n",
      "Your job 5673403 (\"brazil_10\") has been submitted\n",
      "Your job 5673404 (\"brazil_11\") has been submitted\n",
      "Your job 5673405 (\"brazil_12\") has been submitted\n",
      "Your job 5673406 (\"brazil_13\") has been submitted\n",
      "Your job 5673407 (\"brazil_14\") has been submitted\n",
      "Your job 5673408 (\"brazil_15\") has been submitted\n",
      "Your job 5673409 (\"brazil_16\") has been submitted\n",
      "Your job 5673410 (\"brazil_17\") has been submitted\n",
      "Your job 5673411 (\"brazil_18\") has been submitted\n",
      "Your job 5673412 (\"brazil_19\") has been submitted\n",
      "Your job 5673413 (\"brazil_20\") has been submitted\n",
      "Your job 5673414 (\"brazil_21\") has been submitted\n",
      "Your job 5673415 (\"brazil_22\") has been submitted\n",
      "Your job 5673416 (\"brazil_23\") has been submitted\n",
      "Your job 5673417 (\"brazil_24\") has been submitted\n",
      "Your job 5673418 (\"brazil_25\") has been submitted\n",
      "Your job 5673419 (\"brazil_26\") has been submitted\n",
      "Your job 5673420 (\"brazil_27\") has been submitted\n",
      "Your job 5673421 (\"brazil_28\") has been submitted\n",
      "Your job 5673422 (\"brazil_29\") has been submitted\n",
      "Your job 5673423 (\"brazil_30\") has been submitted\n",
      "Your job 5673424 (\"brazil_31\") has been submitted\n",
      "Your job 5673425 (\"brazil_32\") has been submitted\n",
      "Your job 5673426 (\"brazil_33\") has been submitted\n",
      "Your job 5673427 (\"brazil_34\") has been submitted\n",
      "Your job 5673428 (\"brazil_35\") has been submitted\n",
      "Your job 5673429 (\"brazil_36\") has been submitted\n",
      "Your job 5673430 (\"brazil_37\") has been submitted\n",
      "Your job 5673431 (\"brazil_38\") has been submitted\n",
      "Your job 5673432 (\"brazil_39\") has been submitted\n",
      "Your job 5673433 (\"brazil_40\") has been submitted\n",
      "Your job 5673434 (\"brazil_41\") has been submitted\n",
      "Your job 5673435 (\"brazil_42\") has been submitted\n",
      "Your job 5673436 (\"brazil_43\") has been submitted\n",
      "Your job 5673437 (\"brazil_44\") has been submitted\n",
      "Your job 5673438 (\"brazil_45\") has been submitted\n",
      "Your job 5673439 (\"brazil_46\") has been submitted\n",
      "Your job 5673440 (\"brazil_47\") has been submitted\n",
      "Your job 5673441 (\"brazil_48\") has been submitted\n",
      "Your job 5673442 (\"brazil_49\") has been submitted\n",
      "Your job 5673443 (\"brazil_50\") has been submitted\n",
      "Your job 5673444 (\"brazil_51\") has been submitted\n",
      "Your job 5673445 (\"brazil_52\") has been submitted\n",
      "Your job 5673446 (\"brazil_53\") has been submitted\n",
      "Your job 5673447 (\"brazil_54\") has been submitted\n",
      "Your job 5673448 (\"brazil_55\") has been submitted\n",
      "Your job 5673449 (\"brazil_56\") has been submitted\n",
      "Your job 5673450 (\"brazil_57\") has been submitted\n",
      "Your job 5673451 (\"brazil_58\") has been submitted\n",
      "Your job 5673452 (\"brazil_59\") has been submitted\n",
      "Your job 5673453 (\"brazil_60\") has been submitted\n",
      "Your job 5673454 (\"brazil_61\") has been submitted\n",
      "Your job 5673455 (\"brazil_62\") has been submitted\n",
      "Your job 5673456 (\"brazil_63\") has been submitted\n",
      "Your job 5673457 (\"brazil_64\") has been submitted\n",
      "Your job 5673458 (\"brazil_65\") has been submitted\n",
      "Your job 5673459 (\"brazil_66\") has been submitted\n",
      "Your job 5673460 (\"brazil_67\") has been submitted\n",
      "Your job 5673461 (\"brazil_68\") has been submitted\n",
      "Your job 5673462 (\"brazil_69\") has been submitted\n",
      "Your job 5673463 (\"brazil_70\") has been submitted\n",
      "Your job 5673464 (\"brazil_71\") has been submitted\n",
      "Your job 5673465 (\"brazil_72\") has been submitted\n",
      "Your job 5673466 (\"brazil_73\") has been submitted\n",
      "Your job 5673467 (\"brazil_74\") has been submitted\n",
      "Your job 5673468 (\"brazil_75\") has been submitted\n",
      "Your job 5673469 (\"brazil_76\") has been submitted\n",
      "Your job 5673470 (\"brazil_77\") has been submitted\n",
      "Your job 5673471 (\"brazil_78\") has been submitted\n",
      "Your job 5673472 (\"brazil_79\") has been submitted\n",
      "Your job 5673473 (\"brazil_80\") has been submitted\n",
      "Your job 5673474 (\"brazil_81\") has been submitted\n",
      "Your job 5673475 (\"brazil_82\") has been submitted\n",
      "Your job 5673476 (\"brazil_83\") has been submitted\n",
      "Your job 5673477 (\"brazil_84\") has been submitted\n",
      "Your job 5673478 (\"brazil_85\") has been submitted\n",
      "Your job 5673479 (\"brazil_86\") has been submitted\n",
      "Your job 5673480 (\"brazil_87\") has been submitted\n",
      "Your job 5673481 (\"brazil_88\") has been submitted\n",
      "Your job 5673482 (\"brazil_89\") has been submitted\n",
      "Your job 5673483 (\"brazil_90\") has been submitted\n",
      "Your job 5673484 (\"brazil_91\") has been submitted\n",
      "Your job 5673485 (\"brazil_92\") has been submitted\n",
      "Your job 5673486 (\"brazil_93\") has been submitted\n",
      "Your job 5673487 (\"brazil_94\") has been submitted\n",
      "Your job 5673488 (\"brazil_95\") has been submitted\n",
      "Your job 5673489 (\"brazil_96\") has been submitted\n",
      "Your job 5673490 (\"brazil_97\") has been submitted\n",
      "Your job 5673491 (\"brazil_98\") has been submitted\n",
      "Your job 5673492 (\"brazil_99\") has been submitted\n",
      "Your job 5673493 (\"brazil_100\") has been submitted\n",
      "Your job 5673494 (\"brazil_101\") has been submitted\n",
      "Your job 5673495 (\"brazil_102\") has been submitted\n",
      "Your job 5673496 (\"brazil_103\") has been submitted\n",
      "Your job 5673497 (\"brazil_104\") has been submitted\n",
      "Your job 5673498 (\"brazil_105\") has been submitted\n",
      "Your job 5673499 (\"brazil_106\") has been submitted\n",
      "Your job 5673500 (\"brazil_107\") has been submitted\n",
      "Your job 5673501 (\"brazil_108\") has been submitted\n",
      "Your job 5673502 (\"brazil_109\") has been submitted\n",
      "Your job 5673503 (\"brazil_110\") has been submitted\n",
      "Your job 5673504 (\"brazil_111\") has been submitted\n",
      "Your job 5673505 (\"brazil_112\") has been submitted\n",
      "Your job 5673506 (\"brazil_113\") has been submitted\n",
      "Your job 5673507 (\"brazil_114\") has been submitted\n",
      "Your job 5673508 (\"brazil_115\") has been submitted\n",
      "Your job 5673509 (\"brazil_116\") has been submitted\n",
      "Your job 5673510 (\"brazil_117\") has been submitted\n",
      "Your job 5673511 (\"brazil_118\") has been submitted\n",
      "Your job 5673512 (\"brazil_119\") has been submitted\n",
      "Your job 5673513 (\"brazil_120\") has been submitted\n",
      "Your job 5673514 (\"brazil_121\") has been submitted\n",
      "Your job 5673515 (\"brazil_122\") has been submitted\n",
      "Your job 5673516 (\"brazil_123\") has been submitted\n",
      "Your job 5673517 (\"brazil_124\") has been submitted\n",
      "Your job 5673518 (\"brazil_125\") has been submitted\n",
      "Your job 5673519 (\"brazil_126\") has been submitted\n",
      "Your job 5673520 (\"brazil_127\") has been submitted\n",
      "Your job 5673521 (\"brazil_128\") has been submitted\n",
      "Your job 5673522 (\"brazil_129\") has been submitted\n",
      "Your job 5673523 (\"brazil_130\") has been submitted\n",
      "Your job 5673524 (\"brazil_131\") has been submitted\n",
      "Your job 5673525 (\"brazil_132\") has been submitted\n",
      "Your job 5673526 (\"brazil_133\") has been submitted\n",
      "Your job 5673527 (\"brazil_134\") has been submitted\n",
      "Your job 5673528 (\"brazil_135\") has been submitted\n",
      "Your job 5673529 (\"brazil_136\") has been submitted\n",
      "Your job 5673530 (\"brazil_137\") has been submitted\n",
      "Your job 5673531 (\"brazil_138\") has been submitted\n",
      "Your job 5673532 (\"brazil_139\") has been submitted\n",
      "Your job 5673533 (\"brazil_140\") has been submitted\n",
      "Your job 5673534 (\"brazil_141\") has been submitted\n",
      "Your job 5673535 (\"brazil_142\") has been submitted\n",
      "Your job 5673536 (\"brazil_143\") has been submitted\n",
      "Your job 5673537 (\"brazil_144\") has been submitted\n",
      "Your job 5673538 (\"brazil_145\") has been submitted\n",
      "Your job 5673539 (\"brazil_146\") has been submitted\n",
      "Your job 5673540 (\"brazil_147\") has been submitted\n",
      "Your job 5673541 (\"brazil_148\") has been submitted\n",
      "Your job 5673542 (\"brazil_149\") has been submitted\n",
      "Your job 5673543 (\"brazil_150\") has been submitted\n",
      "Your job 5673544 (\"brazil_151\") has been submitted\n",
      "Your job 5673545 (\"brazil_152\") has been submitted\n",
      "Your job 5673546 (\"brazil_153\") has been submitted\n",
      "Your job 5673547 (\"brazil_154\") has been submitted\n",
      "Your job 5673548 (\"brazil_155\") has been submitted\n",
      "Your job 5673549 (\"brazil_156\") has been submitted\n",
      "Your job 5673550 (\"brazil_157\") has been submitted\n",
      "Your job 5673551 (\"brazil_158\") has been submitted\n",
      "Your job 5673552 (\"brazil_159\") has been submitted\n",
      "Your job 5673553 (\"brazil_160\") has been submitted\n",
      "Your job 5673554 (\"brazil_161\") has been submitted\n",
      "Your job 5673555 (\"brazil_162\") has been submitted\n",
      "Your job 5673556 (\"brazil_163\") has been submitted\n",
      "Your job 5673557 (\"brazil_164\") has been submitted\n",
      "Your job 5673558 (\"brazil_165\") has been submitted\n",
      "Your job 5673559 (\"brazil_166\") has been submitted\n",
      "Your job 5673560 (\"brazil_167\") has been submitted\n",
      "Your job 5673561 (\"brazil_168\") has been submitted\n",
      "Your job 5673562 (\"brazil_169\") has been submitted\n",
      "Your job 5673563 (\"brazil_170\") has been submitted\n",
      "Your job 5673564 (\"brazil_171\") has been submitted\n",
      "Your job 5673565 (\"brazil_172\") has been submitted\n",
      "Your job 5673566 (\"brazil_173\") has been submitted\n",
      "Your job 5673567 (\"brazil_174\") has been submitted\n",
      "Your job 5673568 (\"brazil_175\") has been submitted\n",
      "Your job 5673569 (\"brazil_176\") has been submitted\n",
      "Your job 5673570 (\"brazil_177\") has been submitted\n",
      "Your job 5673571 (\"brazil_178\") has been submitted\n",
      "Your job 5673572 (\"brazil_179\") has been submitted\n",
      "Your job 5673573 (\"brazil_180\") has been submitted\n",
      "Your job 5673574 (\"brazil_181\") has been submitted\n",
      "Your job 5673575 (\"brazil_182\") has been submitted\n",
      "Your job 5673576 (\"brazil_183\") has been submitted\n",
      "Your job 5673577 (\"brazil_184\") has been submitted\n",
      "Your job 5673578 (\"brazil_185\") has been submitted\n",
      "Your job 5673579 (\"brazil_186\") has been submitted\n",
      "Your job 5673580 (\"brazil_187\") has been submitted\n",
      "Your job 5673581 (\"brazil_188\") has been submitted\n",
      "Your job 5673582 (\"brazil_189\") has been submitted\n",
      "Your job 5673583 (\"brazil_190\") has been submitted\n",
      "Your job 5673584 (\"brazil_191\") has been submitted\n",
      "Your job 5673585 (\"brazil_192\") has been submitted\n",
      "Your job 5673586 (\"brazil_193\") has been submitted\n",
      "Your job 5673587 (\"brazil_194\") has been submitted\n",
      "Your job 5673588 (\"brazil_195\") has been submitted\n",
      "Your job 5673589 (\"brazil_196\") has been submitted\n",
      "Your job 5673590 (\"brazil_197\") has been submitted\n",
      "Your job 5673591 (\"brazil_198\") has been submitted\n",
      "Your job 5673592 (\"brazil_199\") has been submitted\n",
      "Your job 5673593 (\"brazil_200\") has been submitted\n",
      "Your job 5673594 (\"brazil_201\") has been submitted\n",
      "Your job 5673595 (\"brazil_202\") has been submitted\n",
      "Your job 5673596 (\"brazil_203\") has been submitted\n",
      "Your job 5673597 (\"brazil_204\") has been submitted\n",
      "Your job 5673598 (\"brazil_205\") has been submitted\n",
      "Your job 5673599 (\"brazil_206\") has been submitted\n",
      "Your job 5673600 (\"brazil_207\") has been submitted\n",
      "Your job 5673601 (\"brazil_208\") has been submitted\n",
      "Your job 5673602 (\"brazil_209\") has been submitted\n",
      "Your job 5673603 (\"brazil_210\") has been submitted\n",
      "Your job 5673604 (\"brazil_211\") has been submitted\n",
      "Your job 5673605 (\"brazil_212\") has been submitted\n",
      "Your job 5673606 (\"brazil_213\") has been submitted\n",
      "Your job 5673607 (\"brazil_214\") has been submitted\n",
      "Your job 5673608 (\"brazil_215\") has been submitted\n",
      "Your job 5673609 (\"brazil_216\") has been submitted\n",
      "Your job 5673610 (\"brazil_217\") has been submitted\n",
      "Your job 5673611 (\"brazil_218\") has been submitted\n",
      "Your job 5673612 (\"brazil_219\") has been submitted\n",
      "Your job 5673613 (\"brazil_220\") has been submitted\n",
      "Your job 5673614 (\"brazil_221\") has been submitted\n",
      "Your job 5673615 (\"brazil_222\") has been submitted\n",
      "Your job 5673616 (\"brazil_223\") has been submitted\n",
      "Your job 5673617 (\"brazil_224\") has been submitted\n",
      "Your job 5673618 (\"brazil_225\") has been submitted\n",
      "Your job 5673619 (\"brazil_226\") has been submitted\n",
      "Your job 5673620 (\"brazil_227\") has been submitted\n",
      "Your job 5673621 (\"brazil_228\") has been submitted\n",
      "Your job 5673622 (\"brazil_229\") has been submitted\n",
      "Your job 5673623 (\"brazil_230\") has been submitted\n",
      "Your job 5673624 (\"brazil_231\") has been submitted\n",
      "Your job 5673625 (\"brazil_232\") has been submitted\n",
      "Your job 5673626 (\"brazil_233\") has been submitted\n",
      "Your job 5673627 (\"brazil_234\") has been submitted\n",
      "Your job 5673628 (\"brazil_235\") has been submitted\n",
      "Your job 5673629 (\"brazil_236\") has been submitted\n",
      "Your job 5673630 (\"brazil_237\") has been submitted\n",
      "Your job 5673631 (\"brazil_238\") has been submitted\n",
      "Your job 5673632 (\"brazil_239\") has been submitted\n",
      "Your job 5673633 (\"brazil_240\") has been submitted\n",
      "Your job 5673634 (\"brazil_241\") has been submitted\n",
      "Your job 5673635 (\"brazil_242\") has been submitted\n",
      "Your job 5673636 (\"brazil_243\") has been submitted\n",
      "Your job 5673637 (\"brazil_244\") has been submitted\n",
      "Your job 5673638 (\"brazil_245\") has been submitted\n",
      "Your job 5673639 (\"brazil_246\") has been submitted\n",
      "Your job 5673640 (\"brazil_247\") has been submitted\n",
      "Your job 5673641 (\"brazil_248\") has been submitted\n",
      "Your job 5673642 (\"brazil_249\") has been submitted\n",
      "Your job 5673643 (\"brazil_250\") has been submitted\n",
      "Your job 5673644 (\"brazil_251\") has been submitted\n",
      "Your job 5673645 (\"brazil_252\") has been submitted\n",
      "Your job 5673646 (\"brazil_253\") has been submitted\n",
      "Your job 5673647 (\"brazil_254\") has been submitted\n",
      "Your job 5673648 (\"brazil_255\") has been submitted\n",
      "Your job 5673649 (\"brazil_256\") has been submitted\n",
      "Your job 5673650 (\"brazil_257\") has been submitted\n",
      "Your job 5673651 (\"brazil_258\") has been submitted\n",
      "Your job 5673652 (\"brazil_259\") has been submitted\n",
      "Your job 5673653 (\"brazil_260\") has been submitted\n",
      "Your job 5673654 (\"brazil_261\") has been submitted\n",
      "Your job 5673655 (\"brazil_262\") has been submitted\n",
      "Your job 5673656 (\"brazil_263\") has been submitted\n",
      "Your job 5673657 (\"brazil_264\") has been submitted\n",
      "Your job 5673658 (\"brazil_265\") has been submitted\n",
      "Your job 5673659 (\"brazil_266\") has been submitted\n",
      "Your job 5673660 (\"brazil_267\") has been submitted\n",
      "Your job 5673661 (\"brazil_268\") has been submitted\n",
      "Your job 5673662 (\"brazil_269\") has been submitted\n",
      "Your job 5673663 (\"brazil_270\") has been submitted\n",
      "Your job 5673664 (\"brazil_271\") has been submitted\n",
      "Your job 5673665 (\"brazil_272\") has been submitted\n",
      "Your job 5673666 (\"brazil_273\") has been submitted\n",
      "Your job 5673667 (\"brazil_274\") has been submitted\n",
      "Your job 5673668 (\"brazil_275\") has been submitted\n",
      "Your job 5673669 (\"brazil_276\") has been submitted\n",
      "Your job 5673670 (\"brazil_277\") has been submitted\n",
      "Your job 5673671 (\"brazil_278\") has been submitted\n",
      "Your job 5673672 (\"brazil_279\") has been submitted\n",
      "Your job 5673673 (\"brazil_280\") has been submitted\n",
      "Your job 5673674 (\"brazil_281\") has been submitted\n",
      "Your job 5673675 (\"brazil_282\") has been submitted\n",
      "Your job 5673676 (\"brazil_283\") has been submitted\n",
      "Your job 5673677 (\"brazil_284\") has been submitted\n",
      "Your job 5673678 (\"brazil_285\") has been submitted\n",
      "Your job 5673679 (\"brazil_286\") has been submitted\n",
      "Your job 5673680 (\"brazil_287\") has been submitted\n",
      "Your job 5673681 (\"brazil_288\") has been submitted\n",
      "Your job 5673682 (\"brazil_289\") has been submitted\n",
      "Your job 5673683 (\"brazil_290\") has been submitted\n",
      "Your job 5673684 (\"brazil_291\") has been submitted\n",
      "Your job 5673685 (\"brazil_292\") has been submitted\n",
      "Your job 5673686 (\"brazil_293\") has been submitted\n",
      "Your job 5673687 (\"brazil_294\") has been submitted\n",
      "Your job 5673688 (\"brazil_295\") has been submitted\n",
      "Your job 5673689 (\"brazil_296\") has been submitted\n",
      "Your job 5673690 (\"brazil_297\") has been submitted\n",
      "Your job 5673691 (\"brazil_298\") has been submitted\n",
      "Your job 5673692 (\"brazil_299\") has been submitted\n",
      "Your job 5673693 (\"brazil_300\") has been submitted\n",
      "Your job 5673694 (\"brazil_301\") has been submitted\n",
      "Your job 5673695 (\"brazil_302\") has been submitted\n",
      "Your job 5673696 (\"brazil_303\") has been submitted\n",
      "Your job 5673697 (\"brazil_304\") has been submitted\n",
      "Your job 5673698 (\"brazil_305\") has been submitted\n",
      "Your job 5673699 (\"brazil_306\") has been submitted\n",
      "Your job 5673700 (\"brazil_307\") has been submitted\n",
      "Your job 5673701 (\"brazil_308\") has been submitted\n",
      "Your job 5673702 (\"brazil_309\") has been submitted\n",
      "Your job 5673703 (\"brazil_310\") has been submitted\n",
      "Your job 5673704 (\"brazil_311\") has been submitted\n",
      "Your job 5673705 (\"brazil_312\") has been submitted\n",
      "Your job 5673706 (\"brazil_313\") has been submitted\n",
      "Your job 5673707 (\"brazil_314\") has been submitted\n",
      "Your job 5673708 (\"brazil_315\") has been submitted\n",
      "Your job 5673709 (\"brazil_316\") has been submitted\n",
      "Your job 5673710 (\"brazil_317\") has been submitted\n",
      "Your job 5673711 (\"brazil_318\") has been submitted\n",
      "Your job 5673712 (\"brazil_319\") has been submitted\n",
      "Your job 5673713 (\"brazil_320\") has been submitted\n",
      "Your job 5673714 (\"brazil_321\") has been submitted\n",
      "Your job 5673715 (\"brazil_322\") has been submitted\n",
      "Your job 5673716 (\"brazil_323\") has been submitted\n",
      "Your job 5673717 (\"brazil_324\") has been submitted\n",
      "Your job 5673718 (\"brazil_325\") has been submitted\n",
      "Your job 5673719 (\"brazil_326\") has been submitted\n",
      "Your job 5673720 (\"brazil_327\") has been submitted\n",
      "Your job 5673721 (\"brazil_328\") has been submitted\n",
      "Your job 5673722 (\"brazil_329\") has been submitted\n",
      "Your job 5673723 (\"brazil_330\") has been submitted\n",
      "Your job 5673724 (\"brazil_331\") has been submitted\n",
      "Your job 5673725 (\"brazil_332\") has been submitted\n",
      "Your job 5673726 (\"brazil_333\") has been submitted\n",
      "Your job 5673727 (\"brazil_334\") has been submitted\n",
      "Your job 5673728 (\"brazil_335\") has been submitted\n",
      "Your job 5673729 (\"brazil_336\") has been submitted\n",
      "Your job 5673730 (\"brazil_337\") has been submitted\n",
      "Your job 5673731 (\"brazil_338\") has been submitted\n",
      "Your job 5673732 (\"brazil_339\") has been submitted\n",
      "Your job 5673733 (\"brazil_340\") has been submitted\n",
      "Your job 5673734 (\"brazil_341\") has been submitted\n",
      "Your job 5673735 (\"brazil_342\") has been submitted\n"
     ]
    }
   ],
   "source": [
    "%%bash\n",
    "\n",
    "mkdir -p results/msprime/logs\n",
    "\n",
    "CONDA=\"conda activate sch_man_nwinvasion-msprime;\"\n",
    "QSUB=\"qsub -V -cwd -S /bin/bash -q all.q -j y -pe smp 1 \"    \n",
    "\n",
    "for POP in tanzania senegal niger brazil; do\n",
    "    mkdir results/msprime/$POP\n",
    "    for I in $(seq 1 100); do\n",
    "        MSPRIME_CMD=\"python code/msprime-qsub.py $POP $I\"       \n",
    "        echo \"$CONDA $MSPRIME_CMD\" | $QSUB -N $POP\"_\"$I -o results/msprime/logs/$POP\"_\"$I.log\n",
    "    done\n",
    "done\n",
    "\n",
    "\n",
    "#--------------------------------------------------------------------------------------------------------\n",
    "# msprime-qsub.py\n",
    "#--------------------------------------------------------------------------------------------------------\n",
    "\n",
    "# import msprime\n",
    "# import os\n",
    "# import subprocess\n",
    "# import sys\n",
    "# from random import randint\n",
    "\n",
    "# pop = sys.argv[1]\n",
    "# iteration = sys.argv[2]\n",
    "\n",
    "# #################################\n",
    "# def sim_tree(iteration, pop, length, recomb_rate, mut_rate, seed):\n",
    "    \n",
    "#     tree_sequence = msprime.simulate( sample_size=n_samples[pop], \n",
    "#         Ne=ne[pop], \n",
    "#         length=88.9e6, \n",
    "#         recombination_rate=3.4e-8,\n",
    "#         mutation_rate=8.1e-9,\n",
    "#         random_seed=seed)\n",
    "\n",
    "#     print(\"iter {}: {} completed\".format(iteration, pop))\n",
    "#     #print(tree.draw(format=\"unicode\"))\n",
    "\n",
    "#     with open(\"results/msprime/{}/chr1_{}_rep_{}_seed_{}.vcf\".format(pop, pop, iteration, seed), \"w\") as vcf_file:\n",
    "#         tree_sequence.write_vcf(vcf_file, ploidy=2)\n",
    "# ########################################\n",
    "\n",
    "# #calcualted by est_pop_params.py\n",
    "# ne = { \"brazil\"      : 18293,\n",
    "#        \"niger\"       : 19971,\n",
    "#        \"senegal\"     : 22421,\n",
    "#        \"tanzania\"    : 52234 }\n",
    "\n",
    "# n_samples = { \"brazil\"   : 48*2,\n",
    "#               \"senegal\"  : 25*2,\n",
    "#               \"niger\"    : 10*2,\n",
    "#               \"tanzania\" : 58*2  }\n",
    "\n",
    "# seed = randint(0,1e6)\n",
    "# sim_tree(iteration, pop, 88e-9, 3.4e-8, 8.1e-9, seed)"
   ]
  },
  {
   "cell_type": "markdown",
   "metadata": {},
   "source": [
    "Now after all the jobs have finished the through the scheudler take each simulated chrom and extract only the snps that fall within exome-probed regions"
   ]
  },
  {
   "cell_type": "code",
   "execution_count": null,
   "metadata": {},
   "outputs": [],
   "source": [
    "#--------------------------------------------------------------------------------------------------------\n",
    "# msprime-probe_snps_from_vcf.py\n",
    "#--------------------------------------------------------------------------------------------------------\n",
    "\n",
    "import msprime\n",
    "import os\n",
    "import subprocess\n",
    "import glob\n",
    "\n",
    "\n",
    "#now create bed for the new \"sim\" chr1\n",
    "with open('data/renamed-sma_agilent_baits.v7.0.chr_reorderd.bed', 'r') as in_bed:\n",
    "    with open('results/msprime/sim_probes.bed', 'w') as out_bed:\n",
    "        for bed_entry in in_bed:\n",
    "            chrom, start, stop = bed_entry.rstrip().split(\"\\t\")\n",
    "            if chrom == \"SM_V7_1\":\n",
    "                out_bed.write(\"1\\t{}\\t{}\\n\".format(start, stop))\n",
    "\n",
    "bed = 'results/msprime/sim_probes.bed'\n",
    "#now loop through all of the sim vcf files to get snps at probed regions\n",
    "for pop in [\"niger\", \"senegal\", \"tanzania\", \"brazil\"]:\n",
    "    out_dir = \"results/msprime/{}\".format(pop)\n",
    "    \n",
    "    sim_vcfs = glob.glob(\"{}/chr1_*_rep_*.vcf\".format(out_dir))\n",
    "    for sim_vcf in sim_vcfs:\n",
    "\n",
    "        probed_vcf = sim_vcf.replace(\".vcf\", \"_probed.vcf\")         \n",
    "        jid = \"probe_{}\".format(probed_vcf.split(\"/\")[-1])\n",
    "        log = \"{}/logs\".format(out_dir)\n",
    "\n",
    "        vcf_cmd = \"vcftools --vcf {} --bed {} --recode --recode-INFO-all --stdout >{}\".format(sim_vcf, bed, probed_vcf)\n",
    "        qsub_cmd =  \"qsub -V -cwd -S /bin/bash -q all.q -j y -pe smp 3 -N {} -o {}\".format(jid, log)\n",
    "        conda_cmd = \"conda activate sch_man_nwinvasion-msprime\"\n",
    "\n",
    "        cmd =\"echo \\\"{}; {}\\\" | {}\".format(conda_cmd, vcf_cmd, qsub_cmd)\n",
    "\n",
    "        #run vcf cmd\n",
    "        #process = subprocess.Popen(cmd.split(\"\"),\n",
    "        #                     stdout=subprocess.PIPE, \n",
    "        #                     stderr=subprocess.PIPE)\n",
    "        !{cmd}"
   ]
  },
  {
   "cell_type": "markdown",
   "metadata": {
    "heading_collapsed": true,
    "tags": [],
    "toc-hr-collapsed": true
   },
   "source": [
    "# H-scan\n",
    "\n",
    "HSCAN identifies regions under selection based on the length of haplotypes.  (citation).  We used a custom code to convert HSCAN to VCF input formats.\n",
    "\n",
    "Run on actual data with:\n",
    "```code/hscan-run_with_real_data.sh```\n",
    "\n",
    "Repeat the process on simulated data:\n",
    "\n",
    "```code/hscan-run_with_sim_data.sh```\n",
    "\n",
    "Once those analyses are finished come back here to process the results"
   ]
  },
  {
   "cell_type": "code",
   "execution_count": 38,
   "metadata": {
    "ExecuteTime": {
     "end_time": "2020-11-17T17:15:35.312628Z",
     "start_time": "2020-11-17T17:15:35.309411Z"
    },
    "hidden": true
   },
   "outputs": [],
   "source": [
    "#% bash\n",
    "\n",
    "#code/hscan-run_with_real_data.sh\n",
    "#code/hscan-run_with_sim_data.sh"
   ]
  },
  {
   "cell_type": "markdown",
   "metadata": {
    "heading_collapsed": true,
    "hidden": true
   },
   "source": [
    "## Combine runs, smooth H, and generate a .csv file"
   ]
  },
  {
   "cell_type": "code",
   "execution_count": 28,
   "metadata": {
    "ExecuteTime": {
     "end_time": "2020-11-17T16:27:53.963993Z",
     "start_time": "2020-11-17T16:27:53.960636Z"
    },
    "hidden": true
   },
   "outputs": [],
   "source": [
    "#SET WINDOW SMOOTHING SIZE HERE\n",
    "window=201"
   ]
  },
  {
   "cell_type": "code",
   "execution_count": 29,
   "metadata": {
    "ExecuteTime": {
     "end_time": "2020-11-17T16:35:03.543775Z",
     "start_time": "2020-11-17T16:27:58.004159Z"
    },
    "hidden": true
   },
   "outputs": [
    {
     "name": "stdout",
     "output_type": "stream",
     "text": [
      "niger\n",
      "senegal\n",
      "brazil\n",
      "tanzania\n"
     ]
    }
   ],
   "source": [
    "#cycle through each population to calculate generate csv file with H scores, etc. \n",
    "for pop in [\"niger\", \"senegal\", \"brazil\", \"tanzania\"]:\n",
    "\n",
    "    print(pop)\n",
    "\n",
    "    #make sure lists are clean\n",
    "    chrom_s=[]\n",
    "    pos_s=[]\n",
    "    h_s=[]\n",
    "    smoothed_h_s=np.array([])\n",
    "\n",
    "    #read all the hscan output for the population into lists for chrom, h, and pos\n",
    "    for i in range(1,8):\n",
    "        tmp_chr_h_s=[]\n",
    "\n",
    "        chrom = \"SM_V7_{}\".format(i)\n",
    "        \n",
    "        with open(\"results/hscan/{}/{}_{}.hscan-out\".format(pop, chrom, pop), 'r') as hscan_file:\n",
    "            #skip the header line\n",
    "            next(hscan_file)\n",
    "            \n",
    "            for calc in hscan_file:\n",
    "                \n",
    "                pos, h = calc.rstrip().split(\"\\t\")\n",
    "                \n",
    "                chrom_s.append(chrom)\n",
    "                tmp_chr_h_s.append(h)\n",
    "                h_s.append(h)\n",
    "                pos_s.append(pos)\n",
    "\n",
    "        #smooth the h_s for this chromosome and add to an array\n",
    "        smoothed_h=scipy.signal.medfilt(np.array(tmp_chr_h_s).astype(float), window)\n",
    "        smoothed_h_s=np.append(smoothed_h_s, smoothed_h)\n",
    "\n",
    "    #convert the lists to numpy arrays\n",
    "    chrom_s=np.array(chrom_s)\n",
    "    pos_s=np.array(pos_s)\n",
    "    h_s=np.array(h_s).astype(np.float)\n",
    "    \n",
    "    #now add all info to a data table\n",
    "    columns = [\"chrom\", \"pos\", \"h\", \"smoothed_h\"]\n",
    "    df = pd.DataFrame(data = [chrom_s, pos_s, h_s, smoothed_h_s]).T\n",
    "    df.columns=columns\n",
    "\n",
    "    #get cumulative positions along the genome (additive positions; used to easily organize data in chr order)\n",
    "    fig_x_pos_s=[]\n",
    "    for index, row in df.iterrows(): \n",
    "        fig_x_pos_s.append(int(row[\"pos\"]) + int(cumul_start[row['chrom']]))\n",
    "\n",
    "    df['fig_x_pos']=fig_x_pos_s\n",
    "    df = df.sort_values([\"fig_x_pos\"], ascending = True)\n",
    "\n",
    "    #save data to csv file\n",
    "    csv_file =\"results/hscan/{}_hscan.csv\".format(pop)\n",
    "    df.to_csv(csv_file, index=False, header=True, mode='w')\n"
   ]
  },
  {
   "cell_type": "markdown",
   "metadata": {
    "heading_collapsed": true,
    "toc-hr-collapsed": true
   },
   "source": [
    "# Sweepfinder2\n",
    "\n",
    "\n",
    "Run Sweepfinder2 on actual data (preps files, calculates pop-specific SFS, then runs Sweepfinder2:\n",
    "\n",
    "```code/sweepfinder2-run_with_real_data.sh```\n",
    "\n",
    "Repeat the process on simulated data:\n",
    "\n",
    "```code/sweepfinder2-run_with_sim_data.sh```\n",
    "\n",
    "Once those analyses are finished come back here to process the results"
   ]
  },
  {
   "cell_type": "code",
   "execution_count": 39,
   "metadata": {
    "ExecuteTime": {
     "end_time": "2020-11-17T17:16:23.872067Z",
     "start_time": "2020-11-17T17:16:23.869234Z"
    },
    "hidden": true
   },
   "outputs": [],
   "source": [
    "#% bash\n",
    "\n",
    "#code/sweepfinder2-run_with_real_data.sh\n",
    "#code/sweepfinder2_sim_data.sh"
   ]
  },
  {
   "cell_type": "markdown",
   "metadata": {
    "heading_collapsed": true,
    "hidden": true
   },
   "source": [
    "## Combine runs and generate a .csv file\n"
   ]
  },
  {
   "cell_type": "code",
   "execution_count": 37,
   "metadata": {
    "ExecuteTime": {
     "end_time": "2020-11-17T17:04:20.504759Z",
     "start_time": "2020-11-17T17:00:04.269099Z"
    },
    "hidden": true
   },
   "outputs": [
    {
     "name": "stdout",
     "output_type": "stream",
     "text": [
      "niger\n",
      "senegal\n",
      "brazil\n",
      "tanzania\n"
     ]
    }
   ],
   "source": [
    "#cycle through each population to calculate generate csv file with H scores, pvalues etc. \n",
    "for pop in [\"niger\", \"senegal\", \"brazil\", \"tanzania\"]:\n",
    "    print(pop)\n",
    "    \n",
    "    #make sure lists are clean\n",
    "    chrom_s=[]\n",
    "    pos_s=[]\n",
    "    lr_s=[]\n",
    "\n",
    "    #read all the sweepfinder output for the population into lists for chrom, lr, and pos\n",
    "    for i in range(1,8):\n",
    "        chrom = \"SM_V7_{}\".format(i)\n",
    "        \n",
    "        with open(\"results/sweepfinder/{}/{}_{}.sf2out\".format(pop, chrom, pop), 'r') as sf2_file:\n",
    "            #skip header line\n",
    "            next(sf2_file)\n",
    "            for calc in sf2_file:\n",
    "                \n",
    "                pos, lr, alpha = calc.rstrip().split(\"\\t\")\n",
    "                \n",
    "                chrom_s.append(chrom)\n",
    "                lr_s.append(lr)\n",
    "                pos_s.append(pos)\n",
    "\n",
    "    #convert the lists to numpy arrays\n",
    "    chrom_s=np.array(chrom_s)\n",
    "    pos_s=np.array(pos_s)\n",
    "    lr_s=np.array(lr_s).astype(np.float)\n",
    "    \n",
    "    #now add all info to a data table\n",
    "    columns = [\"chrom\", \"pos\", \"lr\"]\n",
    "    df = pd.DataFrame(data = [chrom_s, pos_s, lr_s]).T\n",
    "    df.columns=columns\n",
    "\n",
    "    #get cumulative positions along the genome (additive positions; used to easily organize data in chr order)\n",
    "    fig_x_pos_s=[]\n",
    "    for index, row in df.iterrows(): \n",
    "        fig_x_pos_s.append(int(float(row[\"pos\"])) + int(cumul_start[row['chrom']]))\n",
    "\n",
    "    df['fig_x_pos']=fig_x_pos_s\n",
    "    df = df.sort_values([\"fig_x_pos\"], ascending = True)\n",
    "\n",
    "    #save data to csv file\n",
    "    csv_file =\"results/sweepfinder/{}_sf2.csv\".format(pop)\n",
    "    df.to_csv(csv_file, index=False, header=True, mode='w')"
   ]
  },
  {
   "cell_type": "markdown",
   "metadata": {
    "toc-hr-collapsed": true
   },
   "source": [
    "# Reconcile SF2, HSCAN, PI, Fst, & Tajima's Dstats per window/site"
   ]
  },
  {
   "cell_type": "code",
   "execution_count": 4,
   "metadata": {},
   "outputs": [],
   "source": [
    "if not os.path.exists(\"results/selection_peaks\"):\n",
    "    os.mkdir(\"results/selection_peaks\")"
   ]
  },
  {
   "cell_type": "code",
   "execution_count": 5,
   "metadata": {},
   "outputs": [
    {
     "name": "stderr",
     "output_type": "stream",
     "text": [
      "Reconciling tanzania stats: 100%|███████████████████████████████████████████████████████████████████████████████████████████████████████████████████| 475081/475081 [02:52<00:00, 2760.39it/s]\n",
      "Reconciling senegal stats: 100%|████████████████████████████████████████████████████████████████████████████████████████████████████████████████████| 475081/475081 [02:55<00:00, 2712.93it/s]\n",
      "Reconciling brazil stats: 100%|█████████████████████████████████████████████████████████████████████████████████████████████████████████████████████| 475081/475081 [02:54<00:00, 2716.07it/s]\n",
      "Reconciling niger stats: 100%|██████████████████████████████████████████████████████████████████████████████████████████████████████████████████████| 475081/475081 [02:35<00:00, 3054.28it/s]\n"
     ]
    }
   ],
   "source": [
    "dfs={}\n",
    "\n",
    "for pop in [\"tanzania\", \"senegal\", \"brazil\", \"niger\"]:\n",
    "    #print(pop)\n",
    "    \n",
    "    #designate files and read into dfs\n",
    "    hscan_file = \"results/hscan/{}_hscan.csv\".format(pop)\n",
    "    sweep_file = \"results/sweepfinder/{}/{}_sf2.csv\".format(pop, pop)\n",
    "    pi_file    = \"results/pi/pi_boxplot_100kb_windows_{}.csv\".format(pop)\n",
    "    td_file    = \"results/tajimas_d/tajimas_d_boxplot_100kb_windows_{}.csv\".format(pop)\n",
    "    \n",
    "    #read in to dfs    \n",
    "    hscan_df = pd.read_csv(hscan_file, sep=\",\")\n",
    "    sweep_df = pd.read_csv(sweep_file, sep=\",\")\n",
    "    pi_df    = pd.read_csv(pi_file, sep=\",\").dropna()\n",
    "    td_df    = pd.read_csv(td_file, sep=\",\").dropna()\n",
    "    \n",
    "    #create empty interval trees to store the data\n",
    "    h_trees=defaultdict(lambda: IntervalTree())\n",
    "    sweep_trees=defaultdict(lambda: IntervalTree())\n",
    "    pi_trees=defaultdict(lambda: IntervalTree())\n",
    "    fst_trees=defaultdict(lambda: IntervalTree())\n",
    "    td_trees=defaultdict(lambda: IntervalTree())\n",
    "\n",
    "    #for each stat, add the values to the interval tree\n",
    "    for index, row in hscan_df.iterrows():\n",
    "        h_trees[row[\"chrom\"]][row[\"pos\"] : row[\"pos\"]+1] = row[\"h\"]\n",
    "\n",
    "    for index, row in sweep_df.iterrows():\n",
    "        sweep_trees[row[\"chrom\"]][row[\"pos\"]: row[\"pos\"]+1001]=row[\"lr\"]\n",
    "\n",
    "    for index, row in pi_df[pi_df[\"n_snps\"]>25].iterrows():\n",
    "         pi_trees[row[\"chrom\"]][row[\"start\"]: row[\"stop\"]] = row[\"pi\"]\n",
    "\n",
    "    for index, row in td_df[td_df[\"n_snps\"]>25].iterrows():\n",
    "         td_trees[row[\"chrom\"]][row[\"start\"]: row[\"stop\"]] = row[\"tajimas_d\"]\n",
    "            \n",
    "            \n",
    "    #now go through each snp in the vcf file and add the stats for that locus or the stat from the region/window\"\n",
    "    hs=[]\n",
    "    lrs=[]\n",
    "    pis=[]\n",
    "    tds=[]\n",
    "\n",
    "    for chrom, pos in tqdm(zip(filtered_callset['variants/CHROM'], filtered_callset['variants/POS']), total=len(filtered_callset['variants/CHROM']), desc=\"Reconciling {} stats\".format(pop)):\n",
    "    \n",
    "        try:\n",
    "            hs.append(list(h_trees[chrom][pos])[0].data)\n",
    "        except:\n",
    "            hs.append(float(\"nan\"))\n",
    "\n",
    "        try:\n",
    "            lrs.append(list(sweep_trees[chrom][pos])[0].data)\n",
    "        except:\n",
    "            lrs.append(float(\"nan\"))\n",
    "\n",
    "        try:\n",
    "            pis.append(list(pi_trees[chrom][pos])[0].data)\n",
    "        except:\n",
    "            pis.append(float(\"nan\"))\n",
    "\n",
    "        try:\n",
    "            tds.append(list(td_trees[chrom][pos])[0].data)\n",
    "        except:\n",
    "            tds.append(float(\"nan\"))\n",
    "\n",
    "    #create a dataframe and save to a file\n",
    "    df=pd.DataFrame(data = [filtered_callset['variants/CHROM'], filtered_callset['variants/POS'], hs, lrs, pis, tds]).T\n",
    "    df.columns=[\"chrom\", \"pos\", \"h\", \"lr\", \"pi\", \"tajimas_d\"]\n",
    "    df.to_csv(\"results/selection_peaks/raw_scores_{}.csv\".format(pop), sep=\",\", index=False, na_rep='NULL')\n",
    "    \n",
    "    #save to dict for easier recal\n",
    "    dfs[pop]=df"
   ]
  },
  {
   "cell_type": "code",
   "execution_count": 499,
   "metadata": {},
   "outputs": [],
   "source": [
    "dfs={}\n",
    "for pop in [\"senegal\", \"niger\", \"tanzania\", \"brazil\"]:\n",
    "    dfs[pop]=pd.read_csv(\"results/selection_peaks/raw_scores_{}.csv\".format(pop), sep=\",\")"
   ]
  },
  {
   "cell_type": "markdown",
   "metadata": {
    "ExecuteTime": {
     "end_time": "2020-11-25T17:22:03.806906Z",
     "start_time": "2020-11-25T17:22:03.803564Z"
    },
    "toc-hr-collapsed": true
   },
   "source": [
    "# Find significant SNPs"
   ]
  },
  {
   "cell_type": "markdown",
   "metadata": {},
   "source": [
    "## Get the population specific max(h) and max(lr) from the msprime runs."
   ]
  },
  {
   "cell_type": "markdown",
   "metadata": {},
   "source": [
    "Search through all of the MSPRIME iterations for each population to find the maximum values of H and LR (used to identify the reasonable expectations of these values from neutral evolution)"
   ]
  },
  {
   "cell_type": "code",
   "execution_count": 500,
   "metadata": {
    "ExecuteTime": {
     "end_time": "2020-11-30T16:42:21.629245Z",
     "start_time": "2020-11-30T16:39:46.805703Z"
    }
   },
   "outputs": [
    {
     "name": "stderr",
     "output_type": "stream",
     "text": [
      "100%|██████████████████████████████████████████████████████████████████████████████████████████████████████████████████████████████████████| 342/342 [00:03<00:00, 95.00it/s]\n",
      "100%|██████████████████████████████████████████████████████████████████████████████████████████████████████████████████████████████████████| 342/342 [00:29<00:00, 11.71it/s]\n"
     ]
    },
    {
     "name": "stdout",
     "output_type": "stream",
     "text": [
      "senegal h_max=38426.4 lr_max=17.397502\n"
     ]
    },
    {
     "name": "stderr",
     "output_type": "stream",
     "text": [
      "100%|██████████████████████████████████████████████████████████████████████████████████████████████████████████████████████████████████████| 342/342 [00:03<00:00, 93.94it/s]\n",
      "100%|██████████████████████████████████████████████████████████████████████████████████████████████████████████████████████████████████████| 342/342 [00:42<00:00,  8.10it/s]\n"
     ]
    },
    {
     "name": "stdout",
     "output_type": "stream",
     "text": [
      "niger h_max=27040.7 lr_max=15.94272\n"
     ]
    },
    {
     "name": "stderr",
     "output_type": "stream",
     "text": [
      "100%|██████████████████████████████████████████████████████████████████████████████████████████████████████████████████████████████████████| 342/342 [00:12<00:00, 27.48it/s]\n",
      "100%|██████████████████████████████████████████████████████████████████████████████████████████████████████████████████████████████████████| 342/342 [00:38<00:00,  8.92it/s]\n"
     ]
    },
    {
     "name": "stdout",
     "output_type": "stream",
     "text": [
      "tanzania h_max=45532.9 lr_max=16.871399\n"
     ]
    },
    {
     "name": "stderr",
     "output_type": "stream",
     "text": [
      "100%|██████████████████████████████████████████████████████████████████████████████████████████████████████████████████████████████████████| 342/342 [00:04<00:00, 72.85it/s]\n",
      "100%|██████████████████████████████████████████████████████████████████████████████████████████████████████████████████████████████████████| 342/342 [00:40<00:00,  8.51it/s]"
     ]
    },
    {
     "name": "stdout",
     "output_type": "stream",
     "text": [
      "brazil h_max=43924.1 lr_max=15.387932\n"
     ]
    },
    {
     "name": "stderr",
     "output_type": "stream",
     "text": [
      "\n"
     ]
    }
   ],
   "source": [
    "#get highest simluated score for each pop/test\n",
    "\n",
    "max_h = defaultdict(lambda: float(0))\n",
    "max_lr = defaultdict(lambda: float(0))\n",
    "    \n",
    "for pop in [\"senegal\", \"niger\", \"tanzania\", \"brazil\"]:\n",
    "    \n",
    "    sim_hscan_files = glob.glob(\"results/hscan/{}-sim/chr1_{}_rep_*_seed_*_probed.vcf.hscan-out\".format(pop, pop))\n",
    "    sim_sf2_files = glob.glob(\"results/sweepfinder/{}-sim/chr1_{}_rep_*_seed_*_probed.sf2out\".format(pop, pop))\n",
    "\n",
    "    for hscan_file in tqdm(sim_hscan_files):\n",
    "        with open(hscan_file, 'r') as infile:\n",
    "            next(infile)\n",
    "            for entry in infile:\n",
    "                x, h = entry.rstrip().split(\"\\t\")\n",
    "                if float(h) > max_h[pop]:\n",
    "                    max_h[pop]=float(h)\n",
    "\n",
    "    for sf2_file in tqdm(sim_sf2_files):\n",
    "        with open(sf2_file, 'r') as infile:\n",
    "            next(infile)\n",
    "            for entry in infile:\n",
    "                location, lr, alpha = entry.rstrip().split(\"\\t\")\n",
    "                if float(lr) > max_lr[pop]:\n",
    "                    max_lr[pop]=float(lr)\n",
    "    \n",
    "    outline=\"{} h_max={} lr_max={}\".format(pop, max_h[pop], max_lr[pop])\n",
    "    print(outline)"
   ]
  },
  {
   "cell_type": "code",
   "execution_count": null,
   "metadata": {},
   "outputs": [],
   "source": [
    "sim_hscan_files"
   ]
  },
  {
   "cell_type": "code",
   "execution_count": 501,
   "metadata": {
    "tags": []
   },
   "outputs": [],
   "source": [
    "colors={ \"SM_V7_1\": \"darkgrey\",\n",
    "         \"SM_V7_2\": \"dimgrey\",\n",
    "         \"SM_V7_3\": \"darkgrey\",\n",
    "         \"SM_V7_4\": \"dimgrey\",\n",
    "         \"SM_V7_5\": \"darkgrey\",\n",
    "         \"SM_V7_6\": \"dimgrey\",\n",
    "         \"SM_V7_7\": \"darkgrey\",\n",
    "         \"sig\":     \"dodgerblue\"\n",
    "       }"
   ]
  },
  {
   "cell_type": "markdown",
   "metadata": {},
   "source": [
    "## identify sig snps"
   ]
  },
  {
   "cell_type": "code",
   "execution_count": 502,
   "metadata": {},
   "outputs": [
    {
     "name": "stdout",
     "output_type": "stream",
     "text": [
      "senegal: 34254 non-neutral snps, 168 non-neutral regions, 176 target snps, 4 target regions\n",
      "tanzania: 4292 non-neutral snps, 46 non-neutral regions, 0 target snps, 0 target regions\n",
      "niger: 67772 non-neutral snps, 250 non-neutral regions, 239 target snps, 3 target regions\n",
      "brazil: 16277 non-neutral snps, 113 non-neutral regions, 703 target snps, 5 target regions\n"
     ]
    }
   ],
   "source": [
    "#get 1/3mb surrounding non-neutral\n",
    "sig_trees=defaultdict(lambda: defaultdict(lambda: IntervalTree()))\n",
    "nn_trees=defaultdict(lambda: defaultdict(lambda: IntervalTree()))\n",
    "\n",
    "#for pop in [\"brazil\"]:\n",
    "for pop in [\"senegal\", \"tanzania\", \"niger\", \"brazil\"]:\n",
    "    #get sites that have selection scores greater than max fron simulations\n",
    "    non_neutral_df = dfs[pop].loc[ ((dfs[pop][\"h\"]  > max_h[pop]) | (dfs[pop][\"lr\"] > max_lr[pop]) )]\n",
    "\n",
    "    #convert non_neutral snps to bed intervals\n",
    "    with open(\"results/selection_peaks/{}_non-neutral.bed\".format(pop), 'w') as out_f:\n",
    "        for index, row in non_neutral_df[[\"chrom\", \"pos\"]].iterrows():\n",
    "            out_f.write(\"{}\\t{}\\t{}\\n\".format(row[\"chrom\"], row[\"pos\"], row[\"pos\"]+1))\n",
    "\n",
    "    #and merge regions within 1/3 Mb\n",
    "    buffer=333_333\n",
    "    nn_snps_bed = pybedtools.BedTool(\"results/selection_peaks/{}_non-neutral.bed\".format(pop))\n",
    "    nn_int_bed = nn_snps_bed.merge(d=buffer)\n",
    "    nn_int_bed.saveas(\"results/selection_peaks/{}_non_neutral_ints.bed\".format(pop))\n",
    "#     nn_snps_bed = \"results/selection_peaks/{}_non-neutral.bed\".format(pop)\n",
    "#     nn_int_bed = \"results/selection_peaks/{}_non_neutral_ints.bed\".format(pop)\n",
    "#     ! bedtools merge -d {buffer} -i {nn_snps_bed} >{nn_int_bed}\n",
    "\n",
    "    #now get snps that are greater than neutral h and lr, plus in the top 99th percintile\n",
    "    sig_snps_df = dfs[pop].loc[ ( (dfs[pop][\"h\"]  > max_h[pop]) & \n",
    "                                  (dfs[pop][\"h\"].rank(pct=True) >0.99) & \n",
    "                                  ( dfs[pop][\"lr\"] > max_lr[pop]) & \n",
    "                                  (dfs[pop][\"lr\"].rank(pct=True) >0.99 ) \n",
    "                                ) ]\n",
    "\n",
    "    #convert sig snps to bed intervals\n",
    "    with open(\"results/selection_peaks/{}_top_snps.bed\".format(pop), 'w') as out_f:\n",
    "        for index, row in sig_snps_df[[\"chrom\", \"pos\"]].iterrows():\n",
    "            out_f.write(\"{}\\t{}\\t{}\\n\".format(row[\"chrom\"], row[\"pos\"], row[\"pos\"]+1))\n",
    "    \n",
    "    #and merge regions within 1/3 Mb\n",
    "    buffer=333_333\n",
    "    top_snps_bed = pybedtools.BedTool(\"results/selection_peaks/{}_top_snps.bed\".format(pop))\n",
    "    top_int_bed = top_snps_bed.merge(d=buffer)\n",
    "    top_int_bed.saveas(\"results/selection_peaks/{}_top_ints.bed\".format(pop))\n",
    "#     top_snps_bed = \"results/selection_peaks/{}_top_snps.bed\".format(pop)\n",
    "#     top_int_bed = \"results/selection_peaks/{}_top_ints.bed\".format(pop)\n",
    "#     ! bedtools merge -d {buffer} -i {top_snps_bed} >{top_int_bed}\n",
    "\n",
    "    #now intersect the top hits with non_neutral regions\n",
    "    target_regions_bed=nn_int_bed.intersect(top_int_bed, u=True)\n",
    "    target_regions_bed.saveas(\"results/selection_peaks/{}_target_regions.bed\".format(pop))\n",
    "#     target_regions_bed = \"results/selection_peaks/{}_target_regions.bed\".format(pop)\n",
    "#     ! bedtools intersect -u -a {nn_int_bed} -b {top_int_bed} >{target_regions_bed}\n",
    "    \n",
    "    outline=\"{}: {} non-neutral snps, {} non-neutral regions, {} target snps, {} target regions\".format(pop, len(nn_snps_bed), len(nn_int_bed), len(top_snps_bed), len(top_int_bed))\n",
    "    print(outline)\n",
    "    \n",
    "    #make target region int tree\n",
    "    for region in target_regions_bed:\n",
    "        sig_trees[pop][region[\"chrom\"]][region[\"start\"]: region[\"stop\"]]=\"target\"\n",
    "        \n",
    "    for region in nn_int_bed:\n",
    "        nn_trees[pop][region[\"chrom\"]][region[\"start\"]: region[\"stop\"]]=\"target\"\n",
    "#     with open(target_regions_bed.format(pop), 'r') as i_bed_f:\n",
    "#         for entry in i_bed_f:\n",
    "            \n"
   ]
  },
  {
   "cell_type": "markdown",
   "metadata": {},
   "source": [
    "## Do target regions overlap with pcadapt?"
   ]
  },
  {
   "cell_type": "code",
   "execution_count": 15,
   "metadata": {},
   "outputs": [
    {
     "name": "stderr",
     "output_type": "stream",
     "text": [
      "21913it [00:02, 10567.64it/s]\n"
     ]
    }
   ],
   "source": [
    "pcadapt_df=pd.read_csv(\"results/outflank/pcadapt.csv\", sep=',')\n",
    "\n",
    "for index, row in tqdm(pcadapt_df.iterrows()):\n",
    "    color = colors[row[\"chrom\"]]\n",
    "    x=cumul_start[row[\"chrom\"]] + row[\"pos\"]\n",
    "\n",
    "    if row[\"sigs\"] == True:\n",
    "        color=colors[\"sig\"]\n",
    "\n",
    "    pcadapt_df.at[index,'colors']= color\n",
    "    pcadapt_df.at[index,'x'] = x\n",
    "    \n",
    "pcadapt_df.to_csv(\"results/selection_peaks/pcadapt_scores{}.csv\", sep=\",\", index=False, na_rep='NULL')"
   ]
  },
  {
   "cell_type": "code",
   "execution_count": 16,
   "metadata": {},
   "outputs": [],
   "source": [
    "#load pcadapt into an interval tree\n",
    "pcadapt_trees=defaultdict(lambda: IntervalTree())\n",
    "\n",
    "#for each stat, add the values to the interval tree\n",
    "for index, row in pcadapt_df.loc[pcadapt_df[\"sigs\"]==True].iterrows():\n",
    "    pcadapt_trees[row[\"chrom\"]][row[\"pos\"] : row[\"pos\"]+1] = \"True\""
   ]
  },
  {
   "cell_type": "code",
   "execution_count": 17,
   "metadata": {},
   "outputs": [],
   "source": [
    "df=pcadapt_df.loc[pcadapt_df[\"sigs\"] ==  True]"
   ]
  },
  {
   "cell_type": "code",
   "execution_count": 18,
   "metadata": {},
   "outputs": [
    {
     "data": {
      "text/plain": [
       "442"
      ]
     },
     "execution_count": 18,
     "metadata": {},
     "output_type": "execute_result"
    }
   ],
   "source": [
    "len(df)"
   ]
  },
  {
   "cell_type": "code",
   "execution_count": 19,
   "metadata": {},
   "outputs": [
    {
     "name": "stdout",
     "output_type": "stream",
     "text": [
      "12 of 442 PCAdapt outliers are in target regions 2.71%\n"
     ]
    }
   ],
   "source": [
    "#how many pcadapt outliers are in target regions\n",
    "x=0\n",
    "\n",
    "for index, row in df.iterrows():\n",
    "    chrom=row[\"chrom\"]\n",
    "    pos=row[\"pos\"]\n",
    "    \n",
    "    pops=[]\n",
    "    for pop in sig_trees.keys():\n",
    "        if sig_trees[pop][chrom].at(pos) != set():\n",
    "            pops.append(pop)\n",
    "    if pops != []:\n",
    "        pops=\",\".join(pops)\n",
    "        x=x+1\n",
    "    else:\n",
    "        pops=\"Na\"\n",
    "    #print (pops)\n",
    "print(\"{} of {} PCAdapt outliers are in target regions {:.2f}%\".format(x, len(df), (x/len(df)*100)))"
   ]
  },
  {
   "cell_type": "code",
   "execution_count": 20,
   "metadata": {},
   "outputs": [
    {
     "name": "stdout",
     "output_type": "stream",
     "text": [
      "95 of 442 PCAdapt outliers are in non-neutral regions 21.49%\n"
     ]
    }
   ],
   "source": [
    "#how many pcadapt outliers are in non neutral regions\n",
    "x=0\n",
    "for index, row in df.iterrows():\n",
    "    chrom=row[\"chrom\"]\n",
    "    pos=row[\"pos\"]\n",
    "    \n",
    "    pops=[]\n",
    "    for pop in sig_trees.keys():\n",
    "        if nn_trees[pop][chrom].at(pos) != set():\n",
    "            pops.append(pop)\n",
    "    if pops != []:\n",
    "        pops=\",\".join(pops)\n",
    "        x=x+1\n",
    "    else:\n",
    "        pops=\"Na\"\n",
    "    #print (pops)\n",
    "    \n",
    "print(\"{} of {} PCAdapt outliers are in non-neutral regions {:.2f}%\".format(x, len(df), (x/len(df)*100)))"
   ]
  },
  {
   "cell_type": "markdown",
   "metadata": {},
   "source": [
    "## Plotting"
   ]
  },
  {
   "cell_type": "markdown",
   "metadata": {},
   "source": [
    "### Prep"
   ]
  },
  {
   "cell_type": "code",
   "execution_count": null,
   "metadata": {},
   "outputs": [
    {
     "name": "stderr",
     "output_type": "stream",
     "text": [
      "475081it [01:18, 6087.66it/s]\n",
      "288482it [00:51, 6092.42it/s]"
     ]
    }
   ],
   "source": [
    "#add info for figure including x position and the point color\n",
    "#for pop in [\"brazil\"]:\n",
    "for pop in [\"niger\", \"senegal\", \"brazil\", \"tanzania\"]:\n",
    "    for index, row in tqdm(dfs[pop].iterrows()):\n",
    "        color = colors[row[\"chrom\"]]\n",
    "        x=cumul_start[row[\"chrom\"]] + row[\"pos\"]\n",
    "\n",
    "        if sig_trees[pop][row[\"chrom\"]][row[\"pos\"]] != set():\n",
    "            color=colors[\"sig\"]\n",
    "            \n",
    "        dfs[pop].at[index,'colors']= color\n",
    "        dfs[pop].at[index,'x'] = x\n",
    "    dfs[pop].to_csv(\"results/selection_peaks/to_plot_{}.csv\".format(pop), sep=\",\", index=False, na_rep='NULL')\n"
   ]
  },
  {
   "cell_type": "code",
   "execution_count": null,
   "metadata": {},
   "outputs": [],
   "source": [
    "!results/selection_peaks/to_plot_brazil.csv"
   ]
  },
  {
   "cell_type": "code",
   "execution_count": 27,
   "metadata": {},
   "outputs": [],
   "source": [
    "#get the max stat for each\n",
    "df=pd.concat([dfs[\"brazil\"], dfs[\"niger\"], dfs[\"senegal\"], dfs[\"tanzania\"]])\n",
    "\n",
    "h_ylim=df[\"h\"].max()\n",
    "lr_ylim=df[\"lr\"].max()\n",
    "pi_ylim=df[\"pi\"].max()\n",
    "#fst_ylim=df[\"fst\"].max()\n",
    "tajimas_d_ymax=df[\"tajimas_d\"].max()\n",
    "tajimas_d_ymin=df[\"tajimas_d\"].min()\n",
    "\n",
    "del df"
   ]
  },
  {
   "cell_type": "code",
   "execution_count": 363,
   "metadata": {},
   "outputs": [],
   "source": [
    "ticks=[cumul_start['SM_V7_1'] + (chr_length['SM_V7_1']/2),\n",
    "       cumul_start['SM_V7_2'] + (chr_length['SM_V7_2']/2),\n",
    "       cumul_start['SM_V7_3'] + (chr_length['SM_V7_3']/2),\n",
    "       cumul_start['SM_V7_4'] + (chr_length['SM_V7_4']/2),\n",
    "       cumul_start['SM_V7_5'] + (chr_length['SM_V7_5']/2),\n",
    "       cumul_start['SM_V7_6'] + (chr_length['SM_V7_6']/2),\n",
    "       cumul_start['SM_V7_7'] + (chr_length['SM_V7_7']/2)\n",
    "      ]\n"
   ]
  },
  {
   "cell_type": "markdown",
   "metadata": {},
   "source": [
    "### Plot"
   ]
  },
  {
   "cell_type": "code",
   "execution_count": 29,
   "metadata": {},
   "outputs": [
    {
     "data": {
      "image/png": "[encoded data removed]",
      "text/plain": [
       "<Figure size 864x216 with 2 Axes>"
      ]
     },
     "metadata": {
      "needs_background": "light"
     },
     "output_type": "display_data"
    },
    {
     "data": {
      "image/png": "[encoded data removed]",
      "text/plain": [
       "<Figure size 864x216 with 2 Axes>"
      ]
     },
     "metadata": {
      "needs_background": "light"
     },
     "output_type": "display_data"
    },
    {
     "data": {
      "image/png": "[encoded data removed]",
      "text/plain": [
       "<Figure size 864x216 with 2 Axes>"
      ]
     },
     "metadata": {
      "needs_background": "light"
     },
     "output_type": "display_data"
    },
    {
     "data": {
      "image/png": "[encoded data removed]",
      "text/plain": [
       "<Figure size 864x216 with 2 Axes>"
      ]
     },
     "metadata": {
      "needs_background": "light"
     },
     "output_type": "display_data"
    }
   ],
   "source": [
    "#for pop in [\"brazil\"]:\n",
    "for pop in [\"niger\", \"senegal\", \"brazil\", \"tanzania\"]:\n",
    "\n",
    "    fig, axs = plt.subplots(2, sharex=True, gridspec_kw={'hspace': 0}, figsize=(12, 3)) #gridspec_kw={'hspace': 0.1}\n",
    "\n",
    "    sdf=dfs[pop].loc[dfs[pop][\"colors\"] == colors[\"sig\"]]\n",
    "    ndf=dfs[pop].loc[dfs[pop][\"colors\"] != colors[\"sig\"]]\n",
    "    \n",
    "    #plot each seperatley (so the sig points are on top)\n",
    "    axs[0].scatter(ndf[\"x\"], ndf[\"h\"],         marker =\".\", s = 1, c = ndf['colors'])\n",
    "    axs[1].scatter(ndf[\"x\"], ndf[\"lr\"],        marker =\".\", s = 1, c = ndf['colors'])\n",
    "    #axs[2].scatter(ndf[\"x\"], ndf[\"fst\"],       marker =\".\", s = 1, c = ndf['colors'])\n",
    "    #axs[3].scatter(ndf[\"x\"], ndf[\"pi\"],        marker =\".\", s = 1, c = ndf['colors'])\n",
    "    #axs[4].scatter(ndf[\"x\"], ndf[\"tajimas_d\"], marker =\".\", s = 1, c = ndf['colors'])\n",
    "\n",
    "    axs[0].scatter(sdf[\"x\"], sdf[\"h\"],         marker =\".\", s = 1, c = sdf['colors'])\n",
    "    axs[1].scatter(sdf[\"x\"], sdf[\"lr\"],        marker =\".\", s = 1, c = sdf['colors'])\n",
    "    #axs[2].scatter(sdf[\"x\"], sdf[\"fst\"],       marker =\".\", s = 1, c = sdf['colors'])\n",
    "    #axs[2].scatter(sdf[\"x\"], sdf[\"pi\"],        marker =\".\", s = 1, c = sdf['colors'])\n",
    "    #axs[4].scatter(sdf[\"x\"], sdf[\"tajimas_d\"], marker =\".\", s = 1, c = sdf['colors'])\n",
    "    \n",
    "    #set axes\n",
    "    plt.xlim(0, scanned_size)\n",
    "    axs[0].set_ylim( (0, h_ylim*1.05) )\n",
    "    axs[1].set_ylim( (0, lr_ylim*1.05) )\n",
    "    #axs[2].set_ylim( (0, fst_ylim*1.05) )\n",
    "    #axs[3].set_ylim( (0, pi_ylim*1.05) )\n",
    "    #axs[4].set_ylim( (tajimas_d_ymin*1.05, tajimas_d_ymax*1.05) )\n",
    "        \n",
    "    \n",
    "    tick_lbls = [ \"1\", \"2\", \"3\", \"4\", \"5\", \"6\" ,\"7\"]\n",
    "    plt.setp(axs, xticks=ticks, xticklabels=tick_lbls)\n",
    "\n",
    "    axs[0].set_yticks(np.arange(25_000, 100_001, 25_000))\n",
    "    axs[0].set_yticklabels(labels=[\"2.5e4\", \"5e4\", \"7.5e4\", \"10e5\"])\n",
    "    #axs[0].ticklabel_format(axis='y', style='sci')\n",
    "    axs[0].set_ylabel(\"H\", fontsize=13)\n",
    "\n",
    "    \n",
    "    axs[1].set_yticks(np.arange(25, 101, 25))\n",
    "    axs[1].set_ylabel(\"LR\", fontsize=13)\n",
    "\n",
    "    #axs[2].set(ylabel=\"Fst\")\n",
    "    #axs[2].set(ylabel=\"Pi\")\n",
    "    #axs[4].set(ylabel=\"Tajima's D\")\n",
    "    #axs[0].ticklabel_format(axis='y', style='sci')\n",
    "\n",
    "\n",
    "    #draw lines at...\n",
    "    #...the max simulated value\n",
    "    axs[0].axhline(y=max_h[pop],  color=\"black\", linewidth=1)\n",
    "    axs[1].axhline(y=max_lr[pop], color=\"black\", linewidth=1)\n",
    "\n",
    "    #...the 99th percentile\n",
    "    target_percentile=0.99\n",
    "    axs[0].axhline(y=np.percentile(dfs[pop]['h'],  target_percentile*100), linestyle=\":\", color=\"black\", linewidth=1)\n",
    "    axs[1].axhline(y=np.percentile(dfs[pop]['lr'], target_percentile*100), linestyle=\":\", color=\"black\", linewidth=1)\n",
    "    \n",
    "    #set the title\n",
    "    #title=\"{}\".format(pop.title())\n",
    "    #fig.suptitle(title)\n",
    "\n",
    "    plt.tight_layout()\n",
    "    #fig.savefig(\"results/selection_peaks/{}_selection.png\".format(pop), dpi=300)\n",
    "    #fig.savefig(\"results/selection_peaks/{}_selection.svg\".format(pop)) \n",
    "    plt.show()\n",
    "    plt.close()"
   ]
  },
  {
   "cell_type": "markdown",
   "metadata": {},
   "source": [
    "# plot pcadapt"
   ]
  },
  {
   "cell_type": "code",
   "execution_count": null,
   "metadata": {},
   "outputs": [],
   "source": [
    "df=pd.read_csv(\"results/outflank/pcadapt.csv\", sep=',')\n",
    "\n",
    "for index, row in tqdm(df.iterrows()):\n",
    "    color = colors[row[\"chrom\"]]\n",
    "    x=cumul_start[row[\"chrom\"]] + row[\"pos\"]\n",
    "\n",
    "    if row[\"sigs\"] == True:\n",
    "        color=colors[\"sig\"]\n",
    "\n",
    "#     if row[\"comps\"] == 1.:\n",
    "#         color=\"red\"\n",
    "#     if row[\"comps\"] == 2.:\n",
    "#         color=\"blue\"\n",
    "\n",
    "    df.at[index,'colors']= color\n",
    "    df.at[index,'x'] = x\n",
    "    \n",
    "df"
   ]
  },
  {
   "cell_type": "code",
   "execution_count": null,
   "metadata": {},
   "outputs": [],
   "source": [
    "plt.figure(figsize=(12, 3), dpi=300)\n",
    "\n",
    "csig=df.loc[np.isfinite(df[\"comps\"])]\n",
    "cNaN=df.loc[np.isnan(df[\"comps\"])]\n",
    "\n",
    "\n",
    "\n",
    "plt.scatter(cNaN[\"x\"], cNaN[\"logp\"], alpha=1, s=6, color=cNaN[\"colors\"], label=\"Non-outlier\")\n",
    "plt.scatter(csig[\"x\"], csig[\"logp\"], alpha=1, s=6, color=csig[\"colors\"], label=\"Outlier\")\n",
    "\n",
    "\n",
    "#set axes\n",
    "plt.xlim(0, scanned_size)\n",
    "#plt.ylim( (0, df[\"logp\"].max()*1.05) )\n",
    "\n",
    "plt.legend(title=\"PCAdapt status\", markerscale=4)\n",
    "\n",
    "tick_lbls = [ \"1\", \"2\", \"3\", \"4\", \"5\", \"6\" ,\"7\"]\n",
    "plt.xticks(ticks, labels=list(range(1,8)))\n",
    "plt.ylabel(\"-log10($\\it{q}$)\", fontsize=13)\n",
    "plt.xlabel(\"Chromosome\", fontsize=13)\n",
    "#plt.yscale(\"log\")\n",
    "\n",
    "plt.tight_layout()\n",
    "#plt.savefig(\"results/selection_peaks/pcadapt.png\", dpi=300)\n",
    "#plt.savefig(\"results/selection_peaks/pcadapt.svg\") \n",
    "plt.show()\n",
    "plt.close()\n",
    "    "
   ]
  },
  {
   "cell_type": "code",
   "execution_count": null,
   "metadata": {},
   "outputs": [],
   "source": [
    "#fst of pcadapt sigs\n",
    "sig=df.loc[df[\"sigs\"]==True][\"fst\"]\n",
    "\n",
    "#fst of pcadat insigs\n",
    "insig=df.loc[df[\"sigs\"]!=True][\"fst\"]\n",
    "\n",
    "#plt.figure(figsize=(2, 2), dpi=300)\n",
    "plt.boxplot([sig, insig],\n",
    "            showfliers=True, \n",
    "            notch=False,\n",
    "            labels=[\"True\", \"False\"],\n",
    "            medianprops=dict(color=\"black\", lw=1))\n",
    "plt.ylim(-0.1,1.1)\n",
    "plt.xlabel(\"PCadapt outliers\", fontsize=12)\n",
    "plt.ylabel(\"Fst\", fontsize=12)\n",
    "#plt.savefig(\"results/pi/pi_boxplot_100kb_windows.svg\")\n",
    "#plt.savefig(\"results/pi/pi_boxplot_100kb_windows.png\", dpi=300)\n",
    "plt.show()\n",
    "\n",
    "print(\"mean fst: Outliers = {:1f}, Remaining = {:1f}\".format(sig.mean(), insig.mean()))"
   ]
  },
  {
   "cell_type": "markdown",
   "metadata": {},
   "source": [
    "# Explore regions under selection"
   ]
  },
  {
   "cell_type": "code",
   "execution_count": 30,
   "metadata": {
    "ExecuteTime": {
     "end_time": "2020-11-30T17:29:34.911247Z",
     "start_time": "2020-11-30T17:29:34.897623Z"
    },
    "scrolled": true
   },
   "outputs": [
    {
     "name": "stdout",
     "output_type": "stream",
     "text": [
      "SM_V7_1\t56295674\t58355356\tniger\n",
      "SM_V7_1\t60733736\t62145588\tniger\n",
      "SM_V7_4\t31216154\t32138352\tniger\n",
      "SM_V7_3\t22786583\t24999268\tsenegal\n",
      "SM_V7_3\t30092830\t32970510\tsenegal\n",
      "SM_V7_4\t31216154\t32881663\tsenegal\n",
      "SM_V7_1\t14832351\t15772979\tbrazil\n",
      "SM_V7_1\t34234733\t35105276\tbrazil\n",
      "SM_V7_3\t30092830\t31936551\tbrazil\n",
      "SM_V7_2\t29220788\t29604570\tbrazil\n",
      "SM_V7_6\t11468141\t11631927\tbrazil\n",
      "\n"
     ]
    }
   ],
   "source": [
    "with open('results/selection_peaks/peaks.bed', 'w') as outfile:\n",
    "    for pop in [\"niger\", \"senegal\", \"brazil\", \"tanzania\"]:\n",
    "        with open( \"results/selection_peaks/{}_target_regions.bed\".format(pop), 'r') as infile:\n",
    "            for entry in infile:\n",
    "                entry=entry.rstrip()\n",
    "                outfile.write(\"{}\\t{}\\n\".format(entry, pop))\n",
    "\n",
    "sig_regions_bed = pybedtools.BedTool('results/selection_peaks/peaks.bed')\n",
    "print(sig_regions_bed)"
   ]
  },
  {
   "cell_type": "code",
   "execution_count": 31,
   "metadata": {
    "ExecuteTime": {
     "end_time": "2020-11-30T17:29:48.713538Z",
     "start_time": "2020-11-30T17:29:48.704922Z"
    }
   },
   "outputs": [
    {
     "name": "stdout",
     "output_type": "stream",
     "text": [
      "avg peak size is 1395643.4 bp\n"
     ]
    }
   ],
   "source": [
    "#avg peak size \n",
    "size=0\n",
    "for chrom, start, stop, pop in sig_regions_bed:\n",
    "    size+=int(stop)-int(start)+1\n",
    "\n",
    "avg_size=size/len(sig_regions_bed)\n",
    "\n",
    "print(\"avg peak size is {:.1f} bp\".format(avg_size))"
   ]
  },
  {
   "cell_type": "code",
   "execution_count": 35,
   "metadata": {
    "ExecuteTime": {
     "end_time": "2020-12-01T16:52:26.769173Z",
     "start_time": "2020-12-01T16:51:08.628164Z"
    }
   },
   "outputs": [],
   "source": [
    "#intersect peaks wtih gff\n",
    "gff = pybedtools.BedTool('data/genomes/Sm_v7.0.gff')\n",
    "\n",
    "#intersecting_genes[\"brazil\"][\"snps\"]=[\"gene1\", \"gene2\"]\n",
    "intersecting_genes=defaultdict(lambda: defaultdict(list))\n",
    "\n",
    "#excluding tanzania cause there are no sig snps in that pop\n",
    "for pop in [\"niger\", \"senegal\", \"brazil\"]:\n",
    "\n",
    "    #intersect target regions with the genes gff\n",
    "    regions_bed = pybedtools.BedTool(\"results/selection_peaks/{}_target_regions.bed\".format(pop))\n",
    "    intersect_regions_gff = gff.intersect(regions_bed, u=True)\n",
    "    intersect_regions_gff.saveas(\"./results/selection_peaks/{}_target_regions_vs_genes.gff\".format(pop))\n",
    "\n",
    "    #intersect target SNPs with the genes gff\n",
    "    sig_snps_bed = pybedtools.BedTool(\"results/selection_peaks/{}_sig_snps.bed\".format(pop))\n",
    "    intersect_snps_gff = gff.intersect(sig_snps_bed, u=True)\n",
    "    intersect_snps_gff.saveas(\"./results/selection_peaks/{}_sig_snps_vs_genes.gff\".format(pop))\n",
    "\n",
    "    #create a gff database of genes intersecting target regions\n",
    "    region_db = gffutils.create_db(\"./results/selection_peaks/{}_target_regions_vs_genes.gff\".format(pop), \n",
    "                                    dbfn=\"results/selection_peaks/{}_target_regions_vs_genes.gff.db\".format(pop),\n",
    "                                    force=True, \n",
    "                                    keep_order=True, \n",
    "                                    merge_strategy='merge', \n",
    "                                    sort_attribute_values=True)\n",
    "\n",
    "    #create a gff database of genes intersecting target genes\n",
    "    snp_db = gffutils.create_db(\"./results/selection_peaks/{}_sig_snps_vs_genes.gff\".format(pop), \n",
    "                            dbfn=\"results/selection_peaks/{}_sig_snps_vs_genes.gff.db\".format(pop),\n",
    "                            force=True, \n",
    "                            keep_order=True, \n",
    "                            merge_strategy='merge', \n",
    "                            sort_attribute_values=True)\n",
    "    \n",
    "    \n",
    "    \n",
    "    \n",
    "    for i in region_db.features_of_type('gene'):\n",
    "        intersecting_genes[pop][\"region\"].append(i[\"ID\"][0])\n",
    "    \n",
    "    for i in snp_db.features_of_type('gene'):\n",
    "        intersecting_genes[pop][\"snp\"].append(i[\"ID\"][0])"
   ]
  },
  {
   "cell_type": "code",
   "execution_count": 36,
   "metadata": {
    "ExecuteTime": {
     "end_time": "2020-12-01T17:23:08.020207Z",
     "start_time": "2020-12-01T17:23:08.004863Z"
    }
   },
   "outputs": [
    {
     "name": "stdout",
     "output_type": "stream",
     "text": [
      "niger: 121 and 5 genes in target regions and with target snps\n",
      "senegal: 175 and 7 genes in target regions and with target snps\n",
      "brazil: 126 and 10 genes in target regions and with target snps\n"
     ]
    }
   ],
   "source": [
    "with open (\"results/selection_peaks/snp_genes_table.tsv\", 'w') as snp_outfile:\n",
    "    with open (\"results/selection_peaks/region_genes_table.tsv\", 'w') as region_outfile:\n",
    "\n",
    "        for pop in [\"niger\", \"senegal\", \"brazil\"]:\n",
    "            num_snp_genes    = str(len(intersecting_genes[pop][\"snp\"]))\n",
    "            num_region_genes = str(len(intersecting_genes[pop][\"region\"]))\n",
    "            print(\"{}: {} and {} genes in target regions and with target snps\".format(pop, num_region_genes, num_snp_genes))\n",
    "\n",
    "            intersecting_genes[pop][\"snp\"].sort()\n",
    "            outline=\"\\n\".join([pop] + intersecting_genes[pop][\"snp\"])\n",
    "            snp_outfile.write(outline + \"\\n\")\n",
    "        \n",
    "            intersecting_genes[pop][\"region\"].sort()\n",
    "            outline=\"\\n\".join([pop] + intersecting_genes[pop][\"region\"])\n",
    "            region_outfile.write(outline + \"\\n\")"
   ]
  },
  {
   "cell_type": "code",
   "execution_count": 37,
   "metadata": {
    "ExecuteTime": {
     "end_time": "2020-12-01T16:59:58.122280Z",
     "start_time": "2020-12-01T16:59:58.115085Z"
    }
   },
   "outputs": [
    {
     "name": "stdout",
     "output_type": "stream",
     "text": [
      "brazil v senegal: 1 genes, {'Smp_123520'}\n",
      "brazil v niger: 0 genes, set()\n",
      "senegal v niger: 2 genes, {'Smp_167890', 'Smp_313490'}\n"
     ]
    }
   ],
   "source": [
    "pop_combos=list(itertools.combinations([\"brazil\", \"senegal\", \"niger\"], 2)) \n",
    "\n",
    "for pop1, pop2 in pop_combos:\n",
    "    pop1_genes=set(intersecting_genes[pop1][\"snp\"])\n",
    "    pop2_genes=set(intersecting_genes[pop2][\"snp\"])\n",
    "    \n",
    "    shared_genes=pop1_genes.intersection(pop2_genes)\n",
    "    print(\"{} v {}: {} genes, {}\".format(pop1, \n",
    "                                         pop2, \n",
    "                                         str(len(shared_genes)), \n",
    "                                         str(shared_genes)))"
   ]
  },
  {
   "cell_type": "code",
   "execution_count": 38,
   "metadata": {
    "ExecuteTime": {
     "end_time": "2020-12-01T17:00:26.844378Z",
     "start_time": "2020-12-01T17:00:26.837533Z"
    }
   },
   "outputs": [
    {
     "name": "stdout",
     "output_type": "stream",
     "text": [
      "brazil v senegal: 50 genes, {'Smp_308830', 'Smp_347390', 'Smp_002640', 'Smp_002820', 'Smp_197370', 'Smp_300810', 'Smp_123470', 'Smp_123450', 'Smp_123530', 'Smp_326390', 'Smp_123500', 'Smp_002600', 'Smp_084540', 'Smp_123630', 'Smp_002510', 'Smp_123610', 'Smp_084520', 'Smp_123490', 'Smp_202130', 'Smp_002920', 'Smp_212320', 'Smp_123590', 'Smp_078750', 'Smp_123510', 'Smp_337740', 'Smp_164560', 'Smp_002870', 'Smp_123440', 'Smp_078730', 'Smp_341880', 'Smp_123640', 'Smp_308820', 'Smp_002880', 'Smp_123480', 'Smp_123570', 'Smp_021340', 'Smp_123460', 'Smp_123670', 'Smp_123620', 'Smp_002860', 'Smp_164590', 'Smp_123600', 'Smp_345510', 'Smp_123690', 'Smp_002740', 'Smp_002550', 'Smp_165280', 'Smp_002840', 'Smp_202120', 'Smp_123520'}\n",
      "brazil v niger: 0 genes, set()\n",
      "senegal v niger: 24 genes, {'Smp_114565', 'Smp_095680', 'Smp_345890', 'Smp_174580', 'Smp_169520', 'Smp_095630', 'Smp_341620', 'Smp_180240', 'Smp_313490', 'Smp_346220', 'Smp_313500', 'Smp_095670', 'Smp_169530', 'Smp_093850', 'Smp_204980', 'Smp_167890', 'Smp_310500', 'Smp_093840', 'Smp_266770', 'Smp_174610', 'Smp_095650', 'Smp_174630', 'Smp_332080', 'Smp_334280'}\n"
     ]
    }
   ],
   "source": [
    "for pop1, pop2 in pop_combos:\n",
    "    pop1_genes=set(intersecting_genes[pop1][\"region\"])\n",
    "    pop2_genes=set(intersecting_genes[pop2][\"region\"])\n",
    "    \n",
    "    shared_genes=pop1_genes.intersection(pop2_genes)\n",
    "    print(\"{} v {}: {} genes, {}\".format(pop1, \n",
    "                                         pop2, \n",
    "                                         str(len(shared_genes)), \n",
    "                                         str(shared_genes)))"
   ]
  },
  {
   "cell_type": "markdown",
   "metadata": {},
   "source": [
    "# Pi Genome-wide"
   ]
  },
  {
   "cell_type": "code",
   "execution_count": 199,
   "metadata": {},
   "outputs": [
    {
     "name": "stderr",
     "output_type": "stream",
     "text": [
      "100%|██████████████████████████████████████████████████████████████████████████████████████████████████████████████████████████████████████████| 4/4 [00:01<00:00,  2.58it/s]\n"
     ]
    }
   ],
   "source": [
    "#read in data\n",
    "dfs={}\n",
    "for pop in tqdm(['brazil', 'niger',  'senegal', 'tanzania']):\n",
    "    dfs[pop]=pd.read_csv(\"results/selection_peaks/to_plot_{}.csv\".format(pop), sep=\",\")"
   ]
  },
  {
   "cell_type": "code",
   "execution_count": 250,
   "metadata": {},
   "outputs": [
    {
     "name": "stderr",
     "output_type": "stream",
     "text": [
      "100%|█████████████████████████████████████████████████████████████████████████████████████████████████████████████████████████████████████████| 6/6 [00:00<00:00, 112.47it/s]\n"
     ]
    }
   ],
   "source": [
    "pi_dfs={}\n",
    "for pop in tqdm(['brazil', 'niger',  'senegal', 'tanzania', 'caribbean', 'rodhaini']):\n",
    "    pi_dfs[pop]=pd.read_csv(\"results/pi/pi_boxplot_100kb_windows_{}.csv\".format(pop),sep=\",\").dropna(subset=[\"pi\"])"
   ]
  },
  {
   "cell_type": "code",
   "execution_count": 251,
   "metadata": {},
   "outputs": [
    {
     "name": "stdout",
     "output_type": "stream",
     "text": [
      "brazil: 0.0006925911327382877\n",
      "niger: 0.0005997772684642776\n",
      "senegal: 0.0004968465614561425\n",
      "tanzania: 0.0014511327938964362\n",
      "caribbean: 0.0006274731680908758\n",
      "rodhaini: 0.0005606783152180918\n"
     ]
    }
   ],
   "source": [
    "for pop in ['brazil', 'niger',  'senegal', 'tanzania', 'caribbean', 'rodhaini']:\n",
    "    pi=pi_dfs[pop][\"pi\"].dropna().mean()\n",
    "    print(\"{}: {}\".format(pop, pi))"
   ]
  },
  {
   "cell_type": "code",
   "execution_count": 264,
   "metadata": {},
   "outputs": [],
   "source": [
    "#get sig regions and calculate pi in vs out of those regions\n",
    "regions_df = pd.read_table('results/selection_peaks/peaks.bed', sep=\"\\t\", header=None)\n",
    "regions_df.columns=[\"chrom\", \"start\", \"stop\", \"pop\"]\n",
    "\n",
    "\n",
    "region_trees=defaultdict(lambda: defaultdict( lambda: IntervalTree()))\n",
    "\n",
    "for index, row in regions_df.iterrows():\n",
    "    pop=row[\"pop\"]\n",
    "    chrom=row[\"chrom\"]\n",
    "    start=row[\"start\"]\n",
    "    stop=row[\"stop\"]\n",
    "    region_trees[pop][chrom][start : stop] = \"significant\""
   ]
  },
  {
   "cell_type": "code",
   "execution_count": 325,
   "metadata": {},
   "outputs": [],
   "source": [
    "sig_pis=defaultdict(lambda: [])\n",
    "nsig_pis=defaultdict(lambda: [])\n",
    "sig_pi_df=pd.DataFrame(columns=list(pi_dfs[\"brazil\"].columns) + [\"pop\"])\n",
    "\n",
    "#now for each pi subset if it is in the tree or not\n",
    "for pop in ['brazil', 'niger',  'senegal', 'tanzania', 'caribbean', 'rodhaini']:\n",
    "\n",
    "    df=pi_dfs[pop]\n",
    "    \n",
    "    for index, row in df.iterrows():\n",
    "        pi=row[\"pi\"]\n",
    "        chrom=row[\"chrom\"]\n",
    "        start=row[\"start\"]\n",
    "        stop=row[\"stop\"]\n",
    "        row[\"pop\"] = pop\n",
    "        \n",
    "        if region_trees[pop][chrom][start : stop] == set():\n",
    "            nsig_pis[pop].append(pi)\n",
    "        else:\n",
    "            sig_pis[pop].append(pi)\n",
    "            sig_pi_df=sig_df.append(row)"
   ]
  },
  {
   "cell_type": "code",
   "execution_count": 356,
   "metadata": {},
   "outputs": [
    {
     "data": {
      "image/png": "[encoded data removed]",
      "text/plain": [
       "<Figure size 432x288 with 1 Axes>"
      ]
     },
     "metadata": {
      "needs_background": "light"
     },
     "output_type": "display_data"
    }
   ],
   "source": [
    "x_pos={\"caribbean\" : 1,\n",
    "       \"brazil\"    : 2,\n",
    "       \"senegal\"   : 3,\n",
    "       \"niger\"     : 4,\n",
    "       \"tanzania\"  : 5,\n",
    "       \"rodhaini\"  : 6 }\n",
    "\n",
    "for index, row in sig_pi_df.iterrows():\n",
    "    x=x_pos[row[\"pop\"]]\n",
    "    y=row[\"pi\"]\n",
    "    \n",
    "    #add jitter\n",
    "    x=x+random.uniform(-0.2, 0.2)\n",
    "    \n",
    "    plt.plot(x, y, 'b.', markersize=8, alpha=0.1)\n",
    "    \n",
    "plt.boxplot([ pi_dfs[\"caribbean\"].dropna(subset=[\"pi\"])[\"pi\"],\n",
    "              pi_dfs[\"brazil\"].dropna(subset=[\"pi\"])[\"pi\"],\n",
    "              pi_dfs[\"senegal\"].dropna(subset=[\"pi\"])[\"pi\"],\n",
    "              pi_dfs[\"niger\"].dropna(subset=[\"pi\"])[\"pi\"], \n",
    "              pi_dfs[\"tanzania\"].dropna(subset=[\"pi\"])[\"pi\"],\n",
    "              pi_dfs[\"rodhaini\"].dropna(subset=[\"pi\"])[\"pi\"] ],\n",
    "             showfliers=False, \n",
    "             notch=True,\n",
    "             labels=[\"Caribbean\", \"Brazil\", \"Senegal\", \"Niger\", \"Tanzania\", \"$\\it{S. rodhaini}$\"],\n",
    "             medianprops=dict(color=\"black\", lw=1) )\n",
    "\n",
    "plt.xlabel(\"Population\", fontsize=12)\n",
    "plt.ylabel(\"$\\pi$\", fontsize=14)\n",
    "#plt.yscale(\"log\")\n",
    "#plt.savefig(\"results/pi/pi_boxplot_100kb_windows_wsig.svg\")\n",
    "#plt.savefig(\"results/pi/pi_boxplot_100kb_windows_wsigs.png\", dpi=300)\n",
    "plt.show()"
   ]
  },
  {
   "cell_type": "code",
   "execution_count": 347,
   "metadata": {},
   "outputs": [
    {
     "data": {
      "image/png": "[encoded data removed]",
      "text/plain": [
       "<Figure size 432x288 with 1 Axes>"
      ]
     },
     "metadata": {
      "needs_background": "light"
     },
     "output_type": "display_data"
    }
   ],
   "source": [
    "plt.boxplot([ pi_dfs[\"caribbean\"].dropna(subset=[\"pi\"])[\"pi\"],\n",
    "              pi_dfs[\"brazil\"].dropna(subset=[\"pi\"])[\"pi\"],\n",
    "              sig_pi_df.loc[sig_pi_df[\"pop\"] == \"brazil\"][\"pi\"],\n",
    "              pi_dfs[\"senegal\"].dropna(subset=[\"pi\"])[\"pi\"],\n",
    "              sig_pi_df.loc[sig_pi_df[\"pop\"] == \"senegal\"][\"pi\"],\n",
    "              pi_dfs[\"niger\"].dropna(subset=[\"pi\"])[\"pi\"], \n",
    "              sig_pi_df.loc[sig_pi_df[\"pop\"] == \"niger\"][\"pi\"],\n",
    "              pi_dfs[\"tanzania\"].dropna(subset=[\"pi\"])[\"pi\"],\n",
    "              pi_dfs[\"rodhaini\"].dropna(subset=[\"pi\"])[\"pi\"] ],\n",
    "             showfliers=False, \n",
    "             notch=True,\n",
    "             labels=[\"Caribbean\", \"Brazil\", \"Brazil*\", \"Senegal\", \"Senegal*\", \"Niger\", \"Niger*\", \"Tanzania\", \"$\\it{S. rodhaini}$\"],\n",
    "             medianprops=dict(color=\"black\", lw=1) )\n",
    "\n",
    "plt.xlabel(\"Population\", fontsize=12)\n",
    "plt.ylabel(\"$\\pi$\", fontsize=14)\n",
    "#plt.yscale(\"log\")\n",
    "#plt.savefig(\"results/pi/pi_boxplot_100kb_windows_wsigboxes.svg\")\n",
    "#plt.savefig(\"results/pi/pi_boxplot_100kb_windows_wsigboxes.png\", dpi=300)\n",
    "plt.show()"
   ]
  },
  {
   "cell_type": "code",
   "execution_count": 355,
   "metadata": {},
   "outputs": [
    {
     "name": "stdout",
     "output_type": "stream",
     "text": [
      "pop, all_pi_mean, sig_pi_mean, t, p\n",
      "brazil, 0.0006925911327382877, 0.00022224333460848123, -9.416231788772604, 8.938591091307505e-14\n",
      "niger, 0.0005997772684642776, 0.00024586149501158033, -7.91917194086271, 2.1397008531879e-11\n",
      "senegal, 0.0004968465614561425, 0.00017477014772342917, -11.184868001573586, 3.436892382982485e-23\n"
     ]
    }
   ],
   "source": [
    "print(\"pop, all_pi_mean, sig_pi_mean, t, p\")\n",
    "    \n",
    "for pop in [\"brazil\", \"niger\", \"senegal\"]:\n",
    "    spi=sig_pi_df.loc[sig_pi_df[\"pop\"] == pop][\"pi\"]\n",
    "    api=pi_dfs[].dropna(subset=[\"pi\"])[\"pi\"]\n",
    "    t, p = stats.ttest_ind(spi, api, equal_var=False)\n",
    "    \n",
    "    \n",
    "    print(\"{}, {}, {}, {}, {}\".format(pop,\n",
    "                                      api.mean(),\n",
    "                                      spi.mean(),\n",
    "                                      t,\n",
    "                                      p) )"
   ]
  },
  {
   "cell_type": "code",
   "execution_count": 421,
   "metadata": {},
   "outputs": [
    {
     "data": {
      "image/png": "[encoded data removed]",
      "text/plain": [
       "<Figure size 864x432 with 4 Axes>"
      ]
     },
     "metadata": {
      "needs_background": "light"
     },
     "output_type": "display_data"
    }
   ],
   "source": [
    "#get ylims from pis\n",
    "pis=np.array([])\n",
    "for pop in [\"brazil\", \"tanzania\", \"niger\", \"senegal\"]:\n",
    "    pis=np.append(pis, pi_dfs[pop][\"pi\"])\n",
    "    \n",
    "min_pi=pis[pis>0].min()\n",
    "max_pi=pis[pis>0].max()\n",
    "\n",
    "#set up figure\n",
    "fig, axs = plt.subplots(4, sharex=True, gridspec_kw={'hspace': 0.1}, figsize=(12, 6)) #gridspec_kw={'hspace': 0.1}\n",
    "\n",
    "#plot scatter for pi and each pop\n",
    "i=0\n",
    "for pop in [\"niger\", \"senegal\", \"brazil\", \"tanzania\"]:\n",
    "\n",
    "    ########################\n",
    "    # normal pi\n",
    "    ########################\n",
    "    #add info for figure including x position and the point color\n",
    "    cs=[]\n",
    "    xs=[]\n",
    "    for index, row in pi_dfs[pop].iterrows():\n",
    "        pos=(row[\"start\"] + row[\"stop\"])/2\n",
    "        cs.append(colors[row[\"chrom\"]])\n",
    "        xs.append(cumul_start[row[\"chrom\"]] + pos)\n",
    "\n",
    "    #get data without missing values\n",
    "    pis=pi_dfs[pop][\"pi\"]\n",
    "    \n",
    "    #plot\n",
    "    axs[i].scatter(xs, pis, marker =\".\", c = cs)\n",
    "\n",
    "    #add line at mean pi\n",
    "    axs[i].axhline(y=pis.mean(), xmin=0, xmax=scanned_size, color=\"red\", linewidth=3, alpha=0.5)\n",
    "    \n",
    "    \n",
    "    ########################\n",
    "    # sig pi\n",
    "    ########################\n",
    "    xs=[]\n",
    "    spi_df=sig_pi_df.loc[sig_pi_df[\"pop\"] == pop]\n",
    "    \n",
    "    for index, row in spi_df.iterrows():\n",
    "        pos=(row[\"start\"] + row[\"stop\"])/2\n",
    "        xs.append(cumul_start[row[\"chrom\"]] + pos)\n",
    "        \n",
    "    spis=spi_df[\"pi\"]\n",
    "    axs[i].scatter(xs, spis, marker =\".\", c = \"dodgerblue\")\n",
    "               \n",
    "    #make the axis labeling\n",
    "    axs[i].set_ylabel(\"{}\".format(pop.title()), fontsize=12)\n",
    "    axs[i].set_yscale('log')\n",
    "    axs[i].set_ylim(min_pi,max_pi)\n",
    "   \n",
    "    #increment to the next population (and subplot)\n",
    "    i=i+1\n",
    "    \n",
    "# #add tick \n",
    "tick_lbls = [ \"1\", \"2\", \"3\", \"4\", \"5\", \"6\" ,\"7\"]\n",
    "plt.setp(axs, xticks=ticks, xticklabels=tick_lbls)\n",
    "\n",
    "# #set xlims\n",
    "plt.xlim(0, scanned_size)\n",
    "plt.xlabel(\"Chromosomes\", fontsize=14)\n",
    "\n",
    "# #set the title\n",
    "title=\"$\\pi$\"\n",
    "fig.suptitle(title, fontsize=14)\n",
    "    \n",
    "# #plt.tight_layout()\n",
    "\n",
    "fig.savefig(\"results/selection_peaks/pi_across_the_genome.png\".format(pop), dpi=300)\n",
    "# #fig.savefig(\"results/selection_peaks/pi_across_the_genome.svg\".format(pop)) \n",
    "plt.show()\n",
    "plt.close()"
   ]
  },
  {
   "cell_type": "code",
   "execution_count": 488,
   "metadata": {},
   "outputs": [
    {
     "data": {
      "image/png": "[encoded data removed]",
      "text/plain": [
       "<Figure size 432x288 with 1 Axes>"
      ]
     },
     "metadata": {
      "needs_background": "light"
     },
     "output_type": "display_data"
    },
    {
     "data": {
      "image/png": "[encoded data removed]",
      "text/plain": [
       "<Figure size 432x288 with 1 Axes>"
      ]
     },
     "metadata": {
      "needs_background": "light"
     },
     "output_type": "display_data"
    },
    {
     "data": {
      "image/png": "[encoded data removed]",
      "text/plain": [
       "<Figure size 432x288 with 1 Axes>"
      ]
     },
     "metadata": {
      "needs_background": "light"
     },
     "output_type": "display_data"
    },
    {
     "data": {
      "image/png": "[encoded data removed]",
      "text/plain": [
       "<Figure size 432x288 with 1 Axes>"
      ]
     },
     "metadata": {
      "needs_background": "light"
     },
     "output_type": "display_data"
    },
    {
     "data": {
      "image/png": "[encoded data removed]",
      "text/plain": [
       "<Figure size 432x288 with 1 Axes>"
      ]
     },
     "metadata": {
      "needs_background": "light"
     },
     "output_type": "display_data"
    },
    {
     "data": {
      "image/png": "[encoded data removed]",
      "text/plain": [
       "<Figure size 432x288 with 1 Axes>"
      ]
     },
     "metadata": {
      "needs_background": "light"
     },
     "output_type": "display_data"
    },
    {
     "data": {
      "image/png": "[encoded data removed]",
      "text/plain": [
       "<Figure size 432x288 with 1 Axes>"
      ]
     },
     "metadata": {
      "needs_background": "light"
     },
     "output_type": "display_data"
    },
    {
     "data": {
      "image/png": "[encoded data removed]",
      "text/plain": [
       "<Figure size 432x288 with 1 Axes>"
      ]
     },
     "metadata": {
      "needs_background": "light"
     },
     "output_type": "display_data"
    },
    {
     "data": {
      "image/png": "[encoded data removed]",
      "text/plain": [
       "<Figure size 432x288 with 1 Axes>"
      ]
     },
     "metadata": {
      "needs_background": "light"
     },
     "output_type": "display_data"
    },
    {
     "data": {
      "image/png": "[encoded data removed]",
      "text/plain": [
       "<Figure size 432x288 with 1 Axes>"
      ]
     },
     "metadata": {
      "needs_background": "light"
     },
     "output_type": "display_data"
    },
    {
     "data": {
      "image/png": "[encoded data removed]",
      "text/plain": [
       "<Figure size 432x288 with 1 Axes>"
      ]
     },
     "metadata": {
      "needs_background": "light"
     },
     "output_type": "display_data"
    }
   ],
   "source": [
    "#zoom in on sig regions\n",
    "buffer=5_000_000\n",
    "\n",
    "#get sig regions and calculate pi in vs out of those regions\n",
    "regions_df = pd.read_table('results/selection_peaks/peaks.bed', sep=\"\\t\", header=None)\n",
    "regions_df.columns=[\"chrom\", \"start\", \"stop\", \"pop\"]\n",
    "\n",
    "xs=[]\n",
    "i=0\n",
    "\n",
    "#fig, axs = plt.subplots(len(regions_df), gridspec_kw={'hspace': 0.1}, figsize=(12, 6)) #gridspec_kw={'hspace': 0.1}\n",
    "\n",
    "for index, row in regions_df.iterrows():\n",
    "        start=row[\"start\"]\n",
    "        stop=row[\"stop\"]\n",
    "        chrom=row[\"chrom\"]\n",
    "        pop=row[\"pop\"]\n",
    "\n",
    "        df=pi_dfs[pop].loc[pi_dfs[pop][\"chrom\"] == chrom]\n",
    "        pis=df[\"pi\"]\n",
    "        xs=(df[\"start\"] + df[\"stop\"])/2\n",
    "        \n",
    "        #set colors\n",
    "        c=np.array([\"dodgerblue\"]*len(xs))\n",
    "        c[xs<start] = \"black\"\n",
    "        c[xs>stop] = \"black\"\n",
    "        \n",
    "        plt.scatter(xs, pis, marker =\".\", c = c)\n",
    "        #plt.plot(xs, pis)\n",
    "        #get xlims based on a buffer\n",
    "        plt.xlim(start-buffer, stop+buffer)\n",
    "        \n",
    "        label_str=\"{} {}:{}-{}\".format(pop.title(), chrom, start-buffer, stop+buffer)\n",
    "        plt.xlabel(label_str)\n",
    "        plt.ylabel(\"$\\pi$\", fontsize=14)\n",
    "        \n",
    "        plt.yscale('log')\n",
    "        \n",
    "        \n",
    "        #get data from normal chrom\n",
    "        i=i+1\n",
    "        plt.show()"
   ]
  },
  {
   "cell_type": "code",
   "execution_count": 475,
   "metadata": {},
   "outputs": [],
   "source": [
    "# compare sig regions to same regions in west africa and other pops"
   ]
  },
  {
   "cell_type": "code",
   "execution_count": 494,
   "metadata": {},
   "outputs": [
    {
     "ename": "TypeError",
     "evalue": "list indices must be integers or slices, not str",
     "output_type": "error",
     "traceback": [
      "\u001b[0;31m---------------------------------------------------------------------------\u001b[0m",
      "\u001b[0;31mTypeError\u001b[0m                                 Traceback (most recent call last)",
      "\u001b[0;32m/tmp/ipykernel_30238/789091252.py\u001b[0m in \u001b[0;36m<module>\u001b[0;34m\u001b[0m\n\u001b[1;32m      1\u001b[0m \u001b[0mdfs\u001b[0m\u001b[0;34m=\u001b[0m\u001b[0;34m[\u001b[0m\u001b[0;34m]\u001b[0m\u001b[0;34m\u001b[0m\u001b[0;34m\u001b[0m\u001b[0m\n\u001b[1;32m      2\u001b[0m \u001b[0;32mfor\u001b[0m \u001b[0mpop\u001b[0m \u001b[0;32min\u001b[0m \u001b[0;34m[\u001b[0m\u001b[0;34m\"brazil\"\u001b[0m\u001b[0;34m,\u001b[0m \u001b[0;34m\"tanzania\"\u001b[0m\u001b[0;34m,\u001b[0m \u001b[0;34m\"niger\"\u001b[0m\u001b[0;34m,\u001b[0m \u001b[0;34m\"senegal\"\u001b[0m\u001b[0;34m]\u001b[0m\u001b[0;34m:\u001b[0m\u001b[0;34m\u001b[0m\u001b[0;34m\u001b[0m\u001b[0m\n\u001b[0;32m----> 3\u001b[0;31m     \u001b[0mdfs\u001b[0m\u001b[0;34m[\u001b[0m\u001b[0mpop\u001b[0m\u001b[0;34m]\u001b[0m\u001b[0;34m=\u001b[0m\u001b[0mpd\u001b[0m\u001b[0;34m.\u001b[0m\u001b[0mread_csv\u001b[0m\u001b[0;34m(\u001b[0m\u001b[0;34m\"results/selection_peaks/to_plot_{}.csv\"\u001b[0m\u001b[0;34m.\u001b[0m\u001b[0mformat\u001b[0m\u001b[0;34m(\u001b[0m\u001b[0mpop\u001b[0m\u001b[0;34m)\u001b[0m\u001b[0;34m,\u001b[0m \u001b[0msep\u001b[0m\u001b[0;34m=\u001b[0m\u001b[0;34m\",\"\u001b[0m\u001b[0;34m)\u001b[0m\u001b[0;34m\u001b[0m\u001b[0;34m\u001b[0m\u001b[0m\n\u001b[0m",
      "\u001b[0;31mTypeError\u001b[0m: list indices must be integers or slices, not str"
     ]
    }
   ],
   "source": [
    "dfs=[]\n",
    "for pop in [\"brazil\", \"tanzania\", \"niger\", \"senegal\"]:\n",
    "    dfs[pop]=pd.read_csv(\"results/selection_peaks/to_plot_{}.csv\".format(pop), sep=\",\")\n"
   ]
  },
  {
   "cell_type": "code",
   "execution_count": 497,
   "metadata": {},
   "outputs": [
    {
     "name": "stdout",
     "output_type": "stream",
     "text": [
      "chrom,pos,h,lr,pi,tajimas_d,colors,x\n",
      "SM_V7_1,302288,0.0,0.296891,NULL,NULL,darkgrey,302288.0\n",
      "SM_V7_1,705190,163.895,0.958193,NULL,NULL,darkgrey,705190.0\n",
      "SM_V7_1,705210,164.2,0.958193,NULL,NULL,darkgrey,705210.0\n",
      "SM_V7_1,705322,155.348,0.586511,NULL,NULL,darkgrey,705322.0\n",
      "SM_V7_1,705337,123.933,0.586511,NULL,NULL,darkgrey,705337.0\n",
      "SM_V7_1,705340,119.035,0.586511,NULL,NULL,darkgrey,705340.0\n",
      "SM_V7_1,705343,124.51,0.586511,NULL,NULL,darkgrey,705343.0\n",
      "SM_V7_1,705389,108.507,0.586511,NULL,NULL,darkgrey,705389.0\n",
      "SM_V7_1,705395,60.0293,0.586511,NULL,NULL,darkgrey,705395.0\n"
     ]
    }
   ],
   "source": [
    "!head results/selection_peaks/to_plot_brazil.csv"
   ]
  },
  {
   "cell_type": "code",
   "execution_count": 496,
   "metadata": {},
   "outputs": [
    {
     "data": {
      "text/plain": [
       "{'brazil':             pi       start        stop  n_bases  n_snps    chrom\n",
       " 0     0.003026    302288.0    402287.0    167.0     1.0  SM_V7_1\n",
       " 4     0.000578    702288.0    802287.0   1087.0    14.0  SM_V7_1\n",
       " 7     0.000884   1002288.0   1102287.0   1186.0    63.0  SM_V7_1\n",
       " 8     0.001589   1102288.0   1202287.0   1413.0    35.0  SM_V7_1\n",
       " 9     0.000849   1202288.0   1302287.0   1879.0     9.0  SM_V7_1\n",
       " ...        ...         ...         ...      ...     ...      ...\n",
       " 3020  0.001269  18610060.0  18710059.0   5888.0   216.0  SM_V7_7\n",
       " 3021  0.000565  18710060.0  18810059.0   6616.0   339.0  SM_V7_7\n",
       " 3022  0.000488  18810060.0  18910059.0   4802.0   221.0  SM_V7_7\n",
       " 3023  0.000597  18910060.0  19010059.0   4947.0   173.0  SM_V7_7\n",
       " 3024  0.000124  19010060.0  19087225.0   3448.0   100.0  SM_V7_7\n",
       " \n",
       " [2838 rows x 6 columns],\n",
       " 'niger':             pi       start        stop  n_bases  n_snps    chrom\n",
       " 0     0.003152    302288.0    402287.0    167.0     1.0  SM_V7_1\n",
       " 4     0.001063    702288.0    802287.0   1087.0    14.0  SM_V7_1\n",
       " 7     0.001000   1002288.0   1102287.0   1186.0    63.0  SM_V7_1\n",
       " 8     0.001561   1102288.0   1202287.0   1413.0    35.0  SM_V7_1\n",
       " 9     0.000449   1202288.0   1302287.0   1879.0     9.0  SM_V7_1\n",
       " ...        ...         ...         ...      ...     ...      ...\n",
       " 3020  0.000818  18610060.0  18710059.0   5888.0   216.0  SM_V7_7\n",
       " 3021  0.000299  18710060.0  18810059.0   6616.0   339.0  SM_V7_7\n",
       " 3022  0.000345  18810060.0  18910059.0   4802.0   221.0  SM_V7_7\n",
       " 3023  0.000426  18910060.0  19010059.0   4947.0   173.0  SM_V7_7\n",
       " 3024  0.000048  19010060.0  19087225.0   3448.0   100.0  SM_V7_7\n",
       " \n",
       " [2838 rows x 6 columns],\n",
       " 'senegal':             pi       start        stop  n_bases  n_snps    chrom\n",
       " 0     0.003052    302288.0    402287.0    167.0     1.0  SM_V7_1\n",
       " 4     0.000427    702288.0    802287.0   1087.0    14.0  SM_V7_1\n",
       " 7     0.000793   1002288.0   1102287.0   1186.0    63.0  SM_V7_1\n",
       " 8     0.001081   1102288.0   1202287.0   1413.0    35.0  SM_V7_1\n",
       " 9     0.000261   1202288.0   1302287.0   1879.0     9.0  SM_V7_1\n",
       " ...        ...         ...         ...      ...     ...      ...\n",
       " 3020  0.000373  18610060.0  18710059.0   5888.0   216.0  SM_V7_7\n",
       " 3021  0.000225  18710060.0  18810059.0   6616.0   339.0  SM_V7_7\n",
       " 3022  0.000627  18810060.0  18910059.0   4802.0   221.0  SM_V7_7\n",
       " 3023  0.000375  18910060.0  19010059.0   4947.0   173.0  SM_V7_7\n",
       " 3024  0.000138  19010060.0  19087225.0   3448.0   100.0  SM_V7_7\n",
       " \n",
       " [2838 rows x 6 columns],\n",
       " 'tanzania':             pi       start        stop  n_bases  n_snps    chrom\n",
       " 0     0.002984    302288.0    402287.0    167.0     1.0  SM_V7_1\n",
       " 4     0.001872    702288.0    802287.0   1087.0    14.0  SM_V7_1\n",
       " 7     0.010191   1002288.0   1102287.0   1186.0    63.0  SM_V7_1\n",
       " 8     0.003328   1102288.0   1202287.0   1413.0    35.0  SM_V7_1\n",
       " 9     0.000391   1202288.0   1302287.0   1879.0     9.0  SM_V7_1\n",
       " ...        ...         ...         ...      ...     ...      ...\n",
       " 3020  0.001558  18610060.0  18710059.0   5888.0   216.0  SM_V7_7\n",
       " 3021  0.001412  18710060.0  18810059.0   6616.0   339.0  SM_V7_7\n",
       " 3022  0.002583  18810060.0  18910059.0   4802.0   221.0  SM_V7_7\n",
       " 3023  0.001332  18910060.0  19010059.0   4947.0   173.0  SM_V7_7\n",
       " 3024  0.000572  19010060.0  19087225.0   3448.0   100.0  SM_V7_7\n",
       " \n",
       " [2838 rows x 6 columns],\n",
       " 'caribbean':             pi       start        stop  n_bases  n_snps    chrom\n",
       " 0     0.003992    302288.0    402287.0    167.0     1.0  SM_V7_1\n",
       " 4     0.000920    702288.0    802287.0   1087.0    14.0  SM_V7_1\n",
       " 7     0.001349   1002288.0   1102287.0   1186.0    63.0  SM_V7_1\n",
       " 8     0.001463   1102288.0   1202287.0   1413.0    35.0  SM_V7_1\n",
       " 9     0.000266   1202288.0   1302287.0   1879.0     9.0  SM_V7_1\n",
       " ...        ...         ...         ...      ...     ...      ...\n",
       " 3020  0.001370  18610060.0  18710059.0   5888.0   216.0  SM_V7_7\n",
       " 3021  0.000474  18710060.0  18810059.0   6616.0   339.0  SM_V7_7\n",
       " 3022  0.000000  18810060.0  18910059.0   4802.0   221.0  SM_V7_7\n",
       " 3023  0.000108  18910060.0  19010059.0   4947.0   173.0  SM_V7_7\n",
       " 3024  0.000000  19010060.0  19087225.0   3448.0   100.0  SM_V7_7\n",
       " \n",
       " [2838 rows x 6 columns],\n",
       " 'rodhaini':             pi       start        stop  n_bases  n_snps    chrom\n",
       " 0     0.000000    302288.0    402287.0    167.0     1.0  SM_V7_1\n",
       " 4     0.000427    702288.0    802287.0   1087.0    14.0  SM_V7_1\n",
       " 7     0.005434   1002288.0   1102287.0   1186.0    63.0  SM_V7_1\n",
       " 8     0.000000   1102288.0   1202287.0   1413.0    35.0  SM_V7_1\n",
       " 9     0.000000   1202288.0   1302287.0   1879.0     9.0  SM_V7_1\n",
       " ...        ...         ...         ...      ...     ...      ...\n",
       " 3020  0.000435  18610060.0  18710059.0   5888.0   216.0  SM_V7_7\n",
       " 3021  0.000590  18710060.0  18810059.0   6616.0   339.0  SM_V7_7\n",
       " 3022  0.000351  18810060.0  18910059.0   4802.0   221.0  SM_V7_7\n",
       " 3023  0.000480  18910060.0  19010059.0   4947.0   173.0  SM_V7_7\n",
       " 3024  0.000576  19010060.0  19087225.0   3448.0   100.0  SM_V7_7\n",
       " \n",
       " [2838 rows x 6 columns]}"
      ]
     },
     "execution_count": 496,
     "metadata": {},
     "output_type": "execute_result"
    }
   ],
   "source": [
    "pi_dfs"
   ]
  },
  {
   "cell_type": "code",
   "execution_count": null,
   "metadata": {},
   "outputs": [],
   "source": []
  },
  {
   "cell_type": "code",
   "execution_count": null,
   "metadata": {},
   "outputs": [],
   "source": []
  },
  {
   "cell_type": "code",
   "execution_count": 489,
   "metadata": {},
   "outputs": [
    {
     "data": {
      "text/html": [
       "<div>\n",
       "<style scoped>\n",
       "    .dataframe tbody tr th:only-of-type {\n",
       "        vertical-align: middle;\n",
       "    }\n",
       "\n",
       "    .dataframe tbody tr th {\n",
       "        vertical-align: top;\n",
       "    }\n",
       "\n",
       "    .dataframe thead th {\n",
       "        text-align: right;\n",
       "    }\n",
       "</style>\n",
       "<table border=\"1\" class=\"dataframe\">\n",
       "  <thead>\n",
       "    <tr style=\"text-align: right;\">\n",
       "      <th></th>\n",
       "      <th>chrom</th>\n",
       "      <th>start</th>\n",
       "      <th>stop</th>\n",
       "      <th>pop</th>\n",
       "    </tr>\n",
       "  </thead>\n",
       "  <tbody>\n",
       "    <tr>\n",
       "      <th>0</th>\n",
       "      <td>SM_V7_1</td>\n",
       "      <td>56295674</td>\n",
       "      <td>58355356</td>\n",
       "      <td>niger</td>\n",
       "    </tr>\n",
       "    <tr>\n",
       "      <th>1</th>\n",
       "      <td>SM_V7_1</td>\n",
       "      <td>60733736</td>\n",
       "      <td>62145588</td>\n",
       "      <td>niger</td>\n",
       "    </tr>\n",
       "    <tr>\n",
       "      <th>2</th>\n",
       "      <td>SM_V7_4</td>\n",
       "      <td>31216154</td>\n",
       "      <td>32138352</td>\n",
       "      <td>niger</td>\n",
       "    </tr>\n",
       "    <tr>\n",
       "      <th>3</th>\n",
       "      <td>SM_V7_3</td>\n",
       "      <td>22786583</td>\n",
       "      <td>24999268</td>\n",
       "      <td>senegal</td>\n",
       "    </tr>\n",
       "    <tr>\n",
       "      <th>4</th>\n",
       "      <td>SM_V7_3</td>\n",
       "      <td>30092830</td>\n",
       "      <td>32970510</td>\n",
       "      <td>senegal</td>\n",
       "    </tr>\n",
       "    <tr>\n",
       "      <th>5</th>\n",
       "      <td>SM_V7_4</td>\n",
       "      <td>31216154</td>\n",
       "      <td>32881663</td>\n",
       "      <td>senegal</td>\n",
       "    </tr>\n",
       "    <tr>\n",
       "      <th>6</th>\n",
       "      <td>SM_V7_1</td>\n",
       "      <td>14832351</td>\n",
       "      <td>15772979</td>\n",
       "      <td>brazil</td>\n",
       "    </tr>\n",
       "    <tr>\n",
       "      <th>7</th>\n",
       "      <td>SM_V7_1</td>\n",
       "      <td>34234733</td>\n",
       "      <td>35105276</td>\n",
       "      <td>brazil</td>\n",
       "    </tr>\n",
       "    <tr>\n",
       "      <th>8</th>\n",
       "      <td>SM_V7_3</td>\n",
       "      <td>30092830</td>\n",
       "      <td>31936551</td>\n",
       "      <td>brazil</td>\n",
       "    </tr>\n",
       "    <tr>\n",
       "      <th>9</th>\n",
       "      <td>SM_V7_2</td>\n",
       "      <td>29220788</td>\n",
       "      <td>29604570</td>\n",
       "      <td>brazil</td>\n",
       "    </tr>\n",
       "    <tr>\n",
       "      <th>10</th>\n",
       "      <td>SM_V7_6</td>\n",
       "      <td>11468141</td>\n",
       "      <td>11631927</td>\n",
       "      <td>brazil</td>\n",
       "    </tr>\n",
       "  </tbody>\n",
       "</table>\n",
       "</div>"
      ],
      "text/plain": [
       "      chrom     start      stop      pop\n",
       "0   SM_V7_1  56295674  58355356    niger\n",
       "1   SM_V7_1  60733736  62145588    niger\n",
       "2   SM_V7_4  31216154  32138352    niger\n",
       "3   SM_V7_3  22786583  24999268  senegal\n",
       "4   SM_V7_3  30092830  32970510  senegal\n",
       "5   SM_V7_4  31216154  32881663  senegal\n",
       "6   SM_V7_1  14832351  15772979   brazil\n",
       "7   SM_V7_1  34234733  35105276   brazil\n",
       "8   SM_V7_3  30092830  31936551   brazil\n",
       "9   SM_V7_2  29220788  29604570   brazil\n",
       "10  SM_V7_6  11468141  11631927   brazil"
      ]
     },
     "execution_count": 489,
     "metadata": {},
     "output_type": "execute_result"
    }
   ],
   "source": [
    "regions_df"
   ]
  },
  {
   "cell_type": "code",
   "execution_count": 442,
   "metadata": {},
   "outputs": [
    {
     "data": {
      "text/html": [
       "<div>\n",
       "<style scoped>\n",
       "    .dataframe tbody tr th:only-of-type {\n",
       "        vertical-align: middle;\n",
       "    }\n",
       "\n",
       "    .dataframe tbody tr th {\n",
       "        vertical-align: top;\n",
       "    }\n",
       "\n",
       "    .dataframe thead th {\n",
       "        text-align: right;\n",
       "    }\n",
       "</style>\n",
       "<table border=\"1\" class=\"dataframe\">\n",
       "  <thead>\n",
       "    <tr style=\"text-align: right;\">\n",
       "      <th></th>\n",
       "      <th>pi</th>\n",
       "      <th>start</th>\n",
       "      <th>stop</th>\n",
       "      <th>n_bases</th>\n",
       "      <th>n_snps</th>\n",
       "      <th>chrom</th>\n",
       "    </tr>\n",
       "  </thead>\n",
       "  <tbody>\n",
       "    <tr>\n",
       "      <th>2591</th>\n",
       "      <td>0.001151</td>\n",
       "      <td>327295.0</td>\n",
       "      <td>427294.0</td>\n",
       "      <td>975.0</td>\n",
       "      <td>63.0</td>\n",
       "      <td>SM_V7_6</td>\n",
       "    </tr>\n",
       "    <tr>\n",
       "      <th>2595</th>\n",
       "      <td>0.000055</td>\n",
       "      <td>727295.0</td>\n",
       "      <td>827294.0</td>\n",
       "      <td>1173.0</td>\n",
       "      <td>13.0</td>\n",
       "      <td>SM_V7_6</td>\n",
       "    </tr>\n",
       "    <tr>\n",
       "      <th>2596</th>\n",
       "      <td>0.000353</td>\n",
       "      <td>827295.0</td>\n",
       "      <td>927294.0</td>\n",
       "      <td>3839.0</td>\n",
       "      <td>84.0</td>\n",
       "      <td>SM_V7_6</td>\n",
       "    </tr>\n",
       "    <tr>\n",
       "      <th>2597</th>\n",
       "      <td>0.000372</td>\n",
       "      <td>927295.0</td>\n",
       "      <td>1027294.0</td>\n",
       "      <td>4948.0</td>\n",
       "      <td>159.0</td>\n",
       "      <td>SM_V7_6</td>\n",
       "    </tr>\n",
       "    <tr>\n",
       "      <th>2598</th>\n",
       "      <td>0.000659</td>\n",
       "      <td>1027295.0</td>\n",
       "      <td>1127294.0</td>\n",
       "      <td>2688.0</td>\n",
       "      <td>123.0</td>\n",
       "      <td>SM_V7_6</td>\n",
       "    </tr>\n",
       "    <tr>\n",
       "      <th>...</th>\n",
       "      <td>...</td>\n",
       "      <td>...</td>\n",
       "      <td>...</td>\n",
       "      <td>...</td>\n",
       "      <td>...</td>\n",
       "      <td>...</td>\n",
       "    </tr>\n",
       "    <tr>\n",
       "      <th>2832</th>\n",
       "      <td>0.000315</td>\n",
       "      <td>24427295.0</td>\n",
       "      <td>24527294.0</td>\n",
       "      <td>7086.0</td>\n",
       "      <td>252.0</td>\n",
       "      <td>SM_V7_6</td>\n",
       "    </tr>\n",
       "    <tr>\n",
       "      <th>2834</th>\n",
       "      <td>0.000880</td>\n",
       "      <td>24627295.0</td>\n",
       "      <td>24727294.0</td>\n",
       "      <td>5293.0</td>\n",
       "      <td>198.0</td>\n",
       "      <td>SM_V7_6</td>\n",
       "    </tr>\n",
       "    <tr>\n",
       "      <th>2835</th>\n",
       "      <td>0.000491</td>\n",
       "      <td>24727295.0</td>\n",
       "      <td>24827294.0</td>\n",
       "      <td>5704.0</td>\n",
       "      <td>275.0</td>\n",
       "      <td>SM_V7_6</td>\n",
       "    </tr>\n",
       "    <tr>\n",
       "      <th>2836</th>\n",
       "      <td>0.000447</td>\n",
       "      <td>24827295.0</td>\n",
       "      <td>24927294.0</td>\n",
       "      <td>2433.0</td>\n",
       "      <td>99.0</td>\n",
       "      <td>SM_V7_6</td>\n",
       "    </tr>\n",
       "    <tr>\n",
       "      <th>2837</th>\n",
       "      <td>0.000035</td>\n",
       "      <td>24927295.0</td>\n",
       "      <td>24955681.0</td>\n",
       "      <td>1197.0</td>\n",
       "      <td>37.0</td>\n",
       "      <td>SM_V7_6</td>\n",
       "    </tr>\n",
       "  </tbody>\n",
       "</table>\n",
       "<p>239 rows × 6 columns</p>\n",
       "</div>"
      ],
      "text/plain": [
       "            pi       start        stop  n_bases  n_snps    chrom\n",
       "2591  0.001151    327295.0    427294.0    975.0    63.0  SM_V7_6\n",
       "2595  0.000055    727295.0    827294.0   1173.0    13.0  SM_V7_6\n",
       "2596  0.000353    827295.0    927294.0   3839.0    84.0  SM_V7_6\n",
       "2597  0.000372    927295.0   1027294.0   4948.0   159.0  SM_V7_6\n",
       "2598  0.000659   1027295.0   1127294.0   2688.0   123.0  SM_V7_6\n",
       "...        ...         ...         ...      ...     ...      ...\n",
       "2832  0.000315  24427295.0  24527294.0   7086.0   252.0  SM_V7_6\n",
       "2834  0.000880  24627295.0  24727294.0   5293.0   198.0  SM_V7_6\n",
       "2835  0.000491  24727295.0  24827294.0   5704.0   275.0  SM_V7_6\n",
       "2836  0.000447  24827295.0  24927294.0   2433.0    99.0  SM_V7_6\n",
       "2837  0.000035  24927295.0  24955681.0   1197.0    37.0  SM_V7_6\n",
       "\n",
       "[239 rows x 6 columns]"
      ]
     },
     "execution_count": 442,
     "metadata": {},
     "output_type": "execute_result"
    }
   ],
   "source": [
    "#df=pi_dfs[pop].loc[pi_dfs[pop][\"chrom\"] == chrom]\n",
    "df"
   ]
  },
  {
   "cell_type": "code",
   "execution_count": 410,
   "metadata": {},
   "outputs": [
    {
     "data": {
      "text/plain": [
       "0.0014511327938964362"
      ]
     },
     "execution_count": 410,
     "metadata": {},
     "output_type": "execute_result"
    }
   ],
   "source": [
    "#get ylims from pis\n",
    "pis=np.array([])\n",
    "for pop in [\"brazil\", \"tanzania\", \"niger\", \"senegal\"]:\n",
    "    pis=np.append(pis, pi_dfs[pop][\"pi\"])\n",
    "    \n",
    "min_pi=pis[pis>0].min()\n",
    "max_pi=pis[pis>0].max()\n",
    "\n",
    "#set up figure\n",
    "fig, axs = plt.subplots(4, sharex=True, gridspec_kw={'hspace': 0.1}, figsize=(12, 6)) #gridspec_kw={'hspace': 0.1}\n",
    "\n",
    "#plot scatter for pi and each pop\n",
    "i=0\n",
    "for pop in [\"niger\", \"senegal\", \"brazil\", \"tanzania\"]:\n",
    "\n",
    "    ########################\n",
    "    # normal pi\n",
    "    ########################\n",
    "    #add info for figure including x position and the point color\n",
    "    cs=[]\n",
    "    xs=[]\n",
    "    for index, row in pi_dfs[pop].iterrows():\n",
    "        pos=(row[\"start\"] + row[\"stop\"])/2\n",
    "        cs.append(colors[row[\"chrom\"]])\n",
    "        xs.append(cumul_start[row[\"chrom\"]] + pos)\n",
    "\n",
    "    #get data without missing values\n",
    "    pis=pi_dfs[pop][\"pi\"]\n",
    "    \n",
    "    #plot\n",
    "    axs[i].scatter(xs, pis, marker =\".\", c = cs)\n",
    "\n",
    "    #add line at mean pi\n",
    "    axs[i].axhline(y=pis.mean(), xmin=0, xmax=scanned_size, color=\"red\", linewidth=3, alpha=0.5)\n",
    "    \n",
    "    \n",
    "    ########################\n",
    "    # sig pi\n",
    "    ########################\n",
    "    xs=[]\n",
    "    spi_df=sig_pi_df.loc[sig_pi_df[\"pop\"] == pop]\n",
    "    \n",
    "    for index, row in spi_df.iterrows():\n",
    "        pos=(row[\"start\"] + row[\"stop\"])/2\n",
    "        xs.append(cumul_start[row[\"chrom\"]] + pos)\n",
    "        \n",
    "    spis=spi_df[\"pi\"]\n",
    "    axs[i].scatter(xs, spis, marker =\".\", c = \"dodgerblue\")\n",
    "               \n",
    "    #make the axis labeling\n",
    "    axs[i].set_ylabel(\"{}\".format(pop.title()), fontsize=12)\n",
    "    axs[i].set_yscale('log')\n",
    "    axs[i].set_ylim(min_pi,max_pi)\n",
    "   \n",
    "    #increment to the next population (and subplot)\n",
    "    i=i+1\n",
    "    \n",
    "# #add tick \n",
    "tick_lbls = [ \"1\", \"2\", \"3\", \"4\", \"5\", \"6\" ,\"7\"]\n",
    "plt.setp(axs, xticks=ticks, xticklabels=tick_lbls)\n",
    "\n",
    "# #set xlims\n",
    "plt.xlim(0, scanned_size)\n",
    "plt.xlabel(\"Chromosomes\", fontsize=14)\n",
    "\n",
    "# #set the title\n",
    "title=\"$\\pi$\"\n",
    "fig.suptitle(title, fontsize=14)\n",
    "    \n",
    "# #plt.tight_layout()\n",
    "\n",
    "fig.savefig(\"results/selection_peaks/pi_across_the_genome.png\".format(pop), dpi=300)\n",
    "# #fig.savefig(\"results/selection_peaks/pi_across_the_genome.svg\".format(pop)) \n",
    "plt.show()\n",
    "plt.close()"
   ]
  },
  {
   "cell_type": "code",
   "execution_count": 219,
   "metadata": {},
   "outputs": [
    {
     "name": "stderr",
     "output_type": "stream",
     "text": [
      "100%|██████████████████████████████████████████████████████████████████████████████████████████████████████████████████████████████████████████| 4/4 [00:04<00:00,  1.08s/it]\n"
     ]
    },
    {
     "data": {
      "image/png": "[encoded data removed]",
      "text/plain": [
       "<Figure size 864x432 with 4 Axes>"
      ]
     },
     "metadata": {
      "needs_background": "light"
     },
     "output_type": "display_data"
    }
   ],
   "source": [
    "#set up figure\n",
    "fig, axs = plt.subplots(4, sharex=True, gridspec_kw={'hspace': 0.1}, figsize=(12, 6)) #gridspec_kw={'hspace': 0.1}\n",
    "\n",
    "#plot scatter for pi and each pop\n",
    "i=0\n",
    "for pop in tqdm([\"niger\", \"senegal\", \"brazil\", \"tanzania\"]):\n",
    "\n",
    "    #get data without missing values\n",
    "    df=dfs[pop].dropna()\n",
    "\n",
    "    #plot\n",
    "    axs[i].scatter(df[\"x\"], df[\"pi\"], marker =\".\", s = 1, c = df['colors'])\n",
    "\n",
    "    #make the axis labeling\n",
    "    #axs[0].ticklabel_format(axis='y', style='sci')\n",
    "    axs[i].set_ylabel(\"{}\".format(pop.title()), fontsize=12)\n",
    "    axs[i].set_yscale('log')\n",
    "    \n",
    "    #increment to the next population (and subplot)\n",
    "    i=i+1\n",
    "    \n",
    "#add tick \n",
    "tick_lbls = [ \"1\", \"2\", \"3\", \"4\", \"5\", \"6\" ,\"7\"]\n",
    "plt.setp(axs, xticks=ticks, xticklabels=tick_lbls)\n",
    "\n",
    "#set xlims\n",
    "plt.xlim(0, scanned_size)\n",
    "plt.xlabel(\"Chromosomes\", fontsize=14)\n",
    "#set the title\n",
    "title=\"$\\pi$\"\n",
    "fig.suptitle(title, fontsize=14)\n",
    "    \n",
    "#plt.tight_layout()\n",
    "\n",
    "#fig.savefig(\"results/selection_peaks/pi_across_the_genome.png\".format(pop), dpi=300)\n",
    "#fig.savefig(\"results/selection_peaks/pi_across_the_genome.svg\".format(pop)) \n",
    "plt.show()\n",
    "plt.close()\n",
    "    "
   ]
  },
  {
   "cell_type": "code",
   "execution_count": 238,
   "metadata": {},
   "outputs": [],
   "source": [
    "for pop in [\"pop=\"niger\"\n",
    "df=dfs[pop].dropna(subset=[\"pi\"])"
   ]
  },
  {
   "cell_type": "code",
   "execution_count": 238,
   "metadata": {},
   "outputs": [
    {
     "data": {
      "text/plain": [
       "0.00021859276556098462"
      ]
     },
     "execution_count": 238,
     "metadata": {},
     "output_type": "execute_result"
    }
   ],
   "source": [
    "df.loc[df[\"colors\"] == colors[\"sig\"]][\"pi\"].mean()"
   ]
  },
  {
   "cell_type": "code",
   "execution_count": 239,
   "metadata": {},
   "outputs": [
    {
     "data": {
      "text/plain": [
       "0.0005764752415999917"
      ]
     },
     "execution_count": 239,
     "metadata": {},
     "output_type": "execute_result"
    }
   ],
   "source": [
    "df.loc[df[\"colors\"] != colors[\"sig\"]][\"pi\"].mean()"
   ]
  },
  {
   "cell_type": "markdown",
   "metadata": {},
   "source": [
    "## Pi in regions of interest vs. others."
   ]
  },
  {
   "cell_type": "code",
   "execution_count": 42,
   "metadata": {
    "ExecuteTime": {
     "end_time": "2021-02-13T23:36:39.659513Z",
     "start_time": "2021-02-13T23:36:37.392143Z"
    }
   },
   "outputs": [
    {
     "data": {
      "text/html": [
       "<div>\n",
       "<style scoped>\n",
       "    .dataframe tbody tr th:only-of-type {\n",
       "        vertical-align: middle;\n",
       "    }\n",
       "\n",
       "    .dataframe tbody tr th {\n",
       "        vertical-align: top;\n",
       "    }\n",
       "\n",
       "    .dataframe thead th {\n",
       "        text-align: right;\n",
       "    }\n",
       "</style>\n",
       "<table border=\"1\" class=\"dataframe\">\n",
       "  <thead>\n",
       "    <tr style=\"text-align: right;\">\n",
       "      <th></th>\n",
       "      <th>chrom</th>\n",
       "      <th>start</th>\n",
       "      <th>stop</th>\n",
       "      <th>pop</th>\n",
       "    </tr>\n",
       "  </thead>\n",
       "  <tbody>\n",
       "    <tr>\n",
       "      <th>0</th>\n",
       "      <td>SM_V7_1</td>\n",
       "      <td>56295674</td>\n",
       "      <td>58355356</td>\n",
       "      <td>niger</td>\n",
       "    </tr>\n",
       "    <tr>\n",
       "      <th>1</th>\n",
       "      <td>SM_V7_1</td>\n",
       "      <td>60733736</td>\n",
       "      <td>62145588</td>\n",
       "      <td>niger</td>\n",
       "    </tr>\n",
       "    <tr>\n",
       "      <th>2</th>\n",
       "      <td>SM_V7_4</td>\n",
       "      <td>31216154</td>\n",
       "      <td>32138352</td>\n",
       "      <td>niger</td>\n",
       "    </tr>\n",
       "    <tr>\n",
       "      <th>3</th>\n",
       "      <td>SM_V7_3</td>\n",
       "      <td>22786583</td>\n",
       "      <td>24999268</td>\n",
       "      <td>senegal</td>\n",
       "    </tr>\n",
       "    <tr>\n",
       "      <th>4</th>\n",
       "      <td>SM_V7_3</td>\n",
       "      <td>30092830</td>\n",
       "      <td>32970510</td>\n",
       "      <td>senegal</td>\n",
       "    </tr>\n",
       "    <tr>\n",
       "      <th>5</th>\n",
       "      <td>SM_V7_4</td>\n",
       "      <td>31216154</td>\n",
       "      <td>32881663</td>\n",
       "      <td>senegal</td>\n",
       "    </tr>\n",
       "    <tr>\n",
       "      <th>6</th>\n",
       "      <td>SM_V7_1</td>\n",
       "      <td>14832351</td>\n",
       "      <td>15772979</td>\n",
       "      <td>brazil</td>\n",
       "    </tr>\n",
       "    <tr>\n",
       "      <th>7</th>\n",
       "      <td>SM_V7_1</td>\n",
       "      <td>34234733</td>\n",
       "      <td>35105276</td>\n",
       "      <td>brazil</td>\n",
       "    </tr>\n",
       "    <tr>\n",
       "      <th>8</th>\n",
       "      <td>SM_V7_3</td>\n",
       "      <td>30092830</td>\n",
       "      <td>31936551</td>\n",
       "      <td>brazil</td>\n",
       "    </tr>\n",
       "    <tr>\n",
       "      <th>9</th>\n",
       "      <td>SM_V7_2</td>\n",
       "      <td>29220788</td>\n",
       "      <td>29604570</td>\n",
       "      <td>brazil</td>\n",
       "    </tr>\n",
       "    <tr>\n",
       "      <th>10</th>\n",
       "      <td>SM_V7_6</td>\n",
       "      <td>11468141</td>\n",
       "      <td>11631927</td>\n",
       "      <td>brazil</td>\n",
       "    </tr>\n",
       "  </tbody>\n",
       "</table>\n",
       "</div>"
      ],
      "text/plain": [
       "      chrom     start      stop      pop\n",
       "0   SM_V7_1  56295674  58355356    niger\n",
       "1   SM_V7_1  60733736  62145588    niger\n",
       "2   SM_V7_4  31216154  32138352    niger\n",
       "3   SM_V7_3  22786583  24999268  senegal\n",
       "4   SM_V7_3  30092830  32970510  senegal\n",
       "5   SM_V7_4  31216154  32881663  senegal\n",
       "6   SM_V7_1  14832351  15772979   brazil\n",
       "7   SM_V7_1  34234733  35105276   brazil\n",
       "8   SM_V7_3  30092830  31936551   brazil\n",
       "9   SM_V7_2  29220788  29604570   brazil\n",
       "10  SM_V7_6  11468141  11631927   brazil"
      ]
     },
     "execution_count": 42,
     "metadata": {},
     "output_type": "execute_result"
    }
   ],
   "source": [
    "#read in bed file\n",
    "sig_regions_bed_df = pd.read_table('results/selection_peaks/peaks.bed', sep=\"\\t\", header=None)\n",
    "sig_regions_bed_df.columns=[\"chrom\", \"start\", \"stop\", \"pop\"]\n",
    "sig_regions_bed_df"
   ]
  },
  {
   "cell_type": "code",
   "execution_count": 43,
   "metadata": {
    "ExecuteTime": {
     "end_time": "2021-02-13T23:34:49.442880Z",
     "start_time": "2021-02-13T23:34:49.400192Z"
    }
   },
   "outputs": [],
   "source": [
    "with open('data/pop_assign.yml') as yaml_file:\n",
    "    pop_assign = yaml.load(yaml_file, Loader=yaml.FullLoader)"
   ]
  },
  {
   "cell_type": "code",
   "execution_count": 44,
   "metadata": {
    "ExecuteTime": {
     "end_time": "2021-02-13T23:35:12.462230Z",
     "start_time": "2021-02-13T23:34:51.781455Z"
    }
   },
   "outputs": [],
   "source": [
    "#-------------------------------------------------------------------------------\n",
    "# get genotype info per population\n",
    "\n",
    "#read in vcf\n",
    "filtered_callset=allel.read_vcf('results/variant_filtration/smv7_ex_autosomes.vcf')\n",
    "\n",
    "#now get an index for each sample/population\n",
    "samples = filtered_callset[\"samples\"]\n",
    "\n",
    "i=0\n",
    "pop_idxs = defaultdict(list)   \n",
    "for sample in samples:  \n",
    "    pop_idxs[pop_assign[sample]].append(i) \n",
    "    i=i+1\n",
    "\n",
    "pops= list(pop_idxs.keys()) \n",
    "\n",
    "#get genotypes\n",
    "gt=allel.GenotypeArray(filtered_callset['calldata/GT'])\n",
    "\n",
    "#now get allele count per population\n",
    "ac=gt.count_alleles()\n",
    "\n",
    "pop_ac={}\n",
    "for pop in pops:\n",
    "    pop_ac[pop] = gt.count_alleles(subpop=pop_idxs[pop])"
   ]
  },
  {
   "cell_type": "code",
   "execution_count": 45,
   "metadata": {
    "ExecuteTime": {
     "end_time": "2021-02-13T23:35:16.541258Z",
     "start_time": "2021-02-13T23:35:12.465002Z"
    }
   },
   "outputs": [],
   "source": [
    "#initialize an list the lenght of each contig to fale\n",
    "accessible_bases = {}\n",
    "chrom_length = {}\n",
    "\n",
    "with open('data/genomes/Smansoni_v7.fa.fai', 'r') as fai:\n",
    "    for entry in fai:\n",
    "        chrom, length, *offset = entry.rstrip().split(\"\\t\")\n",
    "        chrom_length[chrom] = int(length)\n",
    "        accessible_bases[chrom]=[False] * int(length)\n",
    "\n",
    "\n",
    "#now read the bed\n",
    "with open('data/renamed-sma_agilent_baits.v7.0.chr_reorderd.bed', 'r') as in_bed_file:\n",
    "    for bed_entry in in_bed_file:\n",
    "        chrom, start, stop = bed_entry.rstrip().split(\"\\t\")\n",
    "        for base in range(int(start) - 1, int(stop)):\n",
    "             accessible_bases[chrom][base]=True\n"
   ]
  },
  {
   "cell_type": "code",
   "execution_count": 47,
   "metadata": {
    "ExecuteTime": {
     "end_time": "2021-02-13T23:48:44.723900Z",
     "start_time": "2021-02-13T23:48:19.159537Z"
    }
   },
   "outputs": [
    {
     "data": {
      "text/html": [
       "<div>\n",
       "<style scoped>\n",
       "    .dataframe tbody tr th:only-of-type {\n",
       "        vertical-align: middle;\n",
       "    }\n",
       "\n",
       "    .dataframe tbody tr th {\n",
       "        vertical-align: top;\n",
       "    }\n",
       "\n",
       "    .dataframe thead th {\n",
       "        text-align: right;\n",
       "    }\n",
       "</style>\n",
       "<table border=\"1\" class=\"dataframe\">\n",
       "  <thead>\n",
       "    <tr style=\"text-align: right;\">\n",
       "      <th></th>\n",
       "      <th>chrom</th>\n",
       "      <th>start</th>\n",
       "      <th>stop</th>\n",
       "      <th>pop</th>\n",
       "      <th>pi</th>\n",
       "    </tr>\n",
       "  </thead>\n",
       "  <tbody>\n",
       "    <tr>\n",
       "      <th>0</th>\n",
       "      <td>SM_V7_1</td>\n",
       "      <td>56295674</td>\n",
       "      <td>58355356</td>\n",
       "      <td>niger</td>\n",
       "      <td>0.001018</td>\n",
       "    </tr>\n",
       "    <tr>\n",
       "      <th>1</th>\n",
       "      <td>SM_V7_1</td>\n",
       "      <td>60733736</td>\n",
       "      <td>62145588</td>\n",
       "      <td>niger</td>\n",
       "      <td>0.000574</td>\n",
       "    </tr>\n",
       "    <tr>\n",
       "      <th>2</th>\n",
       "      <td>SM_V7_4</td>\n",
       "      <td>31216154</td>\n",
       "      <td>32138352</td>\n",
       "      <td>niger</td>\n",
       "      <td>0.000918</td>\n",
       "    </tr>\n",
       "    <tr>\n",
       "      <th>3</th>\n",
       "      <td>SM_V7_3</td>\n",
       "      <td>22786583</td>\n",
       "      <td>24999268</td>\n",
       "      <td>senegal</td>\n",
       "      <td>0.001378</td>\n",
       "    </tr>\n",
       "    <tr>\n",
       "      <th>4</th>\n",
       "      <td>SM_V7_3</td>\n",
       "      <td>30092830</td>\n",
       "      <td>32970510</td>\n",
       "      <td>senegal</td>\n",
       "      <td>0.001052</td>\n",
       "    </tr>\n",
       "    <tr>\n",
       "      <th>5</th>\n",
       "      <td>SM_V7_4</td>\n",
       "      <td>31216154</td>\n",
       "      <td>32881663</td>\n",
       "      <td>senegal</td>\n",
       "      <td>0.001094</td>\n",
       "    </tr>\n",
       "    <tr>\n",
       "      <th>6</th>\n",
       "      <td>SM_V7_1</td>\n",
       "      <td>14832351</td>\n",
       "      <td>15772979</td>\n",
       "      <td>brazil</td>\n",
       "      <td>0.000965</td>\n",
       "    </tr>\n",
       "    <tr>\n",
       "      <th>7</th>\n",
       "      <td>SM_V7_1</td>\n",
       "      <td>34234733</td>\n",
       "      <td>35105276</td>\n",
       "      <td>brazil</td>\n",
       "      <td>0.000592</td>\n",
       "    </tr>\n",
       "    <tr>\n",
       "      <th>8</th>\n",
       "      <td>SM_V7_3</td>\n",
       "      <td>30092830</td>\n",
       "      <td>31936551</td>\n",
       "      <td>brazil</td>\n",
       "      <td>0.001184</td>\n",
       "    </tr>\n",
       "    <tr>\n",
       "      <th>9</th>\n",
       "      <td>SM_V7_2</td>\n",
       "      <td>29220788</td>\n",
       "      <td>29604570</td>\n",
       "      <td>brazil</td>\n",
       "      <td>0.001077</td>\n",
       "    </tr>\n",
       "    <tr>\n",
       "      <th>10</th>\n",
       "      <td>SM_V7_6</td>\n",
       "      <td>11468141</td>\n",
       "      <td>11631927</td>\n",
       "      <td>brazil</td>\n",
       "      <td>0.000842</td>\n",
       "    </tr>\n",
       "  </tbody>\n",
       "</table>\n",
       "</div>"
      ],
      "text/plain": [
       "      chrom     start      stop      pop        pi\n",
       "0   SM_V7_1  56295674  58355356    niger  0.001018\n",
       "1   SM_V7_1  60733736  62145588    niger  0.000574\n",
       "2   SM_V7_4  31216154  32138352    niger  0.000918\n",
       "3   SM_V7_3  22786583  24999268  senegal  0.001378\n",
       "4   SM_V7_3  30092830  32970510  senegal  0.001052\n",
       "5   SM_V7_4  31216154  32881663  senegal  0.001094\n",
       "6   SM_V7_1  14832351  15772979   brazil  0.000965\n",
       "7   SM_V7_1  34234733  35105276   brazil  0.000592\n",
       "8   SM_V7_3  30092830  31936551   brazil  0.001184\n",
       "9   SM_V7_2  29220788  29604570   brazil  0.001077\n",
       "10  SM_V7_6  11468141  11631927   brazil  0.000842"
      ]
     },
     "execution_count": 47,
     "metadata": {},
     "output_type": "execute_result"
    }
   ],
   "source": [
    "pi_s=[]\n",
    "#accessible_base_count_s=[]\n",
    "\n",
    "for index, row in sig_regions_bed_df.iterrows():\n",
    "    chrom =row[\"chrom\"]\n",
    "    start = row[\"start\"]\n",
    "    stop  = row[\"stop\"]\n",
    "    \n",
    "    #calculate pi\n",
    "    test_ac  = pop_ac[pop][filtered_callset['variants/CHROM'] == chrom]\n",
    "    test_pos = filtered_callset['variants/POS'][filtered_callset['variants/CHROM'] == chrom]\n",
    "    test_acc = accessible_bases[chrom]\n",
    "    \n",
    "    pi = allel.sequence_diversity(test_pos, \n",
    "                                  test_ac, \n",
    "                                  start=start, \n",
    "                                  stop=stop, \n",
    "                                  is_accessible=test_acc)\n",
    "    pi_s.append(pi)\n",
    "    #np.sum(test_acc[start:stop]) \n",
    "\n",
    "sig_regions_bed_df[\"pi\"]=pi_s\n",
    "sig_regions_bed_df.to_csv(\"sig_regions_pi.csv\", sep=\",\")\n",
    "sig_regions_bed_df"
   ]
  },
  {
   "cell_type": "code",
   "execution_count": 92,
   "metadata": {},
   "outputs": [],
   "source": [
    "pi_dfs={}\n",
    "\n",
    "for pop in [\"brazil\", \"senegal\", \"niger\", \"tanzania\", \"caribbean\", \"rodhaini\"]:\n",
    "    pi_dfs[pop] =pd.read_csv(\"results/pi/pi_boxplot_100kb_windows_{}.csv\".format(pop), sep=\",\")"
   ]
  },
  {
   "cell_type": "code",
   "execution_count": 96,
   "metadata": {},
   "outputs": [
    {
     "data": {
      "image/png": "[encoded data removed]",
      "text/plain": [
       "<Figure size 432x288 with 1 Axes>"
      ]
     },
     "metadata": {
      "needs_background": "light"
     },
     "output_type": "display_data"
    }
   ],
   "source": [
    "plt.boxplot([pi_dfs[\"caribbean\"][pi_dfs[\"caribbean\"][\"n_snps\"]>25][\"pi\"],\n",
    "             pi_dfs[\"brazil\"][pi_dfs[\"brazil\"][\"n_snps\"]>25][\"pi\"],\n",
    "             pi_dfs[\"senegal\"][pi_dfs[\"senegal\"][\"n_snps\"]>25][\"pi\"],\n",
    "             pi_dfs[\"niger\"][pi_dfs[\"niger\"][\"n_snps\"]>25][\"pi\"], \n",
    "             pi_dfs[\"tanzania\"][pi_dfs[\"tanzania\"][\"n_snps\"]>25][\"pi\"],\n",
    "             pi_dfs[\"rodhaini\"][pi_dfs[\"rodhaini\"][\"n_snps\"]>25][\"pi\"]],\n",
    "            showfliers=False, \n",
    "            notch=True,\n",
    "            labels=[\"Caribbean\", \"Brazil\", \"Senegal\", \"Niger\", \"Tanzania\", \"$\\it{S. rodhaini}$\"],\n",
    "            medianprops=dict(color=\"black\", lw=1))\n",
    "plt.xlabel(\"Population\", fontsize=12)\n",
    "plt.ylabel(\"$\\pi$\", fontsize=14)\n",
    "\n",
    "\n",
    "x_pos={\"caribbean\" : 1,\n",
    "       \"brazil\"    : 2,\n",
    "       \"senegal\"   : 3,\n",
    "       \"niger\"     : 4,\n",
    "       \"tanzania\"  : 5,\n",
    "       \"rodhaini\"  : 6 }\n",
    "\n",
    "for index, row in sig_regions_bed_df.iterrows():\n",
    "    x=x_pos[row[\"pop\"]]\n",
    "    y=row[\"pi\"]\n",
    "    plt.plot(x, y, 'b.', markersize=12)\n",
    "#plt.savefig(\"results/pi/pi_boxplot_100kb_windows_wpeaks.svg\")\n",
    "#plt.savefig(\"results/pi/pi_boxplot_100kb_windows_wpeaks.png\", dpi=300)\n",
    "plt.show()"
   ]
  },
  {
   "cell_type": "code",
   "execution_count": 98,
   "metadata": {},
   "outputs": [],
   "source": [
    "#re-add pi_trees\n",
    "dfs={}\n",
    "pis={}\n",
    "\n",
    "for pop in sig_regions_bed_df[\"pop\"].unique():\n",
    "    #print(pop)\n",
    "    \n",
    "    # LOAD PI TREES\n",
    "    #designate files and read into dfs\n",
    "    pi_file    = \"results/pi/pi_boxplot_100kb_windows_{}.csv\".format(pop)\n",
    "    \n",
    "    #read in to dfs    \n",
    "    pi_df    = pd.read_csv(pi_file, sep=\",\").dropna()\n",
    "   \n",
    "    #create empty interval trees to store the data\n",
    "    pi_trees=defaultdict(lambda: IntervalTree())\n",
    "\n",
    "    #for each stat, add the values to the interval tree\n",
    "    for index, row in pi_df[pi_df[\"n_snps\"]>25].iterrows():\n",
    "         pi_trees[row[\"chrom\"]][row[\"start\"]: row[\"stop\"]] = row[\"pi\"]   \n",
    "            \n",
    "   #now get pi 2.5 and 97.5th percentiles\n",
    "    pis=list(pi_df.dropna()[\"pi\"])\n",
    "    top=stats.scoreatpercentile(pis, 97.5)\n",
    "    bottom=stats.scoreatpercentile(pis, 2.5)\n",
    "\n",
    "    \n",
    "    #now get sig regions for this pop\n",
    "    df = sig_regions_bed_df.loc[sig_regions_bed_df[\"pop\"] == pop]\n"
   ]
  },
  {
   "cell_type": "code",
   "execution_count": 101,
   "metadata": {},
   "outputs": [],
   "source": [
    "for index, row in df.iterrows():\n",
    "    chrom = row[\"chrom\"]\n",
    "    start = row[\"start\"]\n",
    "    stop = row[\"stop\"]\n",
    "    #pi_trees[chrom][start: stop]   "
   ]
  },
  {
   "cell_type": "code",
   "execution_count": 102,
   "metadata": {},
   "outputs": [
    {
     "data": {
      "text/plain": [
       "{Interval(11427295.0, 11527294.0, 0.0001211085716625),\n",
       " Interval(11527295.0, 11627294.0, 9.457895097928676e-05),\n",
       " Interval(11627295.0, 11727294.0, 0.0006128269677566)}"
      ]
     },
     "execution_count": 102,
     "metadata": {},
     "output_type": "execute_result"
    }
   ],
   "source": [
    "pi_trees[chrom][start: stop]   "
   ]
  },
  {
   "cell_type": "code",
   "execution_count": 111,
   "metadata": {},
   "outputs": [],
   "source": [
    "chroms = filtered_callset['variants/CHROM']\n",
    "pos = filtered_callset['variants/POS']\n",
    "\n"
   ]
  },
  {
   "cell_type": "code",
   "execution_count": 108,
   "metadata": {},
   "outputs": [],
   "source": [
    "windows=allel.equally_accessible_windows(accessible_bases[\"SM_V7_1\"], 100)    "
   ]
  },
  {
   "cell_type": "code",
   "execution_count": 114,
   "metadata": {},
   "outputs": [
    {
     "data": {
      "text/plain": [
       "8112"
      ]
     },
     "execution_count": 114,
     "metadata": {},
     "output_type": "execute_result"
    }
   ],
   "source": [
    "len(windows)"
   ]
  },
  {
   "cell_type": "code",
   "execution_count": 115,
   "metadata": {},
   "outputs": [
    {
     "data": {
      "text/plain": [
       "162219"
      ]
     },
     "execution_count": 115,
     "metadata": {},
     "output_type": "execute_result"
    }
   ],
   "source": [
    "len(chr_pos)"
   ]
  },
  {
   "cell_type": "code",
   "execution_count": 119,
   "metadata": {},
   "outputs": [],
   "source": [
    "chr_pos = pos[chroms == \"SM_V7_1\"]"
   ]
  },
  {
   "cell_type": "code",
   "execution_count": 121,
   "metadata": {},
   "outputs": [
    {
     "data": {
      "text/html": [
       "<div class=\"allel allel-DisplayAs2D\"><span>&lt;AlleleCountsArray shape=(162219, 2) dtype=int32&gt;</span><table><thead><tr><th></th><th style=\"text-align: center\">0</th><th style=\"text-align: center\">1</th></tr></thead><tbody><tr><th style=\"text-align: center; background-color: white; border-right: 1px solid black; \">0</th><td style=\"text-align: center\">46</td><td style=\"text-align: center\">44</td></tr><tr><th style=\"text-align: center; background-color: white; border-right: 1px solid black; \">1</th><td style=\"text-align: center\">71</td><td style=\"text-align: center\"> 3</td></tr><tr><th style=\"text-align: center; background-color: white; border-right: 1px solid black; \">2</th><td style=\"text-align: center\">77</td><td style=\"text-align: center\"> 1</td></tr><tr><th style=\"text-align: center; background-color: white; border-right: 1px solid black; \">...</th><td style=\"text-align: center\" colspan=\"3\">...</td></tr><tr><th style=\"text-align: center; background-color: white; border-right: 1px solid black; \">162216</th><td style=\"text-align: center\">80</td><td style=\"text-align: center\"> 0</td></tr><tr><th style=\"text-align: center; background-color: white; border-right: 1px solid black; \">162217</th><td style=\"text-align: center\">80</td><td style=\"text-align: center\"> 0</td></tr><tr><th style=\"text-align: center; background-color: white; border-right: 1px solid black; \">162218</th><td style=\"text-align: center\">62</td><td style=\"text-align: center\"> 0</td></tr></tbody></table></div>"
      ],
      "text/plain": [
       "<AlleleCountsArray shape=(162219, 2) dtype=int32>\n",
       "46 44\n",
       "71  3\n",
       "77  1\n",
       "...\n",
       "80  0\n",
       "80  0\n",
       "62  0"
      ]
     },
     "execution_count": 121,
     "metadata": {},
     "output_type": "execute_result"
    }
   ],
   "source": [
    "pop_ac[\"brazil\"][chroms == \"SM_V7_1\"]"
   ]
  },
  {
   "cell_type": "code",
   "execution_count": 192,
   "metadata": {},
   "outputs": [
    {
     "name": "stderr",
     "output_type": "stream",
     "text": [
      "/tmp/ipykernel_30238/898789741.py:24: RuntimeWarning: divide by zero encountered in log10\n",
      "  plt.boxplot(-np.log10(pi))\n",
      "/master/nplatt/sch_man_nwinvasion/envs/sch_man_nwinvasion-selection/lib/python3.9/site-packages/numpy/lib/function_base.py:4009: RuntimeWarning: invalid value encountered in subtract\n",
      "  diff_b_a = subtract(b, a)\n"
     ]
    },
    {
     "data": {
      "image/png": "[encoded data removed]",
      "text/plain": [
       "<Figure size 432x288 with 1 Axes>"
      ]
     },
     "metadata": {
      "needs_background": "light"
     },
     "output_type": "display_data"
    }
   ],
   "source": [
    "pop = \"niger\"\n",
    "chrom = \"SM_V7_1\"\n",
    "start = 14_832_351\n",
    "stop = 15_772_979\n",
    "\n",
    "chr_win =allel.equally_accessible_windows(accessible_bases[chrom], 250)    \n",
    "chr_pos = pos[chroms == chrom]\n",
    "chr_ac  = pop_ac[pop][chroms == chrom]\n",
    "\n",
    "pi, windows, n_bases, counts = allel.windowed_diversity(chr_pos, chr_ac, windows=chr_win)\n",
    "\n",
    "#filter with few snps\n",
    "pi=pi[counts>10]\n",
    "windows=windows[counts>10]\n",
    "n_bases=n_bases[counts>10]\n",
    "counts=counts[counts>10]\n",
    "\n",
    "#smoothed_pi=scipy.signal.medfilt(pi, 9)\n",
    "\n",
    "#plot\n",
    "xs = (windows[:,0] + windows[:,1])/2\n",
    "\n",
    "#plt.scatter(xs, -np.log10(smoothed_pi))\n",
    "plt.boxplot(-np.log10(pi))\n",
    "#plt.xlim(start, stop)\n",
    "#plt.ylim(0, 0.001)\n",
    "plt.show()"
   ]
  },
  {
   "cell_type": "code",
   "execution_count": 194,
   "metadata": {},
   "outputs": [
    {
     "data": {
      "text/plain": [
       "(array([ 12., 232., 499., 677., 388., 461., 315., 169.,  52.,  12.]),\n",
       " array([1.89854236, 2.3149151 , 2.73128784, 3.14766059, 3.56403333,\n",
       "        3.98040607, 4.39677881, 4.81315155, 5.2295243 , 5.64589704,\n",
       "        6.06226978]),\n",
       " <BarContainer object of 10 artists>)"
      ]
     },
     "execution_count": 194,
     "metadata": {},
     "output_type": "execute_result"
    },
    {
     "data": {
      "image/png": "[encoded data removed]",
      "text/plain": [
       "<Figure size 432x288 with 1 Axes>"
      ]
     },
     "metadata": {
      "needs_background": "light"
     },
     "output_type": "display_data"
    }
   ],
   "source": [
    "pi=pi[pi>0]\n",
    "plt.hist(-np.log10(pi))"
   ]
  },
  {
   "cell_type": "code",
   "execution_count": 196,
   "metadata": {},
   "outputs": [
    {
     "data": {
      "image/png": "[encoded data removed]",
      "text/plain": [
       "<Figure size 432x288 with 1 Axes>"
      ]
     },
     "metadata": {
      "needs_background": "light"
     },
     "output_type": "display_data"
    },
    {
     "name": "stdout",
     "output_type": "stream",
     "text": [
      "brazil: 7.447040924791032e-05\n"
     ]
    },
    {
     "data": {
      "image/png": "[encoded data removed]",
      "text/plain": [
       "<Figure size 432x288 with 1 Axes>"
      ]
     },
     "metadata": {
      "needs_background": "light"
     },
     "output_type": "display_data"
    },
    {
     "name": "stdout",
     "output_type": "stream",
     "text": [
      "senegal: 6.560840708436562e-05\n"
     ]
    },
    {
     "ename": "KeyboardInterrupt",
     "evalue": "",
     "output_type": "error",
     "traceback": [
      "\u001b[0;31m---------------------------------------------------------------------------\u001b[0m",
      "\u001b[0;31mKeyboardInterrupt\u001b[0m                         Traceback (most recent call last)",
      "\u001b[0;32m/tmp/ipykernel_30238/1512992808.py\u001b[0m in \u001b[0;36m<module>\u001b[0;34m\u001b[0m\n\u001b[1;32m      3\u001b[0m     \u001b[0;32mfor\u001b[0m \u001b[0mchrom\u001b[0m \u001b[0;32min\u001b[0m \u001b[0;34m[\u001b[0m\u001b[0;34m\"SM_V7_1\"\u001b[0m\u001b[0;34m,\u001b[0m \u001b[0;34m\"SM_V7_2\"\u001b[0m\u001b[0;34m,\u001b[0m \u001b[0;34m\"SM_V7_3\"\u001b[0m\u001b[0;34m,\u001b[0m \u001b[0;34m\"SM_V7_4\"\u001b[0m\u001b[0;34m,\u001b[0m \u001b[0;34m\"SM_V7_5\"\u001b[0m\u001b[0;34m,\u001b[0m \u001b[0;34m\"SM_V7_6\"\u001b[0m\u001b[0;34m,\u001b[0m \u001b[0;34m\"SM_V7_7\"\u001b[0m\u001b[0;34m]\u001b[0m\u001b[0;34m:\u001b[0m\u001b[0;34m\u001b[0m\u001b[0;34m\u001b[0m\u001b[0m\n\u001b[1;32m      4\u001b[0m \u001b[0;34m\u001b[0m\u001b[0m\n\u001b[0;32m----> 5\u001b[0;31m         \u001b[0mchr_win\u001b[0m \u001b[0;34m=\u001b[0m\u001b[0mallel\u001b[0m\u001b[0;34m.\u001b[0m\u001b[0mequally_accessible_windows\u001b[0m\u001b[0;34m(\u001b[0m\u001b[0maccessible_bases\u001b[0m\u001b[0;34m[\u001b[0m\u001b[0mchrom\u001b[0m\u001b[0;34m]\u001b[0m\u001b[0;34m,\u001b[0m \u001b[0;36m1_000\u001b[0m\u001b[0;34m)\u001b[0m\u001b[0;34m\u001b[0m\u001b[0;34m\u001b[0m\u001b[0m\n\u001b[0m\u001b[1;32m      6\u001b[0m         \u001b[0mchr_pos\u001b[0m \u001b[0;34m=\u001b[0m \u001b[0mpos\u001b[0m\u001b[0;34m[\u001b[0m\u001b[0mchroms\u001b[0m \u001b[0;34m==\u001b[0m \u001b[0mchrom\u001b[0m\u001b[0;34m]\u001b[0m\u001b[0;34m\u001b[0m\u001b[0;34m\u001b[0m\u001b[0m\n\u001b[1;32m      7\u001b[0m         \u001b[0mchr_ac\u001b[0m  \u001b[0;34m=\u001b[0m \u001b[0mpop_ac\u001b[0m\u001b[0;34m[\u001b[0m\u001b[0mpop\u001b[0m\u001b[0;34m]\u001b[0m\u001b[0;34m[\u001b[0m\u001b[0mchroms\u001b[0m \u001b[0;34m==\u001b[0m \u001b[0mchrom\u001b[0m\u001b[0;34m]\u001b[0m\u001b[0;34m\u001b[0m\u001b[0;34m\u001b[0m\u001b[0m\n",
      "\u001b[0;32m~/sch_man_nwinvasion/envs/sch_man_nwinvasion-selection/lib/python3.9/site-packages/allel/stats/window.py\u001b[0m in \u001b[0;36mequally_accessible_windows\u001b[0;34m(is_accessible, size, start, stop, step)\u001b[0m\n\u001b[1;32m    454\u001b[0m \u001b[0;34m\u001b[0m\u001b[0m\n\u001b[1;32m    455\u001b[0m     \"\"\"\n\u001b[0;32m--> 456\u001b[0;31m     \u001b[0mpos_accessible\u001b[0m\u001b[0;34m,\u001b[0m \u001b[0;34m=\u001b[0m \u001b[0mnp\u001b[0m\u001b[0;34m.\u001b[0m\u001b[0mnonzero\u001b[0m\u001b[0;34m(\u001b[0m\u001b[0mis_accessible\u001b[0m\u001b[0;34m)\u001b[0m\u001b[0;34m\u001b[0m\u001b[0;34m\u001b[0m\u001b[0m\n\u001b[0m\u001b[1;32m    457\u001b[0m     \u001b[0mpos_accessible\u001b[0m \u001b[0;34m+=\u001b[0m \u001b[0;36m1\u001b[0m  \u001b[0;31m# convert to 1-based coordinates\u001b[0m\u001b[0;34m\u001b[0m\u001b[0;34m\u001b[0m\u001b[0m\n\u001b[1;32m    458\u001b[0m \u001b[0;34m\u001b[0m\u001b[0m\n",
      "\u001b[0;32m<__array_function__ internals>\u001b[0m in \u001b[0;36mnonzero\u001b[0;34m(*args, **kwargs)\u001b[0m\n",
      "\u001b[0;32m~/sch_man_nwinvasion/envs/sch_man_nwinvasion-selection/lib/python3.9/site-packages/numpy/core/fromnumeric.py\u001b[0m in \u001b[0;36mnonzero\u001b[0;34m(a)\u001b[0m\n\u001b[1;32m   1919\u001b[0m \u001b[0;34m\u001b[0m\u001b[0m\n\u001b[1;32m   1920\u001b[0m     \"\"\"\n\u001b[0;32m-> 1921\u001b[0;31m     \u001b[0;32mreturn\u001b[0m \u001b[0m_wrapfunc\u001b[0m\u001b[0;34m(\u001b[0m\u001b[0ma\u001b[0m\u001b[0;34m,\u001b[0m \u001b[0;34m'nonzero'\u001b[0m\u001b[0;34m)\u001b[0m\u001b[0;34m\u001b[0m\u001b[0;34m\u001b[0m\u001b[0m\n\u001b[0m\u001b[1;32m   1922\u001b[0m \u001b[0;34m\u001b[0m\u001b[0m\n\u001b[1;32m   1923\u001b[0m \u001b[0;34m\u001b[0m\u001b[0m\n",
      "\u001b[0;32m~/sch_man_nwinvasion/envs/sch_man_nwinvasion-selection/lib/python3.9/site-packages/numpy/core/fromnumeric.py\u001b[0m in \u001b[0;36m_wrapfunc\u001b[0;34m(obj, method, *args, **kwds)\u001b[0m\n\u001b[1;32m     52\u001b[0m     \u001b[0mbound\u001b[0m \u001b[0;34m=\u001b[0m \u001b[0mgetattr\u001b[0m\u001b[0;34m(\u001b[0m\u001b[0mobj\u001b[0m\u001b[0;34m,\u001b[0m \u001b[0mmethod\u001b[0m\u001b[0;34m,\u001b[0m \u001b[0;32mNone\u001b[0m\u001b[0;34m)\u001b[0m\u001b[0;34m\u001b[0m\u001b[0;34m\u001b[0m\u001b[0m\n\u001b[1;32m     53\u001b[0m     \u001b[0;32mif\u001b[0m \u001b[0mbound\u001b[0m \u001b[0;32mis\u001b[0m \u001b[0;32mNone\u001b[0m\u001b[0;34m:\u001b[0m\u001b[0;34m\u001b[0m\u001b[0;34m\u001b[0m\u001b[0m\n\u001b[0;32m---> 54\u001b[0;31m         \u001b[0;32mreturn\u001b[0m \u001b[0m_wrapit\u001b[0m\u001b[0;34m(\u001b[0m\u001b[0mobj\u001b[0m\u001b[0;34m,\u001b[0m \u001b[0mmethod\u001b[0m\u001b[0;34m,\u001b[0m \u001b[0;34m*\u001b[0m\u001b[0margs\u001b[0m\u001b[0;34m,\u001b[0m \u001b[0;34m**\u001b[0m\u001b[0mkwds\u001b[0m\u001b[0;34m)\u001b[0m\u001b[0;34m\u001b[0m\u001b[0;34m\u001b[0m\u001b[0m\n\u001b[0m\u001b[1;32m     55\u001b[0m \u001b[0;34m\u001b[0m\u001b[0m\n\u001b[1;32m     56\u001b[0m     \u001b[0;32mtry\u001b[0m\u001b[0;34m:\u001b[0m\u001b[0;34m\u001b[0m\u001b[0;34m\u001b[0m\u001b[0m\n",
      "\u001b[0;32m~/sch_man_nwinvasion/envs/sch_man_nwinvasion-selection/lib/python3.9/site-packages/numpy/core/fromnumeric.py\u001b[0m in \u001b[0;36m_wrapit\u001b[0;34m(obj, method, *args, **kwds)\u001b[0m\n\u001b[1;32m     41\u001b[0m     \u001b[0;32mexcept\u001b[0m \u001b[0mAttributeError\u001b[0m\u001b[0;34m:\u001b[0m\u001b[0;34m\u001b[0m\u001b[0;34m\u001b[0m\u001b[0m\n\u001b[1;32m     42\u001b[0m         \u001b[0mwrap\u001b[0m \u001b[0;34m=\u001b[0m \u001b[0;32mNone\u001b[0m\u001b[0;34m\u001b[0m\u001b[0;34m\u001b[0m\u001b[0m\n\u001b[0;32m---> 43\u001b[0;31m     \u001b[0mresult\u001b[0m \u001b[0;34m=\u001b[0m \u001b[0mgetattr\u001b[0m\u001b[0;34m(\u001b[0m\u001b[0masarray\u001b[0m\u001b[0;34m(\u001b[0m\u001b[0mobj\u001b[0m\u001b[0;34m)\u001b[0m\u001b[0;34m,\u001b[0m \u001b[0mmethod\u001b[0m\u001b[0;34m)\u001b[0m\u001b[0;34m(\u001b[0m\u001b[0;34m*\u001b[0m\u001b[0margs\u001b[0m\u001b[0;34m,\u001b[0m \u001b[0;34m**\u001b[0m\u001b[0mkwds\u001b[0m\u001b[0;34m)\u001b[0m\u001b[0;34m\u001b[0m\u001b[0;34m\u001b[0m\u001b[0m\n\u001b[0m\u001b[1;32m     44\u001b[0m     \u001b[0;32mif\u001b[0m \u001b[0mwrap\u001b[0m\u001b[0;34m:\u001b[0m\u001b[0;34m\u001b[0m\u001b[0;34m\u001b[0m\u001b[0m\n\u001b[1;32m     45\u001b[0m         \u001b[0;32mif\u001b[0m \u001b[0;32mnot\u001b[0m \u001b[0misinstance\u001b[0m\u001b[0;34m(\u001b[0m\u001b[0mresult\u001b[0m\u001b[0;34m,\u001b[0m \u001b[0mmu\u001b[0m\u001b[0;34m.\u001b[0m\u001b[0mndarray\u001b[0m\u001b[0;34m)\u001b[0m\u001b[0;34m:\u001b[0m\u001b[0;34m\u001b[0m\u001b[0;34m\u001b[0m\u001b[0m\n",
      "\u001b[0;31mKeyboardInterrupt\u001b[0m: "
     ]
    }
   ],
   "source": [
    "pis=np.array([])\n",
    "for pop in [\"brazil\", \"senegal\", \"niger\", \"tanzania\", \"caribbean\", \"rodhaini\"]:\n",
    "    for chrom in [\"SM_V7_1\", \"SM_V7_2\", \"SM_V7_3\", \"SM_V7_4\", \"SM_V7_5\", \"SM_V7_6\", \"SM_V7_7\"]:\n",
    "\n",
    "        chr_win =allel.equally_accessible_windows(accessible_bases[chrom], 1_000)    \n",
    "        chr_pos = pos[chroms == chrom]\n",
    "        chr_ac  = pop_ac[pop][chroms == chrom]\n",
    "\n",
    "        pi, windows, n_bases, counts = allel.windowed_diversity(chr_pos, chr_ac, windows=chr_win)\n",
    "        \n",
    "        #filter with few snps\n",
    "        pi=pi[counts>0]\n",
    "        pis=np.append(pis, pi)        \n",
    "    \n",
    "    pi=pi[pi>0]\n",
    "    plt.hist(-np.log10(pi))\n",
    "    plt.show()\n",
    "    pi=pis.mean()\n",
    "    print(\"{}: {}\".format(pop, pi))"
   ]
  },
  {
   "cell_type": "code",
   "execution_count": null,
   "metadata": {},
   "outputs": [],
   "source": [
    "pi=pi[pi>0]\n",
    "plt.hist(-np.log10(pi))"
   ]
  },
  {
   "cell_type": "code",
   "execution_count": 177,
   "metadata": {},
   "outputs": [
    {
     "data": {
      "text/plain": [
       "0"
      ]
     },
     "execution_count": 177,
     "metadata": {},
     "output_type": "execute_result"
    }
   ],
   "source": [
    "#250\n",
    "brazil: 0.0003570902837041917\n",
    "senegal: 0.00031926531937544785\n",
    "niger: 0.00031353330658589264\n",
    "tanzania: 0.0004228094247386543\n",
    "caribbean: 0.0004004911153774926\n",
    "rodhaini: 0.00038259898957267445"
   ]
  },
  {
   "cell_type": "code",
   "execution_count": 149,
   "metadata": {},
   "outputs": [],
   "source": []
  },
  {
   "cell_type": "code",
   "execution_count": 125,
   "metadata": {},
   "outputs": [
    {
     "data": {
      "text/plain": [
       "(array([0., 0., 0., ..., 0., 0., 0.]),\n",
       " array([[  103114,   103213],\n",
       "        [  103214,   103313],\n",
       "        [  103314,   103472],\n",
       "        ...,\n",
       "        [88796894, 88796993],\n",
       "        [88796994, 88797093],\n",
       "        [88797094, 88797193]]),\n",
       " array([100, 100, 159, ..., 100, 100, 100]),\n",
       " array([ 0,  0,  0, ..., 11,  7,  6]))"
      ]
     },
     "execution_count": 125,
     "metadata": {},
     "output_type": "execute_result"
    }
   ],
   "source": []
  },
  {
   "cell_type": "code",
   "execution_count": 86,
   "metadata": {},
   "outputs": [
    {
     "data": {
      "text/plain": [
       "0.003703535729532882"
      ]
     },
     "execution_count": 86,
     "metadata": {},
     "output_type": "execute_result"
    }
   ],
   "source": [
    "pi_conf_ints={}\n",
    "\n",
    "for pop in [\"tanzania\", \"senegal\", \"brazil\", \"niger\"]:\n",
    "    #print(pop)\n",
    "    \n",
    "    #designate files and read into dfs\n",
    "    pi_file    = \"results/pi/pi_boxplot_100kb_windows_{}.csv\".format(pop)\n",
    "    \n",
    "    #read in to dfs    \n",
    "    pi_df    = pd.read_csv(pi_file, sep=\",\").dropna()\n",
    "    \n",
    "    \n",
    "    pis=list(pi_df.dropna()[\"pi\"])\n",
    "    top=stats.scoreatpercentile(pis, 97.5)\n",
    "    bottom"
   ]
  },
  {
   "cell_type": "code",
   "execution_count": null,
   "metadata": {},
   "outputs": [],
   "source": [
    "stats.scoreatpercentile(pis, 97.5)\n"
   ]
  }
 ],
 "metadata": {
  "kernelspec": {
   "display_name": "Python [conda env:sch_man_nwinvasion-sch_man_nwinvasion-selection]",
   "language": "python",
   "name": "conda-env-sch_man_nwinvasion-sch_man_nwinvasion-selection-py"
  },
  "language_info": {
   "codemirror_mode": {
    "name": "ipython",
    "version": 3
   },
   "file_extension": ".py",
   "mimetype": "text/x-python",
   "name": "python",
   "nbconvert_exporter": "python",
   "pygments_lexer": "ipython3",
   "version": "3.9.6"
  },
  "toc-autonumbering": true,
  "toc-showmarkdowntxt": false,
  "toc-showtags": true
 },
 "nbformat": 4,
 "nbformat_minor": 4
}
